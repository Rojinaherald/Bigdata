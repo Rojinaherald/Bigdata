{
  "nbformat": 4,
  "nbformat_minor": 0,
  "metadata": {
    "colab": {
      "provenance": []
    },
    "kernelspec": {
      "name": "python3",
      "display_name": "Python 3"
    },
    "language_info": {
      "name": "python"
    }
  },
  "cells": [
    {
      "cell_type": "markdown",
      "source": [
        "Display Fibonacci series up to 10 terms."
      ],
      "metadata": {
        "id": "XEoWDbyURyaj"
      }
    },
    {
      "cell_type": "code",
      "source": [
        "def fibonacci_series(n):\n",
        "    a, b = 0, 1\n",
        "    for _ in range(n):\n",
        "        print(a, end=\" \")\n",
        "        a, b = b, a + b\n",
        "\n",
        "# Display Fibonacci series up to 10 terms\n",
        "fibonacci_series(10)\n"
      ],
      "metadata": {
        "colab": {
          "base_uri": "https://localhost:8080/"
        },
        "id": "y5J7jxlIY2yY",
        "outputId": "d1bf5673-2f26-472a-f9fe-c48ffd4c8715"
      },
      "execution_count": null,
      "outputs": [
        {
          "output_type": "stream",
          "name": "stdout",
          "text": [
            "0 1 1 2 3 5 8 13 21 34 "
          ]
        }
      ]
    },
    {
      "cell_type": "markdown",
      "source": [
        "Find the factorial of a given number. Ask the user to provide the number."
      ],
      "metadata": {
        "id": "VJsUTMsCR1eP"
      }
    },
    {
      "cell_type": "code",
      "source": [
        "def factorial(n):\n",
        "    result = 1\n",
        "    for i in range(1, n + 1):\n",
        "        result *= i\n",
        "    return result\n",
        "\n",
        "# Ask the user for input\n",
        "num = int(input(\"Enter a number: \"))\n",
        "\n",
        "# Calculate and display the factorial\n",
        "print(\"The factorial of\", num, \"is\", factorial(num))\n"
      ],
      "metadata": {
        "colab": {
          "base_uri": "https://localhost:8080/"
        },
        "id": "hUfMjGpARmWS",
        "outputId": "2179ad42-5a72-49e5-e920-49eeb689fa25"
      },
      "execution_count": null,
      "outputs": [
        {
          "output_type": "stream",
          "name": "stdout",
          "text": [
            "Enter a number: 5\n",
            "The factorial of 5 is 120\n"
          ]
        }
      ]
    },
    {
      "cell_type": "markdown",
      "source": [
        "Write a program to print a right angle triangle using the for loop."
      ],
      "metadata": {
        "id": "Q1XlWozLR857"
      }
    },
    {
      "cell_type": "code",
      "source": [
        "def print_triangle(rows):\n",
        "    for i in range(1, rows + 1):\n",
        "        print(\"*\" * i)\n",
        "\n",
        "# Call the function to print the triangle\n",
        "print_triangle(4)\n",
        "\n"
      ],
      "metadata": {
        "colab": {
          "base_uri": "https://localhost:8080/"
        },
        "id": "1pWSEO3HR_x1",
        "outputId": "06ec30e0-6190-47db-d562-13108ea2e239"
      },
      "execution_count": null,
      "outputs": [
        {
          "output_type": "stream",
          "name": "stdout",
          "text": [
            "*\n",
            "**\n",
            "***\n",
            "****\n"
          ]
        }
      ]
    },
    {
      "cell_type": "markdown",
      "source": [
        "Make a simple calculator that can add, subtract, multiply and divide two numbers using function."
      ],
      "metadata": {
        "id": "nbOPnPM_SUtm"
      }
    },
    {
      "cell_type": "code",
      "source": [
        "def add(a, b):\n",
        "    return a + b\n",
        "\n",
        "def subtract(a, b):\n",
        "    return a - b\n",
        "\n",
        "def multiply(a, b):\n",
        "    return a * b\n",
        "\n",
        "def divide(a, b):\n",
        "    if b != 0:\n",
        "        return a / b\n",
        "    else:\n",
        "        return \"Error! Division by zero.\"\n",
        "\n",
        "# Take user input\n",
        "num1 = int(input(\"Enter first number: \"))\n",
        "num2 = int(input(\"Enter second number: \"))\n",
        "\n",
        "# Ask user for operation choice\n",
        "operation = input(\"Select operation(+, -, *, /): \")\n",
        "\n",
        "# Perform the operation\n",
        "if operation == \"+\":\n",
        "    print(\"Result:\", add(num1, num2))\n",
        "elif operation == \"-\":\n",
        "    print(\"Result:\", subtract(num1, num2))\n",
        "elif operation == \"*\":\n",
        "    print(\"Result:\", multiply(num1, num2))\n",
        "elif operation == \"/\":\n",
        "    print(\"Result:\", divide(num1, num2))\n",
        "else:\n",
        "    print(\"Invalid operation!\")\n"
      ],
      "metadata": {
        "colab": {
          "base_uri": "https://localhost:8080/"
        },
        "id": "FOjNO15jSZ77",
        "outputId": "09967a10-a5e6-4bff-fde6-0915d191c4df"
      },
      "execution_count": null,
      "outputs": [
        {
          "output_type": "stream",
          "name": "stdout",
          "text": [
            "Enter first number: 25\n",
            "Enter second number: 10\n",
            "Select operation(+, -, *, /): /\n",
            "Result: 2.5\n"
          ]
        }
      ]
    },
    {
      "cell_type": "markdown",
      "source": [
        "Remove the first duplicate element of a list"
      ],
      "metadata": {
        "id": "zTLUqRkDSXFk"
      }
    },
    {
      "cell_type": "code",
      "source": [
        "def remove_first_duplicate(lst):\n",
        "  seen = set()\n",
        "  for i in range(len(lst)):\n",
        "    if lst[i] in seen:\n",
        "      lst.pop(i)\n",
        "      break\n",
        "    seen.add(lst[i])\n",
        "  return lst\n",
        "\n",
        "my_list = [1,9,8,7,9,2,8]\n",
        "print(\"List before removing duplicate:\", my_list)\n",
        "my_list = remove_first_duplicate(my_list)\n",
        "print(\"List after removing first duplicate:\", my_list)"
      ],
      "metadata": {
        "colab": {
          "base_uri": "https://localhost:8080/"
        },
        "id": "GdCkBfRWfEn9",
        "outputId": "be477836-02bc-4e91-a593-2affdc319b70"
      },
      "execution_count": null,
      "outputs": [
        {
          "output_type": "stream",
          "name": "stdout",
          "text": [
            "List before removing duplicate: [1, 9, 8, 7, 9, 2, 8]\n",
            "List after removing first duplicate: [1, 9, 8, 7, 2, 8]\n"
          ]
        }
      ]
    },
    {
      "cell_type": "markdown",
      "source": [
        "Write a Python program to create a new dictionary by extracting the mentioned keys from the below dictionary.\n",
        "sample_dict = { \"name\": \"Anderson\", \"age\": 35, \"salary\": 5000, \"city\": \"London\"}\n",
        "keys = [\"name\", \"salary\"]\n",
        "Expected Output: {'name': 'Anderson', 'salary': 5000}"
      ],
      "metadata": {
        "id": "rTNDGsmqSaaG"
      }
    },
    {
      "cell_type": "code",
      "source": [
        "def extract_keys_from_dict(simple_dict, keys):\n",
        "  return {key: sample_dict[key] for key in keys}\n",
        "\n",
        "sample_dict = {\"name\": \"Anderson\", \"age\": 35, \"salary\": 5000, \"city\": \"London\"}\n",
        "\n",
        "keys = [\"name\", \"salary\"]\n",
        "new_dict =extract_keys_from_dict(sample_dict, keys)\n",
        "\n",
        "print(new_dict)"
      ],
      "metadata": {
        "colab": {
          "base_uri": "https://localhost:8080/"
        },
        "id": "CtSMeVJCeXmg",
        "outputId": "126ca185-2faa-480d-dc37-c23e56b829d4"
      },
      "execution_count": null,
      "outputs": [
        {
          "output_type": "stream",
          "name": "stdout",
          "text": [
            "{'name': 'Anderson', 'salary': 5000}\n"
          ]
        }
      ]
    },
    {
      "cell_type": "markdown",
      "source": [
        "Write a Python program to convert two lists into a dictionary in a way that item from list_one is the key and item from list_two is the value.\n",
        "list_one = ['one', 'two', 'three']\n",
        "list_two = [1, 2, 3]\n",
        "Expected Output: {'one': 1, 'two': 2, 'three': 3}"
      ],
      "metadata": {
        "id": "t05xE20RVeui"
      }
    },
    {
      "cell_type": "code",
      "source": [
        "def lists_to_dict(list_one, list_two):\n",
        "  result_dict = {}\n",
        "  for i in range(len(list_one)):\n",
        "    result_dict[list_one[i]] = list_two[i]\n",
        "  return result_dict\n",
        "\n",
        "list_one = ['one', 'two', 'three']\n",
        "list_two = [1, 2, 3]\n",
        "\n",
        "result_dict = lists_to_dict(list_one, list_two)\n",
        "\n",
        "print(result_dict)\n"
      ],
      "metadata": {
        "colab": {
          "base_uri": "https://localhost:8080/"
        },
        "id": "PnI-L8iwdQUF",
        "outputId": "48ee2df4-6294-48b9-b032-d689b7c36aeb"
      },
      "execution_count": null,
      "outputs": [
        {
          "output_type": "stream",
          "name": "stdout",
          "text": [
            "{'one': 1, 'two': 2, 'three': 3}\n"
          ]
        }
      ]
    }
  ]
}