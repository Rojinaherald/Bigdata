{
  "nbformat": 4,
  "nbformat_minor": 0,
  "metadata": {
    "colab": {
      "provenance": []
    },
    "kernelspec": {
      "name": "python3",
      "display_name": "Python 3"
    },
    "language_info": {
      "name": "python"
    }
  },
  "cells": [
    {
      "cell_type": "code",
      "source": [
        "# Mounting the google drive to give access of google drive\n",
        "from google.colab import drive\n",
        "drive.mount('/content/drive')"
      ],
      "metadata": {
        "colab": {
          "base_uri": "https://localhost:8080/"
        },
        "id": "E9y8CSoMsImt",
        "outputId": "bfbb6404-fc16-422a-90ab-fb1d34da8e38"
      },
      "execution_count": null,
      "outputs": [
        {
          "output_type": "stream",
          "name": "stdout",
          "text": [
            "Mounted at /content/drive\n"
          ]
        }
      ]
    },
    {
      "cell_type": "code",
      "source": [
        "# Install Java (OpenJDK)\n",
        "!apt-get install openjdk-8-jdk-headless -y\n",
        "\n",
        "# Download Spark (no -q so we can see errors)\n",
        "!wget https://archive.apache.org/dist/spark/spark-3.5.1/spark-3.5.1-bin-hadoop3.tgz\n",
        "\n",
        "# Check if the file downloaded\n",
        "!ls -l spark-3.5.1-bin-hadoop3.tgz\n",
        "\n",
        "# Extract Spark\n",
        "!tar -xvf spark-3.5.1-bin-hadoop3.tgz\n",
        "\n",
        "# Install findspark\n",
        "!pip install findspark\n"
      ],
      "metadata": {
        "colab": {
          "base_uri": "https://localhost:8080/"
        },
        "id": "1HTtAIewtRdZ",
        "outputId": "10005bfd-f62b-4c43-8b3b-5cc25ecaf860"
      },
      "execution_count": null,
      "outputs": [
        {
          "output_type": "stream",
          "name": "stdout",
          "text": [
            "Reading package lists... Done\n",
            "Building dependency tree... Done\n",
            "Reading state information... Done\n",
            "The following additional packages will be installed:\n",
            "  libxtst6 openjdk-8-jre-headless\n",
            "Suggested packages:\n",
            "  openjdk-8-demo openjdk-8-source libnss-mdns fonts-dejavu-extra fonts-nanum fonts-ipafont-gothic\n",
            "  fonts-ipafont-mincho fonts-wqy-microhei fonts-wqy-zenhei fonts-indic\n",
            "The following NEW packages will be installed:\n",
            "  libxtst6 openjdk-8-jdk-headless openjdk-8-jre-headless\n",
            "0 upgraded, 3 newly installed, 0 to remove and 30 not upgraded.\n",
            "Need to get 39.7 MB of archives.\n",
            "After this operation, 144 MB of additional disk space will be used.\n",
            "Get:1 http://archive.ubuntu.com/ubuntu jammy/main amd64 libxtst6 amd64 2:1.2.3-1build4 [13.4 kB]\n",
            "Get:2 http://archive.ubuntu.com/ubuntu jammy-updates/universe amd64 openjdk-8-jre-headless amd64 8u442-b06~us1-0ubuntu1~22.04 [30.8 MB]\n",
            "Get:3 http://archive.ubuntu.com/ubuntu jammy-updates/universe amd64 openjdk-8-jdk-headless amd64 8u442-b06~us1-0ubuntu1~22.04 [8,864 kB]\n",
            "Fetched 39.7 MB in 2s (20.1 MB/s)\n",
            "Selecting previously unselected package libxtst6:amd64.\n",
            "(Reading database ... 126213 files and directories currently installed.)\n",
            "Preparing to unpack .../libxtst6_2%3a1.2.3-1build4_amd64.deb ...\n",
            "Unpacking libxtst6:amd64 (2:1.2.3-1build4) ...\n",
            "Selecting previously unselected package openjdk-8-jre-headless:amd64.\n",
            "Preparing to unpack .../openjdk-8-jre-headless_8u442-b06~us1-0ubuntu1~22.04_amd64.deb ...\n",
            "Unpacking openjdk-8-jre-headless:amd64 (8u442-b06~us1-0ubuntu1~22.04) ...\n",
            "Selecting previously unselected package openjdk-8-jdk-headless:amd64.\n",
            "Preparing to unpack .../openjdk-8-jdk-headless_8u442-b06~us1-0ubuntu1~22.04_amd64.deb ...\n",
            "Unpacking openjdk-8-jdk-headless:amd64 (8u442-b06~us1-0ubuntu1~22.04) ...\n",
            "Setting up libxtst6:amd64 (2:1.2.3-1build4) ...\n",
            "Setting up openjdk-8-jre-headless:amd64 (8u442-b06~us1-0ubuntu1~22.04) ...\n",
            "update-alternatives: using /usr/lib/jvm/java-8-openjdk-amd64/jre/bin/orbd to provide /usr/bin/orbd (orbd) in auto mode\n",
            "update-alternatives: using /usr/lib/jvm/java-8-openjdk-amd64/jre/bin/servertool to provide /usr/bin/servertool (servertool) in auto mode\n",
            "update-alternatives: using /usr/lib/jvm/java-8-openjdk-amd64/jre/bin/tnameserv to provide /usr/bin/tnameserv (tnameserv) in auto mode\n",
            "Setting up openjdk-8-jdk-headless:amd64 (8u442-b06~us1-0ubuntu1~22.04) ...\n",
            "update-alternatives: using /usr/lib/jvm/java-8-openjdk-amd64/bin/clhsdb to provide /usr/bin/clhsdb (clhsdb) in auto mode\n",
            "update-alternatives: using /usr/lib/jvm/java-8-openjdk-amd64/bin/extcheck to provide /usr/bin/extcheck (extcheck) in auto mode\n",
            "update-alternatives: using /usr/lib/jvm/java-8-openjdk-amd64/bin/hsdb to provide /usr/bin/hsdb (hsdb) in auto mode\n",
            "update-alternatives: using /usr/lib/jvm/java-8-openjdk-amd64/bin/idlj to provide /usr/bin/idlj (idlj) in auto mode\n",
            "update-alternatives: using /usr/lib/jvm/java-8-openjdk-amd64/bin/javah to provide /usr/bin/javah (javah) in auto mode\n",
            "update-alternatives: using /usr/lib/jvm/java-8-openjdk-amd64/bin/jhat to provide /usr/bin/jhat (jhat) in auto mode\n",
            "update-alternatives: using /usr/lib/jvm/java-8-openjdk-amd64/bin/jsadebugd to provide /usr/bin/jsadebugd (jsadebugd) in auto mode\n",
            "update-alternatives: using /usr/lib/jvm/java-8-openjdk-amd64/bin/native2ascii to provide /usr/bin/native2ascii (native2ascii) in auto mode\n",
            "update-alternatives: using /usr/lib/jvm/java-8-openjdk-amd64/bin/schemagen to provide /usr/bin/schemagen (schemagen) in auto mode\n",
            "update-alternatives: using /usr/lib/jvm/java-8-openjdk-amd64/bin/wsgen to provide /usr/bin/wsgen (wsgen) in auto mode\n",
            "update-alternatives: using /usr/lib/jvm/java-8-openjdk-amd64/bin/wsimport to provide /usr/bin/wsimport (wsimport) in auto mode\n",
            "update-alternatives: using /usr/lib/jvm/java-8-openjdk-amd64/bin/xjc to provide /usr/bin/xjc (xjc) in auto mode\n",
            "Processing triggers for libc-bin (2.35-0ubuntu3.8) ...\n",
            "/sbin/ldconfig.real: /usr/local/lib/libtcm_debug.so.1 is not a symbolic link\n",
            "\n",
            "/sbin/ldconfig.real: /usr/local/lib/libur_loader.so.0 is not a symbolic link\n",
            "\n",
            "/sbin/ldconfig.real: /usr/local/lib/libumf.so.0 is not a symbolic link\n",
            "\n",
            "/sbin/ldconfig.real: /usr/local/lib/libtbbmalloc.so.2 is not a symbolic link\n",
            "\n",
            "/sbin/ldconfig.real: /usr/local/lib/libtbbbind_2_5.so.3 is not a symbolic link\n",
            "\n",
            "/sbin/ldconfig.real: /usr/local/lib/libur_adapter_level_zero.so.0 is not a symbolic link\n",
            "\n",
            "/sbin/ldconfig.real: /usr/local/lib/libtbbbind_2_0.so.3 is not a symbolic link\n",
            "\n",
            "/sbin/ldconfig.real: /usr/local/lib/libtbbbind.so.3 is not a symbolic link\n",
            "\n",
            "/sbin/ldconfig.real: /usr/local/lib/libtbb.so.12 is not a symbolic link\n",
            "\n",
            "/sbin/ldconfig.real: /usr/local/lib/libur_adapter_opencl.so.0 is not a symbolic link\n",
            "\n",
            "/sbin/ldconfig.real: /usr/local/lib/libtcm.so.1 is not a symbolic link\n",
            "\n",
            "/sbin/ldconfig.real: /usr/local/lib/libhwloc.so.15 is not a symbolic link\n",
            "\n",
            "/sbin/ldconfig.real: /usr/local/lib/libtbbmalloc_proxy.so.2 is not a symbolic link\n",
            "\n",
            "--2025-04-09 10:40:57--  https://archive.apache.org/dist/spark/spark-3.5.1/spark-3.5.1-bin-hadoop3.tgz\n",
            "Resolving archive.apache.org (archive.apache.org)... 65.108.204.189, 2a01:4f9:1a:a084::2\n",
            "Connecting to archive.apache.org (archive.apache.org)|65.108.204.189|:443... connected.\n",
            "HTTP request sent, awaiting response... 200 OK\n",
            "Length: 400446614 (382M) [application/x-gzip]\n",
            "Saving to: ‘spark-3.5.1-bin-hadoop3.tgz’\n",
            "\n",
            "spark-3.5.1-bin-had 100%[===================>] 381.90M  1.03MB/s    in 6m 15s  \n",
            "\n",
            "2025-04-09 10:47:12 (1.02 MB/s) - ‘spark-3.5.1-bin-hadoop3.tgz’ saved [400446614/400446614]\n",
            "\n",
            "-rw-r--r-- 1 root root 400446614 Feb 15  2024 spark-3.5.1-bin-hadoop3.tgz\n",
            "spark-3.5.1-bin-hadoop3/\n",
            "spark-3.5.1-bin-hadoop3/sbin/\n",
            "spark-3.5.1-bin-hadoop3/sbin/spark-config.sh\n",
            "spark-3.5.1-bin-hadoop3/sbin/stop-slave.sh\n",
            "spark-3.5.1-bin-hadoop3/sbin/stop-mesos-dispatcher.sh\n",
            "spark-3.5.1-bin-hadoop3/sbin/start-workers.sh\n",
            "spark-3.5.1-bin-hadoop3/sbin/start-slaves.sh\n",
            "spark-3.5.1-bin-hadoop3/sbin/start-all.sh\n",
            "spark-3.5.1-bin-hadoop3/sbin/stop-all.sh\n",
            "spark-3.5.1-bin-hadoop3/sbin/workers.sh\n",
            "spark-3.5.1-bin-hadoop3/sbin/start-mesos-dispatcher.sh\n",
            "spark-3.5.1-bin-hadoop3/sbin/spark-daemon.sh\n",
            "spark-3.5.1-bin-hadoop3/sbin/decommission-worker.sh\n",
            "spark-3.5.1-bin-hadoop3/sbin/slaves.sh\n",
            "spark-3.5.1-bin-hadoop3/sbin/stop-mesos-shuffle-service.sh\n",
            "spark-3.5.1-bin-hadoop3/sbin/stop-history-server.sh\n",
            "spark-3.5.1-bin-hadoop3/sbin/stop-worker.sh\n",
            "spark-3.5.1-bin-hadoop3/sbin/decommission-slave.sh\n",
            "spark-3.5.1-bin-hadoop3/sbin/stop-thriftserver.sh\n",
            "spark-3.5.1-bin-hadoop3/sbin/start-worker.sh\n",
            "spark-3.5.1-bin-hadoop3/sbin/stop-slaves.sh\n",
            "spark-3.5.1-bin-hadoop3/sbin/start-connect-server.sh\n",
            "spark-3.5.1-bin-hadoop3/sbin/start-thriftserver.sh\n",
            "spark-3.5.1-bin-hadoop3/sbin/start-history-server.sh\n",
            "spark-3.5.1-bin-hadoop3/sbin/stop-connect-server.sh\n",
            "spark-3.5.1-bin-hadoop3/sbin/spark-daemons.sh\n",
            "spark-3.5.1-bin-hadoop3/sbin/start-slave.sh\n",
            "spark-3.5.1-bin-hadoop3/sbin/start-master.sh\n",
            "spark-3.5.1-bin-hadoop3/sbin/start-mesos-shuffle-service.sh\n",
            "spark-3.5.1-bin-hadoop3/sbin/stop-master.sh\n",
            "spark-3.5.1-bin-hadoop3/sbin/stop-workers.sh\n",
            "spark-3.5.1-bin-hadoop3/licenses/\n",
            "spark-3.5.1-bin-hadoop3/licenses/LICENSE-automaton.txt\n",
            "spark-3.5.1-bin-hadoop3/licenses/LICENSE-d3.min.js.txt\n",
            "spark-3.5.1-bin-hadoop3/licenses/LICENSE-scopt.txt\n",
            "spark-3.5.1-bin-hadoop3/licenses/LICENSE-leveldbjni.txt\n",
            "spark-3.5.1-bin-hadoop3/licenses/LICENSE-blas.txt\n",
            "spark-3.5.1-bin-hadoop3/licenses/LICENSE-spire.txt\n",
            "spark-3.5.1-bin-hadoop3/licenses/LICENSE-paranamer.txt\n",
            "spark-3.5.1-bin-hadoop3/licenses/LICENSE-matchMedia-polyfill.txt\n",
            "spark-3.5.1-bin-hadoop3/licenses/LICENSE-jaxb-runtime.txt\n",
            "spark-3.5.1-bin-hadoop3/licenses/LICENSE-zstd-jni.txt\n",
            "spark-3.5.1-bin-hadoop3/licenses/LICENSE-pyrolite.txt\n",
            "spark-3.5.1-bin-hadoop3/licenses/LICENSE-dagre-d3.txt\n",
            "spark-3.5.1-bin-hadoop3/licenses/LICENSE-javax-transaction-transaction-api.txt\n",
            "spark-3.5.1-bin-hadoop3/licenses/LICENSE-json-formatter.txt\n",
            "spark-3.5.1-bin-hadoop3/licenses/LICENSE-jsp-api.txt\n",
            "spark-3.5.1-bin-hadoop3/licenses/LICENSE-arpack.txt\n",
            "spark-3.5.1-bin-hadoop3/licenses/LICENSE-AnchorJS.txt\n",
            "spark-3.5.1-bin-hadoop3/licenses/LICENSE-JLargeArrays.txt\n",
            "spark-3.5.1-bin-hadoop3/licenses/LICENSE-protobuf.txt\n",
            "spark-3.5.1-bin-hadoop3/licenses/LICENSE-pmml-model.txt\n",
            "spark-3.5.1-bin-hadoop3/licenses/LICENSE-slf4j.txt\n",
            "spark-3.5.1-bin-hadoop3/licenses/LICENSE-py4j.txt\n",
            "spark-3.5.1-bin-hadoop3/licenses/LICENSE-datatables.txt\n",
            "spark-3.5.1-bin-hadoop3/licenses/LICENSE-join.txt\n",
            "spark-3.5.1-bin-hadoop3/licenses/LICENSE-bootstrap.txt\n",
            "spark-3.5.1-bin-hadoop3/licenses/LICENSE-jakarta.activation-api.txt\n",
            "spark-3.5.1-bin-hadoop3/licenses/LICENSE-jline.txt\n",
            "spark-3.5.1-bin-hadoop3/licenses/LICENSE-vis-timeline.txt\n",
            "spark-3.5.1-bin-hadoop3/licenses/LICENSE-jakarta-annotation-api\n",
            "spark-3.5.1-bin-hadoop3/licenses/LICENSE-zstd.txt\n",
            "spark-3.5.1-bin-hadoop3/licenses/LICENSE-respond.txt\n",
            "spark-3.5.1-bin-hadoop3/licenses/LICENSE-jakarta-ws-rs-api\n",
            "spark-3.5.1-bin-hadoop3/licenses/LICENSE-graphlib-dot.txt\n",
            "spark-3.5.1-bin-hadoop3/licenses/LICENSE-modernizr.txt\n",
            "spark-3.5.1-bin-hadoop3/licenses/LICENSE-kryo.txt\n",
            "spark-3.5.1-bin-hadoop3/licenses/LICENSE-dnsjava.txt\n",
            "spark-3.5.1-bin-hadoop3/licenses/LICENSE-cloudpickle.txt\n",
            "spark-3.5.1-bin-hadoop3/licenses/LICENSE-janino.txt\n",
            "spark-3.5.1-bin-hadoop3/licenses/LICENSE-sbt-launch-lib.txt\n",
            "spark-3.5.1-bin-hadoop3/licenses/LICENSE-javolution.txt\n",
            "spark-3.5.1-bin-hadoop3/licenses/LICENSE-mustache.txt\n",
            "spark-3.5.1-bin-hadoop3/licenses/LICENSE-f2j.txt\n",
            "spark-3.5.1-bin-hadoop3/licenses/LICENSE-jodd.txt\n",
            "spark-3.5.1-bin-hadoop3/licenses/LICENSE-machinist.txt\n",
            "spark-3.5.1-bin-hadoop3/licenses/LICENSE-JTransforms.txt\n",
            "spark-3.5.1-bin-hadoop3/licenses/LICENSE-CC0.txt\n",
            "spark-3.5.1-bin-hadoop3/licenses/LICENSE-jakarta.xml.bind-api.txt\n",
            "spark-3.5.1-bin-hadoop3/licenses/LICENSE-reflectasm.txt\n",
            "spark-3.5.1-bin-hadoop3/licenses/LICENSE-sorttable.js.txt\n",
            "spark-3.5.1-bin-hadoop3/licenses/LICENSE-istack-commons-runtime.txt\n",
            "spark-3.5.1-bin-hadoop3/licenses/LICENSE-minlog.txt\n",
            "spark-3.5.1-bin-hadoop3/licenses/LICENSE-jquery.txt\n",
            "spark-3.5.1-bin-hadoop3/licenses/LICENSE-antlr.txt\n",
            "spark-3.5.1-bin-hadoop3/licenses/LICENSE-xmlenc.txt\n",
            "spark-3.5.1-bin-hadoop3/licenses/LICENSE-javassist.html\n",
            "spark-3.5.1-bin-hadoop3/licenses/LICENSE-re2j.txt\n",
            "spark-3.5.1-bin-hadoop3/data/\n",
            "spark-3.5.1-bin-hadoop3/data/graphx/\n",
            "spark-3.5.1-bin-hadoop3/data/graphx/followers.txt\n",
            "spark-3.5.1-bin-hadoop3/data/graphx/users.txt\n",
            "spark-3.5.1-bin-hadoop3/data/streaming/\n",
            "spark-3.5.1-bin-hadoop3/data/streaming/AFINN-111.txt\n",
            "spark-3.5.1-bin-hadoop3/data/mllib/\n",
            "spark-3.5.1-bin-hadoop3/data/mllib/sample_multiclass_classification_data.txt\n",
            "spark-3.5.1-bin-hadoop3/data/mllib/sample_svm_data.txt\n",
            "spark-3.5.1-bin-hadoop3/data/mllib/kmeans_data.txt\n",
            "spark-3.5.1-bin-hadoop3/data/mllib/streaming_kmeans_data_test.txt\n",
            "spark-3.5.1-bin-hadoop3/data/mllib/sample_movielens_data.txt\n",
            "spark-3.5.1-bin-hadoop3/data/mllib/images/\n",
            "spark-3.5.1-bin-hadoop3/data/mllib/images/origin/\n",
            "spark-3.5.1-bin-hadoop3/data/mllib/images/origin/kittens/\n",
            "spark-3.5.1-bin-hadoop3/data/mllib/images/origin/kittens/29.5.a_b_EGDP022204.jpg\n",
            "spark-3.5.1-bin-hadoop3/data/mllib/images/origin/kittens/54893.jpg\n",
            "spark-3.5.1-bin-hadoop3/data/mllib/images/origin/kittens/DP802813.jpg\n",
            "spark-3.5.1-bin-hadoop3/data/mllib/images/origin/kittens/not-image.txt\n",
            "spark-3.5.1-bin-hadoop3/data/mllib/images/origin/kittens/DP153539.jpg\n",
            "spark-3.5.1-bin-hadoop3/data/mllib/images/origin/multi-channel/\n",
            "spark-3.5.1-bin-hadoop3/data/mllib/images/origin/multi-channel/BGRA_alpha_60.png\n",
            "spark-3.5.1-bin-hadoop3/data/mllib/images/origin/multi-channel/chr30.4.184.jpg\n",
            "spark-3.5.1-bin-hadoop3/data/mllib/images/origin/multi-channel/BGRA.png\n",
            "spark-3.5.1-bin-hadoop3/data/mllib/images/origin/multi-channel/grayscale.jpg\n",
            "spark-3.5.1-bin-hadoop3/data/mllib/images/origin/license.txt\n",
            "spark-3.5.1-bin-hadoop3/data/mllib/images/license.txt\n",
            "spark-3.5.1-bin-hadoop3/data/mllib/ridge-data/\n",
            "spark-3.5.1-bin-hadoop3/data/mllib/ridge-data/lpsa.data\n",
            "spark-3.5.1-bin-hadoop3/data/mllib/als/\n",
            "spark-3.5.1-bin-hadoop3/data/mllib/als/sample_movielens_ratings.txt\n",
            "spark-3.5.1-bin-hadoop3/data/mllib/als/test.data\n",
            "spark-3.5.1-bin-hadoop3/data/mllib/sample_binary_classification_data.txt\n",
            "spark-3.5.1-bin-hadoop3/data/mllib/gmm_data.txt\n",
            "spark-3.5.1-bin-hadoop3/data/mllib/sample_libsvm_data.txt\n",
            "spark-3.5.1-bin-hadoop3/data/mllib/pagerank_data.txt\n",
            "spark-3.5.1-bin-hadoop3/data/mllib/sample_isotonic_regression_libsvm_data.txt\n",
            "spark-3.5.1-bin-hadoop3/data/mllib/sample_linear_regression_data.txt\n",
            "spark-3.5.1-bin-hadoop3/data/mllib/sample_lda_data.txt\n",
            "spark-3.5.1-bin-hadoop3/data/mllib/sample_fpgrowth.txt\n",
            "spark-3.5.1-bin-hadoop3/data/mllib/sample_kmeans_data.txt\n",
            "spark-3.5.1-bin-hadoop3/data/mllib/sample_lda_libsvm_data.txt\n",
            "spark-3.5.1-bin-hadoop3/data/mllib/pic_data.txt\n",
            "spark-3.5.1-bin-hadoop3/data/artifact-tests/\n",
            "spark-3.5.1-bin-hadoop3/data/artifact-tests/smallJar.jar\n",
            "spark-3.5.1-bin-hadoop3/data/artifact-tests/junitLargeJar.jar\n",
            "spark-3.5.1-bin-hadoop3/data/artifact-tests/crc/\n",
            "spark-3.5.1-bin-hadoop3/data/artifact-tests/crc/smallJar.txt\n",
            "spark-3.5.1-bin-hadoop3/data/artifact-tests/crc/junitLargeJar.txt\n",
            "spark-3.5.1-bin-hadoop3/data/artifact-tests/crc/README.md\n",
            "spark-3.5.1-bin-hadoop3/jars/\n",
            "spark-3.5.1-bin-hadoop3/jars/jersey-container-servlet-2.40.jar\n",
            "spark-3.5.1-bin-hadoop3/jars/spark-sketch_2.12-3.5.1.jar\n",
            "spark-3.5.1-bin-hadoop3/jars/jackson-annotations-2.15.2.jar\n",
            "spark-3.5.1-bin-hadoop3/jars/netty-transport-native-epoll-4.1.96.Final-linux-x86_64.jar\n",
            "spark-3.5.1-bin-hadoop3/jars/spire-macros_2.12-0.17.0.jar\n",
            "spark-3.5.1-bin-hadoop3/jars/kubernetes-model-extensions-6.7.2.jar\n",
            "spark-3.5.1-bin-hadoop3/jars/jline-2.14.6.jar\n",
            "spark-3.5.1-bin-hadoop3/jars/orc-mapreduce-1.9.2-shaded-protobuf.jar\n",
            "spark-3.5.1-bin-hadoop3/jars/HikariCP-2.5.1.jar\n",
            "spark-3.5.1-bin-hadoop3/jars/kubernetes-model-storageclass-6.7.2.jar\n",
            "spark-3.5.1-bin-hadoop3/jars/orc-core-1.9.2-shaded-protobuf.jar\n",
            "spark-3.5.1-bin-hadoop3/jars/objenesis-3.3.jar\n",
            "spark-3.5.1-bin-hadoop3/jars/snakeyaml-2.0.jar\n",
            "spark-3.5.1-bin-hadoop3/jars/parquet-hadoop-1.13.1.jar\n",
            "spark-3.5.1-bin-hadoop3/jars/httpclient-4.5.14.jar\n",
            "spark-3.5.1-bin-hadoop3/jars/curator-client-2.13.0.jar\n",
            "spark-3.5.1-bin-hadoop3/jars/json4s-core_2.12-3.7.0-M11.jar\n",
            "spark-3.5.1-bin-hadoop3/jars/netty-transport-classes-epoll-4.1.96.Final.jar\n",
            "spark-3.5.1-bin-hadoop3/jars/netty-transport-native-kqueue-4.1.96.Final-osx-aarch_64.jar\n",
            "spark-3.5.1-bin-hadoop3/jars/commons-io-2.13.0.jar\n",
            "spark-3.5.1-bin-hadoop3/jars/jackson-databind-2.15.2.jar\n",
            "spark-3.5.1-bin-hadoop3/jars/spark-network-common_2.12-3.5.1.jar\n",
            "spark-3.5.1-bin-hadoop3/jars/hadoop-yarn-server-web-proxy-3.3.4.jar\n",
            "spark-3.5.1-bin-hadoop3/jars/netty-codec-socks-4.1.96.Final.jar\n",
            "spark-3.5.1-bin-hadoop3/jars/hadoop-client-api-3.3.4.jar\n",
            "spark-3.5.1-bin-hadoop3/jars/curator-recipes-2.13.0.jar\n",
            "spark-3.5.1-bin-hadoop3/jars/RoaringBitmap-0.9.45.jar\n",
            "spark-3.5.1-bin-hadoop3/jars/spark-mllib-local_2.12-3.5.1.jar\n",
            "spark-3.5.1-bin-hadoop3/jars/spark-hive-thriftserver_2.12-3.5.1.jar\n",
            "spark-3.5.1-bin-hadoop3/jars/commons-math3-3.6.1.jar\n",
            "spark-3.5.1-bin-hadoop3/jars/janino-3.1.9.jar\n",
            "spark-3.5.1-bin-hadoop3/jars/datanucleus-rdbms-4.1.19.jar\n",
            "spark-3.5.1-bin-hadoop3/jars/spark-catalyst_2.12-3.5.1.jar\n",
            "spark-3.5.1-bin-hadoop3/jars/hive-exec-2.3.9-core.jar\n",
            "spark-3.5.1-bin-hadoop3/jars/spark-mesos_2.12-3.5.1.jar\n",
            "spark-3.5.1-bin-hadoop3/jars/gson-2.2.4.jar\n",
            "spark-3.5.1-bin-hadoop3/jars/kubernetes-model-node-6.7.2.jar\n",
            "spark-3.5.1-bin-hadoop3/jars/commons-cli-1.5.0.jar\n",
            "spark-3.5.1-bin-hadoop3/jars/spark-launcher_2.12-3.5.1.jar\n",
            "spark-3.5.1-bin-hadoop3/jars/shims-0.9.45.jar\n",
            "spark-3.5.1-bin-hadoop3/jars/spire_2.12-0.17.0.jar\n",
            "spark-3.5.1-bin-hadoop3/jars/netty-handler-proxy-4.1.96.Final.jar\n",
            "spark-3.5.1-bin-hadoop3/jars/algebra_2.12-2.0.1.jar\n",
            "spark-3.5.1-bin-hadoop3/jars/log4j-slf4j2-impl-2.20.0.jar\n",
            "spark-3.5.1-bin-hadoop3/jars/json4s-scalap_2.12-3.7.0-M11.jar\n",
            "spark-3.5.1-bin-hadoop3/jars/ST4-4.0.4.jar\n",
            "spark-3.5.1-bin-hadoop3/jars/aircompressor-0.26.jar\n",
            "spark-3.5.1-bin-hadoop3/jars/parquet-column-1.13.1.jar\n",
            "spark-3.5.1-bin-hadoop3/jars/spark-kubernetes_2.12-3.5.1.jar\n",
            "spark-3.5.1-bin-hadoop3/jars/kubernetes-model-scheduling-6.7.2.jar\n",
            "spark-3.5.1-bin-hadoop3/jars/snappy-java-1.1.10.3.jar\n",
            "spark-3.5.1-bin-hadoop3/jars/transaction-api-1.1.jar\n",
            "spark-3.5.1-bin-hadoop3/jars/kubernetes-model-common-6.7.2.jar\n",
            "spark-3.5.1-bin-hadoop3/jars/jackson-core-2.15.2.jar\n",
            "spark-3.5.1-bin-hadoop3/jars/kubernetes-model-certificates-6.7.2.jar\n",
            "spark-3.5.1-bin-hadoop3/jars/jakarta.ws.rs-api-2.1.6.jar\n",
            "spark-3.5.1-bin-hadoop3/jars/lapack-3.0.3.jar\n",
            "spark-3.5.1-bin-hadoop3/jars/netty-codec-http2-4.1.96.Final.jar\n",
            "spark-3.5.1-bin-hadoop3/jars/netty-transport-native-epoll-4.1.96.Final-linux-aarch_64.jar\n",
            "spark-3.5.1-bin-hadoop3/jars/JTransforms-3.1.jar\n",
            "spark-3.5.1-bin-hadoop3/jars/hive-llap-common-2.3.9.jar\n",
            "spark-3.5.1-bin-hadoop3/jars/json-1.8.jar\n",
            "spark-3.5.1-bin-hadoop3/jars/hive-storage-api-2.8.1.jar\n",
            "spark-3.5.1-bin-hadoop3/jars/jsr305-3.0.0.jar\n",
            "spark-3.5.1-bin-hadoop3/jars/parquet-common-1.13.1.jar\n",
            "spark-3.5.1-bin-hadoop3/jars/oro-2.0.8.jar\n",
            "spark-3.5.1-bin-hadoop3/jars/cats-kernel_2.12-2.1.1.jar\n",
            "spark-3.5.1-bin-hadoop3/jars/breeze-macros_2.12-2.1.0.jar\n",
            "spark-3.5.1-bin-hadoop3/jars/py4j-0.10.9.7.jar\n",
            "spark-3.5.1-bin-hadoop3/jars/commons-collections4-4.4.jar\n",
            "spark-3.5.1-bin-hadoop3/jars/javolution-5.5.1.jar\n",
            "spark-3.5.1-bin-hadoop3/jars/slf4j-api-2.0.7.jar\n",
            "spark-3.5.1-bin-hadoop3/jars/spark-network-shuffle_2.12-3.5.1.jar\n",
            "spark-3.5.1-bin-hadoop3/jars/tink-1.9.0.jar\n",
            "spark-3.5.1-bin-hadoop3/jars/arrow-memory-netty-12.0.1.jar\n",
            "spark-3.5.1-bin-hadoop3/jars/avro-1.11.2.jar\n",
            "spark-3.5.1-bin-hadoop3/jars/kubernetes-model-networking-6.7.2.jar\n",
            "spark-3.5.1-bin-hadoop3/jars/kubernetes-model-metrics-6.7.2.jar\n",
            "spark-3.5.1-bin-hadoop3/jars/leveldbjni-all-1.8.jar\n",
            "spark-3.5.1-bin-hadoop3/jars/jackson-core-asl-1.9.13.jar\n",
            "spark-3.5.1-bin-hadoop3/jars/hive-shims-common-2.3.9.jar\n",
            "spark-3.5.1-bin-hadoop3/jars/audience-annotations-0.5.0.jar\n",
            "spark-3.5.1-bin-hadoop3/jars/scala-parser-combinators_2.12-2.3.0.jar\n",
            "spark-3.5.1-bin-hadoop3/jars/pickle-1.3.jar\n",
            "spark-3.5.1-bin-hadoop3/jars/hive-service-rpc-3.1.3.jar\n",
            "spark-3.5.1-bin-hadoop3/jars/netty-transport-4.1.96.Final.jar\n",
            "spark-3.5.1-bin-hadoop3/jars/kubernetes-model-batch-6.7.2.jar\n",
            "spark-3.5.1-bin-hadoop3/jars/spire-platform_2.12-0.17.0.jar\n",
            "spark-3.5.1-bin-hadoop3/jars/hive-common-2.3.9.jar\n",
            "spark-3.5.1-bin-hadoop3/jars/blas-3.0.3.jar\n",
            "spark-3.5.1-bin-hadoop3/jars/netty-codec-4.1.96.Final.jar\n",
            "spark-3.5.1-bin-hadoop3/jars/log4j-api-2.20.0.jar\n",
            "spark-3.5.1-bin-hadoop3/jars/commons-dbcp-1.4.jar\n",
            "spark-3.5.1-bin-hadoop3/jars/chill_2.12-0.10.0.jar\n",
            "spark-3.5.1-bin-hadoop3/jars/commons-compiler-3.1.9.jar\n",
            "spark-3.5.1-bin-hadoop3/jars/jersey-common-2.40.jar\n",
            "spark-3.5.1-bin-hadoop3/jars/metrics-json-4.2.19.jar\n",
            "spark-3.5.1-bin-hadoop3/jars/commons-codec-1.16.0.jar\n",
            "spark-3.5.1-bin-hadoop3/jars/kryo-shaded-4.0.2.jar\n",
            "spark-3.5.1-bin-hadoop3/jars/netty-transport-native-kqueue-4.1.96.Final-osx-x86_64.jar\n",
            "spark-3.5.1-bin-hadoop3/jars/univocity-parsers-2.9.1.jar\n",
            "spark-3.5.1-bin-hadoop3/jars/json4s-jackson_2.12-3.7.0-M11.jar\n",
            "spark-3.5.1-bin-hadoop3/jars/kubernetes-client-api-6.7.2.jar\n",
            "spark-3.5.1-bin-hadoop3/jars/okio-1.15.0.jar\n",
            "spark-3.5.1-bin-hadoop3/jars/kubernetes-model-resource-6.7.2.jar\n",
            "spark-3.5.1-bin-hadoop3/jars/mesos-1.4.3-shaded-protobuf.jar\n",
            "spark-3.5.1-bin-hadoop3/jars/kubernetes-model-apiextensions-6.7.2.jar\n",
            "spark-3.5.1-bin-hadoop3/jars/hive-metastore-2.3.9.jar\n",
            "spark-3.5.1-bin-hadoop3/jars/scala-reflect-2.12.18.jar\n",
            "spark-3.5.1-bin-hadoop3/jars/flatbuffers-java-1.12.0.jar\n",
            "spark-3.5.1-bin-hadoop3/jars/ivy-2.5.1.jar\n",
            "spark-3.5.1-bin-hadoop3/jars/jersey-hk2-2.40.jar\n",
            "spark-3.5.1-bin-hadoop3/jars/breeze_2.12-2.1.0.jar\n",
            "spark-3.5.1-bin-hadoop3/jars/netty-common-4.1.96.Final.jar\n",
            "spark-3.5.1-bin-hadoop3/jars/parquet-jackson-1.13.1.jar\n",
            "spark-3.5.1-bin-hadoop3/jars/hk2-api-2.6.1.jar\n",
            "spark-3.5.1-bin-hadoop3/jars/arpack-3.0.3.jar\n",
            "spark-3.5.1-bin-hadoop3/jars/scala-xml_2.12-2.1.0.jar\n",
            "spark-3.5.1-bin-hadoop3/jars/spark-core_2.12-3.5.1.jar\n",
            "spark-3.5.1-bin-hadoop3/jars/lz4-java-1.8.0.jar\n",
            "spark-3.5.1-bin-hadoop3/jars/joda-time-2.12.5.jar\n",
            "spark-3.5.1-bin-hadoop3/jars/metrics-jvm-4.2.19.jar\n",
            "spark-3.5.1-bin-hadoop3/jars/log4j-1.2-api-2.20.0.jar\n",
            "spark-3.5.1-bin-hadoop3/jars/kubernetes-model-coordination-6.7.2.jar\n",
            "spark-3.5.1-bin-hadoop3/jars/jersey-client-2.40.jar\n",
            "spark-3.5.1-bin-hadoop3/jars/json4s-ast_2.12-3.7.0-M11.jar\n",
            "spark-3.5.1-bin-hadoop3/jars/kubernetes-model-apps-6.7.2.jar\n",
            "spark-3.5.1-bin-hadoop3/jars/commons-lang-2.6.jar\n",
            "spark-3.5.1-bin-hadoop3/jars/kubernetes-model-gatewayapi-6.7.2.jar\n",
            "spark-3.5.1-bin-hadoop3/jars/jackson-mapper-asl-1.9.13.jar\n",
            "spark-3.5.1-bin-hadoop3/jars/spark-common-utils_2.12-3.5.1.jar\n",
            "spark-3.5.1-bin-hadoop3/jars/zstd-jni-1.5.5-4.jar\n",
            "spark-3.5.1-bin-hadoop3/jars/jodd-core-3.5.2.jar\n",
            "spark-3.5.1-bin-hadoop3/jars/jpam-1.1.jar\n",
            "spark-3.5.1-bin-hadoop3/jars/metrics-core-4.2.19.jar\n",
            "spark-3.5.1-bin-hadoop3/jars/spark-unsafe_2.12-3.5.1.jar\n",
            "spark-3.5.1-bin-hadoop3/jars/jakarta.servlet-api-4.0.3.jar\n",
            "spark-3.5.1-bin-hadoop3/jars/parquet-format-structures-1.13.1.jar\n",
            "spark-3.5.1-bin-hadoop3/jars/log4j-core-2.20.0.jar\n",
            "spark-3.5.1-bin-hadoop3/jars/rocksdbjni-8.3.2.jar\n",
            "spark-3.5.1-bin-hadoop3/jars/hive-shims-scheduler-2.3.9.jar\n",
            "spark-3.5.1-bin-hadoop3/jars/netty-codec-http-4.1.96.Final.jar\n",
            "spark-3.5.1-bin-hadoop3/jars/paranamer-2.8.jar\n",
            "spark-3.5.1-bin-hadoop3/jars/hive-shims-0.23-2.3.9.jar\n",
            "spark-3.5.1-bin-hadoop3/jars/kubernetes-model-autoscaling-6.7.2.jar\n",
            "spark-3.5.1-bin-hadoop3/jars/scala-collection-compat_2.12-2.7.0.jar\n",
            "spark-3.5.1-bin-hadoop3/jars/dropwizard-metrics-hadoop-metrics2-reporter-0.1.2.jar\n",
            "spark-3.5.1-bin-hadoop3/jars/curator-framework-2.13.0.jar\n",
            "spark-3.5.1-bin-hadoop3/jars/spark-mllib_2.12-3.5.1.jar\n",
            "spark-3.5.1-bin-hadoop3/jars/opencsv-2.3.jar\n",
            "spark-3.5.1-bin-hadoop3/jars/netty-buffer-4.1.96.Final.jar\n",
            "spark-3.5.1-bin-hadoop3/jars/scala-library-2.12.18.jar\n",
            "spark-3.5.1-bin-hadoop3/jars/xz-1.9.jar\n",
            "spark-3.5.1-bin-hadoop3/jars/commons-collections-3.2.2.jar\n",
            "spark-3.5.1-bin-hadoop3/jars/jackson-dataformat-yaml-2.15.2.jar\n",
            "spark-3.5.1-bin-hadoop3/jars/datanucleus-core-4.1.17.jar\n",
            "spark-3.5.1-bin-hadoop3/jars/spark-repl_2.12-3.5.1.jar\n",
            "spark-3.5.1-bin-hadoop3/jars/bonecp-0.8.0.RELEASE.jar\n",
            "spark-3.5.1-bin-hadoop3/jars/guava-14.0.1.jar\n",
            "spark-3.5.1-bin-hadoop3/jars/zjsonpatch-0.3.0.jar\n",
            "spark-3.5.1-bin-hadoop3/jars/spark-sql-api_2.12-3.5.1.jar\n",
            "spark-3.5.1-bin-hadoop3/jars/netty-all-4.1.96.Final.jar\n",
            "spark-3.5.1-bin-hadoop3/jars/spark-streaming_2.12-3.5.1.jar\n",
            "spark-3.5.1-bin-hadoop3/jars/arrow-format-12.0.1.jar\n",
            "spark-3.5.1-bin-hadoop3/jars/libthrift-0.12.0.jar\n",
            "spark-3.5.1-bin-hadoop3/jars/spark-hive_2.12-3.5.1.jar\n",
            "spark-3.5.1-bin-hadoop3/jars/netty-resolver-4.1.96.Final.jar\n",
            "spark-3.5.1-bin-hadoop3/jars/hadoop-shaded-guava-1.1.1.jar\n",
            "spark-3.5.1-bin-hadoop3/jars/kubernetes-httpclient-okhttp-6.7.2.jar\n",
            "spark-3.5.1-bin-hadoop3/jars/hive-shims-2.3.9.jar\n",
            "spark-3.5.1-bin-hadoop3/jars/metrics-jmx-4.2.19.jar\n",
            "spark-3.5.1-bin-hadoop3/jars/hive-beeline-2.3.9.jar\n",
            "spark-3.5.1-bin-hadoop3/jars/jakarta.annotation-api-1.3.5.jar\n",
            "spark-3.5.1-bin-hadoop3/jars/kubernetes-model-rbac-6.7.2.jar\n",
            "spark-3.5.1-bin-hadoop3/jars/metrics-graphite-4.2.19.jar\n",
            "spark-3.5.1-bin-hadoop3/jars/activation-1.1.1.jar\n",
            "spark-3.5.1-bin-hadoop3/jars/jcl-over-slf4j-2.0.7.jar\n",
            "spark-3.5.1-bin-hadoop3/jars/okhttp-3.12.12.jar\n",
            "spark-3.5.1-bin-hadoop3/jars/httpcore-4.4.16.jar\n",
            "spark-3.5.1-bin-hadoop3/jars/kubernetes-model-flowcontrol-6.7.2.jar\n",
            "spark-3.5.1-bin-hadoop3/jars/spark-tags_2.12-3.5.1.jar\n",
            "spark-3.5.1-bin-hadoop3/jars/commons-text-1.10.0.jar\n",
            "spark-3.5.1-bin-hadoop3/jars/kubernetes-client-6.7.2.jar\n",
            "spark-3.5.1-bin-hadoop3/jars/javassist-3.29.2-GA.jar\n",
            "spark-3.5.1-bin-hadoop3/jars/parquet-encoding-1.13.1.jar\n",
            "spark-3.5.1-bin-hadoop3/jars/commons-pool-1.5.4.jar\n",
            "spark-3.5.1-bin-hadoop3/jars/zookeeper-jute-3.6.3.jar\n",
            "spark-3.5.1-bin-hadoop3/jars/xbean-asm9-shaded-4.23.jar\n",
            "spark-3.5.1-bin-hadoop3/jars/netty-transport-native-unix-common-4.1.96.Final.jar\n",
            "spark-3.5.1-bin-hadoop3/jars/minlog-1.3.0.jar\n",
            "spark-3.5.1-bin-hadoop3/jars/avro-mapred-1.11.2.jar\n",
            "spark-3.5.1-bin-hadoop3/jars/stax-api-1.0.1.jar\n",
            "spark-3.5.1-bin-hadoop3/jars/jakarta.xml.bind-api-2.3.2.jar\n",
            "spark-3.5.1-bin-hadoop3/jars/jackson-module-scala_2.12-2.15.2.jar\n",
            "spark-3.5.1-bin-hadoop3/jars/arrow-vector-12.0.1.jar\n",
            "spark-3.5.1-bin-hadoop3/jars/antlr-runtime-3.5.2.jar\n",
            "spark-3.5.1-bin-hadoop3/jars/snakeyaml-engine-2.6.jar\n",
            "spark-3.5.1-bin-hadoop3/jars/hk2-locator-2.6.1.jar\n",
            "spark-3.5.1-bin-hadoop3/jars/commons-logging-1.1.3.jar\n",
            "spark-3.5.1-bin-hadoop3/jars/hive-jdbc-2.3.9.jar\n",
            "spark-3.5.1-bin-hadoop3/jars/hive-cli-2.3.9.jar\n",
            "spark-3.5.1-bin-hadoop3/jars/arrow-memory-core-12.0.1.jar\n",
            "spark-3.5.1-bin-hadoop3/jars/kubernetes-model-discovery-6.7.2.jar\n",
            "spark-3.5.1-bin-hadoop3/jars/logging-interceptor-3.12.12.jar\n",
            "spark-3.5.1-bin-hadoop3/jars/JLargeArrays-1.5.jar\n",
            "spark-3.5.1-bin-hadoop3/jars/derby-10.14.2.0.jar\n",
            "spark-3.5.1-bin-hadoop3/jars/hadoop-client-runtime-3.3.4.jar\n",
            "spark-3.5.1-bin-hadoop3/jars/spark-kvstore_2.12-3.5.1.jar\n",
            "spark-3.5.1-bin-hadoop3/jars/commons-compress-1.23.0.jar\n",
            "spark-3.5.1-bin-hadoop3/jars/jul-to-slf4j-2.0.7.jar\n",
            "spark-3.5.1-bin-hadoop3/jars/spark-graphx_2.12-3.5.1.jar\n",
            "spark-3.5.1-bin-hadoop3/jars/kubernetes-model-admissionregistration-6.7.2.jar\n",
            "spark-3.5.1-bin-hadoop3/jars/commons-lang3-3.12.0.jar\n",
            "spark-3.5.1-bin-hadoop3/jars/hive-serde-2.3.9.jar\n",
            "spark-3.5.1-bin-hadoop3/jars/javax.jdo-3.2.0-m3.jar\n",
            "spark-3.5.1-bin-hadoop3/jars/arpack_combined_all-0.1.jar\n",
            "spark-3.5.1-bin-hadoop3/jars/super-csv-2.2.0.jar\n",
            "spark-3.5.1-bin-hadoop3/jars/hk2-utils-2.6.1.jar\n",
            "spark-3.5.1-bin-hadoop3/jars/jackson-datatype-jsr310-2.15.2.jar\n",
            "spark-3.5.1-bin-hadoop3/jars/antlr4-runtime-4.9.3.jar\n",
            "spark-3.5.1-bin-hadoop3/jars/stream-2.9.6.jar\n",
            "spark-3.5.1-bin-hadoop3/jars/threeten-extra-1.7.1.jar\n",
            "spark-3.5.1-bin-hadoop3/jars/spire-util_2.12-0.17.0.jar\n",
            "spark-3.5.1-bin-hadoop3/jars/jakarta.validation-api-2.0.2.jar\n",
            "spark-3.5.1-bin-hadoop3/jars/jaxb-runtime-2.3.2.jar\n",
            "spark-3.5.1-bin-hadoop3/jars/scala-compiler-2.12.18.jar\n",
            "spark-3.5.1-bin-hadoop3/jars/datasketches-memory-2.1.0.jar\n",
            "spark-3.5.1-bin-hadoop3/jars/spark-yarn_2.12-3.5.1.jar\n",
            "spark-3.5.1-bin-hadoop3/jars/kubernetes-model-events-6.7.2.jar\n",
            "spark-3.5.1-bin-hadoop3/jars/kubernetes-model-core-6.7.2.jar\n",
            "spark-3.5.1-bin-hadoop3/jars/aopalliance-repackaged-2.6.1.jar\n",
            "spark-3.5.1-bin-hadoop3/jars/avro-ipc-1.11.2.jar\n",
            "spark-3.5.1-bin-hadoop3/jars/jta-1.1.jar\n",
            "spark-3.5.1-bin-hadoop3/jars/compress-lzf-1.1.2.jar\n",
            "spark-3.5.1-bin-hadoop3/jars/annotations-17.0.0.jar\n",
            "spark-3.5.1-bin-hadoop3/jars/datanucleus-api-jdo-4.2.4.jar\n",
            "spark-3.5.1-bin-hadoop3/jars/jersey-server-2.40.jar\n",
            "spark-3.5.1-bin-hadoop3/jars/commons-crypto-1.1.0.jar\n",
            "spark-3.5.1-bin-hadoop3/jars/jdo-api-3.0.1.jar\n",
            "spark-3.5.1-bin-hadoop3/jars/jersey-container-servlet-core-2.40.jar\n",
            "spark-3.5.1-bin-hadoop3/jars/netty-handler-4.1.96.Final.jar\n",
            "spark-3.5.1-bin-hadoop3/jars/jakarta.inject-2.6.1.jar\n",
            "spark-3.5.1-bin-hadoop3/jars/chill-java-0.10.0.jar\n",
            "spark-3.5.1-bin-hadoop3/jars/netty-transport-classes-kqueue-4.1.96.Final.jar\n",
            "spark-3.5.1-bin-hadoop3/jars/istack-commons-runtime-3.0.8.jar\n",
            "spark-3.5.1-bin-hadoop3/jars/spark-sql_2.12-3.5.1.jar\n",
            "spark-3.5.1-bin-hadoop3/jars/zookeeper-3.6.3.jar\n",
            "spark-3.5.1-bin-hadoop3/jars/orc-shims-1.9.2.jar\n",
            "spark-3.5.1-bin-hadoop3/jars/datasketches-java-3.3.0.jar\n",
            "spark-3.5.1-bin-hadoop3/jars/libfb303-0.9.3.jar\n",
            "spark-3.5.1-bin-hadoop3/jars/osgi-resource-locator-1.0.3.jar\n",
            "spark-3.5.1-bin-hadoop3/jars/kubernetes-model-policy-6.7.2.jar\n",
            "spark-3.5.1-bin-hadoop3/examples/\n",
            "spark-3.5.1-bin-hadoop3/examples/jars/\n",
            "spark-3.5.1-bin-hadoop3/examples/jars/spark-examples_2.12-3.5.1.jar\n",
            "spark-3.5.1-bin-hadoop3/examples/jars/scopt_2.12-3.7.1.jar\n",
            "spark-3.5.1-bin-hadoop3/examples/src/\n",
            "spark-3.5.1-bin-hadoop3/examples/src/main/\n",
            "spark-3.5.1-bin-hadoop3/examples/src/main/scala/\n",
            "spark-3.5.1-bin-hadoop3/examples/src/main/scala/org/\n",
            "spark-3.5.1-bin-hadoop3/examples/src/main/scala/org/apache/\n",
            "spark-3.5.1-bin-hadoop3/examples/src/main/scala/org/apache/spark/\n",
            "spark-3.5.1-bin-hadoop3/examples/src/main/scala/org/apache/spark/examples/\n",
            "spark-3.5.1-bin-hadoop3/examples/src/main/scala/org/apache/spark/examples/graphx/\n",
            "spark-3.5.1-bin-hadoop3/examples/src/main/scala/org/apache/spark/examples/graphx/LiveJournalPageRank.scala\n",
            "spark-3.5.1-bin-hadoop3/examples/src/main/scala/org/apache/spark/examples/graphx/SynthBenchmark.scala\n",
            "spark-3.5.1-bin-hadoop3/examples/src/main/scala/org/apache/spark/examples/graphx/Analytics.scala\n",
            "spark-3.5.1-bin-hadoop3/examples/src/main/scala/org/apache/spark/examples/graphx/SSSPExample.scala\n",
            "spark-3.5.1-bin-hadoop3/examples/src/main/scala/org/apache/spark/examples/graphx/AggregateMessagesExample.scala\n",
            "spark-3.5.1-bin-hadoop3/examples/src/main/scala/org/apache/spark/examples/graphx/ComprehensiveExample.scala\n",
            "spark-3.5.1-bin-hadoop3/examples/src/main/scala/org/apache/spark/examples/graphx/PageRankExample.scala\n",
            "spark-3.5.1-bin-hadoop3/examples/src/main/scala/org/apache/spark/examples/graphx/ConnectedComponentsExample.scala\n",
            "spark-3.5.1-bin-hadoop3/examples/src/main/scala/org/apache/spark/examples/graphx/TriangleCountingExample.scala\n",
            "spark-3.5.1-bin-hadoop3/examples/src/main/scala/org/apache/spark/examples/SparkALS.scala\n",
            "spark-3.5.1-bin-hadoop3/examples/src/main/scala/org/apache/spark/examples/streaming/\n",
            "spark-3.5.1-bin-hadoop3/examples/src/main/scala/org/apache/spark/examples/streaming/SqlNetworkWordCount.scala\n",
            "spark-3.5.1-bin-hadoop3/examples/src/main/scala/org/apache/spark/examples/streaming/CustomReceiver.scala\n",
            "spark-3.5.1-bin-hadoop3/examples/src/main/scala/org/apache/spark/examples/streaming/StreamingExamples.scala\n",
            "spark-3.5.1-bin-hadoop3/examples/src/main/scala/org/apache/spark/examples/streaming/DirectKafkaWordCount.scala\n",
            "spark-3.5.1-bin-hadoop3/examples/src/main/scala/org/apache/spark/examples/streaming/DirectKerberizedKafkaWordCount.scala\n",
            "spark-3.5.1-bin-hadoop3/examples/src/main/scala/org/apache/spark/examples/streaming/HdfsWordCount.scala\n",
            "spark-3.5.1-bin-hadoop3/examples/src/main/scala/org/apache/spark/examples/streaming/RecoverableNetworkWordCount.scala\n",
            "spark-3.5.1-bin-hadoop3/examples/src/main/scala/org/apache/spark/examples/streaming/RawNetworkGrep.scala\n",
            "spark-3.5.1-bin-hadoop3/examples/src/main/scala/org/apache/spark/examples/streaming/StatefulNetworkWordCount.scala\n",
            "spark-3.5.1-bin-hadoop3/examples/src/main/scala/org/apache/spark/examples/streaming/NetworkWordCount.scala\n",
            "spark-3.5.1-bin-hadoop3/examples/src/main/scala/org/apache/spark/examples/streaming/QueueStream.scala\n",
            "spark-3.5.1-bin-hadoop3/examples/src/main/scala/org/apache/spark/examples/streaming/clickstream/\n",
            "spark-3.5.1-bin-hadoop3/examples/src/main/scala/org/apache/spark/examples/streaming/clickstream/PageViewGenerator.scala\n",
            "spark-3.5.1-bin-hadoop3/examples/src/main/scala/org/apache/spark/examples/streaming/clickstream/PageViewStream.scala\n",
            "spark-3.5.1-bin-hadoop3/examples/src/main/scala/org/apache/spark/examples/ExceptionHandlingTest.scala\n",
            "spark-3.5.1-bin-hadoop3/examples/src/main/scala/org/apache/spark/examples/SparkPageRank.scala\n",
            "spark-3.5.1-bin-hadoop3/examples/src/main/scala/org/apache/spark/examples/MiniReadWriteTest.scala\n",
            "spark-3.5.1-bin-hadoop3/examples/src/main/scala/org/apache/spark/examples/ml/\n",
            "spark-3.5.1-bin-hadoop3/examples/src/main/scala/org/apache/spark/examples/ml/KMeansExample.scala\n",
            "spark-3.5.1-bin-hadoop3/examples/src/main/scala/org/apache/spark/examples/ml/SummarizerExample.scala\n",
            "spark-3.5.1-bin-hadoop3/examples/src/main/scala/org/apache/spark/examples/ml/BucketedRandomProjectionLSHExample.scala\n",
            "spark-3.5.1-bin-hadoop3/examples/src/main/scala/org/apache/spark/examples/ml/RFormulaExample.scala\n",
            "spark-3.5.1-bin-hadoop3/examples/src/main/scala/org/apache/spark/examples/ml/NGramExample.scala\n",
            "spark-3.5.1-bin-hadoop3/examples/src/main/scala/org/apache/spark/examples/ml/NormalizerExample.scala\n",
            "spark-3.5.1-bin-hadoop3/examples/src/main/scala/org/apache/spark/examples/ml/LDAExample.scala\n",
            "spark-3.5.1-bin-hadoop3/examples/src/main/scala/org/apache/spark/examples/ml/MaxAbsScalerExample.scala\n",
            "spark-3.5.1-bin-hadoop3/examples/src/main/scala/org/apache/spark/examples/ml/LinearRegressionWithElasticNetExample.scala\n",
            "spark-3.5.1-bin-hadoop3/examples/src/main/scala/org/apache/spark/examples/ml/StringIndexerExample.scala\n",
            "spark-3.5.1-bin-hadoop3/examples/src/main/scala/org/apache/spark/examples/ml/FeatureHasherExample.scala\n",
            "spark-3.5.1-bin-hadoop3/examples/src/main/scala/org/apache/spark/examples/ml/RandomForestExample.scala\n",
            "spark-3.5.1-bin-hadoop3/examples/src/main/scala/org/apache/spark/examples/ml/EstimatorTransformerParamExample.scala\n",
            "spark-3.5.1-bin-hadoop3/examples/src/main/scala/org/apache/spark/examples/ml/NaiveBayesExample.scala\n",
            "spark-3.5.1-bin-hadoop3/examples/src/main/scala/org/apache/spark/examples/ml/ImputerExample.scala\n",
            "spark-3.5.1-bin-hadoop3/examples/src/main/scala/org/apache/spark/examples/ml/PipelineExample.scala\n",
            "spark-3.5.1-bin-hadoop3/examples/src/main/scala/org/apache/spark/examples/ml/LogisticRegressionWithElasticNetExample.scala\n",
            "spark-3.5.1-bin-hadoop3/examples/src/main/scala/org/apache/spark/examples/ml/MinHashLSHExample.scala\n",
            "spark-3.5.1-bin-hadoop3/examples/src/main/scala/org/apache/spark/examples/ml/FPGrowthExample.scala\n",
            "spark-3.5.1-bin-hadoop3/examples/src/main/scala/org/apache/spark/examples/ml/VectorAssemblerExample.scala\n",
            "spark-3.5.1-bin-hadoop3/examples/src/main/scala/org/apache/spark/examples/ml/GradientBoostedTreeClassifierExample.scala\n",
            "spark-3.5.1-bin-hadoop3/examples/src/main/scala/org/apache/spark/examples/ml/InteractionExample.scala\n",
            "spark-3.5.1-bin-hadoop3/examples/src/main/scala/org/apache/spark/examples/ml/DecisionTreeClassificationExample.scala\n",
            "spark-3.5.1-bin-hadoop3/examples/src/main/scala/org/apache/spark/examples/ml/OneVsRestExample.scala\n",
            "spark-3.5.1-bin-hadoop3/examples/src/main/scala/org/apache/spark/examples/ml/PolynomialExpansionExample.scala\n",
            "spark-3.5.1-bin-hadoop3/examples/src/main/scala/org/apache/spark/examples/ml/OneHotEncoderExample.scala\n",
            "spark-3.5.1-bin-hadoop3/examples/src/main/scala/org/apache/spark/examples/ml/VarianceThresholdSelectorExample.scala\n",
            "spark-3.5.1-bin-hadoop3/examples/src/main/scala/org/apache/spark/examples/ml/LogisticRegressionExample.scala\n",
            "spark-3.5.1-bin-hadoop3/examples/src/main/scala/org/apache/spark/examples/ml/ChiSquareTestExample.scala\n",
            "spark-3.5.1-bin-hadoop3/examples/src/main/scala/org/apache/spark/examples/ml/IsotonicRegressionExample.scala\n",
            "spark-3.5.1-bin-hadoop3/examples/src/main/scala/org/apache/spark/examples/ml/DeveloperApiExample.scala\n",
            "spark-3.5.1-bin-hadoop3/examples/src/main/scala/org/apache/spark/examples/ml/ALSExample.scala\n",
            "spark-3.5.1-bin-hadoop3/examples/src/main/scala/org/apache/spark/examples/ml/BisectingKMeansExample.scala\n",
            "spark-3.5.1-bin-hadoop3/examples/src/main/scala/org/apache/spark/examples/ml/LinearSVCExample.scala\n",
            "spark-3.5.1-bin-hadoop3/examples/src/main/scala/org/apache/spark/examples/ml/LogisticRegressionSummaryExample.scala\n",
            "spark-3.5.1-bin-hadoop3/examples/src/main/scala/org/apache/spark/examples/ml/MinMaxScalerExample.scala\n",
            "spark-3.5.1-bin-hadoop3/examples/src/main/scala/org/apache/spark/examples/ml/MulticlassLogisticRegressionWithElasticNetExample.scala\n",
            "spark-3.5.1-bin-hadoop3/examples/src/main/scala/org/apache/spark/examples/ml/StopWordsRemoverExample.scala\n",
            "spark-3.5.1-bin-hadoop3/examples/src/main/scala/org/apache/spark/examples/ml/IndexToStringExample.scala\n",
            "spark-3.5.1-bin-hadoop3/examples/src/main/scala/org/apache/spark/examples/ml/TokenizerExample.scala\n",
            "spark-3.5.1-bin-hadoop3/examples/src/main/scala/org/apache/spark/examples/ml/CountVectorizerExample.scala\n",
            "spark-3.5.1-bin-hadoop3/examples/src/main/scala/org/apache/spark/examples/ml/QuantileDiscretizerExample.scala\n",
            "spark-3.5.1-bin-hadoop3/examples/src/main/scala/org/apache/spark/examples/ml/TfIdfExample.scala\n",
            "spark-3.5.1-bin-hadoop3/examples/src/main/scala/org/apache/spark/examples/ml/DataFrameExample.scala\n",
            "spark-3.5.1-bin-hadoop3/examples/src/main/scala/org/apache/spark/examples/ml/RobustScalerExample.scala\n",
            "spark-3.5.1-bin-hadoop3/examples/src/main/scala/org/apache/spark/examples/ml/GaussianMixtureExample.scala\n",
            "spark-3.5.1-bin-hadoop3/examples/src/main/scala/org/apache/spark/examples/ml/VectorIndexerExample.scala\n",
            "spark-3.5.1-bin-hadoop3/examples/src/main/scala/org/apache/spark/examples/ml/GBTExample.scala\n",
            "spark-3.5.1-bin-hadoop3/examples/src/main/scala/org/apache/spark/examples/ml/ModelSelectionViaCrossValidationExample.scala\n",
            "spark-3.5.1-bin-hadoop3/examples/src/main/scala/org/apache/spark/examples/ml/DecisionTreeExample.scala\n",
            "spark-3.5.1-bin-hadoop3/examples/src/main/scala/org/apache/spark/examples/ml/GeneralizedLinearRegressionExample.scala\n",
            "spark-3.5.1-bin-hadoop3/examples/src/main/scala/org/apache/spark/examples/ml/PrefixSpanExample.scala\n",
            "spark-3.5.1-bin-hadoop3/examples/src/main/scala/org/apache/spark/examples/ml/SQLTransformerExample.scala\n",
            "spark-3.5.1-bin-hadoop3/examples/src/main/scala/org/apache/spark/examples/ml/VectorSlicerExample.scala\n",
            "spark-3.5.1-bin-hadoop3/examples/src/main/scala/org/apache/spark/examples/ml/GradientBoostedTreeRegressorExample.scala\n",
            "spark-3.5.1-bin-hadoop3/examples/src/main/scala/org/apache/spark/examples/ml/UnaryTransformerExample.scala\n",
            "spark-3.5.1-bin-hadoop3/examples/src/main/scala/org/apache/spark/examples/ml/CorrelationExample.scala\n",
            "spark-3.5.1-bin-hadoop3/examples/src/main/scala/org/apache/spark/examples/ml/UnivariateFeatureSelectorExample.scala\n",
            "spark-3.5.1-bin-hadoop3/examples/src/main/scala/org/apache/spark/examples/ml/DecisionTreeRegressionExample.scala\n",
            "spark-3.5.1-bin-hadoop3/examples/src/main/scala/org/apache/spark/examples/ml/ElementwiseProductExample.scala\n",
            "spark-3.5.1-bin-hadoop3/examples/src/main/scala/org/apache/spark/examples/ml/RandomForestRegressorExample.scala\n",
            "spark-3.5.1-bin-hadoop3/examples/src/main/scala/org/apache/spark/examples/ml/AFTSurvivalRegressionExample.scala\n",
            "spark-3.5.1-bin-hadoop3/examples/src/main/scala/org/apache/spark/examples/ml/RandomForestClassifierExample.scala\n",
            "spark-3.5.1-bin-hadoop3/examples/src/main/scala/org/apache/spark/examples/ml/StandardScalerExample.scala\n",
            "spark-3.5.1-bin-hadoop3/examples/src/main/scala/org/apache/spark/examples/ml/ChiSqSelectorExample.scala\n",
            "spark-3.5.1-bin-hadoop3/examples/src/main/scala/org/apache/spark/examples/ml/BinarizerExample.scala\n",
            "spark-3.5.1-bin-hadoop3/examples/src/main/scala/org/apache/spark/examples/ml/VectorSizeHintExample.scala\n",
            "spark-3.5.1-bin-hadoop3/examples/src/main/scala/org/apache/spark/examples/ml/LinearRegressionExample.scala\n",
            "spark-3.5.1-bin-hadoop3/examples/src/main/scala/org/apache/spark/examples/ml/DCTExample.scala\n",
            "spark-3.5.1-bin-hadoop3/examples/src/main/scala/org/apache/spark/examples/ml/Word2VecExample.scala\n",
            "spark-3.5.1-bin-hadoop3/examples/src/main/scala/org/apache/spark/examples/ml/MultilayerPerceptronClassifierExample.scala\n",
            "spark-3.5.1-bin-hadoop3/examples/src/main/scala/org/apache/spark/examples/ml/FMClassifierExample.scala\n",
            "spark-3.5.1-bin-hadoop3/examples/src/main/scala/org/apache/spark/examples/ml/FMRegressorExample.scala\n",
            "spark-3.5.1-bin-hadoop3/examples/src/main/scala/org/apache/spark/examples/ml/PowerIterationClusteringExample.scala\n",
            "spark-3.5.1-bin-hadoop3/examples/src/main/scala/org/apache/spark/examples/ml/PCAExample.scala\n",
            "spark-3.5.1-bin-hadoop3/examples/src/main/scala/org/apache/spark/examples/ml/BucketizerExample.scala\n",
            "spark-3.5.1-bin-hadoop3/examples/src/main/scala/org/apache/spark/examples/ml/ModelSelectionViaTrainValidationSplitExample.scala\n",
            "spark-3.5.1-bin-hadoop3/examples/src/main/scala/org/apache/spark/examples/sql/\n",
            "spark-3.5.1-bin-hadoop3/examples/src/main/scala/org/apache/spark/examples/sql/SQLDataSourceExample.scala\n",
            "spark-3.5.1-bin-hadoop3/examples/src/main/scala/org/apache/spark/examples/sql/streaming/\n",
            "spark-3.5.1-bin-hadoop3/examples/src/main/scala/org/apache/spark/examples/sql/streaming/StructuredSessionization.scala\n",
            "spark-3.5.1-bin-hadoop3/examples/src/main/scala/org/apache/spark/examples/sql/streaming/StructuredNetworkWordCount.scala\n",
            "spark-3.5.1-bin-hadoop3/examples/src/main/scala/org/apache/spark/examples/sql/streaming/StructuredKafkaWordCount.scala\n",
            "spark-3.5.1-bin-hadoop3/examples/src/main/scala/org/apache/spark/examples/sql/streaming/StructuredKerberizedKafkaWordCount.scala\n",
            "spark-3.5.1-bin-hadoop3/examples/src/main/scala/org/apache/spark/examples/sql/streaming/StructuredNetworkWordCountWindowed.scala\n",
            "spark-3.5.1-bin-hadoop3/examples/src/main/scala/org/apache/spark/examples/sql/streaming/StructuredComplexSessionization.scala\n",
            "spark-3.5.1-bin-hadoop3/examples/src/main/scala/org/apache/spark/examples/sql/SimpleTypedAggregator.scala\n",
            "spark-3.5.1-bin-hadoop3/examples/src/main/scala/org/apache/spark/examples/sql/UserDefinedTypedAggregation.scala\n",
            "spark-3.5.1-bin-hadoop3/examples/src/main/scala/org/apache/spark/examples/sql/UserDefinedUntypedAggregation.scala\n",
            "spark-3.5.1-bin-hadoop3/examples/src/main/scala/org/apache/spark/examples/sql/SparkSQLExample.scala\n",
            "spark-3.5.1-bin-hadoop3/examples/src/main/scala/org/apache/spark/examples/sql/hive/\n",
            "spark-3.5.1-bin-hadoop3/examples/src/main/scala/org/apache/spark/examples/sql/hive/SparkHiveExample.scala\n",
            "spark-3.5.1-bin-hadoop3/examples/src/main/scala/org/apache/spark/examples/sql/RDDRelation.scala\n",
            "spark-3.5.1-bin-hadoop3/examples/src/main/scala/org/apache/spark/examples/sql/jdbc/\n",
            "spark-3.5.1-bin-hadoop3/examples/src/main/scala/org/apache/spark/examples/sql/jdbc/ExampleJdbcConnectionProvider.scala\n",
            "spark-3.5.1-bin-hadoop3/examples/src/main/scala/org/apache/spark/examples/sql/UserDefinedScalar.scala\n",
            "spark-3.5.1-bin-hadoop3/examples/src/main/scala/org/apache/spark/examples/LocalFileLR.scala\n",
            "spark-3.5.1-bin-hadoop3/examples/src/main/scala/org/apache/spark/examples/LocalPi.scala\n",
            "spark-3.5.1-bin-hadoop3/examples/src/main/scala/org/apache/spark/examples/LocalLR.scala\n",
            "spark-3.5.1-bin-hadoop3/examples/src/main/scala/org/apache/spark/examples/SkewedGroupByTest.scala\n",
            "spark-3.5.1-bin-hadoop3/examples/src/main/scala/org/apache/spark/examples/SparkPi.scala\n",
            "spark-3.5.1-bin-hadoop3/examples/src/main/scala/org/apache/spark/examples/SparkHdfsLR.scala\n",
            "spark-3.5.1-bin-hadoop3/examples/src/main/scala/org/apache/spark/examples/SimpleSkewedGroupByTest.scala\n",
            "spark-3.5.1-bin-hadoop3/examples/src/main/scala/org/apache/spark/examples/mllib/\n",
            "spark-3.5.1-bin-hadoop3/examples/src/main/scala/org/apache/spark/examples/mllib/KMeansExample.scala\n",
            "spark-3.5.1-bin-hadoop3/examples/src/main/scala/org/apache/spark/examples/mllib/TallSkinnySVD.scala\n",
            "spark-3.5.1-bin-hadoop3/examples/src/main/scala/org/apache/spark/examples/mllib/StreamingLogisticRegression.scala\n",
            "spark-3.5.1-bin-hadoop3/examples/src/main/scala/org/apache/spark/examples/mllib/NormalizerExample.scala\n",
            "spark-3.5.1-bin-hadoop3/examples/src/main/scala/org/apache/spark/examples/mllib/DenseKMeans.scala\n",
            "spark-3.5.1-bin-hadoop3/examples/src/main/scala/org/apache/spark/examples/mllib/LDAExample.scala\n",
            "spark-3.5.1-bin-hadoop3/examples/src/main/scala/org/apache/spark/examples/mllib/StratifiedSamplingExample.scala\n",
            "spark-3.5.1-bin-hadoop3/examples/src/main/scala/org/apache/spark/examples/mllib/DecisionTreeRunner.scala\n",
            "spark-3.5.1-bin-hadoop3/examples/src/main/scala/org/apache/spark/examples/mllib/PCAOnSourceVectorExample.scala\n",
            "spark-3.5.1-bin-hadoop3/examples/src/main/scala/org/apache/spark/examples/mllib/NaiveBayesExample.scala\n",
            "spark-3.5.1-bin-hadoop3/examples/src/main/scala/org/apache/spark/examples/mllib/StreamingLinearRegressionExample.scala\n",
            "spark-3.5.1-bin-hadoop3/examples/src/main/scala/org/apache/spark/examples/mllib/LogisticRegressionWithLBFGSExample.scala\n",
            "spark-3.5.1-bin-hadoop3/examples/src/main/scala/org/apache/spark/examples/mllib/AbstractParams.scala\n",
            "spark-3.5.1-bin-hadoop3/examples/src/main/scala/org/apache/spark/examples/mllib/FPGrowthExample.scala\n",
            "spark-3.5.1-bin-hadoop3/examples/src/main/scala/org/apache/spark/examples/mllib/RandomForestRegressionExample.scala\n",
            "spark-3.5.1-bin-hadoop3/examples/src/main/scala/org/apache/spark/examples/mllib/AssociationRulesExample.scala\n",
            "spark-3.5.1-bin-hadoop3/examples/src/main/scala/org/apache/spark/examples/mllib/SummaryStatisticsExample.scala\n",
            "spark-3.5.1-bin-hadoop3/examples/src/main/scala/org/apache/spark/examples/mllib/LBFGSExample.scala\n",
            "spark-3.5.1-bin-hadoop3/examples/src/main/scala/org/apache/spark/examples/mllib/MultiLabelMetricsExample.scala\n",
            "spark-3.5.1-bin-hadoop3/examples/src/main/scala/org/apache/spark/examples/mllib/DecisionTreeClassificationExample.scala\n",
            "spark-3.5.1-bin-hadoop3/examples/src/main/scala/org/apache/spark/examples/mllib/CorrelationsExample.scala\n",
            "spark-3.5.1-bin-hadoop3/examples/src/main/scala/org/apache/spark/examples/mllib/MultivariateSummarizer.scala\n",
            "spark-3.5.1-bin-hadoop3/examples/src/main/scala/org/apache/spark/examples/mllib/StreamingKMeansExample.scala\n",
            "spark-3.5.1-bin-hadoop3/examples/src/main/scala/org/apache/spark/examples/mllib/MovieLensALS.scala\n",
            "spark-3.5.1-bin-hadoop3/examples/src/main/scala/org/apache/spark/examples/mllib/PMMLModelExportExample.scala\n",
            "spark-3.5.1-bin-hadoop3/examples/src/main/scala/org/apache/spark/examples/mllib/IsotonicRegressionExample.scala\n",
            "spark-3.5.1-bin-hadoop3/examples/src/main/scala/org/apache/spark/examples/mllib/BisectingKMeansExample.scala\n",
            "spark-3.5.1-bin-hadoop3/examples/src/main/scala/org/apache/spark/examples/mllib/SimpleFPGrowth.scala\n",
            "spark-3.5.1-bin-hadoop3/examples/src/main/scala/org/apache/spark/examples/mllib/RandomRDDGeneration.scala\n",
            "spark-3.5.1-bin-hadoop3/examples/src/main/scala/org/apache/spark/examples/mllib/RecommendationExample.scala\n",
            "spark-3.5.1-bin-hadoop3/examples/src/main/scala/org/apache/spark/examples/mllib/TFIDFExample.scala\n",
            "spark-3.5.1-bin-hadoop3/examples/src/main/scala/org/apache/spark/examples/mllib/SVMWithSGDExample.scala\n",
            "spark-3.5.1-bin-hadoop3/examples/src/main/scala/org/apache/spark/examples/mllib/RandomForestClassificationExample.scala\n",
            "spark-3.5.1-bin-hadoop3/examples/src/main/scala/org/apache/spark/examples/mllib/GradientBoostedTreesRunner.scala\n",
            "spark-3.5.1-bin-hadoop3/examples/src/main/scala/org/apache/spark/examples/mllib/PCAOnRowMatrixExample.scala\n",
            "spark-3.5.1-bin-hadoop3/examples/src/main/scala/org/apache/spark/examples/mllib/SampledRDDs.scala\n",
            "spark-3.5.1-bin-hadoop3/examples/src/main/scala/org/apache/spark/examples/mllib/HypothesisTestingKolmogorovSmirnovTestExample.scala\n",
            "spark-3.5.1-bin-hadoop3/examples/src/main/scala/org/apache/spark/examples/mllib/GaussianMixtureExample.scala\n",
            "spark-3.5.1-bin-hadoop3/examples/src/main/scala/org/apache/spark/examples/mllib/StreamingTestExample.scala\n",
            "spark-3.5.1-bin-hadoop3/examples/src/main/scala/org/apache/spark/examples/mllib/RankingMetricsExample.scala\n",
            "spark-3.5.1-bin-hadoop3/examples/src/main/scala/org/apache/spark/examples/mllib/BinaryClassification.scala\n",
            "spark-3.5.1-bin-hadoop3/examples/src/main/scala/org/apache/spark/examples/mllib/PrefixSpanExample.scala\n",
            "spark-3.5.1-bin-hadoop3/examples/src/main/scala/org/apache/spark/examples/mllib/HypothesisTestingExample.scala\n",
            "spark-3.5.1-bin-hadoop3/examples/src/main/scala/org/apache/spark/examples/mllib/KernelDensityEstimationExample.scala\n",
            "spark-3.5.1-bin-hadoop3/examples/src/main/scala/org/apache/spark/examples/mllib/GradientBoostingRegressionExample.scala\n",
            "spark-3.5.1-bin-hadoop3/examples/src/main/scala/org/apache/spark/examples/mllib/DecisionTreeRegressionExample.scala\n",
            "spark-3.5.1-bin-hadoop3/examples/src/main/scala/org/apache/spark/examples/mllib/ElementwiseProductExample.scala\n",
            "spark-3.5.1-bin-hadoop3/examples/src/main/scala/org/apache/spark/examples/mllib/TallSkinnyPCA.scala\n",
            "spark-3.5.1-bin-hadoop3/examples/src/main/scala/org/apache/spark/examples/mllib/Correlations.scala\n",
            "spark-3.5.1-bin-hadoop3/examples/src/main/scala/org/apache/spark/examples/mllib/BinaryClassificationMetricsExample.scala\n",
            "spark-3.5.1-bin-hadoop3/examples/src/main/scala/org/apache/spark/examples/mllib/CosineSimilarity.scala\n",
            "spark-3.5.1-bin-hadoop3/examples/src/main/scala/org/apache/spark/examples/mllib/SVDExample.scala\n",
            "spark-3.5.1-bin-hadoop3/examples/src/main/scala/org/apache/spark/examples/mllib/StandardScalerExample.scala\n",
            "spark-3.5.1-bin-hadoop3/examples/src/main/scala/org/apache/spark/examples/mllib/ChiSqSelectorExample.scala\n",
            "spark-3.5.1-bin-hadoop3/examples/src/main/scala/org/apache/spark/examples/mllib/SparseNaiveBayes.scala\n",
            "spark-3.5.1-bin-hadoop3/examples/src/main/scala/org/apache/spark/examples/mllib/MulticlassMetricsExample.scala\n",
            "spark-3.5.1-bin-hadoop3/examples/src/main/scala/org/apache/spark/examples/mllib/Word2VecExample.scala\n",
            "spark-3.5.1-bin-hadoop3/examples/src/main/scala/org/apache/spark/examples/mllib/GradientBoostingClassificationExample.scala\n",
            "spark-3.5.1-bin-hadoop3/examples/src/main/scala/org/apache/spark/examples/mllib/LatentDirichletAllocationExample.scala\n",
            "spark-3.5.1-bin-hadoop3/examples/src/main/scala/org/apache/spark/examples/mllib/PowerIterationClusteringExample.scala\n",
            "spark-3.5.1-bin-hadoop3/examples/src/main/scala/org/apache/spark/examples/pythonconverters/\n",
            "spark-3.5.1-bin-hadoop3/examples/src/main/scala/org/apache/spark/examples/pythonconverters/AvroConverters.scala\n",
            "spark-3.5.1-bin-hadoop3/examples/src/main/scala/org/apache/spark/examples/BroadcastTest.scala\n",
            "spark-3.5.1-bin-hadoop3/examples/src/main/scala/org/apache/spark/examples/HdfsTest.scala\n",
            "spark-3.5.1-bin-hadoop3/examples/src/main/scala/org/apache/spark/examples/LocalALS.scala\n",
            "spark-3.5.1-bin-hadoop3/examples/src/main/scala/org/apache/spark/examples/extensions/\n",
            "spark-3.5.1-bin-hadoop3/examples/src/main/scala/org/apache/spark/examples/extensions/SessionExtensionsWithoutLoader.scala\n",
            "spark-3.5.1-bin-hadoop3/examples/src/main/scala/org/apache/spark/examples/extensions/SparkSessionExtensionsTest.scala\n",
            "spark-3.5.1-bin-hadoop3/examples/src/main/scala/org/apache/spark/examples/extensions/AgeExample.scala\n",
            "spark-3.5.1-bin-hadoop3/examples/src/main/scala/org/apache/spark/examples/extensions/SessionExtensionsWithLoader.scala\n",
            "spark-3.5.1-bin-hadoop3/examples/src/main/scala/org/apache/spark/examples/SparkKMeans.scala\n",
            "spark-3.5.1-bin-hadoop3/examples/src/main/scala/org/apache/spark/examples/LocalKMeans.scala\n",
            "spark-3.5.1-bin-hadoop3/examples/src/main/scala/org/apache/spark/examples/SparkLR.scala\n",
            "spark-3.5.1-bin-hadoop3/examples/src/main/scala/org/apache/spark/examples/SparkRemoteFileTest.scala\n",
            "spark-3.5.1-bin-hadoop3/examples/src/main/scala/org/apache/spark/examples/DFSReadWriteTest.scala\n",
            "spark-3.5.1-bin-hadoop3/examples/src/main/scala/org/apache/spark/examples/SparkTC.scala\n",
            "spark-3.5.1-bin-hadoop3/examples/src/main/scala/org/apache/spark/examples/GroupByTest.scala\n",
            "spark-3.5.1-bin-hadoop3/examples/src/main/scala/org/apache/spark/examples/DriverSubmissionTest.scala\n",
            "spark-3.5.1-bin-hadoop3/examples/src/main/scala/org/apache/spark/examples/LogQuery.scala\n",
            "spark-3.5.1-bin-hadoop3/examples/src/main/scala/org/apache/spark/examples/MultiBroadcastTest.scala\n",
            "spark-3.5.1-bin-hadoop3/examples/src/main/scala/org/apache/spark/examples/AccumulatorMetricsTest.scala\n",
            "spark-3.5.1-bin-hadoop3/examples/src/main/r/\n",
            "spark-3.5.1-bin-hadoop3/examples/src/main/r/streaming/\n",
            "spark-3.5.1-bin-hadoop3/examples/src/main/r/streaming/structured_network_wordcount.R\n",
            "spark-3.5.1-bin-hadoop3/examples/src/main/r/ml/\n",
            "spark-3.5.1-bin-hadoop3/examples/src/main/r/ml/lm_with_elastic_net.R\n",
            "spark-3.5.1-bin-hadoop3/examples/src/main/r/ml/kstest.R\n",
            "spark-3.5.1-bin-hadoop3/examples/src/main/r/ml/fmRegressor.R\n",
            "spark-3.5.1-bin-hadoop3/examples/src/main/r/ml/survreg.R\n",
            "spark-3.5.1-bin-hadoop3/examples/src/main/r/ml/randomForest.R\n",
            "spark-3.5.1-bin-hadoop3/examples/src/main/r/ml/prefixSpan.R\n",
            "spark-3.5.1-bin-hadoop3/examples/src/main/r/ml/kmeans.R\n",
            "spark-3.5.1-bin-hadoop3/examples/src/main/r/ml/powerIterationClustering.R\n",
            "spark-3.5.1-bin-hadoop3/examples/src/main/r/ml/fpm.R\n",
            "spark-3.5.1-bin-hadoop3/examples/src/main/r/ml/gbt.R\n",
            "spark-3.5.1-bin-hadoop3/examples/src/main/r/ml/fmClassifier.R\n",
            "spark-3.5.1-bin-hadoop3/examples/src/main/r/ml/logit.R\n",
            "spark-3.5.1-bin-hadoop3/examples/src/main/r/ml/als.R\n",
            "spark-3.5.1-bin-hadoop3/examples/src/main/r/ml/glm.R\n",
            "spark-3.5.1-bin-hadoop3/examples/src/main/r/ml/bisectingKmeans.R\n",
            "spark-3.5.1-bin-hadoop3/examples/src/main/r/ml/decisionTree.R\n",
            "spark-3.5.1-bin-hadoop3/examples/src/main/r/ml/ml.R\n",
            "spark-3.5.1-bin-hadoop3/examples/src/main/r/ml/naiveBayes.R\n",
            "spark-3.5.1-bin-hadoop3/examples/src/main/r/ml/isoreg.R\n",
            "spark-3.5.1-bin-hadoop3/examples/src/main/r/ml/svmLinear.R\n",
            "spark-3.5.1-bin-hadoop3/examples/src/main/r/ml/mlp.R\n",
            "spark-3.5.1-bin-hadoop3/examples/src/main/r/ml/gaussianMixture.R\n",
            "spark-3.5.1-bin-hadoop3/examples/src/main/r/ml/lda.R\n",
            "spark-3.5.1-bin-hadoop3/examples/src/main/r/dataframe.R\n",
            "spark-3.5.1-bin-hadoop3/examples/src/main/r/RSparkSQLExample.R\n",
            "spark-3.5.1-bin-hadoop3/examples/src/main/r/data-manipulation.R\n",
            "spark-3.5.1-bin-hadoop3/examples/src/main/scripts/\n",
            "spark-3.5.1-bin-hadoop3/examples/src/main/scripts/getGpusResources.sh\n",
            "spark-3.5.1-bin-hadoop3/examples/src/main/java/\n",
            "spark-3.5.1-bin-hadoop3/examples/src/main/java/org/\n",
            "spark-3.5.1-bin-hadoop3/examples/src/main/java/org/apache/\n",
            "spark-3.5.1-bin-hadoop3/examples/src/main/java/org/apache/spark/\n",
            "spark-3.5.1-bin-hadoop3/examples/src/main/java/org/apache/spark/examples/\n",
            "spark-3.5.1-bin-hadoop3/examples/src/main/java/org/apache/spark/examples/JavaHdfsLR.java\n",
            "spark-3.5.1-bin-hadoop3/examples/src/main/java/org/apache/spark/examples/streaming/\n",
            "spark-3.5.1-bin-hadoop3/examples/src/main/java/org/apache/spark/examples/streaming/JavaDirectKerberizedKafkaWordCount.java\n",
            "spark-3.5.1-bin-hadoop3/examples/src/main/java/org/apache/spark/examples/streaming/JavaStatefulNetworkWordCount.java\n",
            "spark-3.5.1-bin-hadoop3/examples/src/main/java/org/apache/spark/examples/streaming/JavaDirectKafkaWordCount.java\n",
            "spark-3.5.1-bin-hadoop3/examples/src/main/java/org/apache/spark/examples/streaming/JavaCustomReceiver.java\n",
            "spark-3.5.1-bin-hadoop3/examples/src/main/java/org/apache/spark/examples/streaming/JavaRecord.java\n",
            "spark-3.5.1-bin-hadoop3/examples/src/main/java/org/apache/spark/examples/streaming/JavaNetworkWordCount.java\n",
            "spark-3.5.1-bin-hadoop3/examples/src/main/java/org/apache/spark/examples/streaming/JavaQueueStream.java\n",
            "spark-3.5.1-bin-hadoop3/examples/src/main/java/org/apache/spark/examples/streaming/JavaRecoverableNetworkWordCount.java\n",
            "spark-3.5.1-bin-hadoop3/examples/src/main/java/org/apache/spark/examples/streaming/JavaSqlNetworkWordCount.java\n",
            "spark-3.5.1-bin-hadoop3/examples/src/main/java/org/apache/spark/examples/JavaStatusTrackerDemo.java\n",
            "spark-3.5.1-bin-hadoop3/examples/src/main/java/org/apache/spark/examples/JavaWordCount.java\n",
            "spark-3.5.1-bin-hadoop3/examples/src/main/java/org/apache/spark/examples/ml/\n",
            "spark-3.5.1-bin-hadoop3/examples/src/main/java/org/apache/spark/examples/ml/JavaPolynomialExpansionExample.java\n",
            "spark-3.5.1-bin-hadoop3/examples/src/main/java/org/apache/spark/examples/ml/JavaLogisticRegressionSummaryExample.java\n",
            "spark-3.5.1-bin-hadoop3/examples/src/main/java/org/apache/spark/examples/ml/JavaLinearRegressionWithElasticNetExample.java\n",
            "spark-3.5.1-bin-hadoop3/examples/src/main/java/org/apache/spark/examples/ml/JavaGradientBoostedTreeClassifierExample.java\n",
            "spark-3.5.1-bin-hadoop3/examples/src/main/java/org/apache/spark/examples/ml/JavaVectorSizeHintExample.java\n",
            "spark-3.5.1-bin-hadoop3/examples/src/main/java/org/apache/spark/examples/ml/JavaFPGrowthExample.java\n",
            "spark-3.5.1-bin-hadoop3/examples/src/main/java/org/apache/spark/examples/ml/JavaRandomForestRegressorExample.java\n",
            "spark-3.5.1-bin-hadoop3/examples/src/main/java/org/apache/spark/examples/ml/JavaStopWordsRemoverExample.java\n",
            "spark-3.5.1-bin-hadoop3/examples/src/main/java/org/apache/spark/examples/ml/JavaBucketedRandomProjectionLSHExample.java\n",
            "spark-3.5.1-bin-hadoop3/examples/src/main/java/org/apache/spark/examples/ml/JavaModelSelectionViaTrainValidationSplitExample.java\n",
            "spark-3.5.1-bin-hadoop3/examples/src/main/java/org/apache/spark/examples/ml/JavaChiSqSelectorExample.java\n",
            "spark-3.5.1-bin-hadoop3/examples/src/main/java/org/apache/spark/examples/ml/JavaOneHotEncoderExample.java\n",
            "spark-3.5.1-bin-hadoop3/examples/src/main/java/org/apache/spark/examples/ml/JavaPrefixSpanExample.java\n",
            "spark-3.5.1-bin-hadoop3/examples/src/main/java/org/apache/spark/examples/ml/JavaStringIndexerExample.java\n",
            "spark-3.5.1-bin-hadoop3/examples/src/main/java/org/apache/spark/examples/ml/JavaGaussianMixtureExample.java\n",
            "spark-3.5.1-bin-hadoop3/examples/src/main/java/org/apache/spark/examples/ml/JavaMulticlassLogisticRegressionWithElasticNetExample.java\n",
            "spark-3.5.1-bin-hadoop3/examples/src/main/java/org/apache/spark/examples/ml/JavaVectorSlicerExample.java\n",
            "spark-3.5.1-bin-hadoop3/examples/src/main/java/org/apache/spark/examples/ml/JavaLogisticRegressionWithElasticNetExample.java\n",
            "spark-3.5.1-bin-hadoop3/examples/src/main/java/org/apache/spark/examples/ml/JavaBinarizerExample.java\n",
            "spark-3.5.1-bin-hadoop3/examples/src/main/java/org/apache/spark/examples/ml/JavaPipelineExample.java\n",
            "spark-3.5.1-bin-hadoop3/examples/src/main/java/org/apache/spark/examples/ml/JavaRandomForestClassifierExample.java\n",
            "spark-3.5.1-bin-hadoop3/examples/src/main/java/org/apache/spark/examples/ml/JavaChiSquareTestExample.java\n",
            "spark-3.5.1-bin-hadoop3/examples/src/main/java/org/apache/spark/examples/ml/JavaStandardScalerExample.java\n",
            "spark-3.5.1-bin-hadoop3/examples/src/main/java/org/apache/spark/examples/ml/JavaModelSelectionViaCrossValidationExample.java\n",
            "spark-3.5.1-bin-hadoop3/examples/src/main/java/org/apache/spark/examples/ml/JavaCountVectorizerExample.java\n",
            "spark-3.5.1-bin-hadoop3/examples/src/main/java/org/apache/spark/examples/ml/JavaElementwiseProductExample.java\n",
            "spark-3.5.1-bin-hadoop3/examples/src/main/java/org/apache/spark/examples/ml/JavaFeatureHasherExample.java\n",
            "spark-3.5.1-bin-hadoop3/examples/src/main/java/org/apache/spark/examples/ml/JavaMinMaxScalerExample.java\n",
            "spark-3.5.1-bin-hadoop3/examples/src/main/java/org/apache/spark/examples/ml/JavaInteractionExample.java\n",
            "spark-3.5.1-bin-hadoop3/examples/src/main/java/org/apache/spark/examples/ml/JavaRFormulaExample.java\n",
            "spark-3.5.1-bin-hadoop3/examples/src/main/java/org/apache/spark/examples/ml/JavaMaxAbsScalerExample.java\n",
            "spark-3.5.1-bin-hadoop3/examples/src/main/java/org/apache/spark/examples/ml/JavaSummarizerExample.java\n",
            "spark-3.5.1-bin-hadoop3/examples/src/main/java/org/apache/spark/examples/ml/JavaIndexToStringExample.java\n",
            "spark-3.5.1-bin-hadoop3/examples/src/main/java/org/apache/spark/examples/ml/JavaRobustScalerExample.java\n",
            "spark-3.5.1-bin-hadoop3/examples/src/main/java/org/apache/spark/examples/ml/JavaIsotonicRegressionExample.java\n",
            "spark-3.5.1-bin-hadoop3/examples/src/main/java/org/apache/spark/examples/ml/JavaImputerExample.java\n",
            "spark-3.5.1-bin-hadoop3/examples/src/main/java/org/apache/spark/examples/ml/JavaTokenizerExample.java\n",
            "spark-3.5.1-bin-hadoop3/examples/src/main/java/org/apache/spark/examples/ml/JavaLDAExample.java\n",
            "spark-3.5.1-bin-hadoop3/examples/src/main/java/org/apache/spark/examples/ml/JavaSQLTransformerExample.java\n",
            "spark-3.5.1-bin-hadoop3/examples/src/main/java/org/apache/spark/examples/ml/JavaMultilayerPerceptronClassifierExample.java\n",
            "spark-3.5.1-bin-hadoop3/examples/src/main/java/org/apache/spark/examples/ml/JavaEstimatorTransformerParamExample.java\n",
            "spark-3.5.1-bin-hadoop3/examples/src/main/java/org/apache/spark/examples/ml/JavaCorrelationExample.java\n",
            "spark-3.5.1-bin-hadoop3/examples/src/main/java/org/apache/spark/examples/ml/JavaKMeansExample.java\n",
            "spark-3.5.1-bin-hadoop3/examples/src/main/java/org/apache/spark/examples/ml/JavaDocument.java\n",
            "spark-3.5.1-bin-hadoop3/examples/src/main/java/org/apache/spark/examples/ml/JavaMinHashLSHExample.java\n",
            "spark-3.5.1-bin-hadoop3/examples/src/main/java/org/apache/spark/examples/ml/JavaFMClassifierExample.java\n",
            "spark-3.5.1-bin-hadoop3/examples/src/main/java/org/apache/spark/examples/ml/JavaPowerIterationClusteringExample.java\n",
            "spark-3.5.1-bin-hadoop3/examples/src/main/java/org/apache/spark/examples/ml/JavaNGramExample.java\n",
            "spark-3.5.1-bin-hadoop3/examples/src/main/java/org/apache/spark/examples/ml/JavaNormalizerExample.java\n",
            "spark-3.5.1-bin-hadoop3/examples/src/main/java/org/apache/spark/examples/ml/JavaVectorAssemblerExample.java\n",
            "spark-3.5.1-bin-hadoop3/examples/src/main/java/org/apache/spark/examples/ml/JavaALSExample.java\n",
            "spark-3.5.1-bin-hadoop3/examples/src/main/java/org/apache/spark/examples/ml/JavaGradientBoostedTreeRegressorExample.java\n",
            "spark-3.5.1-bin-hadoop3/examples/src/main/java/org/apache/spark/examples/ml/JavaBucketizerExample.java\n",
            "spark-3.5.1-bin-hadoop3/examples/src/main/java/org/apache/spark/examples/ml/JavaQuantileDiscretizerExample.java\n",
            "spark-3.5.1-bin-hadoop3/examples/src/main/java/org/apache/spark/examples/ml/JavaLabeledDocument.java\n",
            "spark-3.5.1-bin-hadoop3/examples/src/main/java/org/apache/spark/examples/ml/JavaWord2VecExample.java\n",
            "spark-3.5.1-bin-hadoop3/examples/src/main/java/org/apache/spark/examples/ml/JavaUnivariateFeatureSelectorExample.java\n",
            "spark-3.5.1-bin-hadoop3/examples/src/main/java/org/apache/spark/examples/ml/JavaDecisionTreeClassificationExample.java\n",
            "spark-3.5.1-bin-hadoop3/examples/src/main/java/org/apache/spark/examples/ml/JavaGeneralizedLinearRegressionExample.java\n",
            "spark-3.5.1-bin-hadoop3/examples/src/main/java/org/apache/spark/examples/ml/JavaPCAExample.java\n",
            "spark-3.5.1-bin-hadoop3/examples/src/main/java/org/apache/spark/examples/ml/JavaAFTSurvivalRegressionExample.java\n",
            "spark-3.5.1-bin-hadoop3/examples/src/main/java/org/apache/spark/examples/ml/JavaVarianceThresholdSelectorExample.java\n",
            "spark-3.5.1-bin-hadoop3/examples/src/main/java/org/apache/spark/examples/ml/JavaOneVsRestExample.java\n",
            "spark-3.5.1-bin-hadoop3/examples/src/main/java/org/apache/spark/examples/ml/JavaDecisionTreeRegressionExample.java\n",
            "spark-3.5.1-bin-hadoop3/examples/src/main/java/org/apache/spark/examples/ml/JavaLinearSVCExample.java\n",
            "spark-3.5.1-bin-hadoop3/examples/src/main/java/org/apache/spark/examples/ml/JavaNaiveBayesExample.java\n",
            "spark-3.5.1-bin-hadoop3/examples/src/main/java/org/apache/spark/examples/ml/JavaFMRegressorExample.java\n",
            "spark-3.5.1-bin-hadoop3/examples/src/main/java/org/apache/spark/examples/ml/JavaVectorIndexerExample.java\n",
            "spark-3.5.1-bin-hadoop3/examples/src/main/java/org/apache/spark/examples/ml/JavaTfIdfExample.java\n",
            "spark-3.5.1-bin-hadoop3/examples/src/main/java/org/apache/spark/examples/ml/JavaDCTExample.java\n",
            "spark-3.5.1-bin-hadoop3/examples/src/main/java/org/apache/spark/examples/ml/JavaBisectingKMeansExample.java\n",
            "spark-3.5.1-bin-hadoop3/examples/src/main/java/org/apache/spark/examples/JavaLogQuery.java\n",
            "spark-3.5.1-bin-hadoop3/examples/src/main/java/org/apache/spark/examples/sql/\n",
            "spark-3.5.1-bin-hadoop3/examples/src/main/java/org/apache/spark/examples/sql/streaming/\n",
            "spark-3.5.1-bin-hadoop3/examples/src/main/java/org/apache/spark/examples/sql/streaming/JavaStructuredNetworkWordCountWindowed.java\n",
            "spark-3.5.1-bin-hadoop3/examples/src/main/java/org/apache/spark/examples/sql/streaming/JavaStructuredKerberizedKafkaWordCount.java\n",
            "spark-3.5.1-bin-hadoop3/examples/src/main/java/org/apache/spark/examples/sql/streaming/JavaStructuredSessionization.java\n",
            "spark-3.5.1-bin-hadoop3/examples/src/main/java/org/apache/spark/examples/sql/streaming/JavaStructuredNetworkWordCount.java\n",
            "spark-3.5.1-bin-hadoop3/examples/src/main/java/org/apache/spark/examples/sql/streaming/JavaStructuredKafkaWordCount.java\n",
            "spark-3.5.1-bin-hadoop3/examples/src/main/java/org/apache/spark/examples/sql/streaming/JavaStructuredComplexSessionization.java\n",
            "spark-3.5.1-bin-hadoop3/examples/src/main/java/org/apache/spark/examples/sql/JavaSQLDataSourceExample.java\n",
            "spark-3.5.1-bin-hadoop3/examples/src/main/java/org/apache/spark/examples/sql/JavaUserDefinedScalar.java\n",
            "spark-3.5.1-bin-hadoop3/examples/src/main/java/org/apache/spark/examples/sql/hive/\n",
            "spark-3.5.1-bin-hadoop3/examples/src/main/java/org/apache/spark/examples/sql/hive/JavaSparkHiveExample.java\n",
            "spark-3.5.1-bin-hadoop3/examples/src/main/java/org/apache/spark/examples/sql/JavaUserDefinedUntypedAggregation.java\n",
            "spark-3.5.1-bin-hadoop3/examples/src/main/java/org/apache/spark/examples/sql/JavaUserDefinedTypedAggregation.java\n",
            "spark-3.5.1-bin-hadoop3/examples/src/main/java/org/apache/spark/examples/sql/JavaSparkSQLExample.java\n",
            "spark-3.5.1-bin-hadoop3/examples/src/main/java/org/apache/spark/examples/JavaPageRank.java\n",
            "spark-3.5.1-bin-hadoop3/examples/src/main/java/org/apache/spark/examples/mllib/\n",
            "spark-3.5.1-bin-hadoop3/examples/src/main/java/org/apache/spark/examples/mllib/JavaSVMWithSGDExample.java\n",
            "spark-3.5.1-bin-hadoop3/examples/src/main/java/org/apache/spark/examples/mllib/JavaGradientBoostingClassificationExample.java\n",
            "spark-3.5.1-bin-hadoop3/examples/src/main/java/org/apache/spark/examples/mllib/JavaRandomForestClassificationExample.java\n",
            "spark-3.5.1-bin-hadoop3/examples/src/main/java/org/apache/spark/examples/mllib/JavaLatentDirichletAllocationExample.java\n",
            "spark-3.5.1-bin-hadoop3/examples/src/main/java/org/apache/spark/examples/mllib/JavaALS.java\n",
            "spark-3.5.1-bin-hadoop3/examples/src/main/java/org/apache/spark/examples/mllib/JavaStreamingTestExample.java\n",
            "spark-3.5.1-bin-hadoop3/examples/src/main/java/org/apache/spark/examples/mllib/JavaHypothesisTestingExample.java\n",
            "spark-3.5.1-bin-hadoop3/examples/src/main/java/org/apache/spark/examples/mllib/JavaChiSqSelectorExample.java\n",
            "spark-3.5.1-bin-hadoop3/examples/src/main/java/org/apache/spark/examples/mllib/JavaPrefixSpanExample.java\n",
            "spark-3.5.1-bin-hadoop3/examples/src/main/java/org/apache/spark/examples/mllib/JavaGaussianMixtureExample.java\n",
            "spark-3.5.1-bin-hadoop3/examples/src/main/java/org/apache/spark/examples/mllib/JavaMulticlassClassificationMetricsExample.java\n",
            "spark-3.5.1-bin-hadoop3/examples/src/main/java/org/apache/spark/examples/mllib/JavaCorrelationsExample.java\n",
            "spark-3.5.1-bin-hadoop3/examples/src/main/java/org/apache/spark/examples/mllib/JavaAssociationRulesExample.java\n",
            "spark-3.5.1-bin-hadoop3/examples/src/main/java/org/apache/spark/examples/mllib/JavaElementwiseProductExample.java\n",
            "spark-3.5.1-bin-hadoop3/examples/src/main/java/org/apache/spark/examples/mllib/JavaBinaryClassificationMetricsExample.java\n",
            "spark-3.5.1-bin-hadoop3/examples/src/main/java/org/apache/spark/examples/mllib/JavaIsotonicRegressionExample.java\n",
            "spark-3.5.1-bin-hadoop3/examples/src/main/java/org/apache/spark/examples/mllib/JavaRankingMetricsExample.java\n",
            "spark-3.5.1-bin-hadoop3/examples/src/main/java/org/apache/spark/examples/mllib/JavaStratifiedSamplingExample.java\n",
            "spark-3.5.1-bin-hadoop3/examples/src/main/java/org/apache/spark/examples/mllib/JavaSummaryStatisticsExample.java\n",
            "spark-3.5.1-bin-hadoop3/examples/src/main/java/org/apache/spark/examples/mllib/JavaLogisticRegressionWithLBFGSExample.java\n",
            "spark-3.5.1-bin-hadoop3/examples/src/main/java/org/apache/spark/examples/mllib/JavaKMeansExample.java\n",
            "spark-3.5.1-bin-hadoop3/examples/src/main/java/org/apache/spark/examples/mllib/JavaRecommendationExample.java\n",
            "spark-3.5.1-bin-hadoop3/examples/src/main/java/org/apache/spark/examples/mllib/JavaLBFGSExample.java\n",
            "spark-3.5.1-bin-hadoop3/examples/src/main/java/org/apache/spark/examples/mllib/JavaPowerIterationClusteringExample.java\n",
            "spark-3.5.1-bin-hadoop3/examples/src/main/java/org/apache/spark/examples/mllib/JavaSVDExample.java\n",
            "spark-3.5.1-bin-hadoop3/examples/src/main/java/org/apache/spark/examples/mllib/JavaGradientBoostingRegressionExample.java\n",
            "spark-3.5.1-bin-hadoop3/examples/src/main/java/org/apache/spark/examples/mllib/JavaSimpleFPGrowth.java\n",
            "spark-3.5.1-bin-hadoop3/examples/src/main/java/org/apache/spark/examples/mllib/JavaRandomForestRegressionExample.java\n",
            "spark-3.5.1-bin-hadoop3/examples/src/main/java/org/apache/spark/examples/mllib/JavaDecisionTreeClassificationExample.java\n",
            "spark-3.5.1-bin-hadoop3/examples/src/main/java/org/apache/spark/examples/mllib/JavaPCAExample.java\n",
            "spark-3.5.1-bin-hadoop3/examples/src/main/java/org/apache/spark/examples/mllib/JavaKernelDensityEstimationExample.java\n",
            "spark-3.5.1-bin-hadoop3/examples/src/main/java/org/apache/spark/examples/mllib/JavaDecisionTreeRegressionExample.java\n",
            "spark-3.5.1-bin-hadoop3/examples/src/main/java/org/apache/spark/examples/mllib/JavaNaiveBayesExample.java\n",
            "spark-3.5.1-bin-hadoop3/examples/src/main/java/org/apache/spark/examples/mllib/JavaHypothesisTestingKolmogorovSmirnovTestExample.java\n",
            "spark-3.5.1-bin-hadoop3/examples/src/main/java/org/apache/spark/examples/mllib/JavaMultiLabelClassificationMetricsExample.java\n",
            "spark-3.5.1-bin-hadoop3/examples/src/main/java/org/apache/spark/examples/mllib/JavaBisectingKMeansExample.java\n",
            "spark-3.5.1-bin-hadoop3/examples/src/main/java/org/apache/spark/examples/JavaTC.java\n",
            "spark-3.5.1-bin-hadoop3/examples/src/main/java/org/apache/spark/examples/JavaSparkPi.java\n",
            "spark-3.5.1-bin-hadoop3/examples/src/main/resources/\n",
            "spark-3.5.1-bin-hadoop3/examples/src/main/resources/dir1/\n",
            "spark-3.5.1-bin-hadoop3/examples/src/main/resources/dir1/file1.parquet\n",
            "spark-3.5.1-bin-hadoop3/examples/src/main/resources/dir1/file3.json\n",
            "spark-3.5.1-bin-hadoop3/examples/src/main/resources/dir1/dir2/\n",
            "spark-3.5.1-bin-hadoop3/examples/src/main/resources/dir1/dir2/file2.parquet\n",
            "spark-3.5.1-bin-hadoop3/examples/src/main/resources/users.avro\n",
            "spark-3.5.1-bin-hadoop3/examples/src/main/resources/users.parquet\n",
            "spark-3.5.1-bin-hadoop3/examples/src/main/resources/META-INF/\n",
            "spark-3.5.1-bin-hadoop3/examples/src/main/resources/META-INF/services/\n",
            "spark-3.5.1-bin-hadoop3/examples/src/main/resources/META-INF/services/org.apache.spark.sql.SparkSessionExtensionsProvider\n",
            "spark-3.5.1-bin-hadoop3/examples/src/main/resources/META-INF/services/org.apache.spark.sql.jdbc.JdbcConnectionProvider\n",
            "spark-3.5.1-bin-hadoop3/examples/src/main/resources/people.txt\n",
            "spark-3.5.1-bin-hadoop3/examples/src/main/resources/employees.json\n",
            "spark-3.5.1-bin-hadoop3/examples/src/main/resources/kv1.txt\n",
            "spark-3.5.1-bin-hadoop3/examples/src/main/resources/user.avsc\n",
            "spark-3.5.1-bin-hadoop3/examples/src/main/resources/users.orc\n",
            "spark-3.5.1-bin-hadoop3/examples/src/main/resources/people.json\n",
            "spark-3.5.1-bin-hadoop3/examples/src/main/resources/full_user.avsc\n",
            "spark-3.5.1-bin-hadoop3/examples/src/main/resources/people.csv\n",
            "spark-3.5.1-bin-hadoop3/examples/src/main/python/\n",
            "spark-3.5.1-bin-hadoop3/examples/src/main/python/streaming/\n",
            "spark-3.5.1-bin-hadoop3/examples/src/main/python/streaming/hdfs_wordcount.py\n",
            "spark-3.5.1-bin-hadoop3/examples/src/main/python/streaming/sql_network_wordcount.py\n",
            "spark-3.5.1-bin-hadoop3/examples/src/main/python/streaming/network_wordcount.py\n",
            "spark-3.5.1-bin-hadoop3/examples/src/main/python/streaming/recoverable_network_wordcount.py\n",
            "spark-3.5.1-bin-hadoop3/examples/src/main/python/streaming/stateful_network_wordcount.py\n",
            "spark-3.5.1-bin-hadoop3/examples/src/main/python/streaming/__init__.py\n",
            "spark-3.5.1-bin-hadoop3/examples/src/main/python/streaming/network_wordjoinsentiments.py\n",
            "spark-3.5.1-bin-hadoop3/examples/src/main/python/streaming/queue_stream.py\n",
            "spark-3.5.1-bin-hadoop3/examples/src/main/python/avro_inputformat.py\n",
            "spark-3.5.1-bin-hadoop3/examples/src/main/python/transitive_closure.py\n",
            "spark-3.5.1-bin-hadoop3/examples/src/main/python/ml/\n",
            "spark-3.5.1-bin-hadoop3/examples/src/main/python/ml/stopwords_remover_example.py\n",
            "spark-3.5.1-bin-hadoop3/examples/src/main/python/ml/pipeline_example.py\n",
            "spark-3.5.1-bin-hadoop3/examples/src/main/python/ml/vector_assembler_example.py\n",
            "spark-3.5.1-bin-hadoop3/examples/src/main/python/ml/__init__,py\n",
            "spark-3.5.1-bin-hadoop3/examples/src/main/python/ml/cross_validator.py\n",
            "spark-3.5.1-bin-hadoop3/examples/src/main/python/ml/logistic_regression_with_elastic_net.py\n",
            "spark-3.5.1-bin-hadoop3/examples/src/main/python/ml/tf_idf_example.py\n",
            "spark-3.5.1-bin-hadoop3/examples/src/main/python/ml/summarizer_example.py\n",
            "spark-3.5.1-bin-hadoop3/examples/src/main/python/ml/string_indexer_example.py\n",
            "spark-3.5.1-bin-hadoop3/examples/src/main/python/ml/decision_tree_regression_example.py\n",
            "spark-3.5.1-bin-hadoop3/examples/src/main/python/ml/sql_transformer.py\n",
            "spark-3.5.1-bin-hadoop3/examples/src/main/python/ml/interaction_example.py\n",
            "spark-3.5.1-bin-hadoop3/examples/src/main/python/ml/count_vectorizer_example.py\n",
            "spark-3.5.1-bin-hadoop3/examples/src/main/python/ml/dct_example.py\n",
            "spark-3.5.1-bin-hadoop3/examples/src/main/python/ml/power_iteration_clustering_example.py\n",
            "spark-3.5.1-bin-hadoop3/examples/src/main/python/ml/quantile_discretizer_example.py\n",
            "spark-3.5.1-bin-hadoop3/examples/src/main/python/ml/bucketizer_example.py\n",
            "spark-3.5.1-bin-hadoop3/examples/src/main/python/ml/rformula_example.py\n",
            "spark-3.5.1-bin-hadoop3/examples/src/main/python/ml/gradient_boosted_tree_regressor_example.py\n",
            "spark-3.5.1-bin-hadoop3/examples/src/main/python/ml/isotonic_regression_example.py\n",
            "spark-3.5.1-bin-hadoop3/examples/src/main/python/ml/tokenizer_example.py\n",
            "spark-3.5.1-bin-hadoop3/examples/src/main/python/ml/one_vs_rest_example.py\n",
            "spark-3.5.1-bin-hadoop3/examples/src/main/python/ml/lda_example.py\n",
            "spark-3.5.1-bin-hadoop3/examples/src/main/python/ml/chisq_selector_example.py\n",
            "spark-3.5.1-bin-hadoop3/examples/src/main/python/ml/feature_hasher_example.py\n",
            "spark-3.5.1-bin-hadoop3/examples/src/main/python/ml/estimator_transformer_param_example.py\n",
            "spark-3.5.1-bin-hadoop3/examples/src/main/python/ml/univariate_feature_selector_example.py\n",
            "spark-3.5.1-bin-hadoop3/examples/src/main/python/ml/imputer_example.py\n",
            "spark-3.5.1-bin-hadoop3/examples/src/main/python/ml/vector_slicer_example.py\n",
            "spark-3.5.1-bin-hadoop3/examples/src/main/python/ml/chi_square_test_example.py\n",
            "spark-3.5.1-bin-hadoop3/examples/src/main/python/ml/decision_tree_classification_example.py\n",
            "spark-3.5.1-bin-hadoop3/examples/src/main/python/ml/min_max_scaler_example.py\n",
            "spark-3.5.1-bin-hadoop3/examples/src/main/python/ml/gradient_boosted_tree_classifier_example.py\n",
            "spark-3.5.1-bin-hadoop3/examples/src/main/python/ml/prefixspan_example.py\n",
            "spark-3.5.1-bin-hadoop3/examples/src/main/python/ml/standard_scaler_example.py\n",
            "spark-3.5.1-bin-hadoop3/examples/src/main/python/ml/aft_survival_regression.py\n",
            "spark-3.5.1-bin-hadoop3/examples/src/main/python/ml/bisecting_k_means_example.py\n",
            "spark-3.5.1-bin-hadoop3/examples/src/main/python/ml/vector_indexer_example.py\n",
            "spark-3.5.1-bin-hadoop3/examples/src/main/python/ml/robust_scaler_example.py\n",
            "spark-3.5.1-bin-hadoop3/examples/src/main/python/ml/vector_size_hint_example.py\n",
            "spark-3.5.1-bin-hadoop3/examples/src/main/python/ml/n_gram_example.py\n",
            "spark-3.5.1-bin-hadoop3/examples/src/main/python/ml/als_example.py\n",
            "spark-3.5.1-bin-hadoop3/examples/src/main/python/ml/binarizer_example.py\n",
            "spark-3.5.1-bin-hadoop3/examples/src/main/python/ml/variance_threshold_selector_example.py\n",
            "spark-3.5.1-bin-hadoop3/examples/src/main/python/ml/fm_regressor_example.py\n",
            "spark-3.5.1-bin-hadoop3/examples/src/main/python/ml/kmeans_example.py\n",
            "spark-3.5.1-bin-hadoop3/examples/src/main/python/ml/normalizer_example.py\n",
            "spark-3.5.1-bin-hadoop3/examples/src/main/python/ml/dataframe_example.py\n",
            "spark-3.5.1-bin-hadoop3/examples/src/main/python/ml/multiclass_logistic_regression_with_elastic_net.py\n",
            "spark-3.5.1-bin-hadoop3/examples/src/main/python/ml/max_abs_scaler_example.py\n",
            "spark-3.5.1-bin-hadoop3/examples/src/main/python/ml/elementwise_product_example.py\n",
            "spark-3.5.1-bin-hadoop3/examples/src/main/python/ml/linearsvc.py\n",
            "spark-3.5.1-bin-hadoop3/examples/src/main/python/ml/random_forest_classifier_example.py\n",
            "spark-3.5.1-bin-hadoop3/examples/src/main/python/ml/correlation_example.py\n",
            "spark-3.5.1-bin-hadoop3/examples/src/main/python/ml/multilayer_perceptron_classification.py\n",
            "spark-3.5.1-bin-hadoop3/examples/src/main/python/ml/naive_bayes_example.py\n",
            "spark-3.5.1-bin-hadoop3/examples/src/main/python/ml/fm_classifier_example.py\n",
            "spark-3.5.1-bin-hadoop3/examples/src/main/python/ml/logistic_regression_summary_example.py\n",
            "spark-3.5.1-bin-hadoop3/examples/src/main/python/ml/index_to_string_example.py\n",
            "spark-3.5.1-bin-hadoop3/examples/src/main/python/ml/onehot_encoder_example.py\n",
            "spark-3.5.1-bin-hadoop3/examples/src/main/python/ml/polynomial_expansion_example.py\n",
            "spark-3.5.1-bin-hadoop3/examples/src/main/python/ml/train_validation_split.py\n",
            "spark-3.5.1-bin-hadoop3/examples/src/main/python/ml/gaussian_mixture_example.py\n",
            "spark-3.5.1-bin-hadoop3/examples/src/main/python/ml/min_hash_lsh_example.py\n",
            "spark-3.5.1-bin-hadoop3/examples/src/main/python/ml/pca_example.py\n",
            "spark-3.5.1-bin-hadoop3/examples/src/main/python/ml/fpgrowth_example.py\n",
            "spark-3.5.1-bin-hadoop3/examples/src/main/python/ml/linear_regression_with_elastic_net.py\n",
            "spark-3.5.1-bin-hadoop3/examples/src/main/python/ml/random_forest_regressor_example.py\n",
            "spark-3.5.1-bin-hadoop3/examples/src/main/python/ml/bucketed_random_projection_lsh_example.py\n",
            "spark-3.5.1-bin-hadoop3/examples/src/main/python/ml/word2vec_example.py\n",
            "spark-3.5.1-bin-hadoop3/examples/src/main/python/ml/generalized_linear_regression_example.py\n",
            "spark-3.5.1-bin-hadoop3/examples/src/main/python/sql/\n",
            "spark-3.5.1-bin-hadoop3/examples/src/main/python/sql/datasource.py\n",
            "spark-3.5.1-bin-hadoop3/examples/src/main/python/sql/streaming/\n",
            "spark-3.5.1-bin-hadoop3/examples/src/main/python/sql/streaming/__init__,py\n",
            "spark-3.5.1-bin-hadoop3/examples/src/main/python/sql/streaming/structured_network_wordcount_session_window.py\n",
            "spark-3.5.1-bin-hadoop3/examples/src/main/python/sql/streaming/structured_network_wordcount_windowed.py\n",
            "spark-3.5.1-bin-hadoop3/examples/src/main/python/sql/streaming/structured_network_wordcount.py\n",
            "spark-3.5.1-bin-hadoop3/examples/src/main/python/sql/streaming/structured_sessionization.py\n",
            "spark-3.5.1-bin-hadoop3/examples/src/main/python/sql/streaming/structured_kafka_wordcount.py\n",
            "spark-3.5.1-bin-hadoop3/examples/src/main/python/sql/arrow.py\n",
            "spark-3.5.1-bin-hadoop3/examples/src/main/python/sql/udtf.py\n",
            "spark-3.5.1-bin-hadoop3/examples/src/main/python/sql/basic.py\n",
            "spark-3.5.1-bin-hadoop3/examples/src/main/python/sql/hive.py\n",
            "spark-3.5.1-bin-hadoop3/examples/src/main/python/sql/__init__.py\n",
            "spark-3.5.1-bin-hadoop3/examples/src/main/python/wordcount.py\n",
            "spark-3.5.1-bin-hadoop3/examples/src/main/python/pagerank.py\n",
            "spark-3.5.1-bin-hadoop3/examples/src/main/python/kmeans.py\n",
            "spark-3.5.1-bin-hadoop3/examples/src/main/python/mllib/\n",
            "spark-3.5.1-bin-hadoop3/examples/src/main/python/mllib/tf_idf_example.py\n",
            "spark-3.5.1-bin-hadoop3/examples/src/main/python/mllib/kernel_density_estimation_example.py\n",
            "spark-3.5.1-bin-hadoop3/examples/src/main/python/mllib/decision_tree_regression_example.py\n",
            "spark-3.5.1-bin-hadoop3/examples/src/main/python/mllib/random_forest_regression_example.py\n",
            "spark-3.5.1-bin-hadoop3/examples/src/main/python/mllib/random_forest_classification_example.py\n",
            "spark-3.5.1-bin-hadoop3/examples/src/main/python/mllib/sampled_rdds.py\n",
            "spark-3.5.1-bin-hadoop3/examples/src/main/python/mllib/recommendation_example.py\n",
            "spark-3.5.1-bin-hadoop3/examples/src/main/python/mllib/power_iteration_clustering_example.py\n",
            "spark-3.5.1-bin-hadoop3/examples/src/main/python/mllib/linear_regression_with_sgd_example.py\n",
            "spark-3.5.1-bin-hadoop3/examples/src/main/python/mllib/latent_dirichlet_allocation_example.py\n",
            "spark-3.5.1-bin-hadoop3/examples/src/main/python/mllib/isotonic_regression_example.py\n",
            "spark-3.5.1-bin-hadoop3/examples/src/main/python/mllib/correlations_example.py\n",
            "spark-3.5.1-bin-hadoop3/examples/src/main/python/mllib/logistic_regression_with_lbfgs_example.py\n",
            "spark-3.5.1-bin-hadoop3/examples/src/main/python/mllib/gradient_boosting_regression_example.py\n",
            "spark-3.5.1-bin-hadoop3/examples/src/main/python/mllib/ranking_metrics_example.py\n",
            "spark-3.5.1-bin-hadoop3/examples/src/main/python/mllib/binary_classification_metrics_example.py\n",
            "spark-3.5.1-bin-hadoop3/examples/src/main/python/mllib/hypothesis_testing_example.py\n",
            "spark-3.5.1-bin-hadoop3/examples/src/main/python/mllib/regression_metrics_example.py\n",
            "spark-3.5.1-bin-hadoop3/examples/src/main/python/mllib/decision_tree_classification_example.py\n",
            "spark-3.5.1-bin-hadoop3/examples/src/main/python/mllib/random_rdd_generation.py\n",
            "spark-3.5.1-bin-hadoop3/examples/src/main/python/mllib/hypothesis_testing_kolmogorov_smirnov_test_example.py\n",
            "spark-3.5.1-bin-hadoop3/examples/src/main/python/mllib/multi_label_metrics_example.py\n",
            "spark-3.5.1-bin-hadoop3/examples/src/main/python/mllib/streaming_linear_regression_example.py\n",
            "spark-3.5.1-bin-hadoop3/examples/src/main/python/mllib/summary_statistics_example.py\n",
            "spark-3.5.1-bin-hadoop3/examples/src/main/python/mllib/standard_scaler_example.py\n",
            "spark-3.5.1-bin-hadoop3/examples/src/main/python/mllib/bisecting_k_means_example.py\n",
            "spark-3.5.1-bin-hadoop3/examples/src/main/python/mllib/stratified_sampling_example.py\n",
            "spark-3.5.1-bin-hadoop3/examples/src/main/python/mllib/kmeans.py\n",
            "spark-3.5.1-bin-hadoop3/examples/src/main/python/mllib/word2vec.py\n",
            "spark-3.5.1-bin-hadoop3/examples/src/main/python/mllib/gaussian_mixture_model.py\n",
            "spark-3.5.1-bin-hadoop3/examples/src/main/python/mllib/normalizer_example.py\n",
            "spark-3.5.1-bin-hadoop3/examples/src/main/python/mllib/svd_example.py\n",
            "spark-3.5.1-bin-hadoop3/examples/src/main/python/mllib/pca_rowmatrix_example.py\n",
            "spark-3.5.1-bin-hadoop3/examples/src/main/python/mllib/elementwise_product_example.py\n",
            "spark-3.5.1-bin-hadoop3/examples/src/main/python/mllib/k_means_example.py\n",
            "spark-3.5.1-bin-hadoop3/examples/src/main/python/mllib/naive_bayes_example.py\n",
            "spark-3.5.1-bin-hadoop3/examples/src/main/python/mllib/multi_class_metrics_example.py\n",
            "spark-3.5.1-bin-hadoop3/examples/src/main/python/mllib/gradient_boosting_classification_example.py\n",
            "spark-3.5.1-bin-hadoop3/examples/src/main/python/mllib/svm_with_sgd_example.py\n",
            "spark-3.5.1-bin-hadoop3/examples/src/main/python/mllib/__init__.py\n",
            "spark-3.5.1-bin-hadoop3/examples/src/main/python/mllib/streaming_k_means_example.py\n",
            "spark-3.5.1-bin-hadoop3/examples/src/main/python/mllib/gaussian_mixture_example.py\n",
            "spark-3.5.1-bin-hadoop3/examples/src/main/python/mllib/correlations.py\n",
            "spark-3.5.1-bin-hadoop3/examples/src/main/python/mllib/logistic_regression.py\n",
            "spark-3.5.1-bin-hadoop3/examples/src/main/python/mllib/fpgrowth_example.py\n",
            "spark-3.5.1-bin-hadoop3/examples/src/main/python/mllib/word2vec_example.py\n",
            "spark-3.5.1-bin-hadoop3/examples/src/main/python/sort.py\n",
            "spark-3.5.1-bin-hadoop3/examples/src/main/python/pi.py\n",
            "spark-3.5.1-bin-hadoop3/examples/src/main/python/als.py\n",
            "spark-3.5.1-bin-hadoop3/examples/src/main/python/__init__.py\n",
            "spark-3.5.1-bin-hadoop3/examples/src/main/python/status_api_demo.py\n",
            "spark-3.5.1-bin-hadoop3/examples/src/main/python/logistic_regression.py\n",
            "spark-3.5.1-bin-hadoop3/examples/src/main/python/parquet_inputformat.py\n",
            "spark-3.5.1-bin-hadoop3/NOTICE\n",
            "spark-3.5.1-bin-hadoop3/conf/\n",
            "spark-3.5.1-bin-hadoop3/conf/log4j2.properties.template\n",
            "spark-3.5.1-bin-hadoop3/conf/workers.template\n",
            "spark-3.5.1-bin-hadoop3/conf/spark-env.sh.template\n",
            "spark-3.5.1-bin-hadoop3/conf/metrics.properties.template\n",
            "spark-3.5.1-bin-hadoop3/conf/spark-defaults.conf.template\n",
            "spark-3.5.1-bin-hadoop3/conf/fairscheduler.xml.template\n",
            "spark-3.5.1-bin-hadoop3/bin/\n",
            "spark-3.5.1-bin-hadoop3/bin/run-example\n",
            "spark-3.5.1-bin-hadoop3/bin/spark-shell.cmd\n",
            "spark-3.5.1-bin-hadoop3/bin/spark-class\n",
            "spark-3.5.1-bin-hadoop3/bin/sparkR\n",
            "spark-3.5.1-bin-hadoop3/bin/beeline\n",
            "spark-3.5.1-bin-hadoop3/bin/spark-shell2.cmd\n",
            "spark-3.5.1-bin-hadoop3/bin/find-spark-home\n",
            "spark-3.5.1-bin-hadoop3/bin/pyspark.cmd\n",
            "spark-3.5.1-bin-hadoop3/bin/spark-submit2.cmd\n",
            "spark-3.5.1-bin-hadoop3/bin/pyspark2.cmd\n",
            "spark-3.5.1-bin-hadoop3/bin/spark-connect-shell\n",
            "spark-3.5.1-bin-hadoop3/bin/docker-image-tool.sh\n",
            "spark-3.5.1-bin-hadoop3/bin/load-spark-env.cmd\n",
            "spark-3.5.1-bin-hadoop3/bin/spark-sql.cmd\n",
            "spark-3.5.1-bin-hadoop3/bin/find-spark-home.cmd\n",
            "spark-3.5.1-bin-hadoop3/bin/beeline.cmd\n",
            "spark-3.5.1-bin-hadoop3/bin/spark-class.cmd\n",
            "spark-3.5.1-bin-hadoop3/bin/sparkR2.cmd\n",
            "spark-3.5.1-bin-hadoop3/bin/spark-sql2.cmd\n",
            "spark-3.5.1-bin-hadoop3/bin/spark-sql\n",
            "spark-3.5.1-bin-hadoop3/bin/sparkR.cmd\n",
            "spark-3.5.1-bin-hadoop3/bin/spark-submit\n",
            "spark-3.5.1-bin-hadoop3/bin/spark-shell\n",
            "spark-3.5.1-bin-hadoop3/bin/spark-submit.cmd\n",
            "spark-3.5.1-bin-hadoop3/bin/pyspark\n",
            "spark-3.5.1-bin-hadoop3/bin/run-example.cmd\n",
            "spark-3.5.1-bin-hadoop3/bin/load-spark-env.sh\n",
            "spark-3.5.1-bin-hadoop3/bin/spark-class2.cmd\n",
            "spark-3.5.1-bin-hadoop3/kubernetes/\n",
            "spark-3.5.1-bin-hadoop3/kubernetes/tests/\n",
            "spark-3.5.1-bin-hadoop3/kubernetes/tests/decommissioning.py\n",
            "spark-3.5.1-bin-hadoop3/kubernetes/tests/autoscale.py\n",
            "spark-3.5.1-bin-hadoop3/kubernetes/tests/python_executable_check.py\n",
            "spark-3.5.1-bin-hadoop3/kubernetes/tests/worker_memory_check.py\n",
            "spark-3.5.1-bin-hadoop3/kubernetes/tests/py_container_checks.py\n",
            "spark-3.5.1-bin-hadoop3/kubernetes/tests/pyfiles.py\n",
            "spark-3.5.1-bin-hadoop3/kubernetes/tests/decommissioning_cleanup.py\n",
            "spark-3.5.1-bin-hadoop3/kubernetes/dockerfiles/\n",
            "spark-3.5.1-bin-hadoop3/kubernetes/dockerfiles/spark/\n",
            "spark-3.5.1-bin-hadoop3/kubernetes/dockerfiles/spark/decom.sh\n",
            "spark-3.5.1-bin-hadoop3/kubernetes/dockerfiles/spark/Dockerfile\n",
            "spark-3.5.1-bin-hadoop3/kubernetes/dockerfiles/spark/entrypoint.sh\n",
            "spark-3.5.1-bin-hadoop3/kubernetes/dockerfiles/spark/bindings/\n",
            "spark-3.5.1-bin-hadoop3/kubernetes/dockerfiles/spark/bindings/python/\n",
            "spark-3.5.1-bin-hadoop3/kubernetes/dockerfiles/spark/bindings/python/Dockerfile\n",
            "spark-3.5.1-bin-hadoop3/kubernetes/dockerfiles/spark/bindings/R/\n",
            "spark-3.5.1-bin-hadoop3/kubernetes/dockerfiles/spark/bindings/R/Dockerfile\n",
            "spark-3.5.1-bin-hadoop3/README.md\n",
            "spark-3.5.1-bin-hadoop3/LICENSE\n",
            "spark-3.5.1-bin-hadoop3/yarn/\n",
            "spark-3.5.1-bin-hadoop3/yarn/spark-3.5.1-yarn-shuffle.jar\n",
            "spark-3.5.1-bin-hadoop3/python/\n",
            "spark-3.5.1-bin-hadoop3/python/setup.py\n",
            "spark-3.5.1-bin-hadoop3/python/MANIFEST.in\n",
            "spark-3.5.1-bin-hadoop3/python/test_coverage/\n",
            "spark-3.5.1-bin-hadoop3/python/test_coverage/sitecustomize.py\n",
            "spark-3.5.1-bin-hadoop3/python/test_coverage/conf/\n",
            "spark-3.5.1-bin-hadoop3/python/test_coverage/conf/spark-defaults.conf\n",
            "spark-3.5.1-bin-hadoop3/python/test_coverage/coverage_daemon.py\n",
            "spark-3.5.1-bin-hadoop3/python/test_support/\n",
            "spark-3.5.1-bin-hadoop3/python/test_support/hello/\n",
            "spark-3.5.1-bin-hadoop3/python/test_support/hello/hello.txt\n",
            "spark-3.5.1-bin-hadoop3/python/test_support/hello/sub_hello/\n",
            "spark-3.5.1-bin-hadoop3/python/test_support/hello/sub_hello/sub_hello.txt\n",
            "spark-3.5.1-bin-hadoop3/python/test_support/userlib-0.1.zip\n",
            "spark-3.5.1-bin-hadoop3/python/test_support/test_pytorch_training_file.py\n",
            "spark-3.5.1-bin-hadoop3/python/test_support/sql/\n",
            "spark-3.5.1-bin-hadoop3/python/test_support/sql/people_array.json\n",
            "spark-3.5.1-bin-hadoop3/python/test_support/sql/streaming/\n",
            "spark-3.5.1-bin-hadoop3/python/test_support/sql/streaming/text-test.txt\n",
            "spark-3.5.1-bin-hadoop3/python/test_support/sql/orc_partitioned/\n",
            "spark-3.5.1-bin-hadoop3/python/test_support/sql/orc_partitioned/_SUCCESS\n",
            "spark-3.5.1-bin-hadoop3/python/test_support/sql/orc_partitioned/b=0/\n",
            "spark-3.5.1-bin-hadoop3/python/test_support/sql/orc_partitioned/b=0/c=0/\n",
            "spark-3.5.1-bin-hadoop3/python/test_support/sql/orc_partitioned/b=0/c=0/.part-r-00000-829af031-b970-49d6-ad39-30460a0be2c8.orc.crc\n",
            "spark-3.5.1-bin-hadoop3/python/test_support/sql/orc_partitioned/b=0/c=0/part-r-00000-829af031-b970-49d6-ad39-30460a0be2c8.orc\n",
            "spark-3.5.1-bin-hadoop3/python/test_support/sql/orc_partitioned/b=1/\n",
            "spark-3.5.1-bin-hadoop3/python/test_support/sql/orc_partitioned/b=1/c=1/\n",
            "spark-3.5.1-bin-hadoop3/python/test_support/sql/orc_partitioned/b=1/c=1/.part-r-00000-829af031-b970-49d6-ad39-30460a0be2c8.orc.crc\n",
            "spark-3.5.1-bin-hadoop3/python/test_support/sql/orc_partitioned/b=1/c=1/part-r-00000-829af031-b970-49d6-ad39-30460a0be2c8.orc\n",
            "spark-3.5.1-bin-hadoop3/python/test_support/sql/text-test.txt\n",
            "spark-3.5.1-bin-hadoop3/python/test_support/sql/people_array_utf16le.json\n",
            "spark-3.5.1-bin-hadoop3/python/test_support/sql/people1.json\n",
            "spark-3.5.1-bin-hadoop3/python/test_support/sql/ages_newlines.csv\n",
            "spark-3.5.1-bin-hadoop3/python/test_support/sql/people.json\n",
            "spark-3.5.1-bin-hadoop3/python/test_support/SimpleHTTPServer.py\n",
            "spark-3.5.1-bin-hadoop3/python/test_support/userlibrary.py\n",
            "spark-3.5.1-bin-hadoop3/python/pyspark.egg-info/\n",
            "spark-3.5.1-bin-hadoop3/python/pyspark.egg-info/SOURCES.txt\n",
            "spark-3.5.1-bin-hadoop3/python/pyspark.egg-info/top_level.txt\n",
            "spark-3.5.1-bin-hadoop3/python/pyspark.egg-info/PKG-INFO\n",
            "spark-3.5.1-bin-hadoop3/python/pyspark.egg-info/requires.txt\n",
            "spark-3.5.1-bin-hadoop3/python/pyspark.egg-info/dependency_links.txt\n",
            "spark-3.5.1-bin-hadoop3/python/run-tests.py\n",
            "spark-3.5.1-bin-hadoop3/python/setup.cfg\n",
            "spark-3.5.1-bin-hadoop3/python/run-tests\n",
            "spark-3.5.1-bin-hadoop3/python/lib/\n",
            "spark-3.5.1-bin-hadoop3/python/lib/py4j-0.10.9.7-src.zip\n",
            "spark-3.5.1-bin-hadoop3/python/lib/PY4J_LICENSE.txt\n",
            "spark-3.5.1-bin-hadoop3/python/lib/pyspark.zip\n",
            "spark-3.5.1-bin-hadoop3/python/.coveragerc\n",
            "spark-3.5.1-bin-hadoop3/python/docs/\n",
            "spark-3.5.1-bin-hadoop3/python/docs/make.bat\n",
            "spark-3.5.1-bin-hadoop3/python/docs/source/\n",
            "spark-3.5.1-bin-hadoop3/python/docs/source/getting_started/\n",
            "spark-3.5.1-bin-hadoop3/python/docs/source/getting_started/quickstart_connect.ipynb\n",
            "spark-3.5.1-bin-hadoop3/python/docs/source/getting_started/testing_pyspark.ipynb\n",
            "spark-3.5.1-bin-hadoop3/python/docs/source/getting_started/install.rst\n",
            "spark-3.5.1-bin-hadoop3/python/docs/source/getting_started/quickstart_ps.ipynb\n",
            "spark-3.5.1-bin-hadoop3/python/docs/source/getting_started/quickstart_df.ipynb\n",
            "spark-3.5.1-bin-hadoop3/python/docs/source/getting_started/index.rst\n",
            "spark-3.5.1-bin-hadoop3/python/docs/source/user_guide/\n",
            "spark-3.5.1-bin-hadoop3/python/docs/source/user_guide/arrow_pandas.rst\n",
            "spark-3.5.1-bin-hadoop3/python/docs/source/user_guide/pandas_on_spark/\n",
            "spark-3.5.1-bin-hadoop3/python/docs/source/user_guide/pandas_on_spark/types.rst\n",
            "spark-3.5.1-bin-hadoop3/python/docs/source/user_guide/pandas_on_spark/from_to_dbms.rst\n",
            "spark-3.5.1-bin-hadoop3/python/docs/source/user_guide/pandas_on_spark/best_practices.rst\n",
            "spark-3.5.1-bin-hadoop3/python/docs/source/user_guide/pandas_on_spark/typehints.rst\n",
            "spark-3.5.1-bin-hadoop3/python/docs/source/user_guide/pandas_on_spark/faq.rst\n",
            "spark-3.5.1-bin-hadoop3/python/docs/source/user_guide/pandas_on_spark/options.rst\n",
            "spark-3.5.1-bin-hadoop3/python/docs/source/user_guide/pandas_on_spark/pandas_pyspark.rst\n",
            "spark-3.5.1-bin-hadoop3/python/docs/source/user_guide/pandas_on_spark/index.rst\n",
            "spark-3.5.1-bin-hadoop3/python/docs/source/user_guide/pandas_on_spark/transform_apply.rst\n",
            "spark-3.5.1-bin-hadoop3/python/docs/source/user_guide/sql/\n",
            "spark-3.5.1-bin-hadoop3/python/docs/source/user_guide/sql/arrow_pandas.rst\n",
            "spark-3.5.1-bin-hadoop3/python/docs/source/user_guide/sql/python_udtf.rst\n",
            "spark-3.5.1-bin-hadoop3/python/docs/source/user_guide/sql/index.rst\n",
            "spark-3.5.1-bin-hadoop3/python/docs/source/user_guide/python_packaging.rst\n",
            "spark-3.5.1-bin-hadoop3/python/docs/source/user_guide/index.rst\n",
            "spark-3.5.1-bin-hadoop3/python/docs/source/migration_guide/\n",
            "spark-3.5.1-bin-hadoop3/python/docs/source/migration_guide/pyspark_upgrade.rst\n",
            "spark-3.5.1-bin-hadoop3/python/docs/source/migration_guide/koalas_to_pyspark.rst\n",
            "spark-3.5.1-bin-hadoop3/python/docs/source/migration_guide/index.rst\n",
            "spark-3.5.1-bin-hadoop3/python/docs/source/conf.py\n",
            "spark-3.5.1-bin-hadoop3/python/docs/source/_templates/\n",
            "spark-3.5.1-bin-hadoop3/python/docs/source/_templates/version-switcher.html\n",
            "spark-3.5.1-bin-hadoop3/python/docs/source/_templates/autosummary/\n",
            "spark-3.5.1-bin-hadoop3/python/docs/source/_templates/autosummary/class.rst\n",
            "spark-3.5.1-bin-hadoop3/python/docs/source/_templates/autosummary/class_with_docs.rst\n",
            "spark-3.5.1-bin-hadoop3/python/docs/source/development/\n",
            "spark-3.5.1-bin-hadoop3/python/docs/source/development/debugging.rst\n",
            "spark-3.5.1-bin-hadoop3/python/docs/source/development/setting_ide.rst\n",
            "spark-3.5.1-bin-hadoop3/python/docs/source/development/errors.rst\n",
            "spark-3.5.1-bin-hadoop3/python/docs/source/development/testing.rst\n",
            "spark-3.5.1-bin-hadoop3/python/docs/source/development/index.rst\n",
            "spark-3.5.1-bin-hadoop3/python/docs/source/development/contributing.rst\n",
            "spark-3.5.1-bin-hadoop3/python/docs/source/reference/\n",
            "spark-3.5.1-bin-hadoop3/python/docs/source/reference/pyspark.mllib.rst\n",
            "spark-3.5.1-bin-hadoop3/python/docs/source/reference/pyspark.ss/\n",
            "spark-3.5.1-bin-hadoop3/python/docs/source/reference/pyspark.ss/query_management.rst\n",
            "spark-3.5.1-bin-hadoop3/python/docs/source/reference/pyspark.ss/core_classes.rst\n",
            "spark-3.5.1-bin-hadoop3/python/docs/source/reference/pyspark.ss/io.rst\n",
            "spark-3.5.1-bin-hadoop3/python/docs/source/reference/pyspark.ss/index.rst\n",
            "spark-3.5.1-bin-hadoop3/python/docs/source/reference/pyspark.rst\n",
            "spark-3.5.1-bin-hadoop3/python/docs/source/reference/pyspark.errors.rst\n",
            "spark-3.5.1-bin-hadoop3/python/docs/source/reference/pyspark.sql/\n",
            "spark-3.5.1-bin-hadoop3/python/docs/source/reference/pyspark.sql/grouping.rst\n",
            "spark-3.5.1-bin-hadoop3/python/docs/source/reference/pyspark.sql/udtf.rst\n",
            "spark-3.5.1-bin-hadoop3/python/docs/source/reference/pyspark.sql/udf.rst\n",
            "spark-3.5.1-bin-hadoop3/python/docs/source/reference/pyspark.sql/observation.rst\n",
            "spark-3.5.1-bin-hadoop3/python/docs/source/reference/pyspark.sql/core_classes.rst\n",
            "spark-3.5.1-bin-hadoop3/python/docs/source/reference/pyspark.sql/io.rst\n",
            "spark-3.5.1-bin-hadoop3/python/docs/source/reference/pyspark.sql/dataframe.rst\n",
            "spark-3.5.1-bin-hadoop3/python/docs/source/reference/pyspark.sql/row.rst\n",
            "spark-3.5.1-bin-hadoop3/python/docs/source/reference/pyspark.sql/catalog.rst\n",
            "spark-3.5.1-bin-hadoop3/python/docs/source/reference/pyspark.sql/avro.rst\n",
            "spark-3.5.1-bin-hadoop3/python/docs/source/reference/pyspark.sql/protobuf.rst\n",
            "spark-3.5.1-bin-hadoop3/python/docs/source/reference/pyspark.sql/configuration.rst\n",
            "spark-3.5.1-bin-hadoop3/python/docs/source/reference/pyspark.sql/spark_session.rst\n",
            "spark-3.5.1-bin-hadoop3/python/docs/source/reference/pyspark.sql/window.rst\n",
            "spark-3.5.1-bin-hadoop3/python/docs/source/reference/pyspark.sql/column.rst\n",
            "spark-3.5.1-bin-hadoop3/python/docs/source/reference/pyspark.sql/functions.rst\n",
            "spark-3.5.1-bin-hadoop3/python/docs/source/reference/pyspark.sql/index.rst\n",
            "spark-3.5.1-bin-hadoop3/python/docs/source/reference/pyspark.sql/data_types.rst\n",
            "spark-3.5.1-bin-hadoop3/python/docs/source/reference/pyspark.streaming.rst\n",
            "spark-3.5.1-bin-hadoop3/python/docs/source/reference/pyspark.resource.rst\n",
            "spark-3.5.1-bin-hadoop3/python/docs/source/reference/pyspark.testing.rst\n",
            "spark-3.5.1-bin-hadoop3/python/docs/source/reference/pyspark.pandas/\n",
            "spark-3.5.1-bin-hadoop3/python/docs/source/reference/pyspark.pandas/ml.rst\n",
            "spark-3.5.1-bin-hadoop3/python/docs/source/reference/pyspark.pandas/general_functions.rst\n",
            "spark-3.5.1-bin-hadoop3/python/docs/source/reference/pyspark.pandas/indexing.rst\n",
            "spark-3.5.1-bin-hadoop3/python/docs/source/reference/pyspark.pandas/extensions.rst\n",
            "spark-3.5.1-bin-hadoop3/python/docs/source/reference/pyspark.pandas/io.rst\n",
            "spark-3.5.1-bin-hadoop3/python/docs/source/reference/pyspark.pandas/series.rst\n",
            "spark-3.5.1-bin-hadoop3/python/docs/source/reference/pyspark.pandas/frame.rst\n",
            "spark-3.5.1-bin-hadoop3/python/docs/source/reference/pyspark.pandas/groupby.rst\n",
            "spark-3.5.1-bin-hadoop3/python/docs/source/reference/pyspark.pandas/resampling.rst\n",
            "spark-3.5.1-bin-hadoop3/python/docs/source/reference/pyspark.pandas/window.rst\n",
            "spark-3.5.1-bin-hadoop3/python/docs/source/reference/pyspark.pandas/index.rst\n",
            "spark-3.5.1-bin-hadoop3/python/docs/source/reference/index.rst\n",
            "spark-3.5.1-bin-hadoop3/python/docs/source/reference/pyspark.ml.rst\n",
            "spark-3.5.1-bin-hadoop3/python/docs/source/index.rst\n",
            "spark-3.5.1-bin-hadoop3/python/docs/source/_static/\n",
            "spark-3.5.1-bin-hadoop3/python/docs/source/_static/css/\n",
            "spark-3.5.1-bin-hadoop3/python/docs/source/_static/css/pyspark.css\n",
            "spark-3.5.1-bin-hadoop3/python/docs/source/_static/versions.json\n",
            "spark-3.5.1-bin-hadoop3/python/docs/Makefile\n",
            "spark-3.5.1-bin-hadoop3/python/docs/make2.bat\n",
            "spark-3.5.1-bin-hadoop3/python/.gitignore\n",
            "spark-3.5.1-bin-hadoop3/python/dist/\n",
            "spark-3.5.1-bin-hadoop3/python/mypy.ini\n",
            "spark-3.5.1-bin-hadoop3/python/README.md\n",
            "spark-3.5.1-bin-hadoop3/python/run-tests-with-coverage\n",
            "spark-3.5.1-bin-hadoop3/python/pyspark/\n",
            "spark-3.5.1-bin-hadoop3/python/pyspark/resultiterable.py\n",
            "spark-3.5.1-bin-hadoop3/python/pyspark/status.py\n",
            "spark-3.5.1-bin-hadoop3/python/pyspark/statcounter.py\n",
            "spark-3.5.1-bin-hadoop3/python/pyspark/rdd.py\n",
            "spark-3.5.1-bin-hadoop3/python/pyspark/streaming/\n",
            "spark-3.5.1-bin-hadoop3/python/pyspark/streaming/kinesis.py\n",
            "spark-3.5.1-bin-hadoop3/python/pyspark/streaming/context.py\n",
            "spark-3.5.1-bin-hadoop3/python/pyspark/streaming/util.py\n",
            "spark-3.5.1-bin-hadoop3/python/pyspark/streaming/tests/\n",
            "spark-3.5.1-bin-hadoop3/python/pyspark/streaming/tests/test_context.py\n",
            "spark-3.5.1-bin-hadoop3/python/pyspark/streaming/tests/test_listener.py\n",
            "spark-3.5.1-bin-hadoop3/python/pyspark/streaming/tests/test_dstream.py\n",
            "spark-3.5.1-bin-hadoop3/python/pyspark/streaming/tests/test_kinesis.py\n",
            "spark-3.5.1-bin-hadoop3/python/pyspark/streaming/tests/__init__.py\n",
            "spark-3.5.1-bin-hadoop3/python/pyspark/streaming/listener.py\n",
            "spark-3.5.1-bin-hadoop3/python/pyspark/streaming/dstream.py\n",
            "spark-3.5.1-bin-hadoop3/python/pyspark/streaming/__init__.py\n",
            "spark-3.5.1-bin-hadoop3/python/pyspark/resource/\n",
            "spark-3.5.1-bin-hadoop3/python/pyspark/resource/requests.py\n",
            "spark-3.5.1-bin-hadoop3/python/pyspark/resource/profile.py\n",
            "spark-3.5.1-bin-hadoop3/python/pyspark/resource/tests/\n",
            "spark-3.5.1-bin-hadoop3/python/pyspark/resource/tests/test_resources.py\n",
            "spark-3.5.1-bin-hadoop3/python/pyspark/resource/tests/__init__.py\n",
            "spark-3.5.1-bin-hadoop3/python/pyspark/resource/information.py\n",
            "spark-3.5.1-bin-hadoop3/python/pyspark/resource/__init__.py\n",
            "spark-3.5.1-bin-hadoop3/python/pyspark/conf.py\n",
            "spark-3.5.1-bin-hadoop3/python/pyspark/join.py\n",
            "spark-3.5.1-bin-hadoop3/python/pyspark/ml/\n",
            "spark-3.5.1-bin-hadoop3/python/pyspark/ml/dl_util.py\n",
            "spark-3.5.1-bin-hadoop3/python/pyspark/ml/pipeline.py\n",
            "spark-3.5.1-bin-hadoop3/python/pyspark/ml/recommendation.py\n",
            "spark-3.5.1-bin-hadoop3/python/pyspark/ml/model_cache.py\n",
            "spark-3.5.1-bin-hadoop3/python/pyspark/ml/connect/\n",
            "spark-3.5.1-bin-hadoop3/python/pyspark/ml/connect/pipeline.py\n",
            "spark-3.5.1-bin-hadoop3/python/pyspark/ml/connect/functions.py\n",
            "spark-3.5.1-bin-hadoop3/python/pyspark/ml/connect/util.py\n",
            "spark-3.5.1-bin-hadoop3/python/pyspark/ml/connect/tuning.py\n",
            "spark-3.5.1-bin-hadoop3/python/pyspark/ml/connect/summarizer.py\n",
            "spark-3.5.1-bin-hadoop3/python/pyspark/ml/connect/evaluation.py\n",
            "spark-3.5.1-bin-hadoop3/python/pyspark/ml/connect/base.py\n",
            "spark-3.5.1-bin-hadoop3/python/pyspark/ml/connect/classification.py\n",
            "spark-3.5.1-bin-hadoop3/python/pyspark/ml/connect/feature.py\n",
            "spark-3.5.1-bin-hadoop3/python/pyspark/ml/connect/__init__.py\n",
            "spark-3.5.1-bin-hadoop3/python/pyspark/ml/connect/io_utils.py\n",
            "spark-3.5.1-bin-hadoop3/python/pyspark/ml/regression.py\n",
            "spark-3.5.1-bin-hadoop3/python/pyspark/ml/functions.py\n",
            "spark-3.5.1-bin-hadoop3/python/pyspark/ml/wrapper.py\n",
            "spark-3.5.1-bin-hadoop3/python/pyspark/ml/common.py\n",
            "spark-3.5.1-bin-hadoop3/python/pyspark/ml/util.py\n",
            "spark-3.5.1-bin-hadoop3/python/pyspark/ml/clustering.py\n",
            "spark-3.5.1-bin-hadoop3/python/pyspark/ml/param/\n",
            "spark-3.5.1-bin-hadoop3/python/pyspark/ml/param/_shared_params_code_gen.py\n",
            "spark-3.5.1-bin-hadoop3/python/pyspark/ml/param/__init__.py\n",
            "spark-3.5.1-bin-hadoop3/python/pyspark/ml/param/shared.py\n",
            "spark-3.5.1-bin-hadoop3/python/pyspark/ml/_typing.pyi\n",
            "spark-3.5.1-bin-hadoop3/python/pyspark/ml/tests/\n",
            "spark-3.5.1-bin-hadoop3/python/pyspark/ml/tests/test_base.py\n",
            "spark-3.5.1-bin-hadoop3/python/pyspark/ml/tests/test_training_summary.py\n",
            "spark-3.5.1-bin-hadoop3/python/pyspark/ml/tests/connect/\n",
            "spark-3.5.1-bin-hadoop3/python/pyspark/ml/tests/connect/test_connect_classification.py\n",
            "spark-3.5.1-bin-hadoop3/python/pyspark/ml/tests/connect/test_legacy_mode_classification.py\n",
            "spark-3.5.1-bin-hadoop3/python/pyspark/ml/tests/connect/test_connect_tuning.py\n",
            "spark-3.5.1-bin-hadoop3/python/pyspark/ml/tests/connect/test_legacy_mode_tuning.py\n",
            "spark-3.5.1-bin-hadoop3/python/pyspark/ml/tests/connect/test_connect_summarizer.py\n",
            "spark-3.5.1-bin-hadoop3/python/pyspark/ml/tests/connect/test_connect_evaluation.py\n",
            "spark-3.5.1-bin-hadoop3/python/pyspark/ml/tests/connect/test_parity_torch_distributor.py\n",
            "spark-3.5.1-bin-hadoop3/python/pyspark/ml/tests/connect/test_legacy_mode_evaluation.py\n",
            "spark-3.5.1-bin-hadoop3/python/pyspark/ml/tests/connect/test_legacy_mode_pipeline.py\n",
            "spark-3.5.1-bin-hadoop3/python/pyspark/ml/tests/connect/test_legacy_mode_feature.py\n",
            "spark-3.5.1-bin-hadoop3/python/pyspark/ml/tests/connect/test_legacy_mode_summarizer.py\n",
            "spark-3.5.1-bin-hadoop3/python/pyspark/ml/tests/connect/test_connect_function.py\n",
            "spark-3.5.1-bin-hadoop3/python/pyspark/ml/tests/connect/test_connect_feature.py\n",
            "spark-3.5.1-bin-hadoop3/python/pyspark/ml/tests/connect/test_connect_pipeline.py\n",
            "spark-3.5.1-bin-hadoop3/python/pyspark/ml/tests/connect/test_parity_torch_data_loader.py\n",
            "spark-3.5.1-bin-hadoop3/python/pyspark/ml/tests/test_persistence.py\n",
            "spark-3.5.1-bin-hadoop3/python/pyspark/ml/tests/test_pipeline.py\n",
            "spark-3.5.1-bin-hadoop3/python/pyspark/ml/tests/test_dl_util.py\n",
            "spark-3.5.1-bin-hadoop3/python/pyspark/ml/tests/test_functions.py\n",
            "spark-3.5.1-bin-hadoop3/python/pyspark/ml/tests/test_algorithms.py\n",
            "spark-3.5.1-bin-hadoop3/python/pyspark/ml/tests/test_image.py\n",
            "spark-3.5.1-bin-hadoop3/python/pyspark/ml/tests/typing/\n",
            "spark-3.5.1-bin-hadoop3/python/pyspark/ml/tests/typing/test_evaluation.yml\n",
            "spark-3.5.1-bin-hadoop3/python/pyspark/ml/tests/typing/test_param.yml\n",
            "spark-3.5.1-bin-hadoop3/python/pyspark/ml/tests/typing/test_readable.yml\n",
            "spark-3.5.1-bin-hadoop3/python/pyspark/ml/tests/typing/test_clustering.yaml\n",
            "spark-3.5.1-bin-hadoop3/python/pyspark/ml/tests/typing/test_regression.yml\n",
            "spark-3.5.1-bin-hadoop3/python/pyspark/ml/tests/typing/test_feature.yml\n",
            "spark-3.5.1-bin-hadoop3/python/pyspark/ml/tests/typing/test_classification.yml\n",
            "spark-3.5.1-bin-hadoop3/python/pyspark/ml/tests/test_feature.py\n",
            "spark-3.5.1-bin-hadoop3/python/pyspark/ml/tests/test_util.py\n",
            "spark-3.5.1-bin-hadoop3/python/pyspark/ml/tests/tuning/\n",
            "spark-3.5.1-bin-hadoop3/python/pyspark/ml/tests/tuning/test_tvs_io_nested.py\n",
            "spark-3.5.1-bin-hadoop3/python/pyspark/ml/tests/tuning/test_cv_io_basic.py\n",
            "spark-3.5.1-bin-hadoop3/python/pyspark/ml/tests/tuning/test_tuning.py\n",
            "spark-3.5.1-bin-hadoop3/python/pyspark/ml/tests/tuning/test_cv_io_nested.py\n",
            "spark-3.5.1-bin-hadoop3/python/pyspark/ml/tests/tuning/test_tvs_io_basic.py\n",
            "spark-3.5.1-bin-hadoop3/python/pyspark/ml/tests/tuning/test_tvs_io_pipeline.py\n",
            "spark-3.5.1-bin-hadoop3/python/pyspark/ml/tests/tuning/__init__.py\n",
            "spark-3.5.1-bin-hadoop3/python/pyspark/ml/tests/tuning/test_cv_io_pipeline.py\n",
            "spark-3.5.1-bin-hadoop3/python/pyspark/ml/tests/test_linalg.py\n",
            "spark-3.5.1-bin-hadoop3/python/pyspark/ml/tests/test_evaluation.py\n",
            "spark-3.5.1-bin-hadoop3/python/pyspark/ml/tests/test_stat.py\n",
            "spark-3.5.1-bin-hadoop3/python/pyspark/ml/tests/test_param.py\n",
            "spark-3.5.1-bin-hadoop3/python/pyspark/ml/tests/test_wrapper.py\n",
            "spark-3.5.1-bin-hadoop3/python/pyspark/ml/tests/__init__.py\n",
            "spark-3.5.1-bin-hadoop3/python/pyspark/ml/tests/test_model_cache.py\n",
            "spark-3.5.1-bin-hadoop3/python/pyspark/ml/tuning.py\n",
            "spark-3.5.1-bin-hadoop3/python/pyspark/ml/linalg/\n",
            "spark-3.5.1-bin-hadoop3/python/pyspark/ml/linalg/__init__.py\n",
            "spark-3.5.1-bin-hadoop3/python/pyspark/ml/image.py\n",
            "spark-3.5.1-bin-hadoop3/python/pyspark/ml/evaluation.py\n",
            "spark-3.5.1-bin-hadoop3/python/pyspark/ml/torch/\n",
            "spark-3.5.1-bin-hadoop3/python/pyspark/ml/torch/tests/\n",
            "spark-3.5.1-bin-hadoop3/python/pyspark/ml/torch/tests/test_data_loader.py\n",
            "spark-3.5.1-bin-hadoop3/python/pyspark/ml/torch/tests/test_log_communication.py\n",
            "spark-3.5.1-bin-hadoop3/python/pyspark/ml/torch/tests/test_distributor.py\n",
            "spark-3.5.1-bin-hadoop3/python/pyspark/ml/torch/tests/__init__.py\n",
            "spark-3.5.1-bin-hadoop3/python/pyspark/ml/torch/data.py\n",
            "spark-3.5.1-bin-hadoop3/python/pyspark/ml/torch/distributor.py\n",
            "spark-3.5.1-bin-hadoop3/python/pyspark/ml/torch/torch_run_process_wrapper.py\n",
            "spark-3.5.1-bin-hadoop3/python/pyspark/ml/torch/log_communication.py\n",
            "spark-3.5.1-bin-hadoop3/python/pyspark/ml/torch/__init__.py\n",
            "spark-3.5.1-bin-hadoop3/python/pyspark/ml/base.py\n",
            "spark-3.5.1-bin-hadoop3/python/pyspark/ml/classification.py\n",
            "spark-3.5.1-bin-hadoop3/python/pyspark/ml/deepspeed/\n",
            "spark-3.5.1-bin-hadoop3/python/pyspark/ml/deepspeed/tests/\n",
            "spark-3.5.1-bin-hadoop3/python/pyspark/ml/deepspeed/tests/test_deepspeed_distributor.py\n",
            "spark-3.5.1-bin-hadoop3/python/pyspark/ml/deepspeed/__init__.py\n",
            "spark-3.5.1-bin-hadoop3/python/pyspark/ml/deepspeed/deepspeed_distributor.py\n",
            "spark-3.5.1-bin-hadoop3/python/pyspark/ml/stat.py\n",
            "spark-3.5.1-bin-hadoop3/python/pyspark/ml/feature.py\n",
            "spark-3.5.1-bin-hadoop3/python/pyspark/ml/fpm.py\n",
            "spark-3.5.1-bin-hadoop3/python/pyspark/ml/__init__.py\n",
            "spark-3.5.1-bin-hadoop3/python/pyspark/ml/tree.py\n",
            "spark-3.5.1-bin-hadoop3/python/pyspark/sql/\n",
            "spark-3.5.1-bin-hadoop3/python/pyspark/sql/sql_formatter.py\n",
            "spark-3.5.1-bin-hadoop3/python/pyspark/sql/connect/\n",
            "spark-3.5.1-bin-hadoop3/python/pyspark/sql/connect/proto/\n",
            "spark-3.5.1-bin-hadoop3/python/pyspark/sql/connect/proto/expressions_pb2.pyi\n",
            "spark-3.5.1-bin-hadoop3/python/pyspark/sql/connect/proto/commands_pb2.pyi\n",
            "spark-3.5.1-bin-hadoop3/python/pyspark/sql/connect/proto/example_plugins_pb2.py\n",
            "spark-3.5.1-bin-hadoop3/python/pyspark/sql/connect/proto/types_pb2.py\n",
            "spark-3.5.1-bin-hadoop3/python/pyspark/sql/connect/proto/base_pb2.pyi\n",
            "spark-3.5.1-bin-hadoop3/python/pyspark/sql/connect/proto/base_pb2.py\n",
            "spark-3.5.1-bin-hadoop3/python/pyspark/sql/connect/proto/example_plugins_pb2.pyi\n",
            "spark-3.5.1-bin-hadoop3/python/pyspark/sql/connect/proto/commands_pb2.py\n",
            "spark-3.5.1-bin-hadoop3/python/pyspark/sql/connect/proto/common_pb2.py\n",
            "spark-3.5.1-bin-hadoop3/python/pyspark/sql/connect/proto/relations_pb2.pyi\n",
            "spark-3.5.1-bin-hadoop3/python/pyspark/sql/connect/proto/relations_pb2.py\n",
            "spark-3.5.1-bin-hadoop3/python/pyspark/sql/connect/proto/base_pb2_grpc.py\n",
            "spark-3.5.1-bin-hadoop3/python/pyspark/sql/connect/proto/expressions_pb2.py\n",
            "spark-3.5.1-bin-hadoop3/python/pyspark/sql/connect/proto/common_pb2.pyi\n",
            "spark-3.5.1-bin-hadoop3/python/pyspark/sql/connect/proto/catalog_pb2.py\n",
            "spark-3.5.1-bin-hadoop3/python/pyspark/sql/connect/proto/__init__.py\n",
            "spark-3.5.1-bin-hadoop3/python/pyspark/sql/connect/proto/types_pb2.pyi\n",
            "spark-3.5.1-bin-hadoop3/python/pyspark/sql/connect/proto/catalog_pb2.pyi\n",
            "spark-3.5.1-bin-hadoop3/python/pyspark/sql/connect/column.py\n",
            "spark-3.5.1-bin-hadoop3/python/pyspark/sql/connect/streaming/\n",
            "spark-3.5.1-bin-hadoop3/python/pyspark/sql/connect/streaming/query.py\n",
            "spark-3.5.1-bin-hadoop3/python/pyspark/sql/connect/streaming/readwriter.py\n",
            "spark-3.5.1-bin-hadoop3/python/pyspark/sql/connect/streaming/worker/\n",
            "spark-3.5.1-bin-hadoop3/python/pyspark/sql/connect/streaming/worker/listener_worker.py\n",
            "spark-3.5.1-bin-hadoop3/python/pyspark/sql/connect/streaming/worker/foreach_batch_worker.py\n",
            "spark-3.5.1-bin-hadoop3/python/pyspark/sql/connect/streaming/worker/__init__.py\n",
            "spark-3.5.1-bin-hadoop3/python/pyspark/sql/connect/streaming/__init__.py\n",
            "spark-3.5.1-bin-hadoop3/python/pyspark/sql/connect/functions.py\n",
            "spark-3.5.1-bin-hadoop3/python/pyspark/sql/connect/conf.py\n",
            "spark-3.5.1-bin-hadoop3/python/pyspark/sql/connect/udf.py\n",
            "spark-3.5.1-bin-hadoop3/python/pyspark/sql/connect/plan.py\n",
            "spark-3.5.1-bin-hadoop3/python/pyspark/sql/connect/client/\n",
            "spark-3.5.1-bin-hadoop3/python/pyspark/sql/connect/client/artifact.py\n",
            "spark-3.5.1-bin-hadoop3/python/pyspark/sql/connect/client/reattach.py\n",
            "spark-3.5.1-bin-hadoop3/python/pyspark/sql/connect/client/core.py\n",
            "spark-3.5.1-bin-hadoop3/python/pyspark/sql/connect/client/__init__.py\n",
            "spark-3.5.1-bin-hadoop3/python/pyspark/sql/connect/conversion.py\n",
            "spark-3.5.1-bin-hadoop3/python/pyspark/sql/connect/session.py\n",
            "spark-3.5.1-bin-hadoop3/python/pyspark/sql/connect/group.py\n",
            "spark-3.5.1-bin-hadoop3/python/pyspark/sql/connect/udtf.py\n",
            "spark-3.5.1-bin-hadoop3/python/pyspark/sql/connect/_typing.py\n",
            "spark-3.5.1-bin-hadoop3/python/pyspark/sql/connect/avro/\n",
            "spark-3.5.1-bin-hadoop3/python/pyspark/sql/connect/avro/functions.py\n",
            "spark-3.5.1-bin-hadoop3/python/pyspark/sql/connect/avro/__init__.py\n",
            "spark-3.5.1-bin-hadoop3/python/pyspark/sql/connect/protobuf/\n",
            "spark-3.5.1-bin-hadoop3/python/pyspark/sql/connect/protobuf/functions.py\n",
            "spark-3.5.1-bin-hadoop3/python/pyspark/sql/connect/protobuf/__init__.py\n",
            "spark-3.5.1-bin-hadoop3/python/pyspark/sql/connect/window.py\n",
            "spark-3.5.1-bin-hadoop3/python/pyspark/sql/connect/catalog.py\n",
            "spark-3.5.1-bin-hadoop3/python/pyspark/sql/connect/utils.py\n",
            "spark-3.5.1-bin-hadoop3/python/pyspark/sql/connect/readwriter.py\n",
            "spark-3.5.1-bin-hadoop3/python/pyspark/sql/connect/expressions.py\n",
            "spark-3.5.1-bin-hadoop3/python/pyspark/sql/connect/dataframe.py\n",
            "spark-3.5.1-bin-hadoop3/python/pyspark/sql/connect/types.py\n",
            "spark-3.5.1-bin-hadoop3/python/pyspark/sql/connect/__init__.py\n",
            "spark-3.5.1-bin-hadoop3/python/pyspark/sql/column.py\n",
            "spark-3.5.1-bin-hadoop3/python/pyspark/sql/streaming/\n",
            "spark-3.5.1-bin-hadoop3/python/pyspark/sql/streaming/query.py\n",
            "spark-3.5.1-bin-hadoop3/python/pyspark/sql/streaming/state.py\n",
            "spark-3.5.1-bin-hadoop3/python/pyspark/sql/streaming/listener.py\n",
            "spark-3.5.1-bin-hadoop3/python/pyspark/sql/streaming/readwriter.py\n",
            "spark-3.5.1-bin-hadoop3/python/pyspark/sql/streaming/__init__.py\n",
            "spark-3.5.1-bin-hadoop3/python/pyspark/sql/functions.py\n",
            "spark-3.5.1-bin-hadoop3/python/pyspark/sql/conf.py\n",
            "spark-3.5.1-bin-hadoop3/python/pyspark/sql/context.py\n",
            "spark-3.5.1-bin-hadoop3/python/pyspark/sql/observation.py\n",
            "spark-3.5.1-bin-hadoop3/python/pyspark/sql/udf.py\n",
            "spark-3.5.1-bin-hadoop3/python/pyspark/sql/_typing.pyi\n",
            "spark-3.5.1-bin-hadoop3/python/pyspark/sql/tests/\n",
            "spark-3.5.1-bin-hadoop3/python/pyspark/sql/tests/connect/\n",
            "spark-3.5.1-bin-hadoop3/python/pyspark/sql/tests/connect/streaming/\n",
            "spark-3.5.1-bin-hadoop3/python/pyspark/sql/tests/connect/streaming/test_parity_streaming.py\n",
            "spark-3.5.1-bin-hadoop3/python/pyspark/sql/tests/connect/streaming/test_parity_foreach_batch.py\n",
            "spark-3.5.1-bin-hadoop3/python/pyspark/sql/tests/connect/streaming/test_parity_foreach.py\n",
            "spark-3.5.1-bin-hadoop3/python/pyspark/sql/tests/connect/streaming/__init__.py\n",
            "spark-3.5.1-bin-hadoop3/python/pyspark/sql/tests/connect/streaming/test_parity_listener.py\n",
            "spark-3.5.1-bin-hadoop3/python/pyspark/sql/tests/connect/test_parity_pandas_grouped_map_with_state.py\n",
            "spark-3.5.1-bin-hadoop3/python/pyspark/sql/tests/connect/test_parity_conf.py\n",
            "spark-3.5.1-bin-hadoop3/python/pyspark/sql/tests/connect/test_parity_datasources.py\n",
            "spark-3.5.1-bin-hadoop3/python/pyspark/sql/tests/connect/test_parity_arrow_map.py\n",
            "spark-3.5.1-bin-hadoop3/python/pyspark/sql/tests/connect/test_utils.py\n",
            "spark-3.5.1-bin-hadoop3/python/pyspark/sql/tests/connect/test_parity_catalog.py\n",
            "spark-3.5.1-bin-hadoop3/python/pyspark/sql/tests/connect/test_session.py\n",
            "spark-3.5.1-bin-hadoop3/python/pyspark/sql/tests/connect/test_parity_pandas_udf_grouped_agg.py\n",
            "spark-3.5.1-bin-hadoop3/python/pyspark/sql/tests/connect/client/\n",
            "spark-3.5.1-bin-hadoop3/python/pyspark/sql/tests/connect/client/__init__.py\n",
            "spark-3.5.1-bin-hadoop3/python/pyspark/sql/tests/connect/client/test_client.py\n",
            "spark-3.5.1-bin-hadoop3/python/pyspark/sql/tests/connect/client/test_artifact.py\n",
            "spark-3.5.1-bin-hadoop3/python/pyspark/sql/tests/connect/test_parity_serde.py\n",
            "spark-3.5.1-bin-hadoop3/python/pyspark/sql/tests/connect/test_connect_basic.py\n",
            "spark-3.5.1-bin-hadoop3/python/pyspark/sql/tests/connect/test_connect_plan.py\n",
            "spark-3.5.1-bin-hadoop3/python/pyspark/sql/tests/connect/test_parity_types.py\n",
            "spark-3.5.1-bin-hadoop3/python/pyspark/sql/tests/connect/test_parity_arrow.py\n",
            "spark-3.5.1-bin-hadoop3/python/pyspark/sql/tests/connect/test_parity_pandas_udf.py\n",
            "spark-3.5.1-bin-hadoop3/python/pyspark/sql/tests/connect/test_parity_arrow_python_udf.py\n",
            "spark-3.5.1-bin-hadoop3/python/pyspark/sql/tests/connect/test_parity_readwriter.py\n",
            "spark-3.5.1-bin-hadoop3/python/pyspark/sql/tests/connect/test_parity_pandas_udf_scalar.py\n",
            "spark-3.5.1-bin-hadoop3/python/pyspark/sql/tests/connect/test_parity_udf.py\n",
            "spark-3.5.1-bin-hadoop3/python/pyspark/sql/tests/connect/test_parity_pandas_grouped_map.py\n",
            "spark-3.5.1-bin-hadoop3/python/pyspark/sql/tests/connect/test_connect_column.py\n",
            "spark-3.5.1-bin-hadoop3/python/pyspark/sql/tests/connect/test_parity_pandas_cogrouped_map.py\n",
            "spark-3.5.1-bin-hadoop3/python/pyspark/sql/tests/connect/test_parity_errors.py\n",
            "spark-3.5.1-bin-hadoop3/python/pyspark/sql/tests/connect/test_parity_column.py\n",
            "spark-3.5.1-bin-hadoop3/python/pyspark/sql/tests/connect/test_parity_pandas_udf_window.py\n",
            "spark-3.5.1-bin-hadoop3/python/pyspark/sql/tests/connect/test_parity_functions.py\n",
            "spark-3.5.1-bin-hadoop3/python/pyspark/sql/tests/connect/test_connect_function.py\n",
            "spark-3.5.1-bin-hadoop3/python/pyspark/sql/tests/connect/test_parity_udtf.py\n",
            "spark-3.5.1-bin-hadoop3/python/pyspark/sql/tests/connect/__init__.py\n",
            "spark-3.5.1-bin-hadoop3/python/pyspark/sql/tests/connect/test_parity_dataframe.py\n",
            "spark-3.5.1-bin-hadoop3/python/pyspark/sql/tests/connect/test_parity_group.py\n",
            "spark-3.5.1-bin-hadoop3/python/pyspark/sql/tests/connect/test_parity_pandas_map.py\n",
            "spark-3.5.1-bin-hadoop3/python/pyspark/sql/tests/test_readwriter.py\n",
            "spark-3.5.1-bin-hadoop3/python/pyspark/sql/tests/test_serde.py\n",
            "spark-3.5.1-bin-hadoop3/python/pyspark/sql/tests/test_arrow_map.py\n",
            "spark-3.5.1-bin-hadoop3/python/pyspark/sql/tests/test_pandas_sqlmetrics.py\n",
            "spark-3.5.1-bin-hadoop3/python/pyspark/sql/tests/test_udtf.py\n",
            "spark-3.5.1-bin-hadoop3/python/pyspark/sql/tests/streaming/\n",
            "spark-3.5.1-bin-hadoop3/python/pyspark/sql/tests/streaming/test_streaming_listener.py\n",
            "spark-3.5.1-bin-hadoop3/python/pyspark/sql/tests/streaming/test_streaming_foreach_batch.py\n",
            "spark-3.5.1-bin-hadoop3/python/pyspark/sql/tests/streaming/test_streaming.py\n",
            "spark-3.5.1-bin-hadoop3/python/pyspark/sql/tests/streaming/__init__.py\n",
            "spark-3.5.1-bin-hadoop3/python/pyspark/sql/tests/streaming/test_streaming_foreach.py\n",
            "spark-3.5.1-bin-hadoop3/python/pyspark/sql/tests/test_group.py\n",
            "spark-3.5.1-bin-hadoop3/python/pyspark/sql/tests/test_context.py\n",
            "spark-3.5.1-bin-hadoop3/python/pyspark/sql/tests/test_functions.py\n",
            "spark-3.5.1-bin-hadoop3/python/pyspark/sql/tests/test_datasources.py\n",
            "spark-3.5.1-bin-hadoop3/python/pyspark/sql/tests/test_catalog.py\n",
            "spark-3.5.1-bin-hadoop3/python/pyspark/sql/tests/test_utils.py\n",
            "spark-3.5.1-bin-hadoop3/python/pyspark/sql/tests/test_errors.py\n",
            "spark-3.5.1-bin-hadoop3/python/pyspark/sql/tests/test_session.py\n",
            "spark-3.5.1-bin-hadoop3/python/pyspark/sql/tests/test_arrow.py\n",
            "spark-3.5.1-bin-hadoop3/python/pyspark/sql/tests/test_dataframe.py\n",
            "spark-3.5.1-bin-hadoop3/python/pyspark/sql/tests/typing/\n",
            "spark-3.5.1-bin-hadoop3/python/pyspark/sql/tests/typing/test_column.yml\n",
            "spark-3.5.1-bin-hadoop3/python/pyspark/sql/tests/typing/test_dataframe.yml\n",
            "spark-3.5.1-bin-hadoop3/python/pyspark/sql/tests/typing/test_session.yml\n",
            "spark-3.5.1-bin-hadoop3/python/pyspark/sql/tests/typing/test_functions.yml\n",
            "spark-3.5.1-bin-hadoop3/python/pyspark/sql/tests/typing/test_udf.yml\n",
            "spark-3.5.1-bin-hadoop3/python/pyspark/sql/tests/typing/test_readwriter.yml\n",
            "spark-3.5.1-bin-hadoop3/python/pyspark/sql/tests/pandas/\n",
            "spark-3.5.1-bin-hadoop3/python/pyspark/sql/tests/pandas/test_pandas_cogrouped_map.py\n",
            "spark-3.5.1-bin-hadoop3/python/pyspark/sql/tests/pandas/test_pandas_grouped_map_with_state.py\n",
            "spark-3.5.1-bin-hadoop3/python/pyspark/sql/tests/pandas/test_pandas_udf_grouped_agg.py\n",
            "spark-3.5.1-bin-hadoop3/python/pyspark/sql/tests/pandas/test_pandas_grouped_map.py\n",
            "spark-3.5.1-bin-hadoop3/python/pyspark/sql/tests/pandas/test_pandas_udf_scalar.py\n",
            "spark-3.5.1-bin-hadoop3/python/pyspark/sql/tests/pandas/test_pandas_udf_typehints.py\n",
            "spark-3.5.1-bin-hadoop3/python/pyspark/sql/tests/pandas/test_pandas_udf_typehints_with_future_annotations.py\n",
            "spark-3.5.1-bin-hadoop3/python/pyspark/sql/tests/pandas/test_pandas_udf.py\n",
            "spark-3.5.1-bin-hadoop3/python/pyspark/sql/tests/pandas/test_pandas_udf_window.py\n",
            "spark-3.5.1-bin-hadoop3/python/pyspark/sql/tests/pandas/__init__.py\n",
            "spark-3.5.1-bin-hadoop3/python/pyspark/sql/tests/pandas/test_pandas_map.py\n",
            "spark-3.5.1-bin-hadoop3/python/pyspark/sql/tests/test_types.py\n",
            "spark-3.5.1-bin-hadoop3/python/pyspark/sql/tests/test_arrow_python_udf.py\n",
            "spark-3.5.1-bin-hadoop3/python/pyspark/sql/tests/test_column.py\n",
            "spark-3.5.1-bin-hadoop3/python/pyspark/sql/tests/test_udf.py\n",
            "spark-3.5.1-bin-hadoop3/python/pyspark/sql/tests/test_udf_profiler.py\n",
            "spark-3.5.1-bin-hadoop3/python/pyspark/sql/tests/__init__.py\n",
            "spark-3.5.1-bin-hadoop3/python/pyspark/sql/tests/test_conf.py\n",
            "spark-3.5.1-bin-hadoop3/python/pyspark/sql/session.py\n",
            "spark-3.5.1-bin-hadoop3/python/pyspark/sql/group.py\n",
            "spark-3.5.1-bin-hadoop3/python/pyspark/sql/udtf.py\n",
            "spark-3.5.1-bin-hadoop3/python/pyspark/sql/pandas/\n",
            "spark-3.5.1-bin-hadoop3/python/pyspark/sql/pandas/group_ops.py\n",
            "spark-3.5.1-bin-hadoop3/python/pyspark/sql/pandas/functions.py\n",
            "spark-3.5.1-bin-hadoop3/python/pyspark/sql/pandas/map_ops.py\n",
            "spark-3.5.1-bin-hadoop3/python/pyspark/sql/pandas/conversion.py\n",
            "spark-3.5.1-bin-hadoop3/python/pyspark/sql/pandas/typehints.py\n",
            "spark-3.5.1-bin-hadoop3/python/pyspark/sql/pandas/_typing/\n",
            "spark-3.5.1-bin-hadoop3/python/pyspark/sql/pandas/_typing/protocols/\n",
            "spark-3.5.1-bin-hadoop3/python/pyspark/sql/pandas/_typing/protocols/series.pyi\n",
            "spark-3.5.1-bin-hadoop3/python/pyspark/sql/pandas/_typing/protocols/frame.pyi\n",
            "spark-3.5.1-bin-hadoop3/python/pyspark/sql/pandas/_typing/protocols/__init__.pyi\n",
            "spark-3.5.1-bin-hadoop3/python/pyspark/sql/pandas/_typing/__init__.pyi\n",
            "spark-3.5.1-bin-hadoop3/python/pyspark/sql/pandas/functions.pyi\n",
            "spark-3.5.1-bin-hadoop3/python/pyspark/sql/pandas/serializers.py\n",
            "spark-3.5.1-bin-hadoop3/python/pyspark/sql/pandas/utils.py\n",
            "spark-3.5.1-bin-hadoop3/python/pyspark/sql/pandas/types.py\n",
            "spark-3.5.1-bin-hadoop3/python/pyspark/sql/pandas/__init__.py\n",
            "spark-3.5.1-bin-hadoop3/python/pyspark/sql/avro/\n",
            "spark-3.5.1-bin-hadoop3/python/pyspark/sql/avro/functions.py\n",
            "spark-3.5.1-bin-hadoop3/python/pyspark/sql/avro/__init__.py\n",
            "spark-3.5.1-bin-hadoop3/python/pyspark/sql/protobuf/\n",
            "spark-3.5.1-bin-hadoop3/python/pyspark/sql/protobuf/functions.py\n",
            "spark-3.5.1-bin-hadoop3/python/pyspark/sql/protobuf/__init__.py\n",
            "spark-3.5.1-bin-hadoop3/python/pyspark/sql/window.py\n",
            "spark-3.5.1-bin-hadoop3/python/pyspark/sql/catalog.py\n",
            "spark-3.5.1-bin-hadoop3/python/pyspark/sql/utils.py\n",
            "spark-3.5.1-bin-hadoop3/python/pyspark/sql/readwriter.py\n",
            "spark-3.5.1-bin-hadoop3/python/pyspark/sql/dataframe.py\n",
            "spark-3.5.1-bin-hadoop3/python/pyspark/sql/types.py\n",
            "spark-3.5.1-bin-hadoop3/python/pyspark/sql/__init__.py\n",
            "spark-3.5.1-bin-hadoop3/python/pyspark/context.py\n",
            "spark-3.5.1-bin-hadoop3/python/pyspark/util.py\n",
            "spark-3.5.1-bin-hadoop3/python/pyspark/accumulators.py\n",
            "spark-3.5.1-bin-hadoop3/python/pyspark/rddsampler.py\n",
            "spark-3.5.1-bin-hadoop3/python/pyspark/_typing.pyi\n",
            "spark-3.5.1-bin-hadoop3/python/pyspark/py.typed\n",
            "spark-3.5.1-bin-hadoop3/python/pyspark/tests/\n",
            "spark-3.5.1-bin-hadoop3/python/pyspark/tests/test_rddbarrier.py\n",
            "spark-3.5.1-bin-hadoop3/python/pyspark/tests/test_context.py\n",
            "spark-3.5.1-bin-hadoop3/python/pyspark/tests/test_profiler.py\n",
            "spark-3.5.1-bin-hadoop3/python/pyspark/tests/test_broadcast.py\n",
            "spark-3.5.1-bin-hadoop3/python/pyspark/tests/test_pin_thread.py\n",
            "spark-3.5.1-bin-hadoop3/python/pyspark/tests/test_rdd.py\n",
            "spark-3.5.1-bin-hadoop3/python/pyspark/tests/test_readwrite.py\n",
            "spark-3.5.1-bin-hadoop3/python/pyspark/tests/typing/\n",
            "spark-3.5.1-bin-hadoop3/python/pyspark/tests/typing/test_resultiterable.yml\n",
            "spark-3.5.1-bin-hadoop3/python/pyspark/tests/typing/test_context.yml\n",
            "spark-3.5.1-bin-hadoop3/python/pyspark/tests/typing/test_rdd.yml\n",
            "spark-3.5.1-bin-hadoop3/python/pyspark/tests/typing/test_core.yml\n",
            "spark-3.5.1-bin-hadoop3/python/pyspark/tests/test_rddsampler.py\n",
            "spark-3.5.1-bin-hadoop3/python/pyspark/tests/test_util.py\n",
            "spark-3.5.1-bin-hadoop3/python/pyspark/tests/test_appsubmit.py\n",
            "spark-3.5.1-bin-hadoop3/python/pyspark/tests/test_daemon.py\n",
            "spark-3.5.1-bin-hadoop3/python/pyspark/tests/test_shuffle.py\n",
            "spark-3.5.1-bin-hadoop3/python/pyspark/tests/test_taskcontext.py\n",
            "spark-3.5.1-bin-hadoop3/python/pyspark/tests/test_serializers.py\n",
            "spark-3.5.1-bin-hadoop3/python/pyspark/tests/test_worker.py\n",
            "spark-3.5.1-bin-hadoop3/python/pyspark/tests/__init__.py\n",
            "spark-3.5.1-bin-hadoop3/python/pyspark/tests/test_memory_profiler.py\n",
            "spark-3.5.1-bin-hadoop3/python/pyspark/tests/test_install_spark.py\n",
            "spark-3.5.1-bin-hadoop3/python/pyspark/tests/test_conf.py\n",
            "spark-3.5.1-bin-hadoop3/python/pyspark/tests/test_statcounter.py\n",
            "spark-3.5.1-bin-hadoop3/python/pyspark/tests/test_stage_sched.py\n",
            "spark-3.5.1-bin-hadoop3/python/pyspark/tests/test_join.py\n",
            "spark-3.5.1-bin-hadoop3/python/pyspark/storagelevel.py\n",
            "spark-3.5.1-bin-hadoop3/python/pyspark/profiler.py\n",
            "spark-3.5.1-bin-hadoop3/python/pyspark/version.py\n",
            "spark-3.5.1-bin-hadoop3/python/pyspark/instrumentation_utils.py\n",
            "spark-3.5.1-bin-hadoop3/python/pyspark/worker_util.py\n",
            "spark-3.5.1-bin-hadoop3/python/pyspark/worker.py\n",
            "spark-3.5.1-bin-hadoop3/python/pyspark/cloudpickle/\n",
            "spark-3.5.1-bin-hadoop3/python/pyspark/cloudpickle/compat.py\n",
            "spark-3.5.1-bin-hadoop3/python/pyspark/cloudpickle/cloudpickle_fast.py\n",
            "spark-3.5.1-bin-hadoop3/python/pyspark/cloudpickle/cloudpickle.py\n",
            "spark-3.5.1-bin-hadoop3/python/pyspark/cloudpickle/__init__.py\n",
            "spark-3.5.1-bin-hadoop3/python/pyspark/testing/\n",
            "spark-3.5.1-bin-hadoop3/python/pyspark/testing/pandasutils.py\n",
            "spark-3.5.1-bin-hadoop3/python/pyspark/testing/mlutils.py\n",
            "spark-3.5.1-bin-hadoop3/python/pyspark/testing/sqlutils.py\n",
            "spark-3.5.1-bin-hadoop3/python/pyspark/testing/streamingutils.py\n",
            "spark-3.5.1-bin-hadoop3/python/pyspark/testing/connectutils.py\n",
            "spark-3.5.1-bin-hadoop3/python/pyspark/testing/utils.py\n",
            "spark-3.5.1-bin-hadoop3/python/pyspark/testing/__init__.py\n",
            "spark-3.5.1-bin-hadoop3/python/pyspark/testing/mllibutils.py\n",
            "spark-3.5.1-bin-hadoop3/python/pyspark/__pycache__/\n",
            "spark-3.5.1-bin-hadoop3/python/pyspark/__pycache__/install.cpython-38.pyc\n",
            "spark-3.5.1-bin-hadoop3/python/pyspark/pandas/\n",
            "spark-3.5.1-bin-hadoop3/python/pyspark/pandas/frame.py\n",
            "spark-3.5.1-bin-hadoop3/python/pyspark/pandas/sql_formatter.py\n",
            "spark-3.5.1-bin-hadoop3/python/pyspark/pandas/categorical.py\n",
            "spark-3.5.1-bin-hadoop3/python/pyspark/pandas/namespace.py\n",
            "spark-3.5.1-bin-hadoop3/python/pyspark/pandas/accessors.py\n",
            "spark-3.5.1-bin-hadoop3/python/pyspark/pandas/usage_logging/\n",
            "spark-3.5.1-bin-hadoop3/python/pyspark/pandas/usage_logging/__init__.py\n",
            "spark-3.5.1-bin-hadoop3/python/pyspark/pandas/usage_logging/usage_logger.py\n",
            "spark-3.5.1-bin-hadoop3/python/pyspark/pandas/correlation.py\n",
            "spark-3.5.1-bin-hadoop3/python/pyspark/pandas/indexing.py\n",
            "spark-3.5.1-bin-hadoop3/python/pyspark/pandas/groupby.py\n",
            "spark-3.5.1-bin-hadoop3/python/pyspark/pandas/resample.py\n",
            "spark-3.5.1-bin-hadoop3/python/pyspark/pandas/plot/\n",
            "spark-3.5.1-bin-hadoop3/python/pyspark/pandas/plot/plotly.py\n",
            "spark-3.5.1-bin-hadoop3/python/pyspark/pandas/plot/core.py\n",
            "spark-3.5.1-bin-hadoop3/python/pyspark/pandas/plot/__init__.py\n",
            "spark-3.5.1-bin-hadoop3/python/pyspark/pandas/plot/matplotlib.py\n",
            "spark-3.5.1-bin-hadoop3/python/pyspark/pandas/supported_api_gen.py\n",
            "spark-3.5.1-bin-hadoop3/python/pyspark/pandas/data_type_ops/\n",
            "spark-3.5.1-bin-hadoop3/python/pyspark/pandas/data_type_ops/null_ops.py\n",
            "spark-3.5.1-bin-hadoop3/python/pyspark/pandas/data_type_ops/num_ops.py\n",
            "spark-3.5.1-bin-hadoop3/python/pyspark/pandas/data_type_ops/udt_ops.py\n",
            "spark-3.5.1-bin-hadoop3/python/pyspark/pandas/data_type_ops/string_ops.py\n",
            "spark-3.5.1-bin-hadoop3/python/pyspark/pandas/data_type_ops/complex_ops.py\n",
            "spark-3.5.1-bin-hadoop3/python/pyspark/pandas/data_type_ops/date_ops.py\n",
            "spark-3.5.1-bin-hadoop3/python/pyspark/pandas/data_type_ops/categorical_ops.py\n",
            "spark-3.5.1-bin-hadoop3/python/pyspark/pandas/data_type_ops/timedelta_ops.py\n",
            "spark-3.5.1-bin-hadoop3/python/pyspark/pandas/data_type_ops/datetime_ops.py\n",
            "spark-3.5.1-bin-hadoop3/python/pyspark/pandas/data_type_ops/base.py\n",
            "spark-3.5.1-bin-hadoop3/python/pyspark/pandas/data_type_ops/binary_ops.py\n",
            "spark-3.5.1-bin-hadoop3/python/pyspark/pandas/data_type_ops/boolean_ops.py\n",
            "spark-3.5.1-bin-hadoop3/python/pyspark/pandas/data_type_ops/__init__.py\n",
            "spark-3.5.1-bin-hadoop3/python/pyspark/pandas/tests/\n",
            "spark-3.5.1-bin-hadoop3/python/pyspark/pandas/tests/test_rolling.py\n",
            "spark-3.5.1-bin-hadoop3/python/pyspark/pandas/tests/connect/\n",
            "spark-3.5.1-bin-hadoop3/python/pyspark/pandas/tests/connect/test_parity_sql.py\n",
            "spark-3.5.1-bin-hadoop3/python/pyspark/pandas/tests/connect/test_parity_dataframe_spark_io.py\n",
            "spark-3.5.1-bin-hadoop3/python/pyspark/pandas/tests/connect/test_parity_ops_on_diff_frames_groupby.py\n",
            "spark-3.5.1-bin-hadoop3/python/pyspark/pandas/tests/connect/computation/\n",
            "spark-3.5.1-bin-hadoop3/python/pyspark/pandas/tests/connect/computation/test_parity_apply_func.py\n",
            "spark-3.5.1-bin-hadoop3/python/pyspark/pandas/tests/connect/computation/test_parity_compute.py\n",
            "spark-3.5.1-bin-hadoop3/python/pyspark/pandas/tests/connect/computation/test_parity_any_all.py\n",
            "spark-3.5.1-bin-hadoop3/python/pyspark/pandas/tests/connect/computation/test_parity_melt.py\n",
            "spark-3.5.1-bin-hadoop3/python/pyspark/pandas/tests/connect/computation/test_parity_pivot.py\n",
            "spark-3.5.1-bin-hadoop3/python/pyspark/pandas/tests/connect/computation/test_parity_cov.py\n",
            "spark-3.5.1-bin-hadoop3/python/pyspark/pandas/tests/connect/computation/test_parity_describe.py\n",
            "spark-3.5.1-bin-hadoop3/python/pyspark/pandas/tests/connect/computation/test_parity_corrwith.py\n",
            "spark-3.5.1-bin-hadoop3/python/pyspark/pandas/tests/connect/computation/test_parity_combine.py\n",
            "spark-3.5.1-bin-hadoop3/python/pyspark/pandas/tests/connect/computation/test_parity_cumulative.py\n",
            "spark-3.5.1-bin-hadoop3/python/pyspark/pandas/tests/connect/computation/test_parity_eval.py\n",
            "spark-3.5.1-bin-hadoop3/python/pyspark/pandas/tests/connect/computation/__init__.py\n",
            "spark-3.5.1-bin-hadoop3/python/pyspark/pandas/tests/connect/computation/test_parity_missing_data.py\n",
            "spark-3.5.1-bin-hadoop3/python/pyspark/pandas/tests/connect/computation/test_parity_binary_ops.py\n",
            "spark-3.5.1-bin-hadoop3/python/pyspark/pandas/tests/connect/test_parity_utils.py\n",
            "spark-3.5.1-bin-hadoop3/python/pyspark/pandas/tests/connect/groupby/\n",
            "spark-3.5.1-bin-hadoop3/python/pyspark/pandas/tests/connect/groupby/test_parity_apply_func.py\n",
            "spark-3.5.1-bin-hadoop3/python/pyspark/pandas/tests/connect/groupby/test_parity_split_apply.py\n",
            "spark-3.5.1-bin-hadoop3/python/pyspark/pandas/tests/connect/groupby/test_parity_stat.py\n",
            "spark-3.5.1-bin-hadoop3/python/pyspark/pandas/tests/connect/groupby/test_parity_index.py\n",
            "spark-3.5.1-bin-hadoop3/python/pyspark/pandas/tests/connect/groupby/test_parity_describe.py\n",
            "spark-3.5.1-bin-hadoop3/python/pyspark/pandas/tests/connect/groupby/test_parity_cumulative.py\n",
            "spark-3.5.1-bin-hadoop3/python/pyspark/pandas/tests/connect/groupby/test_parity_aggregate.py\n",
            "spark-3.5.1-bin-hadoop3/python/pyspark/pandas/tests/connect/groupby/__init__.py\n",
            "spark-3.5.1-bin-hadoop3/python/pyspark/pandas/tests/connect/groupby/test_parity_head_tail.py\n",
            "spark-3.5.1-bin-hadoop3/python/pyspark/pandas/tests/connect/groupby/test_parity_missing_data.py\n",
            "spark-3.5.1-bin-hadoop3/python/pyspark/pandas/tests/connect/groupby/test_parity_groupby.py\n",
            "spark-3.5.1-bin-hadoop3/python/pyspark/pandas/tests/connect/diff_frames_ops/\n",
            "spark-3.5.1-bin-hadoop3/python/pyspark/pandas/tests/connect/diff_frames_ops/test_parity_index.py\n",
            "spark-3.5.1-bin-hadoop3/python/pyspark/pandas/tests/connect/diff_frames_ops/test_parity_basic_slow.py\n",
            "spark-3.5.1-bin-hadoop3/python/pyspark/pandas/tests/connect/diff_frames_ops/test_parity_setitem_frame.py\n",
            "spark-3.5.1-bin-hadoop3/python/pyspark/pandas/tests/connect/diff_frames_ops/test_parity_series.py\n",
            "spark-3.5.1-bin-hadoop3/python/pyspark/pandas/tests/connect/diff_frames_ops/test_parity_cov_corrwith.py\n",
            "spark-3.5.1-bin-hadoop3/python/pyspark/pandas/tests/connect/diff_frames_ops/test_parity_align.py\n",
            "spark-3.5.1-bin-hadoop3/python/pyspark/pandas/tests/connect/diff_frames_ops/test_parity_dot_frame.py\n",
            "spark-3.5.1-bin-hadoop3/python/pyspark/pandas/tests/connect/diff_frames_ops/test_parity_dot_series.py\n",
            "spark-3.5.1-bin-hadoop3/python/pyspark/pandas/tests/connect/diff_frames_ops/test_parity_setitem_series.py\n",
            "spark-3.5.1-bin-hadoop3/python/pyspark/pandas/tests/connect/diff_frames_ops/__init__.py\n",
            "spark-3.5.1-bin-hadoop3/python/pyspark/pandas/tests/connect/frame/\n",
            "spark-3.5.1-bin-hadoop3/python/pyspark/pandas/tests/connect/frame/test_parity_attrs.py\n",
            "spark-3.5.1-bin-hadoop3/python/pyspark/pandas/tests/connect/frame/test_parity_conversion.py\n",
            "spark-3.5.1-bin-hadoop3/python/pyspark/pandas/tests/connect/frame/test_parity_constructor.py\n",
            "spark-3.5.1-bin-hadoop3/python/pyspark/pandas/tests/connect/frame/test_parity_reindexing.py\n",
            "spark-3.5.1-bin-hadoop3/python/pyspark/pandas/tests/connect/frame/test_parity_truncate.py\n",
            "spark-3.5.1-bin-hadoop3/python/pyspark/pandas/tests/connect/frame/test_parity_take.py\n",
            "spark-3.5.1-bin-hadoop3/python/pyspark/pandas/tests/connect/frame/test_parity_spark.py\n",
            "spark-3.5.1-bin-hadoop3/python/pyspark/pandas/tests/connect/frame/test_parity_reshaping.py\n",
            "spark-3.5.1-bin-hadoop3/python/pyspark/pandas/tests/connect/frame/__init__.py\n",
            "spark-3.5.1-bin-hadoop3/python/pyspark/pandas/tests/connect/frame/test_parity_time_series.py\n",
            "spark-3.5.1-bin-hadoop3/python/pyspark/pandas/tests/connect/test_parity_extension.py\n",
            "spark-3.5.1-bin-hadoop3/python/pyspark/pandas/tests/connect/test_parity_ops_on_diff_frames.py\n",
            "spark-3.5.1-bin-hadoop3/python/pyspark/pandas/tests/connect/io/\n",
            "spark-3.5.1-bin-hadoop3/python/pyspark/pandas/tests/connect/io/test_parity_io.py\n",
            "spark-3.5.1-bin-hadoop3/python/pyspark/pandas/tests/connect/io/__init__.py\n",
            "spark-3.5.1-bin-hadoop3/python/pyspark/pandas/tests/connect/plot/\n",
            "spark-3.5.1-bin-hadoop3/python/pyspark/pandas/tests/connect/plot/test_parity_frame_plot_plotly.py\n",
            "spark-3.5.1-bin-hadoop3/python/pyspark/pandas/tests/connect/plot/test_parity_series_plot_plotly.py\n",
            "spark-3.5.1-bin-hadoop3/python/pyspark/pandas/tests/connect/plot/test_parity_frame_plot_matplotlib.py\n",
            "spark-3.5.1-bin-hadoop3/python/pyspark/pandas/tests/connect/plot/test_parity_series_plot_matplotlib.py\n",
            "spark-3.5.1-bin-hadoop3/python/pyspark/pandas/tests/connect/plot/test_parity_frame_plot.py\n",
            "spark-3.5.1-bin-hadoop3/python/pyspark/pandas/tests/connect/plot/test_parity_series_plot.py\n",
            "spark-3.5.1-bin-hadoop3/python/pyspark/pandas/tests/connect/plot/__init__.py\n",
            "spark-3.5.1-bin-hadoop3/python/pyspark/pandas/tests/connect/test_parity_indexops_spark.py\n",
            "spark-3.5.1-bin-hadoop3/python/pyspark/pandas/tests/connect/test_parity_typedef.py\n",
            "spark-3.5.1-bin-hadoop3/python/pyspark/pandas/tests/connect/test_parity_spark_functions.py\n",
            "spark-3.5.1-bin-hadoop3/python/pyspark/pandas/tests/connect/test_parity_stats.py\n",
            "spark-3.5.1-bin-hadoop3/python/pyspark/pandas/tests/connect/test_parity_dataframe_conversion.py\n",
            "spark-3.5.1-bin-hadoop3/python/pyspark/pandas/tests/connect/test_parity_default_index.py\n",
            "spark-3.5.1-bin-hadoop3/python/pyspark/pandas/tests/connect/data_type_ops/\n",
            "spark-3.5.1-bin-hadoop3/python/pyspark/pandas/tests/connect/data_type_ops/test_parity_date_ops.py\n",
            "spark-3.5.1-bin-hadoop3/python/pyspark/pandas/tests/connect/data_type_ops/test_parity_null_ops.py\n",
            "spark-3.5.1-bin-hadoop3/python/pyspark/pandas/tests/connect/data_type_ops/test_parity_string_ops.py\n",
            "spark-3.5.1-bin-hadoop3/python/pyspark/pandas/tests/connect/data_type_ops/test_parity_categorical_ops.py\n",
            "spark-3.5.1-bin-hadoop3/python/pyspark/pandas/tests/connect/data_type_ops/test_parity_base.py\n",
            "spark-3.5.1-bin-hadoop3/python/pyspark/pandas/tests/connect/data_type_ops/test_parity_timedelta_ops.py\n",
            "spark-3.5.1-bin-hadoop3/python/pyspark/pandas/tests/connect/data_type_ops/test_parity_complex_ops.py\n",
            "spark-3.5.1-bin-hadoop3/python/pyspark/pandas/tests/connect/data_type_ops/test_parity_datetime_ops.py\n",
            "spark-3.5.1-bin-hadoop3/python/pyspark/pandas/tests/connect/data_type_ops/test_parity_num_arithmetic.py\n",
            "spark-3.5.1-bin-hadoop3/python/pyspark/pandas/tests/connect/data_type_ops/test_parity_num_ops.py\n",
            "spark-3.5.1-bin-hadoop3/python/pyspark/pandas/tests/connect/data_type_ops/test_parity_boolean_ops.py\n",
            "spark-3.5.1-bin-hadoop3/python/pyspark/pandas/tests/connect/data_type_ops/test_parity_udt_ops.py\n",
            "spark-3.5.1-bin-hadoop3/python/pyspark/pandas/tests/connect/data_type_ops/testing_utils.py\n",
            "spark-3.5.1-bin-hadoop3/python/pyspark/pandas/tests/connect/data_type_ops/__init__.py\n",
            "spark-3.5.1-bin-hadoop3/python/pyspark/pandas/tests/connect/data_type_ops/test_parity_binary_ops.py\n",
            "spark-3.5.1-bin-hadoop3/python/pyspark/pandas/tests/connect/data_type_ops/test_parity_num_reverse.py\n",
            "spark-3.5.1-bin-hadoop3/python/pyspark/pandas/tests/connect/test_parity_ops_on_diff_frames_groupby_expanding.py\n",
            "spark-3.5.1-bin-hadoop3/python/pyspark/pandas/tests/connect/indexes/\n",
            "spark-3.5.1-bin-hadoop3/python/pyspark/pandas/tests/connect/indexes/test_parity_category.py\n",
            "spark-3.5.1-bin-hadoop3/python/pyspark/pandas/tests/connect/indexes/test_parity_timedelta.py\n",
            "spark-3.5.1-bin-hadoop3/python/pyspark/pandas/tests/connect/indexes/test_parity_base.py\n",
            "spark-3.5.1-bin-hadoop3/python/pyspark/pandas/tests/connect/indexes/test_parity_reindex.py\n",
            "spark-3.5.1-bin-hadoop3/python/pyspark/pandas/tests/connect/indexes/test_parity_reset_index.py\n",
            "spark-3.5.1-bin-hadoop3/python/pyspark/pandas/tests/connect/indexes/test_parity_align.py\n",
            "spark-3.5.1-bin-hadoop3/python/pyspark/pandas/tests/connect/indexes/test_parity_indexing.py\n",
            "spark-3.5.1-bin-hadoop3/python/pyspark/pandas/tests/connect/indexes/test_parity_datetime.py\n",
            "spark-3.5.1-bin-hadoop3/python/pyspark/pandas/tests/connect/indexes/__init__.py\n",
            "spark-3.5.1-bin-hadoop3/python/pyspark/pandas/tests/connect/indexes/test_parity_rename.py\n",
            "spark-3.5.1-bin-hadoop3/python/pyspark/pandas/tests/connect/test_parity_series_string.py\n",
            "spark-3.5.1-bin-hadoop3/python/pyspark/pandas/tests/connect/test_parity_generic_functions.py\n",
            "spark-3.5.1-bin-hadoop3/python/pyspark/pandas/tests/connect/test_parity_ops_on_diff_frames_groupby_rolling.py\n",
            "spark-3.5.1-bin-hadoop3/python/pyspark/pandas/tests/connect/test_parity_series_conversion.py\n",
            "spark-3.5.1-bin-hadoop3/python/pyspark/pandas/tests/connect/test_parity_numpy_compat.py\n",
            "spark-3.5.1-bin-hadoop3/python/pyspark/pandas/tests/connect/series/\n",
            "spark-3.5.1-bin-hadoop3/python/pyspark/pandas/tests/connect/series/test_parity_stat.py\n",
            "spark-3.5.1-bin-hadoop3/python/pyspark/pandas/tests/connect/series/test_parity_compute.py\n",
            "spark-3.5.1-bin-hadoop3/python/pyspark/pandas/tests/connect/series/test_parity_sort.py\n",
            "spark-3.5.1-bin-hadoop3/python/pyspark/pandas/tests/connect/series/test_parity_conversion.py\n",
            "spark-3.5.1-bin-hadoop3/python/pyspark/pandas/tests/connect/series/test_parity_all_any.py\n",
            "spark-3.5.1-bin-hadoop3/python/pyspark/pandas/tests/connect/series/test_parity_index.py\n",
            "spark-3.5.1-bin-hadoop3/python/pyspark/pandas/tests/connect/series/test_parity_series.py\n",
            "spark-3.5.1-bin-hadoop3/python/pyspark/pandas/tests/connect/series/test_parity_cumulative.py\n",
            "spark-3.5.1-bin-hadoop3/python/pyspark/pandas/tests/connect/series/test_parity_as_type.py\n",
            "spark-3.5.1-bin-hadoop3/python/pyspark/pandas/tests/connect/series/test_parity_arg_ops.py\n",
            "spark-3.5.1-bin-hadoop3/python/pyspark/pandas/tests/connect/series/test_parity_as_of.py\n",
            "spark-3.5.1-bin-hadoop3/python/pyspark/pandas/tests/connect/series/__init__.py\n",
            "spark-3.5.1-bin-hadoop3/python/pyspark/pandas/tests/connect/series/test_parity_missing_data.py\n",
            "spark-3.5.1-bin-hadoop3/python/pyspark/pandas/tests/connect/test_parity_series_datetime.py\n",
            "spark-3.5.1-bin-hadoop3/python/pyspark/pandas/tests/connect/test_parity_ewm.py\n",
            "spark-3.5.1-bin-hadoop3/python/pyspark/pandas/tests/connect/test_parity_window.py\n",
            "spark-3.5.1-bin-hadoop3/python/pyspark/pandas/tests/connect/test_parity_config.py\n",
            "spark-3.5.1-bin-hadoop3/python/pyspark/pandas/tests/connect/test_parity_indexing.py\n",
            "spark-3.5.1-bin-hadoop3/python/pyspark/pandas/tests/connect/test_parity_internal.py\n",
            "spark-3.5.1-bin-hadoop3/python/pyspark/pandas/tests/connect/test_parity_reshape.py\n",
            "spark-3.5.1-bin-hadoop3/python/pyspark/pandas/tests/connect/test_parity_resample.py\n",
            "spark-3.5.1-bin-hadoop3/python/pyspark/pandas/tests/connect/test_parity_frame_spark.py\n",
            "spark-3.5.1-bin-hadoop3/python/pyspark/pandas/tests/connect/test_parity_categorical.py\n",
            "spark-3.5.1-bin-hadoop3/python/pyspark/pandas/tests/connect/test_parity_rolling.py\n",
            "spark-3.5.1-bin-hadoop3/python/pyspark/pandas/tests/connect/test_parity_scalars.py\n",
            "spark-3.5.1-bin-hadoop3/python/pyspark/pandas/tests/connect/test_parity_expanding.py\n",
            "spark-3.5.1-bin-hadoop3/python/pyspark/pandas/tests/connect/__init__.py\n",
            "spark-3.5.1-bin-hadoop3/python/pyspark/pandas/tests/connect/test_parity_repr.py\n",
            "spark-3.5.1-bin-hadoop3/python/pyspark/pandas/tests/connect/test_parity_csv.py\n",
            "spark-3.5.1-bin-hadoop3/python/pyspark/pandas/tests/connect/test_parity_namespace.py\n",
            "spark-3.5.1-bin-hadoop3/python/pyspark/pandas/tests/test_ops_on_diff_frames_groupby.py\n",
            "spark-3.5.1-bin-hadoop3/python/pyspark/pandas/tests/computation/\n",
            "spark-3.5.1-bin-hadoop3/python/pyspark/pandas/tests/computation/test_combine.py\n",
            "spark-3.5.1-bin-hadoop3/python/pyspark/pandas/tests/computation/test_pivot.py\n",
            "spark-3.5.1-bin-hadoop3/python/pyspark/pandas/tests/computation/test_any_all.py\n",
            "spark-3.5.1-bin-hadoop3/python/pyspark/pandas/tests/computation/test_melt.py\n",
            "spark-3.5.1-bin-hadoop3/python/pyspark/pandas/tests/computation/test_apply_func.py\n",
            "spark-3.5.1-bin-hadoop3/python/pyspark/pandas/tests/computation/test_eval.py\n",
            "spark-3.5.1-bin-hadoop3/python/pyspark/pandas/tests/computation/test_corrwith.py\n",
            "spark-3.5.1-bin-hadoop3/python/pyspark/pandas/tests/computation/test_cov.py\n",
            "spark-3.5.1-bin-hadoop3/python/pyspark/pandas/tests/computation/test_cumulative.py\n",
            "spark-3.5.1-bin-hadoop3/python/pyspark/pandas/tests/computation/test_missing_data.py\n",
            "spark-3.5.1-bin-hadoop3/python/pyspark/pandas/tests/computation/test_describe.py\n",
            "spark-3.5.1-bin-hadoop3/python/pyspark/pandas/tests/computation/test_compute.py\n",
            "spark-3.5.1-bin-hadoop3/python/pyspark/pandas/tests/computation/__init__.py\n",
            "spark-3.5.1-bin-hadoop3/python/pyspark/pandas/tests/computation/test_binary_ops.py\n",
            "spark-3.5.1-bin-hadoop3/python/pyspark/pandas/tests/test_series_string.py\n",
            "spark-3.5.1-bin-hadoop3/python/pyspark/pandas/tests/test_typedef.py\n",
            "spark-3.5.1-bin-hadoop3/python/pyspark/pandas/tests/test_ewm.py\n",
            "spark-3.5.1-bin-hadoop3/python/pyspark/pandas/tests/groupby/\n",
            "spark-3.5.1-bin-hadoop3/python/pyspark/pandas/tests/groupby/test_index.py\n",
            "spark-3.5.1-bin-hadoop3/python/pyspark/pandas/tests/groupby/test_apply_func.py\n",
            "spark-3.5.1-bin-hadoop3/python/pyspark/pandas/tests/groupby/test_groupby.py\n",
            "spark-3.5.1-bin-hadoop3/python/pyspark/pandas/tests/groupby/test_head_tail.py\n",
            "spark-3.5.1-bin-hadoop3/python/pyspark/pandas/tests/groupby/test_cumulative.py\n",
            "spark-3.5.1-bin-hadoop3/python/pyspark/pandas/tests/groupby/test_split_apply.py\n",
            "spark-3.5.1-bin-hadoop3/python/pyspark/pandas/tests/groupby/test_missing_data.py\n",
            "spark-3.5.1-bin-hadoop3/python/pyspark/pandas/tests/groupby/test_stat.py\n",
            "spark-3.5.1-bin-hadoop3/python/pyspark/pandas/tests/groupby/test_describe.py\n",
            "spark-3.5.1-bin-hadoop3/python/pyspark/pandas/tests/groupby/__init__.py\n",
            "spark-3.5.1-bin-hadoop3/python/pyspark/pandas/tests/groupby/test_aggregate.py\n",
            "spark-3.5.1-bin-hadoop3/python/pyspark/pandas/tests/diff_frames_ops/\n",
            "spark-3.5.1-bin-hadoop3/python/pyspark/pandas/tests/diff_frames_ops/test_dot_frame.py\n",
            "spark-3.5.1-bin-hadoop3/python/pyspark/pandas/tests/diff_frames_ops/test_dot_series.py\n",
            "spark-3.5.1-bin-hadoop3/python/pyspark/pandas/tests/diff_frames_ops/test_align.py\n",
            "spark-3.5.1-bin-hadoop3/python/pyspark/pandas/tests/diff_frames_ops/test_index.py\n",
            "spark-3.5.1-bin-hadoop3/python/pyspark/pandas/tests/diff_frames_ops/test_setitem_frame.py\n",
            "spark-3.5.1-bin-hadoop3/python/pyspark/pandas/tests/diff_frames_ops/test_series.py\n",
            "spark-3.5.1-bin-hadoop3/python/pyspark/pandas/tests/diff_frames_ops/test_cov_corrwith.py\n",
            "spark-3.5.1-bin-hadoop3/python/pyspark/pandas/tests/diff_frames_ops/test_setitem_series.py\n",
            "spark-3.5.1-bin-hadoop3/python/pyspark/pandas/tests/diff_frames_ops/__init__.py\n",
            "spark-3.5.1-bin-hadoop3/python/pyspark/pandas/tests/diff_frames_ops/test_basic_slow.py\n",
            "spark-3.5.1-bin-hadoop3/python/pyspark/pandas/tests/test_dataframe_conversion.py\n",
            "spark-3.5.1-bin-hadoop3/python/pyspark/pandas/tests/frame/\n",
            "spark-3.5.1-bin-hadoop3/python/pyspark/pandas/tests/frame/test_time_series.py\n",
            "spark-3.5.1-bin-hadoop3/python/pyspark/pandas/tests/frame/test_take.py\n",
            "spark-3.5.1-bin-hadoop3/python/pyspark/pandas/tests/frame/test_constructor.py\n",
            "spark-3.5.1-bin-hadoop3/python/pyspark/pandas/tests/frame/test_reshaping.py\n",
            "spark-3.5.1-bin-hadoop3/python/pyspark/pandas/tests/frame/test_attrs.py\n",
            "spark-3.5.1-bin-hadoop3/python/pyspark/pandas/tests/frame/test_reindexing.py\n",
            "spark-3.5.1-bin-hadoop3/python/pyspark/pandas/tests/frame/test_truncate.py\n",
            "spark-3.5.1-bin-hadoop3/python/pyspark/pandas/tests/frame/test_conversion.py\n",
            "spark-3.5.1-bin-hadoop3/python/pyspark/pandas/tests/frame/__init__.py\n",
            "spark-3.5.1-bin-hadoop3/python/pyspark/pandas/tests/frame/test_spark.py\n",
            "spark-3.5.1-bin-hadoop3/python/pyspark/pandas/tests/test_numpy_compat.py\n",
            "spark-3.5.1-bin-hadoop3/python/pyspark/pandas/tests/test_scalars.py\n",
            "spark-3.5.1-bin-hadoop3/python/pyspark/pandas/tests/test_sql.py\n",
            "spark-3.5.1-bin-hadoop3/python/pyspark/pandas/tests/test_frame_spark.py\n",
            "spark-3.5.1-bin-hadoop3/python/pyspark/pandas/tests/io/\n",
            "spark-3.5.1-bin-hadoop3/python/pyspark/pandas/tests/io/test_io.py\n",
            "spark-3.5.1-bin-hadoop3/python/pyspark/pandas/tests/io/__init__.py\n",
            "spark-3.5.1-bin-hadoop3/python/pyspark/pandas/tests/test_utils.py\n",
            "spark-3.5.1-bin-hadoop3/python/pyspark/pandas/tests/test_extension.py\n",
            "spark-3.5.1-bin-hadoop3/python/pyspark/pandas/tests/plot/\n",
            "spark-3.5.1-bin-hadoop3/python/pyspark/pandas/tests/plot/test_series_plot.py\n",
            "spark-3.5.1-bin-hadoop3/python/pyspark/pandas/tests/plot/test_frame_plot_matplotlib.py\n",
            "spark-3.5.1-bin-hadoop3/python/pyspark/pandas/tests/plot/test_series_plot_plotly.py\n",
            "spark-3.5.1-bin-hadoop3/python/pyspark/pandas/tests/plot/test_series_plot_matplotlib.py\n",
            "spark-3.5.1-bin-hadoop3/python/pyspark/pandas/tests/plot/__init__.py\n",
            "spark-3.5.1-bin-hadoop3/python/pyspark/pandas/tests/plot/test_frame_plot_plotly.py\n",
            "spark-3.5.1-bin-hadoop3/python/pyspark/pandas/tests/plot/test_frame_plot.py\n",
            "spark-3.5.1-bin-hadoop3/python/pyspark/pandas/tests/data_type_ops/\n",
            "spark-3.5.1-bin-hadoop3/python/pyspark/pandas/tests/data_type_ops/test_base.py\n",
            "spark-3.5.1-bin-hadoop3/python/pyspark/pandas/tests/data_type_ops/test_datetime_ops.py\n",
            "spark-3.5.1-bin-hadoop3/python/pyspark/pandas/tests/data_type_ops/test_timedelta_ops.py\n",
            "spark-3.5.1-bin-hadoop3/python/pyspark/pandas/tests/data_type_ops/test_num_reverse.py\n",
            "spark-3.5.1-bin-hadoop3/python/pyspark/pandas/tests/data_type_ops/test_complex_ops.py\n",
            "spark-3.5.1-bin-hadoop3/python/pyspark/pandas/tests/data_type_ops/test_boolean_ops.py\n",
            "spark-3.5.1-bin-hadoop3/python/pyspark/pandas/tests/data_type_ops/test_num_ops.py\n",
            "spark-3.5.1-bin-hadoop3/python/pyspark/pandas/tests/data_type_ops/testing_utils.py\n",
            "spark-3.5.1-bin-hadoop3/python/pyspark/pandas/tests/data_type_ops/test_null_ops.py\n",
            "spark-3.5.1-bin-hadoop3/python/pyspark/pandas/tests/data_type_ops/test_num_arithmetic.py\n",
            "spark-3.5.1-bin-hadoop3/python/pyspark/pandas/tests/data_type_ops/__init__.py\n",
            "spark-3.5.1-bin-hadoop3/python/pyspark/pandas/tests/data_type_ops/test_string_ops.py\n",
            "spark-3.5.1-bin-hadoop3/python/pyspark/pandas/tests/data_type_ops/test_categorical_ops.py\n",
            "spark-3.5.1-bin-hadoop3/python/pyspark/pandas/tests/data_type_ops/test_binary_ops.py\n",
            "spark-3.5.1-bin-hadoop3/python/pyspark/pandas/tests/data_type_ops/test_udt_ops.py\n",
            "spark-3.5.1-bin-hadoop3/python/pyspark/pandas/tests/data_type_ops/test_date_ops.py\n",
            "spark-3.5.1-bin-hadoop3/python/pyspark/pandas/tests/test_spark_functions.py\n",
            "spark-3.5.1-bin-hadoop3/python/pyspark/pandas/tests/test_resample.py\n",
            "spark-3.5.1-bin-hadoop3/python/pyspark/pandas/tests/test_ops_on_diff_frames_groupby_expanding.py\n",
            "spark-3.5.1-bin-hadoop3/python/pyspark/pandas/tests/test_namespace.py\n",
            "spark-3.5.1-bin-hadoop3/python/pyspark/pandas/tests/indexes/\n",
            "spark-3.5.1-bin-hadoop3/python/pyspark/pandas/tests/indexes/test_base.py\n",
            "spark-3.5.1-bin-hadoop3/python/pyspark/pandas/tests/indexes/test_align.py\n",
            "spark-3.5.1-bin-hadoop3/python/pyspark/pandas/tests/indexes/test_reset_index.py\n",
            "spark-3.5.1-bin-hadoop3/python/pyspark/pandas/tests/indexes/test_rename.py\n",
            "spark-3.5.1-bin-hadoop3/python/pyspark/pandas/tests/indexes/test_reindex.py\n",
            "spark-3.5.1-bin-hadoop3/python/pyspark/pandas/tests/indexes/test_category.py\n",
            "spark-3.5.1-bin-hadoop3/python/pyspark/pandas/tests/indexes/__init__.py\n",
            "spark-3.5.1-bin-hadoop3/python/pyspark/pandas/tests/indexes/test_indexing.py\n",
            "spark-3.5.1-bin-hadoop3/python/pyspark/pandas/tests/indexes/test_timedelta.py\n",
            "spark-3.5.1-bin-hadoop3/python/pyspark/pandas/tests/indexes/test_datetime.py\n",
            "spark-3.5.1-bin-hadoop3/python/pyspark/pandas/tests/test_expanding.py\n",
            "spark-3.5.1-bin-hadoop3/python/pyspark/pandas/tests/series/\n",
            "spark-3.5.1-bin-hadoop3/python/pyspark/pandas/tests/series/test_index.py\n",
            "spark-3.5.1-bin-hadoop3/python/pyspark/pandas/tests/series/test_arg_ops.py\n",
            "spark-3.5.1-bin-hadoop3/python/pyspark/pandas/tests/series/test_as_type.py\n",
            "spark-3.5.1-bin-hadoop3/python/pyspark/pandas/tests/series/test_series.py\n",
            "spark-3.5.1-bin-hadoop3/python/pyspark/pandas/tests/series/test_cumulative.py\n",
            "spark-3.5.1-bin-hadoop3/python/pyspark/pandas/tests/series/test_all_any.py\n",
            "spark-3.5.1-bin-hadoop3/python/pyspark/pandas/tests/series/test_as_of.py\n",
            "spark-3.5.1-bin-hadoop3/python/pyspark/pandas/tests/series/test_missing_data.py\n",
            "spark-3.5.1-bin-hadoop3/python/pyspark/pandas/tests/series/test_stat.py\n",
            "spark-3.5.1-bin-hadoop3/python/pyspark/pandas/tests/series/test_conversion.py\n",
            "spark-3.5.1-bin-hadoop3/python/pyspark/pandas/tests/series/test_compute.py\n",
            "spark-3.5.1-bin-hadoop3/python/pyspark/pandas/tests/series/__init__.py\n",
            "spark-3.5.1-bin-hadoop3/python/pyspark/pandas/tests/series/test_sort.py\n",
            "spark-3.5.1-bin-hadoop3/python/pyspark/pandas/tests/test_default_index.py\n",
            "spark-3.5.1-bin-hadoop3/python/pyspark/pandas/tests/test_repr.py\n",
            "spark-3.5.1-bin-hadoop3/python/pyspark/pandas/tests/test_dataframe_spark_io.py\n",
            "spark-3.5.1-bin-hadoop3/python/pyspark/pandas/tests/test_internal.py\n",
            "spark-3.5.1-bin-hadoop3/python/pyspark/pandas/tests/test_series_datetime.py\n",
            "spark-3.5.1-bin-hadoop3/python/pyspark/pandas/tests/test_ops_on_diff_frames.py\n",
            "spark-3.5.1-bin-hadoop3/python/pyspark/pandas/tests/test_generic_functions.py\n",
            "spark-3.5.1-bin-hadoop3/python/pyspark/pandas/tests/test_reshape.py\n",
            "spark-3.5.1-bin-hadoop3/python/pyspark/pandas/tests/test_csv.py\n",
            "spark-3.5.1-bin-hadoop3/python/pyspark/pandas/tests/test_window.py\n",
            "spark-3.5.1-bin-hadoop3/python/pyspark/pandas/tests/test_stats.py\n",
            "spark-3.5.1-bin-hadoop3/python/pyspark/pandas/tests/test_config.py\n",
            "spark-3.5.1-bin-hadoop3/python/pyspark/pandas/tests/test_ops_on_diff_frames_groupby_rolling.py\n",
            "spark-3.5.1-bin-hadoop3/python/pyspark/pandas/tests/__init__.py\n",
            "spark-3.5.1-bin-hadoop3/python/pyspark/pandas/tests/test_series_conversion.py\n",
            "spark-3.5.1-bin-hadoop3/python/pyspark/pandas/tests/test_indexing.py\n",
            "spark-3.5.1-bin-hadoop3/python/pyspark/pandas/tests/test_indexops_spark.py\n",
            "spark-3.5.1-bin-hadoop3/python/pyspark/pandas/tests/test_categorical.py\n",
            "spark-3.5.1-bin-hadoop3/python/pyspark/pandas/internal.py\n",
            "spark-3.5.1-bin-hadoop3/python/pyspark/pandas/indexes/\n",
            "spark-3.5.1-bin-hadoop3/python/pyspark/pandas/indexes/timedelta.py\n",
            "spark-3.5.1-bin-hadoop3/python/pyspark/pandas/indexes/datetimes.py\n",
            "spark-3.5.1-bin-hadoop3/python/pyspark/pandas/indexes/category.py\n",
            "spark-3.5.1-bin-hadoop3/python/pyspark/pandas/indexes/base.py\n",
            "spark-3.5.1-bin-hadoop3/python/pyspark/pandas/indexes/numeric.py\n",
            "spark-3.5.1-bin-hadoop3/python/pyspark/pandas/indexes/__init__.py\n",
            "spark-3.5.1-bin-hadoop3/python/pyspark/pandas/indexes/multi.py\n",
            "spark-3.5.1-bin-hadoop3/python/pyspark/pandas/numpy_compat.py\n",
            "spark-3.5.1-bin-hadoop3/python/pyspark/pandas/datetimes.py\n",
            "spark-3.5.1-bin-hadoop3/python/pyspark/pandas/missing/\n",
            "spark-3.5.1-bin-hadoop3/python/pyspark/pandas/missing/frame.py\n",
            "spark-3.5.1-bin-hadoop3/python/pyspark/pandas/missing/groupby.py\n",
            "spark-3.5.1-bin-hadoop3/python/pyspark/pandas/missing/common.py\n",
            "spark-3.5.1-bin-hadoop3/python/pyspark/pandas/missing/resample.py\n",
            "spark-3.5.1-bin-hadoop3/python/pyspark/pandas/missing/indexes.py\n",
            "spark-3.5.1-bin-hadoop3/python/pyspark/pandas/missing/general_functions.py\n",
            "spark-3.5.1-bin-hadoop3/python/pyspark/pandas/missing/series.py\n",
            "spark-3.5.1-bin-hadoop3/python/pyspark/pandas/missing/window.py\n",
            "spark-3.5.1-bin-hadoop3/python/pyspark/pandas/missing/__init__.py\n",
            "spark-3.5.1-bin-hadoop3/python/pyspark/pandas/missing/scalars.py\n",
            "spark-3.5.1-bin-hadoop3/python/pyspark/pandas/_typing.py\n",
            "spark-3.5.1-bin-hadoop3/python/pyspark/pandas/spark/\n",
            "spark-3.5.1-bin-hadoop3/python/pyspark/pandas/spark/accessors.py\n",
            "spark-3.5.1-bin-hadoop3/python/pyspark/pandas/spark/functions.py\n",
            "spark-3.5.1-bin-hadoop3/python/pyspark/pandas/spark/utils.py\n",
            "spark-3.5.1-bin-hadoop3/python/pyspark/pandas/spark/__init__.py\n",
            "spark-3.5.1-bin-hadoop3/python/pyspark/pandas/series.py\n",
            "spark-3.5.1-bin-hadoop3/python/pyspark/pandas/base.py\n",
            "spark-3.5.1-bin-hadoop3/python/pyspark/pandas/window.py\n",
            "spark-3.5.1-bin-hadoop3/python/pyspark/pandas/utils.py\n",
            "spark-3.5.1-bin-hadoop3/python/pyspark/pandas/exceptions.py\n",
            "spark-3.5.1-bin-hadoop3/python/pyspark/pandas/mlflow.py\n",
            "spark-3.5.1-bin-hadoop3/python/pyspark/pandas/extensions.py\n",
            "spark-3.5.1-bin-hadoop3/python/pyspark/pandas/__init__.py\n",
            "spark-3.5.1-bin-hadoop3/python/pyspark/pandas/generic.py\n",
            "spark-3.5.1-bin-hadoop3/python/pyspark/pandas/config.py\n",
            "spark-3.5.1-bin-hadoop3/python/pyspark/pandas/strings.py\n",
            "spark-3.5.1-bin-hadoop3/python/pyspark/pandas/typedef/\n",
            "spark-3.5.1-bin-hadoop3/python/pyspark/pandas/typedef/typehints.py\n",
            "spark-3.5.1-bin-hadoop3/python/pyspark/pandas/typedef/__init__.py\n",
            "spark-3.5.1-bin-hadoop3/python/pyspark/pandas/sql_processor.py\n",
            "spark-3.5.1-bin-hadoop3/python/pyspark/mllib/\n",
            "spark-3.5.1-bin-hadoop3/python/pyspark/mllib/recommendation.py\n",
            "spark-3.5.1-bin-hadoop3/python/pyspark/mllib/regression.py\n",
            "spark-3.5.1-bin-hadoop3/python/pyspark/mllib/common.py\n",
            "spark-3.5.1-bin-hadoop3/python/pyspark/mllib/util.py\n",
            "spark-3.5.1-bin-hadoop3/python/pyspark/mllib/clustering.py\n",
            "spark-3.5.1-bin-hadoop3/python/pyspark/mllib/_typing.pyi\n",
            "spark-3.5.1-bin-hadoop3/python/pyspark/mllib/tests/\n",
            "spark-3.5.1-bin-hadoop3/python/pyspark/mllib/tests/test_streaming_algorithms.py\n",
            "spark-3.5.1-bin-hadoop3/python/pyspark/mllib/tests/test_algorithms.py\n",
            "spark-3.5.1-bin-hadoop3/python/pyspark/mllib/tests/test_feature.py\n",
            "spark-3.5.1-bin-hadoop3/python/pyspark/mllib/tests/test_util.py\n",
            "spark-3.5.1-bin-hadoop3/python/pyspark/mllib/tests/test_linalg.py\n",
            "spark-3.5.1-bin-hadoop3/python/pyspark/mllib/tests/test_stat.py\n",
            "spark-3.5.1-bin-hadoop3/python/pyspark/mllib/tests/__init__.py\n",
            "spark-3.5.1-bin-hadoop3/python/pyspark/mllib/linalg/\n",
            "spark-3.5.1-bin-hadoop3/python/pyspark/mllib/linalg/distributed.py\n",
            "spark-3.5.1-bin-hadoop3/python/pyspark/mllib/linalg/__init__.py\n",
            "spark-3.5.1-bin-hadoop3/python/pyspark/mllib/evaluation.py\n",
            "spark-3.5.1-bin-hadoop3/python/pyspark/mllib/stat/\n",
            "spark-3.5.1-bin-hadoop3/python/pyspark/mllib/stat/distribution.py\n",
            "spark-3.5.1-bin-hadoop3/python/pyspark/mllib/stat/KernelDensity.py\n",
            "spark-3.5.1-bin-hadoop3/python/pyspark/mllib/stat/test.py\n",
            "spark-3.5.1-bin-hadoop3/python/pyspark/mllib/stat/__init__.py\n",
            "spark-3.5.1-bin-hadoop3/python/pyspark/mllib/stat/_statistics.py\n",
            "spark-3.5.1-bin-hadoop3/python/pyspark/mllib/classification.py\n",
            "spark-3.5.1-bin-hadoop3/python/pyspark/mllib/feature.py\n",
            "spark-3.5.1-bin-hadoop3/python/pyspark/mllib/fpm.py\n",
            "spark-3.5.1-bin-hadoop3/python/pyspark/mllib/__init__.py\n",
            "spark-3.5.1-bin-hadoop3/python/pyspark/mllib/tree.py\n",
            "spark-3.5.1-bin-hadoop3/python/pyspark/mllib/random.py\n",
            "spark-3.5.1-bin-hadoop3/python/pyspark/broadcast.py\n",
            "spark-3.5.1-bin-hadoop3/python/pyspark/daemon.py\n",
            "spark-3.5.1-bin-hadoop3/python/pyspark/traceback_utils.py\n",
            "spark-3.5.1-bin-hadoop3/python/pyspark/serializers.py\n",
            "spark-3.5.1-bin-hadoop3/python/pyspark/errors/\n",
            "spark-3.5.1-bin-hadoop3/python/pyspark/errors/tests/\n",
            "spark-3.5.1-bin-hadoop3/python/pyspark/errors/tests/test_errors.py\n",
            "spark-3.5.1-bin-hadoop3/python/pyspark/errors/tests/__init__.py\n",
            "spark-3.5.1-bin-hadoop3/python/pyspark/errors/error_classes.py\n",
            "spark-3.5.1-bin-hadoop3/python/pyspark/errors/utils.py\n",
            "spark-3.5.1-bin-hadoop3/python/pyspark/errors/exceptions/\n",
            "spark-3.5.1-bin-hadoop3/python/pyspark/errors/exceptions/connect.py\n",
            "spark-3.5.1-bin-hadoop3/python/pyspark/errors/exceptions/captured.py\n",
            "spark-3.5.1-bin-hadoop3/python/pyspark/errors/exceptions/base.py\n",
            "spark-3.5.1-bin-hadoop3/python/pyspark/errors/exceptions/__init__.py\n",
            "spark-3.5.1-bin-hadoop3/python/pyspark/errors/__init__.py\n",
            "spark-3.5.1-bin-hadoop3/python/pyspark/shell.py\n",
            "spark-3.5.1-bin-hadoop3/python/pyspark/python/\n",
            "spark-3.5.1-bin-hadoop3/python/pyspark/python/pyspark/\n",
            "spark-3.5.1-bin-hadoop3/python/pyspark/python/pyspark/shell.py\n",
            "spark-3.5.1-bin-hadoop3/python/pyspark/taskcontext.py\n",
            "spark-3.5.1-bin-hadoop3/python/pyspark/files.py\n",
            "spark-3.5.1-bin-hadoop3/python/pyspark/__init__.py\n",
            "spark-3.5.1-bin-hadoop3/python/pyspark/install.py\n",
            "spark-3.5.1-bin-hadoop3/python/pyspark/_globals.py\n",
            "spark-3.5.1-bin-hadoop3/python/pyspark/shuffle.py\n",
            "spark-3.5.1-bin-hadoop3/python/pyspark/java_gateway.py\n",
            "spark-3.5.1-bin-hadoop3/python/pyspark/find_spark_home.py\n",
            "spark-3.5.1-bin-hadoop3/RELEASE\n",
            "spark-3.5.1-bin-hadoop3/R/\n",
            "spark-3.5.1-bin-hadoop3/R/lib/\n",
            "spark-3.5.1-bin-hadoop3/R/lib/SparkR/\n",
            "spark-3.5.1-bin-hadoop3/R/lib/SparkR/Meta/\n",
            "spark-3.5.1-bin-hadoop3/R/lib/SparkR/Meta/nsInfo.rds\n",
            "spark-3.5.1-bin-hadoop3/R/lib/SparkR/Meta/hsearch.rds\n",
            "spark-3.5.1-bin-hadoop3/R/lib/SparkR/Meta/vignette.rds\n",
            "spark-3.5.1-bin-hadoop3/R/lib/SparkR/Meta/Rd.rds\n",
            "spark-3.5.1-bin-hadoop3/R/lib/SparkR/Meta/package.rds\n",
            "spark-3.5.1-bin-hadoop3/R/lib/SparkR/Meta/links.rds\n",
            "spark-3.5.1-bin-hadoop3/R/lib/SparkR/Meta/features.rds\n",
            "spark-3.5.1-bin-hadoop3/R/lib/SparkR/doc/\n",
            "spark-3.5.1-bin-hadoop3/R/lib/SparkR/doc/index.html\n",
            "spark-3.5.1-bin-hadoop3/R/lib/SparkR/doc/sparkr-vignettes.html\n",
            "spark-3.5.1-bin-hadoop3/R/lib/SparkR/doc/sparkr-vignettes.Rmd\n",
            "spark-3.5.1-bin-hadoop3/R/lib/SparkR/doc/sparkr-vignettes.R\n",
            "spark-3.5.1-bin-hadoop3/R/lib/SparkR/help/\n",
            "spark-3.5.1-bin-hadoop3/R/lib/SparkR/help/SparkR.rdx\n",
            "spark-3.5.1-bin-hadoop3/R/lib/SparkR/help/paths.rds\n",
            "spark-3.5.1-bin-hadoop3/R/lib/SparkR/help/SparkR.rdb\n",
            "spark-3.5.1-bin-hadoop3/R/lib/SparkR/help/AnIndex\n",
            "spark-3.5.1-bin-hadoop3/R/lib/SparkR/help/aliases.rds\n",
            "spark-3.5.1-bin-hadoop3/R/lib/SparkR/NAMESPACE\n",
            "spark-3.5.1-bin-hadoop3/R/lib/SparkR/tests/\n",
            "spark-3.5.1-bin-hadoop3/R/lib/SparkR/tests/testthat/\n",
            "spark-3.5.1-bin-hadoop3/R/lib/SparkR/tests/testthat/test_basic.R\n",
            "spark-3.5.1-bin-hadoop3/R/lib/SparkR/INDEX\n",
            "spark-3.5.1-bin-hadoop3/R/lib/SparkR/DESCRIPTION\n",
            "spark-3.5.1-bin-hadoop3/R/lib/SparkR/profile/\n",
            "spark-3.5.1-bin-hadoop3/R/lib/SparkR/profile/general.R\n",
            "spark-3.5.1-bin-hadoop3/R/lib/SparkR/profile/shell.R\n",
            "spark-3.5.1-bin-hadoop3/R/lib/SparkR/worker/\n",
            "spark-3.5.1-bin-hadoop3/R/lib/SparkR/worker/daemon.R\n",
            "spark-3.5.1-bin-hadoop3/R/lib/SparkR/worker/worker.R\n",
            "spark-3.5.1-bin-hadoop3/R/lib/SparkR/html/\n",
            "spark-3.5.1-bin-hadoop3/R/lib/SparkR/html/00Index.html\n",
            "spark-3.5.1-bin-hadoop3/R/lib/SparkR/html/R.css\n",
            "spark-3.5.1-bin-hadoop3/R/lib/SparkR/R/\n",
            "spark-3.5.1-bin-hadoop3/R/lib/SparkR/R/SparkR.rdx\n",
            "spark-3.5.1-bin-hadoop3/R/lib/SparkR/R/SparkR.rdb\n",
            "spark-3.5.1-bin-hadoop3/R/lib/SparkR/R/SparkR\n",
            "spark-3.5.1-bin-hadoop3/R/lib/sparkr.zip\n",
            "Collecting findspark\n",
            "  Downloading findspark-2.0.1-py2.py3-none-any.whl.metadata (352 bytes)\n",
            "Downloading findspark-2.0.1-py2.py3-none-any.whl (4.4 kB)\n",
            "Installing collected packages: findspark\n",
            "Successfully installed findspark-2.0.1\n"
          ]
        }
      ]
    },
    {
      "cell_type": "code",
      "source": [
        "# Setting the JAVA_HOME and SPARK_HOME to the path of the installed OpenJDK 8 and path of the extraced Spark directory\n",
        "import os\n",
        "os.environ[\"JAVA_HOME\"] = \"/usr/lib/jvm/java-8-openjdk-amd64\"\n",
        "os.environ[\"SPARK_HOME\"] = \"/content/spark-3.5.1-bin-hadoop3\""
      ],
      "metadata": {
        "id": "89IpR3X2sg6r"
      },
      "execution_count": null,
      "outputs": []
    },
    {
      "cell_type": "code",
      "source": [
        "# Installing the PySpark package with the version 3.5.1\n",
        "!pip install pyspark==3.5.1"
      ],
      "metadata": {
        "id": "YvYVP-iosjQQ",
        "colab": {
          "base_uri": "https://localhost:8080/"
        },
        "outputId": "fa0f32c6-60af-4222-d172-19ea03e7d218"
      },
      "execution_count": null,
      "outputs": [
        {
          "output_type": "stream",
          "name": "stdout",
          "text": [
            "Collecting pyspark==3.5.1\n",
            "  Downloading pyspark-3.5.1.tar.gz (317.0 MB)\n",
            "\u001b[2K     \u001b[90m━━━━━━━━━━━━━━━━━━━━━━━━━━━━━━━━━━━━━━━━\u001b[0m \u001b[32m317.0/317.0 MB\u001b[0m \u001b[31m1.6 MB/s\u001b[0m eta \u001b[36m0:00:00\u001b[0m\n",
            "\u001b[?25h  Preparing metadata (setup.py) ... \u001b[?25l\u001b[?25hdone\n",
            "Requirement already satisfied: py4j==0.10.9.7 in /usr/local/lib/python3.11/dist-packages (from pyspark==3.5.1) (0.10.9.7)\n",
            "Building wheels for collected packages: pyspark\n",
            "  Building wheel for pyspark (setup.py) ... \u001b[?25l\u001b[?25hdone\n",
            "  Created wheel for pyspark: filename=pyspark-3.5.1-py2.py3-none-any.whl size=317488493 sha256=a1e0294384358fbb09af080e384ddab672450e798a726b8be14e4bbe72227437\n",
            "  Stored in directory: /root/.cache/pip/wheels/95/13/41/f7f135ee114175605fb4f0a89e7389f3742aa6c1e1a5bcb657\n",
            "Successfully built pyspark\n",
            "Installing collected packages: pyspark\n",
            "  Attempting uninstall: pyspark\n",
            "    Found existing installation: pyspark 3.5.5\n",
            "    Uninstalling pyspark-3.5.5:\n",
            "      Successfully uninstalled pyspark-3.5.5\n",
            "Successfully installed pyspark-3.5.1\n"
          ]
        }
      ]
    },
    {
      "cell_type": "code",
      "source": [
        "# Importing the necessary modules and packages needed\n",
        "from pyspark.sql import SparkSession\n",
        "from pyspark.sql.functions import isnull, sum, col, when,corr,rand, isnan,count\n",
        "from pyspark.ml.feature import Imputer,VectorAssembler,StandardScaler,StringIndexer\n",
        "import matplotlib.pyplot as plt\n",
        "import seaborn as sns\n",
        "from pyspark.sql.types import IntegerType, DoubleType\n",
        "import sqlite3\n",
        "from pyspark.ml.linalg import Vectors\n",
        "from pyspark.ml.stat import Correlation\n",
        "import pandas as pd\n",
        "from imblearn.over_sampling import SMOTE\n",
        "from pyspark.sql import functions as F\n",
        "from pyspark.ml.classification import LogisticRegression\n",
        "from pyspark.ml.evaluation import BinaryClassificationEvaluator, MulticlassClassificationEvaluator\n",
        "from pyspark.ml.classification import LinearSVC, RandomForestClassifier, DecisionTreeClassifier\n",
        "from pyspark.ml import Pipeline\n",
        "from pyspark.ml.evaluation import RegressionEvaluator\n",
        "from pyspark.ml.evaluation import MulticlassClassificationEvaluator\n"
      ],
      "metadata": {
        "id": "_b4RV8BRslyV"
      },
      "execution_count": null,
      "outputs": []
    },
    {
      "cell_type": "markdown",
      "source": [
        "**Reading Data**"
      ],
      "metadata": {
        "id": "FQneHVRSuZ10"
      }
    },
    {
      "cell_type": "code",
      "source": [
        "# Importing the findspark in order to initialize th Spark and SparkSession from pyspark.sql\n",
        "import findspark\n",
        "findspark.init()\n",
        "from pyspark.sql import SparkSession\n",
        "\n",
        "# Creating a Spark Session to run in a local mode and utilizing all the\n",
        "spark = SparkSession.builder.master(\"local[*]\").getOrCreate()\n",
        "# Enabling the immediate display of DataFrames for viewing\n",
        "spark.conf.set(\"spark.sql.repl.eagerEval.enabled\", True)"
      ],
      "metadata": {
        "id": "2imh-SHCufia"
      },
      "execution_count": null,
      "outputs": []
    },
    {
      "cell_type": "code",
      "source": [
        "#Reading the CSV file\n",
        "df = spark.read.csv(\"/content/drive/MyDrive/Bigdata/healthcare-dataset-stroke-data.csv\", header=True, inferSchema=True)"
      ],
      "metadata": {
        "id": "s5_Jmrmsuk9K"
      },
      "execution_count": null,
      "outputs": []
    },
    {
      "cell_type": "code",
      "source": [
        "# Showing the first 10 rows of the Dataframe\n",
        "df.show(10)"
      ],
      "metadata": {
        "colab": {
          "base_uri": "https://localhost:8080/"
        },
        "id": "c8sNHRIy1XQ_",
        "outputId": "c430fe6a-0ea3-4c88-a7d5-c7785ff81734"
      },
      "execution_count": null,
      "outputs": [
        {
          "output_type": "stream",
          "name": "stdout",
          "text": [
            "+-----+------+----+------------+-------------+------------+-------------+--------------+-----------------+----+---------------+------+\n",
            "|   id|gender| age|hypertension|heart_disease|ever_married|    work_type|Residence_type|avg_glucose_level| bmi| smoking_status|stroke|\n",
            "+-----+------+----+------------+-------------+------------+-------------+--------------+-----------------+----+---------------+------+\n",
            "| 9046|  Male|67.0|           0|            1|         Yes|      Private|         Urban|           228.69|36.6|formerly smoked|     1|\n",
            "|51676|Female|61.0|           0|            0|         Yes|Self-employed|         Rural|           202.21| N/A|   never smoked|     1|\n",
            "|31112|  Male|80.0|           0|            1|         Yes|      Private|         Rural|           105.92|32.5|   never smoked|     1|\n",
            "|60182|Female|49.0|           0|            0|         Yes|      Private|         Urban|           171.23|34.4|         smokes|     1|\n",
            "| 1665|Female|79.0|           1|            0|         Yes|Self-employed|         Rural|           174.12|  24|   never smoked|     1|\n",
            "|56669|  Male|81.0|           0|            0|         Yes|      Private|         Urban|           186.21|  29|formerly smoked|     1|\n",
            "|53882|  Male|74.0|           1|            1|         Yes|      Private|         Rural|            70.09|27.4|   never smoked|     1|\n",
            "|10434|Female|69.0|           0|            0|          No|      Private|         Urban|            94.39|22.8|   never smoked|     1|\n",
            "|27419|Female|59.0|           0|            0|         Yes|      Private|         Rural|            76.15| N/A|        Unknown|     1|\n",
            "|60491|Female|78.0|           0|            0|         Yes|      Private|         Urban|            58.57|24.2|        Unknown|     1|\n",
            "+-----+------+----+------------+-------------+------------+-------------+--------------+-----------------+----+---------------+------+\n",
            "only showing top 10 rows\n",
            "\n"
          ]
        }
      ]
    },
    {
      "cell_type": "code",
      "source": [
        "# Counting te number of the rows in the dataframe\n",
        "num_rows = df.count()"
      ],
      "metadata": {
        "id": "O7RcyRNf1fbe"
      },
      "execution_count": null,
      "outputs": []
    },
    {
      "cell_type": "code",
      "source": [
        "# Counting the number of columns in the dataframe\n",
        "num_columns = len(df.columns)"
      ],
      "metadata": {
        "id": "kfvG0od71pcH"
      },
      "execution_count": null,
      "outputs": []
    },
    {
      "cell_type": "code",
      "source": [
        "# Priniting the shape of the dataframe\n",
        "print(\"Shape of the DataFrame: ({}, {})\".format(num_rows, num_columns))"
      ],
      "metadata": {
        "colab": {
          "base_uri": "https://localhost:8080/"
        },
        "id": "zqXW5zsk1r4u",
        "outputId": "6211f127-fd42-4076-8b4c-921e9c4049a9"
      },
      "execution_count": null,
      "outputs": [
        {
          "output_type": "stream",
          "name": "stdout",
          "text": [
            "Shape of the DataFrame: (5110, 12)\n"
          ]
        }
      ]
    },
    {
      "cell_type": "code",
      "source": [
        "# Getting the column names of the dataframe\n",
        "df.columns"
      ],
      "metadata": {
        "colab": {
          "base_uri": "https://localhost:8080/"
        },
        "id": "CHbV7CHF1uj3",
        "outputId": "c634bec2-302d-4b11-9035-214e25f065e0"
      },
      "execution_count": null,
      "outputs": [
        {
          "output_type": "execute_result",
          "data": {
            "text/plain": [
              "['id',\n",
              " 'gender',\n",
              " 'age',\n",
              " 'hypertension',\n",
              " 'heart_disease',\n",
              " 'ever_married',\n",
              " 'work_type',\n",
              " 'Residence_type',\n",
              " 'avg_glucose_level',\n",
              " 'bmi',\n",
              " 'smoking_status',\n",
              " 'stroke']"
            ]
          },
          "metadata": {},
          "execution_count": 14
        }
      ]
    },
    {
      "cell_type": "code",
      "source": [
        "# Getting the data types of the columns contained in dataframe\n",
        "df.dtypes"
      ],
      "metadata": {
        "colab": {
          "base_uri": "https://localhost:8080/"
        },
        "id": "jVGEwMLS1xYg",
        "outputId": "74540ca3-75b7-44db-a08d-00dd9940dc55"
      },
      "execution_count": null,
      "outputs": [
        {
          "output_type": "execute_result",
          "data": {
            "text/plain": [
              "[('id', 'int'),\n",
              " ('gender', 'string'),\n",
              " ('age', 'double'),\n",
              " ('hypertension', 'int'),\n",
              " ('heart_disease', 'int'),\n",
              " ('ever_married', 'string'),\n",
              " ('work_type', 'string'),\n",
              " ('Residence_type', 'string'),\n",
              " ('avg_glucose_level', 'double'),\n",
              " ('bmi', 'string'),\n",
              " ('smoking_status', 'string'),\n",
              " ('stroke', 'int')]"
            ]
          },
          "metadata": {},
          "execution_count": 15
        }
      ]
    },
    {
      "cell_type": "code",
      "source": [
        "# Generating the summary for the clumn and displaying them\n",
        "df.describe().show()"
      ],
      "metadata": {
        "colab": {
          "base_uri": "https://localhost:8080/"
        },
        "id": "jY_P2uCF12NW",
        "outputId": "e3d933e3-6858-4dc4-e053-54cc94a39acd"
      },
      "execution_count": null,
      "outputs": [
        {
          "output_type": "stream",
          "name": "stdout",
          "text": [
            "+-------+-----------------+------+------------------+------------------+-------------------+------------+---------+--------------+------------------+------------------+--------------+-------------------+\n",
            "|summary|               id|gender|               age|      hypertension|      heart_disease|ever_married|work_type|Residence_type| avg_glucose_level|               bmi|smoking_status|             stroke|\n",
            "+-------+-----------------+------+------------------+------------------+-------------------+------------+---------+--------------+------------------+------------------+--------------+-------------------+\n",
            "|  count|             5110|  5110|              5110|              5110|               5110|        5110|     5110|          5110|              5110|              5110|          5110|               5110|\n",
            "|   mean|36517.82935420744|  NULL|43.226614481409015|0.0974559686888454|0.05401174168297456|        NULL|     NULL|          NULL|106.14767710371804|28.893236911794673|          NULL| 0.0487279843444227|\n",
            "| stddev|21161.72162482715|  NULL| 22.61264672311348| 0.296606674233791|0.22606298750336554|        NULL|     NULL|          NULL| 45.28356015058193|  7.85406672968016|          NULL|0.21531985698023753|\n",
            "|    min|               67|Female|              0.08|                 0|                  0|          No| Govt_job|         Rural|             55.12|              10.3|       Unknown|                  0|\n",
            "|    max|            72940| Other|              82.0|                 1|                  1|         Yes| children|         Urban|            271.74|               N/A|        smokes|                  1|\n",
            "+-------+-----------------+------+------------------+------------------+-------------------+------------+---------+--------------+------------------+------------------+--------------+-------------------+\n",
            "\n"
          ]
        }
      ]
    },
    {
      "cell_type": "markdown",
      "source": [
        "Data Analysis"
      ],
      "metadata": {
        "id": "HHhPiT7N1-LZ"
      }
    },
    {
      "cell_type": "code",
      "source": [
        "# Creating a temporary table spark_table\n",
        "df.createOrReplaceTempView(\"spark_table\")"
      ],
      "metadata": {
        "id": "lQMMl1VN1_tu"
      },
      "execution_count": null,
      "outputs": []
    },
    {
      "cell_type": "code",
      "source": [
        "# Selecting those rows where the stroke is equal to 1 i.e., positive\n",
        "stroke_pos = spark.sql(\"SELECT * FROM spark_table WHERE stroke = 1\")"
      ],
      "metadata": {
        "id": "Zes_OuFg2xL5"
      },
      "execution_count": null,
      "outputs": []
    },
    {
      "cell_type": "code",
      "source": [
        "# Selecting those rows where the stroke is equal to 0 i.e., negative\n",
        "stroke_neg = spark.sql(\"SELECT * FROM spark_table WHERE stroke = 0\")"
      ],
      "metadata": {
        "id": "9txbpEmQ3aqB"
      },
      "execution_count": null,
      "outputs": []
    },
    {
      "cell_type": "code",
      "source": [
        "# Displaying the top first five rows from the stroke_pos dataframe for positive ones\n",
        "stroke_pos.show(5)"
      ],
      "metadata": {
        "colab": {
          "base_uri": "https://localhost:8080/"
        },
        "id": "nuf40MGb3naJ",
        "outputId": "93e61d82-fe45-4265-849c-dafaf3fd2049"
      },
      "execution_count": null,
      "outputs": [
        {
          "output_type": "stream",
          "name": "stdout",
          "text": [
            "+-----+------+----+------------+-------------+------------+-------------+--------------+-----------------+----+---------------+------+\n",
            "|   id|gender| age|hypertension|heart_disease|ever_married|    work_type|Residence_type|avg_glucose_level| bmi| smoking_status|stroke|\n",
            "+-----+------+----+------------+-------------+------------+-------------+--------------+-----------------+----+---------------+------+\n",
            "| 9046|  Male|67.0|           0|            1|         Yes|      Private|         Urban|           228.69|36.6|formerly smoked|     1|\n",
            "|51676|Female|61.0|           0|            0|         Yes|Self-employed|         Rural|           202.21| N/A|   never smoked|     1|\n",
            "|31112|  Male|80.0|           0|            1|         Yes|      Private|         Rural|           105.92|32.5|   never smoked|     1|\n",
            "|60182|Female|49.0|           0|            0|         Yes|      Private|         Urban|           171.23|34.4|         smokes|     1|\n",
            "| 1665|Female|79.0|           1|            0|         Yes|Self-employed|         Rural|           174.12|  24|   never smoked|     1|\n",
            "+-----+------+----+------------+-------------+------------+-------------+--------------+-----------------+----+---------------+------+\n",
            "only showing top 5 rows\n",
            "\n"
          ]
        }
      ]
    },
    {
      "cell_type": "code",
      "source": [
        "# Displaying the top first five rows from the stroke_neg dataframe for negative ones\n",
        "stroke_neg.show(5)"
      ],
      "metadata": {
        "colab": {
          "base_uri": "https://localhost:8080/"
        },
        "id": "wYfTRyOL3vUV",
        "outputId": "a1e6a514-5f0e-4a48-f069-b135f5a2739f"
      },
      "execution_count": null,
      "outputs": [
        {
          "output_type": "stream",
          "name": "stdout",
          "text": [
            "+-----+------+----+------------+-------------+------------+------------+--------------+-----------------+----+---------------+------+\n",
            "|   id|gender| age|hypertension|heart_disease|ever_married|   work_type|Residence_type|avg_glucose_level| bmi| smoking_status|stroke|\n",
            "+-----+------+----+------------+-------------+------------+------------+--------------+-----------------+----+---------------+------+\n",
            "|30669|  Male| 3.0|           0|            0|          No|    children|         Rural|            95.12|  18|        Unknown|     0|\n",
            "|30468|  Male|58.0|           1|            0|         Yes|     Private|         Urban|            87.96|39.2|   never smoked|     0|\n",
            "|16523|Female| 8.0|           0|            0|          No|     Private|         Urban|           110.89|17.6|        Unknown|     0|\n",
            "|56543|Female|70.0|           0|            0|         Yes|     Private|         Rural|            69.04|35.9|formerly smoked|     0|\n",
            "|46136|  Male|14.0|           0|            0|          No|Never_worked|         Rural|           161.28|19.1|        Unknown|     0|\n",
            "+-----+------+----+------------+-------------+------------+------------+--------------+-----------------+----+---------------+------+\n",
            "only showing top 5 rows\n",
            "\n"
          ]
        }
      ]
    },
    {
      "cell_type": "markdown",
      "source": [
        "**Data Processing**\n",
        "\n",
        "\n"
      ],
      "metadata": {
        "id": "uB1p-MKj4ENM"
      }
    },
    {
      "cell_type": "code",
      "source": [
        "# Displaying the distinct values of 'gender','ever_married','Residence_type','work_type','smoking_status' columns\n",
        "df.select(\"gender\").distinct().show()\n",
        "df.select(\"ever_married\").distinct().show()\n",
        "df.select(\"Residence_type\").distinct().show()\n",
        "df.select('work_type').distinct().show()\n",
        "df.select('smoking_status').distinct().show()"
      ],
      "metadata": {
        "id": "xRwmU77a4Fkv",
        "outputId": "1b4f6367-31e7-4caa-8ab1-a9d9c8e71af8",
        "colab": {
          "base_uri": "https://localhost:8080/"
        }
      },
      "execution_count": null,
      "outputs": [
        {
          "output_type": "stream",
          "name": "stdout",
          "text": [
            "+------+\n",
            "|gender|\n",
            "+------+\n",
            "|Female|\n",
            "| Other|\n",
            "|  Male|\n",
            "+------+\n",
            "\n",
            "+------------+\n",
            "|ever_married|\n",
            "+------------+\n",
            "|          No|\n",
            "|         Yes|\n",
            "+------------+\n",
            "\n",
            "+--------------+\n",
            "|Residence_type|\n",
            "+--------------+\n",
            "|         Urban|\n",
            "|         Rural|\n",
            "+--------------+\n",
            "\n",
            "+-------------+\n",
            "|    work_type|\n",
            "+-------------+\n",
            "| Never_worked|\n",
            "|Self-employed|\n",
            "|      Private|\n",
            "|     children|\n",
            "|     Govt_job|\n",
            "+-------------+\n",
            "\n",
            "+---------------+\n",
            "| smoking_status|\n",
            "+---------------+\n",
            "|         smokes|\n",
            "|        Unknown|\n",
            "|   never smoked|\n",
            "|formerly smoked|\n",
            "+---------------+\n",
            "\n"
          ]
        }
      ]
    },
    {
      "cell_type": "code",
      "source": [
        "# Replacing the 'Unknown' values in the 'smoking_status' column with None\n",
        "df = df.withColumn(\"smoking_status\", when(col(\"smoking_status\") == \"Unknown\", None).otherwise(col(\"smoking_status\")))"
      ],
      "metadata": {
        "id": "4ovkw-ZaIfQ4"
      },
      "execution_count": null,
      "outputs": []
    },
    {
      "cell_type": "code",
      "source": [
        "# Counting the number of null,'N/A' and NAN values in each of the column\n",
        "null_counts = df.select([count(when(col(c).isNull() | (col(c) == \"N/A\") | isnan(col(c)), c)).alias(c) for c in df.columns]).collect()[0]"
      ],
      "metadata": {
        "id": "HNzlKRypLlPL"
      },
      "execution_count": null,
      "outputs": []
    },
    {
      "cell_type": "code",
      "source": [
        "# Printing the above count\n",
        "for column, count in zip(df.columns, null_counts):\n",
        "    print(f\"Null/Unknown/NA values in column '{column}': {count}\")"
      ],
      "metadata": {
        "colab": {
          "base_uri": "https://localhost:8080/"
        },
        "id": "KJG9YoyULoeA",
        "outputId": "cf04500c-900c-4f64-ab69-00ab6d73378a"
      },
      "execution_count": null,
      "outputs": [
        {
          "output_type": "stream",
          "name": "stdout",
          "text": [
            "Null/Unknown/NA values in column 'id': 0\n",
            "Null/Unknown/NA values in column 'gender': 0\n",
            "Null/Unknown/NA values in column 'age': 0\n",
            "Null/Unknown/NA values in column 'hypertension': 0\n",
            "Null/Unknown/NA values in column 'heart_disease': 0\n",
            "Null/Unknown/NA values in column 'ever_married': 0\n",
            "Null/Unknown/NA values in column 'work_type': 0\n",
            "Null/Unknown/NA values in column 'Residence_type': 0\n",
            "Null/Unknown/NA values in column 'avg_glucose_level': 0\n",
            "Null/Unknown/NA values in column 'bmi': 201\n",
            "Null/Unknown/NA values in column 'smoking_status': 1544\n",
            "Null/Unknown/NA values in column 'stroke': 0\n"
          ]
        }
      ]
    },
    {
      "cell_type": "code",
      "source": [
        "# Dropping the 'smoking_status' column and displaying the\n",
        "df=df.drop('smoking_status')\n",
        "df.show(5)"
      ],
      "metadata": {
        "colab": {
          "base_uri": "https://localhost:8080/"
        },
        "id": "HgO5AdFcLuRO",
        "outputId": "5926b783-6985-4974-ec03-aecf41507d34"
      },
      "execution_count": null,
      "outputs": [
        {
          "output_type": "stream",
          "name": "stdout",
          "text": [
            "+-----+------+----+------------+-------------+------------+-------------+--------------+-----------------+----+------+\n",
            "|   id|gender| age|hypertension|heart_disease|ever_married|    work_type|Residence_type|avg_glucose_level| bmi|stroke|\n",
            "+-----+------+----+------------+-------------+------------+-------------+--------------+-----------------+----+------+\n",
            "| 9046|  Male|67.0|           0|            1|         Yes|      Private|         Urban|           228.69|36.6|     1|\n",
            "|51676|Female|61.0|           0|            0|         Yes|Self-employed|         Rural|           202.21| N/A|     1|\n",
            "|31112|  Male|80.0|           0|            1|         Yes|      Private|         Rural|           105.92|32.5|     1|\n",
            "|60182|Female|49.0|           0|            0|         Yes|      Private|         Urban|           171.23|34.4|     1|\n",
            "| 1665|Female|79.0|           1|            0|         Yes|Self-employed|         Rural|           174.12|  24|     1|\n",
            "+-----+------+----+------------+-------------+------------+-------------+--------------+-----------------+----+------+\n",
            "only showing top 5 rows\n",
            "\n"
          ]
        }
      ]
    },
    {
      "cell_type": "code",
      "source": [
        "# Converting the 'bmi' column to double type\n",
        "df = df.withColumn(\"bmi\", df[\"bmi\"].cast(\"double\"))"
      ],
      "metadata": {
        "id": "Jn20s4JmLyDP"
      },
      "execution_count": null,
      "outputs": []
    },
    {
      "cell_type": "code",
      "source": [
        "# Finding out the approximate median of the 'bmi' column\n",
        "median_bmi = df.select(\"bmi\").approxQuantile(\"bmi\", [0.5], 0.01)[0]"
      ],
      "metadata": {
        "id": "RhlpXycWL4uY"
      },
      "execution_count": null,
      "outputs": []
    },
    {
      "cell_type": "code",
      "source": [
        "# Replacing null and 'N/A' values in the 'bmi' column with the calculated median\n",
        "df = df.withColumn(\"bmi\", when(col(\"bmi\").isNull() | (col(\"bmi\") == \"N/A\"), median_bmi).otherwise(col(\"bmi\")));\n",
        "df.show(5)"
      ],
      "metadata": {
        "colab": {
          "base_uri": "https://localhost:8080/"
        },
        "id": "IdeLSIjPL6DW",
        "outputId": "cc2aaa75-ea01-4ad2-fa53-5814097479ea"
      },
      "execution_count": null,
      "outputs": [
        {
          "output_type": "stream",
          "name": "stdout",
          "text": [
            "+-----+------+----+------------+-------------+------------+-------------+--------------+-----------------+----+------+\n",
            "|   id|gender| age|hypertension|heart_disease|ever_married|    work_type|Residence_type|avg_glucose_level| bmi|stroke|\n",
            "+-----+------+----+------------+-------------+------------+-------------+--------------+-----------------+----+------+\n",
            "| 9046|  Male|67.0|           0|            1|         Yes|      Private|         Urban|           228.69|36.6|     1|\n",
            "|51676|Female|61.0|           0|            0|         Yes|Self-employed|         Rural|           202.21|27.9|     1|\n",
            "|31112|  Male|80.0|           0|            1|         Yes|      Private|         Rural|           105.92|32.5|     1|\n",
            "|60182|Female|49.0|           0|            0|         Yes|      Private|         Urban|           171.23|34.4|     1|\n",
            "| 1665|Female|79.0|           1|            0|         Yes|Self-employed|         Rural|           174.12|24.0|     1|\n",
            "+-----+------+----+------------+-------------+------------+-------------+--------------+-----------------+----+------+\n",
            "only showing top 5 rows\n",
            "\n"
          ]
        }
      ]
    },
    {
      "cell_type": "markdown",
      "source": [
        "**Indexing Categorical Column**"
      ],
      "metadata": {
        "id": "YQGf2nXyMAhL"
      }
    },
    {
      "cell_type": "code",
      "source": [
        "#Indexing the caegorical column for encoding into numerical values\n",
        "gender_indexer = StringIndexer(inputCol=\"gender\", outputCol=\"gender_indexed\")\n",
        "ever_married_indexer = StringIndexer(inputCol=\"ever_married\", outputCol=\"ever_married_indexed\")\n",
        "work_type_indexer = StringIndexer(inputCol=\"work_type\", outputCol=\"work_type_indexed\")\n",
        "residence_type_indexer = StringIndexer(inputCol=\"Residence_type\", outputCol=\"residence_type_indexed\")"
      ],
      "metadata": {
        "id": "FdaWjjqUMEDp"
      },
      "execution_count": null,
      "outputs": []
    },
    {
      "cell_type": "code",
      "source": [
        "# Creating a list of indexers and fitting the\n",
        "indexers = [gender_indexer, ever_married_indexer, work_type_indexer, residence_type_indexer]\n",
        "indexer_model = [indexer.fit(df) for indexer in indexers]"
      ],
      "metadata": {
        "id": "3g0yAAwLMJUn"
      },
      "execution_count": null,
      "outputs": []
    },
    {
      "cell_type": "code",
      "source": [
        "#Indexing categorical columns and dropping original columns\n",
        "df_indexed = df\n",
        "for indexer, model in zip(indexers, indexer_model):\n",
        "    df_indexed = model.transform(df_indexed)\n",
        "    df_indexed = df_indexed.drop(indexer.getInputCol())"
      ],
      "metadata": {
        "id": "41s2kBv_MLwp"
      },
      "execution_count": null,
      "outputs": []
    },
    {
      "cell_type": "code",
      "source": [
        "# Updating the dataframe with the indexed columns and dropping the original columns\n",
        "df=df_indexed\n",
        "df.show(5)"
      ],
      "metadata": {
        "colab": {
          "base_uri": "https://localhost:8080/"
        },
        "id": "W_mUstk-MOzj",
        "outputId": "33f0277f-75f6-4f83-ee7a-6c2f0724e4f5"
      },
      "execution_count": null,
      "outputs": [
        {
          "output_type": "stream",
          "name": "stdout",
          "text": [
            "+-----+----+------------+-------------+-----------------+----+------+--------------+--------------------+-----------------+----------------------+\n",
            "|   id| age|hypertension|heart_disease|avg_glucose_level| bmi|stroke|gender_indexed|ever_married_indexed|work_type_indexed|residence_type_indexed|\n",
            "+-----+----+------------+-------------+-----------------+----+------+--------------+--------------------+-----------------+----------------------+\n",
            "| 9046|67.0|           0|            1|           228.69|36.6|     1|           1.0|                 0.0|              0.0|                   0.0|\n",
            "|51676|61.0|           0|            0|           202.21|27.9|     1|           0.0|                 0.0|              1.0|                   1.0|\n",
            "|31112|80.0|           0|            1|           105.92|32.5|     1|           1.0|                 0.0|              0.0|                   1.0|\n",
            "|60182|49.0|           0|            0|           171.23|34.4|     1|           0.0|                 0.0|              0.0|                   0.0|\n",
            "| 1665|79.0|           1|            0|           174.12|24.0|     1|           0.0|                 0.0|              1.0|                   1.0|\n",
            "+-----+----+------------+-------------+-----------------+----+------+--------------+--------------------+-----------------+----------------------+\n",
            "only showing top 5 rows\n",
            "\n"
          ]
        }
      ]
    },
    {
      "cell_type": "code",
      "source": [
        "# Generating summary for the DataFrame after indexing\n",
        "df.describe().show()"
      ],
      "metadata": {
        "colab": {
          "base_uri": "https://localhost:8080/"
        },
        "id": "LRouyGzHMWIf",
        "outputId": "fee040a8-0e6b-4167-ef86-55d1ab2caae1"
      },
      "execution_count": null,
      "outputs": [
        {
          "output_type": "stream",
          "name": "stdout",
          "text": [
            "+-------+-----------------+------------------+------------------+-------------------+------------------+------------------+-------------------+------------------+--------------------+------------------+----------------------+\n",
            "|summary|               id|               age|      hypertension|      heart_disease| avg_glucose_level|               bmi|             stroke|    gender_indexed|ever_married_indexed| work_type_indexed|residence_type_indexed|\n",
            "+-------+-----------------+------------------+------------------+-------------------+------------------+------------------+-------------------+------------------+--------------------+------------------+----------------------+\n",
            "|  count|             5110|              5110|              5110|               5110|              5110|              5110|               5110|              5110|                5110|              5110|                  5110|\n",
            "|   mean|36517.82935420744|43.226614481409015|0.0974559686888454|0.05401174168297456|106.14767710371804|28.854168297455875| 0.0487279843444227|0.4142857142857143| 0.34383561643835614|0.8320939334637965|    0.4919765166340509|\n",
            "| stddev|21161.72162482715| 22.61264672311348| 0.296606674233791|0.22606298750336554| 45.28356015058193| 7.700439194771876|0.21531985698023753|0.4930436314174791| 0.47503352003736915|1.1099239696577474|    0.4999845441302681|\n",
            "|    min|               67|              0.08|                 0|                  0|             55.12|              10.3|                  0|               0.0|                 0.0|               0.0|                   0.0|\n",
            "|    max|            72940|              82.0|                 1|                  1|            271.74|              97.6|                  1|               2.0|                 1.0|               4.0|                   1.0|\n",
            "+-------+-----------------+------------------+------------------+-------------------+------------------+------------------+-------------------+------------------+--------------------+------------------+----------------------+\n",
            "\n"
          ]
        }
      ]
    },
    {
      "cell_type": "markdown",
      "source": [
        "**Data Visulation and testing coorelation**"
      ],
      "metadata": {
        "id": "eGmtgLX7MaSH"
      }
    },
    {
      "cell_type": "code",
      "source": [
        "# Converting the Spark Dataframe into a pandas framework\n",
        "df_pandas = df.toPandas()\n",
        "# Generating summary for the pandas dataframe with background color gradient\n",
        "df_pandas.describe().style.background_gradient(cmap='Reds')"
      ],
      "metadata": {
        "colab": {
          "base_uri": "https://localhost:8080/",
          "height": 320
        },
        "id": "Ac0vwmhqMfuE",
        "outputId": "f51d794a-33ca-4744-9abd-15840e7db767"
      },
      "execution_count": null,
      "outputs": [
        {
          "output_type": "execute_result",
          "data": {
            "text/plain": [
              "<pandas.io.formats.style.Styler at 0x7834faacb710>"
            ],
            "text/html": [
              "<style type=\"text/css\">\n",
              "#T_b5531_row0_col0 {\n",
              "  background-color: #feeae0;\n",
              "  color: #000000;\n",
              "}\n",
              "#T_b5531_row0_col1, #T_b5531_row0_col2, #T_b5531_row0_col3, #T_b5531_row0_col4, #T_b5531_row0_col5, #T_b5531_row0_col6, #T_b5531_row0_col7, #T_b5531_row0_col8, #T_b5531_row0_col9, #T_b5531_row0_col10, #T_b5531_row7_col0 {\n",
              "  background-color: #67000d;\n",
              "  color: #f1f1f1;\n",
              "}\n",
              "#T_b5531_row1_col0 {\n",
              "  background-color: #fb694a;\n",
              "  color: #f1f1f1;\n",
              "}\n",
              "#T_b5531_row1_col1, #T_b5531_row5_col1, #T_b5531_row5_col4 {\n",
              "  background-color: #fff4ee;\n",
              "  color: #000000;\n",
              "}\n",
              "#T_b5531_row1_col2, #T_b5531_row1_col3, #T_b5531_row1_col6, #T_b5531_row1_col7, #T_b5531_row1_col8, #T_b5531_row1_col9, #T_b5531_row1_col10, #T_b5531_row2_col2, #T_b5531_row2_col3, #T_b5531_row2_col4, #T_b5531_row2_col5, #T_b5531_row2_col6, #T_b5531_row2_col7, #T_b5531_row2_col8, #T_b5531_row2_col9, #T_b5531_row2_col10, #T_b5531_row3_col0, #T_b5531_row3_col1, #T_b5531_row3_col2, #T_b5531_row3_col3, #T_b5531_row3_col4, #T_b5531_row3_col5, #T_b5531_row3_col6, #T_b5531_row3_col7, #T_b5531_row3_col8, #T_b5531_row3_col9, #T_b5531_row3_col10, #T_b5531_row4_col2, #T_b5531_row4_col3, #T_b5531_row4_col5, #T_b5531_row4_col6, #T_b5531_row4_col7, #T_b5531_row4_col8, #T_b5531_row4_col9, #T_b5531_row4_col10, #T_b5531_row5_col2, #T_b5531_row5_col3, #T_b5531_row5_col6, #T_b5531_row5_col7, #T_b5531_row5_col8, #T_b5531_row5_col9, #T_b5531_row5_col10, #T_b5531_row6_col2, #T_b5531_row6_col3, #T_b5531_row6_col6, #T_b5531_row6_col7, #T_b5531_row6_col8, #T_b5531_row6_col9, #T_b5531_row6_col10, #T_b5531_row7_col2, #T_b5531_row7_col3, #T_b5531_row7_col6, #T_b5531_row7_col7, #T_b5531_row7_col8, #T_b5531_row7_col9, #T_b5531_row7_col10 {\n",
              "  background-color: #fff5f0;\n",
              "  color: #000000;\n",
              "}\n",
              "#T_b5531_row1_col4, #T_b5531_row6_col1, #T_b5531_row6_col4 {\n",
              "  background-color: #fff3ed;\n",
              "  color: #000000;\n",
              "}\n",
              "#T_b5531_row1_col5, #T_b5531_row2_col1, #T_b5531_row4_col1, #T_b5531_row4_col4, #T_b5531_row5_col5, #T_b5531_row6_col5 {\n",
              "  background-color: #fff4ef;\n",
              "  color: #000000;\n",
              "}\n",
              "#T_b5531_row2_col0 {\n",
              "  background-color: #fcae92;\n",
              "  color: #000000;\n",
              "}\n",
              "#T_b5531_row4_col0 {\n",
              "  background-color: #fcbda4;\n",
              "  color: #000000;\n",
              "}\n",
              "#T_b5531_row5_col0 {\n",
              "  background-color: #fa6849;\n",
              "  color: #f1f1f1;\n",
              "}\n",
              "#T_b5531_row6_col0 {\n",
              "  background-color: #cb181d;\n",
              "  color: #f1f1f1;\n",
              "}\n",
              "#T_b5531_row7_col1, #T_b5531_row7_col5 {\n",
              "  background-color: #fff2ec;\n",
              "  color: #000000;\n",
              "}\n",
              "#T_b5531_row7_col4 {\n",
              "  background-color: #ffeee6;\n",
              "  color: #000000;\n",
              "}\n",
              "</style>\n",
              "<table id=\"T_b5531\" class=\"dataframe\">\n",
              "  <thead>\n",
              "    <tr>\n",
              "      <th class=\"blank level0\" >&nbsp;</th>\n",
              "      <th id=\"T_b5531_level0_col0\" class=\"col_heading level0 col0\" >id</th>\n",
              "      <th id=\"T_b5531_level0_col1\" class=\"col_heading level0 col1\" >age</th>\n",
              "      <th id=\"T_b5531_level0_col2\" class=\"col_heading level0 col2\" >hypertension</th>\n",
              "      <th id=\"T_b5531_level0_col3\" class=\"col_heading level0 col3\" >heart_disease</th>\n",
              "      <th id=\"T_b5531_level0_col4\" class=\"col_heading level0 col4\" >avg_glucose_level</th>\n",
              "      <th id=\"T_b5531_level0_col5\" class=\"col_heading level0 col5\" >bmi</th>\n",
              "      <th id=\"T_b5531_level0_col6\" class=\"col_heading level0 col6\" >stroke</th>\n",
              "      <th id=\"T_b5531_level0_col7\" class=\"col_heading level0 col7\" >gender_indexed</th>\n",
              "      <th id=\"T_b5531_level0_col8\" class=\"col_heading level0 col8\" >ever_married_indexed</th>\n",
              "      <th id=\"T_b5531_level0_col9\" class=\"col_heading level0 col9\" >work_type_indexed</th>\n",
              "      <th id=\"T_b5531_level0_col10\" class=\"col_heading level0 col10\" >residence_type_indexed</th>\n",
              "    </tr>\n",
              "  </thead>\n",
              "  <tbody>\n",
              "    <tr>\n",
              "      <th id=\"T_b5531_level0_row0\" class=\"row_heading level0 row0\" >count</th>\n",
              "      <td id=\"T_b5531_row0_col0\" class=\"data row0 col0\" >5110.000000</td>\n",
              "      <td id=\"T_b5531_row0_col1\" class=\"data row0 col1\" >5110.000000</td>\n",
              "      <td id=\"T_b5531_row0_col2\" class=\"data row0 col2\" >5110.000000</td>\n",
              "      <td id=\"T_b5531_row0_col3\" class=\"data row0 col3\" >5110.000000</td>\n",
              "      <td id=\"T_b5531_row0_col4\" class=\"data row0 col4\" >5110.000000</td>\n",
              "      <td id=\"T_b5531_row0_col5\" class=\"data row0 col5\" >5110.000000</td>\n",
              "      <td id=\"T_b5531_row0_col6\" class=\"data row0 col6\" >5110.000000</td>\n",
              "      <td id=\"T_b5531_row0_col7\" class=\"data row0 col7\" >5110.000000</td>\n",
              "      <td id=\"T_b5531_row0_col8\" class=\"data row0 col8\" >5110.000000</td>\n",
              "      <td id=\"T_b5531_row0_col9\" class=\"data row0 col9\" >5110.000000</td>\n",
              "      <td id=\"T_b5531_row0_col10\" class=\"data row0 col10\" >5110.000000</td>\n",
              "    </tr>\n",
              "    <tr>\n",
              "      <th id=\"T_b5531_level0_row1\" class=\"row_heading level0 row1\" >mean</th>\n",
              "      <td id=\"T_b5531_row1_col0\" class=\"data row1 col0\" >36517.829354</td>\n",
              "      <td id=\"T_b5531_row1_col1\" class=\"data row1 col1\" >43.226614</td>\n",
              "      <td id=\"T_b5531_row1_col2\" class=\"data row1 col2\" >0.097456</td>\n",
              "      <td id=\"T_b5531_row1_col3\" class=\"data row1 col3\" >0.054012</td>\n",
              "      <td id=\"T_b5531_row1_col4\" class=\"data row1 col4\" >106.147677</td>\n",
              "      <td id=\"T_b5531_row1_col5\" class=\"data row1 col5\" >28.854168</td>\n",
              "      <td id=\"T_b5531_row1_col6\" class=\"data row1 col6\" >0.048728</td>\n",
              "      <td id=\"T_b5531_row1_col7\" class=\"data row1 col7\" >0.414286</td>\n",
              "      <td id=\"T_b5531_row1_col8\" class=\"data row1 col8\" >0.343836</td>\n",
              "      <td id=\"T_b5531_row1_col9\" class=\"data row1 col9\" >0.832094</td>\n",
              "      <td id=\"T_b5531_row1_col10\" class=\"data row1 col10\" >0.491977</td>\n",
              "    </tr>\n",
              "    <tr>\n",
              "      <th id=\"T_b5531_level0_row2\" class=\"row_heading level0 row2\" >std</th>\n",
              "      <td id=\"T_b5531_row2_col0\" class=\"data row2 col0\" >21161.721625</td>\n",
              "      <td id=\"T_b5531_row2_col1\" class=\"data row2 col1\" >22.612647</td>\n",
              "      <td id=\"T_b5531_row2_col2\" class=\"data row2 col2\" >0.296607</td>\n",
              "      <td id=\"T_b5531_row2_col3\" class=\"data row2 col3\" >0.226063</td>\n",
              "      <td id=\"T_b5531_row2_col4\" class=\"data row2 col4\" >45.283560</td>\n",
              "      <td id=\"T_b5531_row2_col5\" class=\"data row2 col5\" >7.700439</td>\n",
              "      <td id=\"T_b5531_row2_col6\" class=\"data row2 col6\" >0.215320</td>\n",
              "      <td id=\"T_b5531_row2_col7\" class=\"data row2 col7\" >0.493044</td>\n",
              "      <td id=\"T_b5531_row2_col8\" class=\"data row2 col8\" >0.475034</td>\n",
              "      <td id=\"T_b5531_row2_col9\" class=\"data row2 col9\" >1.109924</td>\n",
              "      <td id=\"T_b5531_row2_col10\" class=\"data row2 col10\" >0.499985</td>\n",
              "    </tr>\n",
              "    <tr>\n",
              "      <th id=\"T_b5531_level0_row3\" class=\"row_heading level0 row3\" >min</th>\n",
              "      <td id=\"T_b5531_row3_col0\" class=\"data row3 col0\" >67.000000</td>\n",
              "      <td id=\"T_b5531_row3_col1\" class=\"data row3 col1\" >0.080000</td>\n",
              "      <td id=\"T_b5531_row3_col2\" class=\"data row3 col2\" >0.000000</td>\n",
              "      <td id=\"T_b5531_row3_col3\" class=\"data row3 col3\" >0.000000</td>\n",
              "      <td id=\"T_b5531_row3_col4\" class=\"data row3 col4\" >55.120000</td>\n",
              "      <td id=\"T_b5531_row3_col5\" class=\"data row3 col5\" >10.300000</td>\n",
              "      <td id=\"T_b5531_row3_col6\" class=\"data row3 col6\" >0.000000</td>\n",
              "      <td id=\"T_b5531_row3_col7\" class=\"data row3 col7\" >0.000000</td>\n",
              "      <td id=\"T_b5531_row3_col8\" class=\"data row3 col8\" >0.000000</td>\n",
              "      <td id=\"T_b5531_row3_col9\" class=\"data row3 col9\" >0.000000</td>\n",
              "      <td id=\"T_b5531_row3_col10\" class=\"data row3 col10\" >0.000000</td>\n",
              "    </tr>\n",
              "    <tr>\n",
              "      <th id=\"T_b5531_level0_row4\" class=\"row_heading level0 row4\" >25%</th>\n",
              "      <td id=\"T_b5531_row4_col0\" class=\"data row4 col0\" >17741.250000</td>\n",
              "      <td id=\"T_b5531_row4_col1\" class=\"data row4 col1\" >25.000000</td>\n",
              "      <td id=\"T_b5531_row4_col2\" class=\"data row4 col2\" >0.000000</td>\n",
              "      <td id=\"T_b5531_row4_col3\" class=\"data row4 col3\" >0.000000</td>\n",
              "      <td id=\"T_b5531_row4_col4\" class=\"data row4 col4\" >77.245000</td>\n",
              "      <td id=\"T_b5531_row4_col5\" class=\"data row4 col5\" >23.800000</td>\n",
              "      <td id=\"T_b5531_row4_col6\" class=\"data row4 col6\" >0.000000</td>\n",
              "      <td id=\"T_b5531_row4_col7\" class=\"data row4 col7\" >0.000000</td>\n",
              "      <td id=\"T_b5531_row4_col8\" class=\"data row4 col8\" >0.000000</td>\n",
              "      <td id=\"T_b5531_row4_col9\" class=\"data row4 col9\" >0.000000</td>\n",
              "      <td id=\"T_b5531_row4_col10\" class=\"data row4 col10\" >0.000000</td>\n",
              "    </tr>\n",
              "    <tr>\n",
              "      <th id=\"T_b5531_level0_row5\" class=\"row_heading level0 row5\" >50%</th>\n",
              "      <td id=\"T_b5531_row5_col0\" class=\"data row5 col0\" >36932.000000</td>\n",
              "      <td id=\"T_b5531_row5_col1\" class=\"data row5 col1\" >45.000000</td>\n",
              "      <td id=\"T_b5531_row5_col2\" class=\"data row5 col2\" >0.000000</td>\n",
              "      <td id=\"T_b5531_row5_col3\" class=\"data row5 col3\" >0.000000</td>\n",
              "      <td id=\"T_b5531_row5_col4\" class=\"data row5 col4\" >91.885000</td>\n",
              "      <td id=\"T_b5531_row5_col5\" class=\"data row5 col5\" >27.900000</td>\n",
              "      <td id=\"T_b5531_row5_col6\" class=\"data row5 col6\" >0.000000</td>\n",
              "      <td id=\"T_b5531_row5_col7\" class=\"data row5 col7\" >0.000000</td>\n",
              "      <td id=\"T_b5531_row5_col8\" class=\"data row5 col8\" >0.000000</td>\n",
              "      <td id=\"T_b5531_row5_col9\" class=\"data row5 col9\" >0.000000</td>\n",
              "      <td id=\"T_b5531_row5_col10\" class=\"data row5 col10\" >0.000000</td>\n",
              "    </tr>\n",
              "    <tr>\n",
              "      <th id=\"T_b5531_level0_row6\" class=\"row_heading level0 row6\" >75%</th>\n",
              "      <td id=\"T_b5531_row6_col0\" class=\"data row6 col0\" >54682.000000</td>\n",
              "      <td id=\"T_b5531_row6_col1\" class=\"data row6 col1\" >61.000000</td>\n",
              "      <td id=\"T_b5531_row6_col2\" class=\"data row6 col2\" >0.000000</td>\n",
              "      <td id=\"T_b5531_row6_col3\" class=\"data row6 col3\" >0.000000</td>\n",
              "      <td id=\"T_b5531_row6_col4\" class=\"data row6 col4\" >114.090000</td>\n",
              "      <td id=\"T_b5531_row6_col5\" class=\"data row6 col5\" >32.800000</td>\n",
              "      <td id=\"T_b5531_row6_col6\" class=\"data row6 col6\" >0.000000</td>\n",
              "      <td id=\"T_b5531_row6_col7\" class=\"data row6 col7\" >1.000000</td>\n",
              "      <td id=\"T_b5531_row6_col8\" class=\"data row6 col8\" >1.000000</td>\n",
              "      <td id=\"T_b5531_row6_col9\" class=\"data row6 col9\" >2.000000</td>\n",
              "      <td id=\"T_b5531_row6_col10\" class=\"data row6 col10\" >1.000000</td>\n",
              "    </tr>\n",
              "    <tr>\n",
              "      <th id=\"T_b5531_level0_row7\" class=\"row_heading level0 row7\" >max</th>\n",
              "      <td id=\"T_b5531_row7_col0\" class=\"data row7 col0\" >72940.000000</td>\n",
              "      <td id=\"T_b5531_row7_col1\" class=\"data row7 col1\" >82.000000</td>\n",
              "      <td id=\"T_b5531_row7_col2\" class=\"data row7 col2\" >1.000000</td>\n",
              "      <td id=\"T_b5531_row7_col3\" class=\"data row7 col3\" >1.000000</td>\n",
              "      <td id=\"T_b5531_row7_col4\" class=\"data row7 col4\" >271.740000</td>\n",
              "      <td id=\"T_b5531_row7_col5\" class=\"data row7 col5\" >97.600000</td>\n",
              "      <td id=\"T_b5531_row7_col6\" class=\"data row7 col6\" >1.000000</td>\n",
              "      <td id=\"T_b5531_row7_col7\" class=\"data row7 col7\" >2.000000</td>\n",
              "      <td id=\"T_b5531_row7_col8\" class=\"data row7 col8\" >1.000000</td>\n",
              "      <td id=\"T_b5531_row7_col9\" class=\"data row7 col9\" >4.000000</td>\n",
              "      <td id=\"T_b5531_row7_col10\" class=\"data row7 col10\" >1.000000</td>\n",
              "    </tr>\n",
              "  </tbody>\n",
              "</table>\n"
            ]
          },
          "metadata": {},
          "execution_count": 35
        }
      ]
    },
    {
      "cell_type": "code",
      "source": [
        "# Calculating correlation matrix between the 'stroke' and other column\n",
        "correlation_matrix = df.select([corr('stroke', col).alias(col) for col in df.columns])"
      ],
      "metadata": {
        "id": "Mg4sa7gOMi-c"
      },
      "execution_count": null,
      "outputs": []
    },
    {
      "cell_type": "code",
      "source": [
        "# Displaying the correlational matrix\n",
        "correlation_matrix.show()"
      ],
      "metadata": {
        "colab": {
          "base_uri": "https://localhost:8080/"
        },
        "id": "LIWa-h_UMnbi",
        "outputId": "f0d4fae3-12fa-4958-f712-2a9c458f14be"
      },
      "execution_count": null,
      "outputs": [
        {
          "output_type": "stream",
          "name": "stdout",
          "text": [
            "+--------------------+-------------------+-------------------+-------------------+-------------------+-------------------+------+--------------------+--------------------+--------------------+----------------------+\n",
            "|                  id|                age|       hypertension|      heart_disease|  avg_glucose_level|                bmi|stroke|      gender_indexed|ever_married_indexed|   work_type_indexed|residence_type_indexed|\n",
            "+--------------------+-------------------+-------------------+-------------------+-------------------+-------------------+------+--------------------+--------------------+--------------------+----------------------+\n",
            "|0.006388170005146098|0.24525734617097433|0.12790382346648013|0.13491399696869263|0.13194544082570953|0.03539269767540379|   1.0|0.008928866288788763|-0.10833974165701024|-0.03209796098236038|  -0.01545796547725...|\n",
            "+--------------------+-------------------+-------------------+-------------------+-------------------+-------------------+------+--------------------+--------------------+--------------------+----------------------+\n",
            "\n"
          ]
        }
      ]
    },
    {
      "cell_type": "code",
      "source": [
        "#Converting the correctional matrix rom Spark Datarame to Pandas DataFrame\n",
        "correlation_df = correlation_matrix.toPandas()"
      ],
      "metadata": {
        "id": "LiG0418LM1qY"
      },
      "execution_count": null,
      "outputs": []
    },
    {
      "cell_type": "code",
      "source": [
        "# Plotting the heatmap of the correlation matrix\n",
        "plt.figure(figsize=(10, 7))\n",
        "sns.heatmap(correlation_df, annot=True, fmt='.2f', annot_kws={'size': 10})\n",
        "plt.title(\"Data Correlations\")\n",
        "plt.show()"
      ],
      "metadata": {
        "colab": {
          "base_uri": "https://localhost:8080/",
          "height": 775
        },
        "id": "i10iyThBM-3Q",
        "outputId": "8f02746a-488d-41d1-ab71-bd327ddd5655"
      },
      "execution_count": null,
      "outputs": [
        {
          "output_type": "display_data",
          "data": {
            "text/plain": [
              "<Figure size 1000x700 with 2 Axes>"
            ],
            "image/png": "[encoded data removed]"
          },
          "metadata": {}
        }
      ]
    },
    {
      "cell_type": "code",
      "source": [
        "# Selecting the numerical column and printing selected the numerical columns\n",
        "numerical_cols = [col for col in df.columns if isinstance(df.select(col).schema[0].dataType, (IntegerType, DoubleType))]\n",
        "print(\"Selected numerical columns:\", numerical_cols)"
      ],
      "metadata": {
        "colab": {
          "base_uri": "https://localhost:8080/"
        },
        "id": "gdBUGUYMNGhW",
        "outputId": "6ae3bac9-1ca0-4334-b37d-2e6372f4ed6d"
      },
      "execution_count": null,
      "outputs": [
        {
          "output_type": "stream",
          "name": "stdout",
          "text": [
            "Selected numerical columns: ['id', 'age', 'hypertension', 'heart_disease', 'avg_glucose_level', 'bmi', 'stroke', 'gender_indexed', 'ever_married_indexed', 'work_type_indexed', 'residence_type_indexed']\n"
          ]
        }
      ]
    },
    {
      "cell_type": "code",
      "source": [
        "# Creating a vectorassembler in oreder to combine into single vector\n",
        "assembler = VectorAssembler(inputCols=numerical_cols, outputCol='features')"
      ],
      "metadata": {
        "id": "7ikV-G9hNUN_"
      },
      "execution_count": null,
      "outputs": []
    },
    {
      "cell_type": "code",
      "source": [
        "# Transforming the dataframe\n",
        "df_transformed = assembler.transform(df).select('features')"
      ],
      "metadata": {
        "id": "p3ut0ZyPNXgq"
      },
      "execution_count": null,
      "outputs": []
    },
    {
      "cell_type": "code",
      "source": [
        "# Calculating the correclation for the features\n",
        "correlation_matrix = Correlation.corr(df_transformed, 'features').collect()[0][0]\n",
        "corr_values = correlation_matrix.toArray()"
      ],
      "metadata": {
        "id": "VDdPcHcgNbq3"
      },
      "execution_count": null,
      "outputs": []
    },
    {
      "cell_type": "code",
      "source": [
        "import numpy as np\n",
        "import matplotlib.pyplot as plt\n",
        "\n",
        "# Assuming `numerical_cols` and `corr_values` are already defined\n",
        "plt.figure(figsize=(8, 8))\n",
        "plt.imshow(corr_values, cmap='Blues', interpolation='nearest')\n",
        "\n",
        "for i in range(len(numerical_cols)):\n",
        "    for j in range(len(numerical_cols)):\n",
        "        plt.text(j, i, np.round(corr_values[i, j], decimals=2), ha='center', va='center', color='black')\n",
        "\n",
        "plt.xticks(range(len(numerical_cols)), numerical_cols, rotation=90)\n",
        "plt.yticks(range(len(numerical_cols)), numerical_cols)\n",
        "plt.colorbar()\n",
        "plt.show()\n"
      ],
      "metadata": {
        "colab": {
          "base_uri": "https://localhost:8080/",
          "height": 775
        },
        "id": "chJIdf6SNgu2",
        "outputId": "10db0268-9fc0-464e-e1c2-cb601d5d0507"
      },
      "execution_count": null,
      "outputs": [
        {
          "output_type": "display_data",
          "data": {
            "text/plain": [
              "<Figure size 800x800 with 2 Axes>"
            ],
            "image/png": "[encoded data removed]"
          },
          "metadata": {}
        }
      ]
    },
    {
      "cell_type": "code",
      "source": [
        "import plotly.express as px\n",
        "#Convert the Spark DataFrame to Pandas DataFrame\n",
        "df_pandas = df.toPandas()"
      ],
      "metadata": {
        "id": "oolz9pi7N9zL"
      },
      "execution_count": null,
      "outputs": []
    },
    {
      "cell_type": "code",
      "source": [
        "# Map gender values to 1 (male) and 0 (female)\n",
        "df_pandas['gender_indexed'] = df_pandas['gender_indexed'].map({1: 'Male', 0: 'Female'})"
      ],
      "metadata": {
        "id": "Bqbao4jFOPtU"
      },
      "execution_count": null,
      "outputs": []
    },
    {
      "cell_type": "code",
      "source": [
        "# Create the box plot using Plotly Express\n",
        "fig = px.box(df_pandas, x='stroke', y='age', color='gender_indexed', template='plotly_dark')"
      ],
      "metadata": {
        "id": "iWPdvNJ6OSy1"
      },
      "execution_count": null,
      "outputs": []
    },
    {
      "cell_type": "code",
      "source": [
        "fig.update_layout(\n",
        "xaxis=dict(title='Stroke', tickfont=dict(size=12)),\n",
        "yaxis=dict(title='Age of the people', tickfont=dict(size=12)),\n",
        "legend=dict(font=dict(size=12)),\n",
        "font_color='white'\n",
        ")\n",
        "fig.show()"
      ],
      "metadata": {
        "colab": {
          "base_uri": "https://localhost:8080/",
          "height": 542
        },
        "id": "s-6RXiMpOXJQ",
        "outputId": "950c0bbc-6a58-4684-8880-768117f73cb7"
      },
      "execution_count": null,
      "outputs": [
        {
          "output_type": "display_data",
          "data": {
            "text/html": [
              "<html>\n",
              "<head><meta charset=\"utf-8\" /></head>\n",
              "<body>\n",
              "    <div>            <script src=\"https://cdnjs.cloudflare.com/ajax/libs/mathjax/2.7.5/MathJax.js?config=TeX-AMS-MML_SVG\"></script><script type=\"text/javascript\">if (window.MathJax && window.MathJax.Hub && window.MathJax.Hub.Config) {window.MathJax.Hub.Config({SVG: {font: \"STIX-Web\"}});}</script>                <script type=\"text/javascript\">window.PlotlyConfig = {MathJaxConfig: 'local'};</script>\n",
              "        <script charset=\"utf-8\" src=\"https://cdn.plot.ly/plotly-2.35.2.min.js\"></script>                <div id=\"f0f834be-bc13-4483-bdb4-881351aec06b\" class=\"plotly-graph-div\" style=\"height:525px; width:100%;\"></div>            <script type=\"text/javascript\">                                    window.PLOTLYENV=window.PLOTLYENV || {};                                    if (document.getElementById(\"f0f834be-bc13-4483-bdb4-881351aec06b\")) {                    Plotly.newPlot(                        \"f0f834be-bc13-4483-bdb4-881351aec06b\",                        [{\"alignmentgroup\":\"True\",\"hovertemplate\":\"gender_indexed=Male\\u003cbr\\u003estroke=%{x}\\u003cbr\\u003eage=%{y}\\u003cextra\\u003e\\u003c\\u002fextra\\u003e\",\"legendgroup\":\"Male\",\"marker\":{\"color\":\"#636efa\"},\"name\":\"Male\",\"notched\":false,\"offsetgroup\":\"Male\",\"orientation\":\"v\",\"showlegend\":true,\"x\":[1,1,1,1,1,1,1,1,1,1,1,1,1,1,1,1,1,1,1,1,1,1,1,1,1,1,1,1,1,1,1,1,1,1,1,1,1,1,1,1,1,1,1,1,1,1,1,1,1,1,1,1,1,1,1,1,1,1,1,1,1,1,1,1,1,1,1,1,1,1,1,1,1,1,1,1,1,1,1,1,1,1,1,1,1,1,1,1,1,1,1,1,1,1,1,1,1,1,1,1,1,1,1,1,1,1,1,1,0,0,0,0,0,0,0,0,0,0,0,0,0,0,0,0,0,0,0,0,0,0,0,0,0,0,0,0,0,0,0,0,0,0,0,0,0,0,0,0,0,0,0,0,0,0,0,0,0,0,0,0,0,0,0,0,0,0,0,0,0,0,0,0,0,0,0,0,0,0,0,0,0,0,0,0,0,0,0,0,0,0,0,0,0,0,0,0,0,0,0,0,0,0,0,0,0,0,0,0,0,0,0,0,0,0,0,0,0,0,0,0,0,0,0,0,0,0,0,0,0,0,0,0,0,0,0,0,0,0,0,0,0,0,0,0,0,0,0,0,0,0,0,0,0,0,0,0,0,0,0,0,0,0,0,0,0,0,0,0,0,0,0,0,0,0,0,0,0,0,0,0,0,0,0,0,0,0,0,0,0,0,0,0,0,0,0,0,0,0,0,0,0,0,0,0,0,0,0,0,0,0,0,0,0,0,0,0,0,0,0,0,0,0,0,0,0,0,0,0,0,0,0,0,0,0,0,0,0,0,0,0,0,0,0,0,0,0,0,0,0,0,0,0,0,0,0,0,0,0,0,0,0,0,0,0,0,0,0,0,0,0,0,0,0,0,0,0,0,0,0,0,0,0,0,0,0,0,0,0,0,0,0,0,0,0,0,0,0,0,0,0,0,0,0,0,0,0,0,0,0,0,0,0,0,0,0,0,0,0,0,0,0,0,0,0,0,0,0,0,0,0,0,0,0,0,0,0,0,0,0,0,0,0,0,0,0,0,0,0,0,0,0,0,0,0,0,0,0,0,0,0,0,0,0,0,0,0,0,0,0,0,0,0,0,0,0,0,0,0,0,0,0,0,0,0,0,0,0,0,0,0,0,0,0,0,0,0,0,0,0,0,0,0,0,0,0,0,0,0,0,0,0,0,0,0,0,0,0,0,0,0,0,0,0,0,0,0,0,0,0,0,0,0,0,0,0,0,0,0,0,0,0,0,0,0,0,0,0,0,0,0,0,0,0,0,0,0,0,0,0,0,0,0,0,0,0,0,0,0,0,0,0,0,0,0,0,0,0,0,0,0,0,0,0,0,0,0,0,0,0,0,0,0,0,0,0,0,0,0,0,0,0,0,0,0,0,0,0,0,0,0,0,0,0,0,0,0,0,0,0,0,0,0,0,0,0,0,0,0,0,0,0,0,0,0,0,0,0,0,0,0,0,0,0,0,0,0,0,0,0,0,0,0,0,0,0,0,0,0,0,0,0,0,0,0,0,0,0,0,0,0,0,0,0,0,0,0,0,0,0,0,0,0,0,0,0,0,0,0,0,0,0,0,0,0,0,0,0,0,0,0,0,0,0,0,0,0,0,0,0,0,0,0,0,0,0,0,0,0,0,0,0,0,0,0,0,0,0,0,0,0,0,0,0,0,0,0,0,0,0,0,0,0,0,0,0,0,0,0,0,0,0,0,0,0,0,0,0,0,0,0,0,0,0,0,0,0,0,0,0,0,0,0,0,0,0,0,0,0,0,0,0,0,0,0,0,0,0,0,0,0,0,0,0,0,0,0,0,0,0,0,0,0,0,0,0,0,0,0,0,0,0,0,0,0,0,0,0,0,0,0,0,0,0,0,0,0,0,0,0,0,0,0,0,0,0,0,0,0,0,0,0,0,0,0,0,0,0,0,0,0,0,0,0,0,0,0,0,0,0,0,0,0,0,0,0,0,0,0,0,0,0,0,0,0,0,0,0,0,0,0,0,0,0,0,0,0,0,0,0,0,0,0,0,0,0,0,0,0,0,0,0,0,0,0,0,0,0,0,0,0,0,0,0,0,0,0,0,0,0,0,0,0,0,0,0,0,0,0,0,0,0,0,0,0,0,0,0,0,0,0,0,0,0,0,0,0,0,0,0,0,0,0,0,0,0,0,0,0,0,0,0,0,0,0,0,0,0,0,0,0,0,0,0,0,0,0,0,0,0,0,0,0,0,0,0,0,0,0,0,0,0,0,0,0,0,0,0,0,0,0,0,0,0,0,0,0,0,0,0,0,0,0,0,0,0,0,0,0,0,0,0,0,0,0,0,0,0,0,0,0,0,0,0,0,0,0,0,0,0,0,0,0,0,0,0,0,0,0,0,0,0,0,0,0,0,0,0,0,0,0,0,0,0,0,0,0,0,0,0,0,0,0,0,0,0,0,0,0,0,0,0,0,0,0,0,0,0,0,0,0,0,0,0,0,0,0,0,0,0,0,0,0,0,0,0,0,0,0,0,0,0,0,0,0,0,0,0,0,0,0,0,0,0,0,0,0,0,0,0,0,0,0,0,0,0,0,0,0,0,0,0,0,0,0,0,0,0,0,0,0,0,0,0,0,0,0,0,0,0,0,0,0,0,0,0,0,0,0,0,0,0,0,0,0,0,0,0,0,0,0,0,0,0,0,0,0,0,0,0,0,0,0,0,0,0,0,0,0,0,0,0,0,0,0,0,0,0,0,0,0,0,0,0,0,0,0,0,0,0,0,0,0,0,0,0,0,0,0,0,0,0,0,0,0,0,0,0,0,0,0,0,0,0,0,0,0,0,0,0,0,0,0,0,0,0,0,0,0,0,0,0,0,0,0,0,0,0,0,0,0,0,0,0,0,0,0,0,0,0,0,0,0,0,0,0,0,0,0,0,0,0,0,0,0,0,0,0,0,0,0,0,0,0,0,0,0,0,0,0,0,0,0,0,0,0,0,0,0,0,0,0,0,0,0,0,0,0,0,0,0,0,0,0,0,0,0,0,0,0,0,0,0,0,0,0,0,0,0,0,0,0,0,0,0,0,0,0,0,0,0,0,0,0,0,0,0,0,0,0,0,0,0,0,0,0,0,0,0,0,0,0,0,0,0,0,0,0,0,0,0,0,0,0,0,0,0,0,0,0,0,0,0,0,0,0,0,0,0,0,0,0,0,0,0,0,0,0,0,0,0,0,0,0,0,0,0,0,0,0,0,0,0,0,0,0,0,0,0,0,0,0,0,0,0,0,0,0,0,0,0,0,0,0,0,0,0,0,0,0,0,0,0,0,0,0,0,0,0,0,0,0,0,0,0,0,0,0,0,0,0,0,0,0,0,0,0,0,0,0,0,0,0,0,0,0,0,0,0,0,0,0,0,0,0,0,0,0,0,0,0,0,0,0,0,0,0,0,0,0,0,0,0,0,0,0,0,0,0,0,0,0,0,0,0,0,0,0,0,0,0,0,0,0,0,0,0,0,0,0,0,0,0,0,0,0,0,0,0,0,0,0,0,0,0,0,0,0,0,0,0,0,0,0,0,0,0,0,0,0,0,0,0,0,0,0,0,0,0,0,0,0,0,0,0,0,0,0,0,0,0,0,0,0,0,0,0,0,0,0,0,0,0,0,0,0,0,0,0,0,0,0,0,0,0,0,0,0,0,0,0,0,0,0,0,0,0,0,0,0,0,0,0,0,0,0,0,0,0,0,0,0,0,0,0,0,0,0,0,0,0,0,0,0,0,0,0,0,0,0,0,0,0,0,0,0,0,0,0,0,0,0,0,0,0,0,0,0,0,0,0,0,0,0,0,0,0,0,0,0,0,0,0,0,0,0,0,0,0,0,0,0,0,0,0,0,0,0,0,0,0,0,0,0,0,0,0,0,0,0,0,0,0,0,0,0,0,0,0,0,0,0,0,0,0,0,0,0,0,0,0,0,0,0,0,0,0,0,0,0,0,0,0,0,0,0,0,0,0,0,0,0,0,0,0,0,0,0,0,0,0,0,0,0,0,0,0,0,0,0,0,0,0,0,0,0,0,0,0,0,0,0,0,0,0,0,0,0,0,0,0,0,0,0,0,0,0,0,0,0,0,0,0,0,0,0,0,0,0,0,0,0,0,0,0,0,0,0,0,0,0,0,0,0,0,0,0,0,0,0,0,0,0,0,0,0,0,0,0,0,0,0,0,0,0,0,0,0,0,0,0,0,0,0,0,0,0,0,0,0,0,0,0,0,0,0,0,0,0,0,0,0,0,0,0,0,0,0,0,0,0,0,0,0,0,0,0,0,0,0,0,0,0,0,0,0,0,0,0,0,0,0,0,0,0,0,0,0,0,0,0,0,0,0,0,0,0,0,0,0,0,0,0,0,0,0,0,0,0,0,0,0,0,0,0,0,0,0,0,0,0,0,0,0,0,0,0,0,0,0,0,0,0,0,0,0,0,0,0,0,0,0,0,0,0,0,0,0,0,0,0,0,0,0,0,0,0,0,0,0,0,0,0,0,0,0,0,0,0,0,0,0,0,0,0,0,0,0,0,0,0,0,0,0,0,0,0,0,0,0,0,0,0,0,0,0,0,0,0,0,0,0,0,0,0,0,0,0,0,0,0,0,0,0,0,0,0,0,0,0,0,0,0,0,0,0,0,0,0,0,0,0,0,0,0,0,0,0,0,0,0,0,0,0,0,0,0,0,0,0,0,0,0,0,0,0,0,0,0,0,0,0,0,0,0,0,0,0,0,0,0,0,0,0,0,0],\"x0\":\" \",\"xaxis\":\"x\",\"y\":[67.0,80.0,81.0,74.0,78.0,64.0,75.0,57.0,82.0,71.0,80.0,58.0,69.0,59.0,57.0,42.0,80.0,48.0,74.0,58.0,78.0,54.0,82.0,60.0,76.0,81.0,78.0,63.0,78.0,73.0,75.0,78.0,76.0,59.0,63.0,80.0,43.0,59.0,58.0,54.0,61.0,47.0,74.0,81.0,45.0,58.0,57.0,64.0,58.0,79.0,80.0,71.0,61.0,74.0,80.0,56.0,78.0,82.0,69.0,76.0,76.0,82.0,66.0,65.0,68.0,68.0,71.0,78.0,79.0,81.0,64.0,72.0,78.0,81.0,59.0,61.0,63.0,63.0,82.0,61.0,51.0,59.0,68.0,59.0,70.0,69.0,79.0,74.0,80.0,54.0,78.0,78.0,63.0,78.0,73.0,81.0,79.0,49.0,74.0,78.0,57.0,77.0,60.0,66.0,57.0,68.0,57.0,71.0,3.0,58.0,14.0,79.0,35.0,71.0,27.0,58.0,14.0,59.0,13.0,4.0,67.0,58.0,69.0,44.0,66.0,27.0,43.0,51.0,46.0,57.0,61.0,22.0,11.0,53.0,27.0,76.0,8.0,33.0,11.0,34.0,64.0,68.0,43.0,52.0,76.0,34.0,44.0,41.0,56.0,25.0,4.0,53.0,5.0,4.0,70.0,24.0,55.0,34.0,26.0,38.0,60.0,58.0,57.0,7.0,64.0,12.0,75.0,63.0,53.0,31.0,64.0,53.0,65.0,53.0,20.0,13.0,21.0,65.0,42.0,72.0,13.0,29.0,59.0,13.0,75.0,25.0,69.0,68.0,26.0,25.0,61.0,54.0,11.0,9.0,20.0,21.0,35.0,53.0,60.0,74.0,5.0,29.0,52.0,64.0,31.0,22.0,41.0,49.0,10.0,67.0,40.0,70.0,72.0,23.0,51.0,57.0,65.0,29.0,42.0,18.0,9.0,40.0,77.0,52.0,5.0,36.0,46.0,5.0,12.0,67.0,27.0,25.0,57.0,54.0,18.0,45.0,29.0,18.0,72.0,5.0,57.0,51.0,48.0,15.0,53.0,23.0,31.0,5.0,44.0,40.0,7.0,42.0,48.0,82.0,50.0,43.0,33.0,65.0,52.0,59.0,58.0,28.0,57.0,48.0,37.0,15.0,61.0,53.0,65.0,74.0,71.0,78.0,52.0,28.0,56.0,76.0,10.0,40.0,82.0,61.0,12.0,25.0,31.0,20.0,28.0,32.0,38.0,47.0,78.0,29.0,56.0,9.0,50.0,70.0,24.0,17.0,9.0,50.0,6.0,30.0,73.0,42.0,71.0,23.0,31.0,46.0,55.0,2.0,19.0,47.0,82.0,33.0,42.0,20.0,22.0,61.0,17.0,69.0,19.0,7.0,2.0,19.0,17.0,79.0,39.0,55.0,41.0,41.0,38.0,40.0,12.0,20.0,53.0,61.0,70.0,59.0,61.0,2.0,52.0,5.0,53.0,1.0,71.0,44.0,49.0,2.0,43.0,71.0,41.0,65.0,52.0,49.0,80.0,45.0,26.0,58.0,74.0,17.0,37.0,62.0,80.0,81.0,27.0,71.0,48.0,39.0,63.0,57.0,8.0,71.0,19.0,64.0,75.0,80.0,40.0,54.0,19.0,13.0,60.0,79.0,15.0,1.0,6.0,50.0,31.0,30.0,17.0,24.0,33.0,66.0,40.0,21.0,75.0,59.0,34.0,0.88,50.0,19.0,20.0,50.0,61.0,48.0,82.0,64.0,1.4,0.24,55.0,4.0,70.0,35.0,39.0,9.0,55.0,71.0,49.0,79.0,22.0,39.0,82.0,56.0,41.0,34.0,75.0,57.0,21.0,45.0,57.0,61.0,27.0,57.0,9.0,51.0,61.0,55.0,67.0,67.0,5.0,8.0,47.0,27.0,27.0,30.0,70.0,18.0,41.0,52.0,34.0,1.64,62.0,47.0,33.0,47.0,13.0,53.0,19.0,3.0,15.0,52.0,80.0,2.0,1.56,62.0,1.72,57.0,10.0,56.0,37.0,69.0,46.0,45.0,4.0,74.0,62.0,18.0,23.0,73.0,43.0,43.0,62.0,73.0,42.0,64.0,46.0,80.0,21.0,37.0,51.0,68.0,1.88,20.0,10.0,8.0,65.0,46.0,53.0,43.0,3.0,32.0,53.0,35.0,67.0,15.0,2.0,50.0,15.0,4.0,2.0,11.0,22.0,63.0,49.0,39.0,67.0,48.0,63.0,37.0,20.0,34.0,22.0,53.0,66.0,8.0,53.0,63.0,31.0,43.0,79.0,8.0,38.0,13.0,46.0,73.0,60.0,44.0,5.0,44.0,49.0,80.0,50.0,45.0,55.0,0.8,50.0,73.0,30.0,57.0,29.0,54.0,63.0,46.0,76.0,47.0,49.0,71.0,72.0,68.0,6.0,4.0,72.0,1.08,35.0,54.0,40.0,2.0,41.0,58.0,17.0,39.0,59.0,12.0,12.0,13.0,74.0,75.0,37.0,55.0,57.0,46.0,12.0,6.0,76.0,62.0,82.0,69.0,78.0,37.0,54.0,43.0,9.0,56.0,25.0,18.0,2.0,1.0,54.0,67.0,53.0,47.0,44.0,65.0,81.0,9.0,62.0,16.0,62.0,27.0,24.0,17.0,13.0,51.0,8.0,48.0,18.0,7.0,68.0,49.0,31.0,35.0,2.0,53.0,1.88,60.0,68.0,2.0,24.0,64.0,38.0,42.0,46.0,67.0,51.0,18.0,53.0,75.0,56.0,71.0,78.0,62.0,27.0,30.0,25.0,61.0,71.0,59.0,4.0,65.0,42.0,51.0,66.0,5.0,19.0,12.0,62.0,63.0,8.0,76.0,12.0,48.0,52.0,23.0,25.0,67.0,2.0,31.0,61.0,46.0,47.0,47.0,0.4,51.0,60.0,59.0,15.0,53.0,45.0,70.0,56.0,51.0,34.0,69.0,2.0,77.0,23.0,59.0,76.0,41.0,54.0,21.0,70.0,44.0,53.0,59.0,63.0,58.0,45.0,58.0,44.0,37.0,66.0,63.0,6.0,62.0,82.0,57.0,50.0,35.0,8.0,3.0,36.0,14.0,35.0,45.0,19.0,8.0,59.0,34.0,11.0,36.0,13.0,69.0,63.0,58.0,61.0,37.0,16.0,39.0,24.0,51.0,66.0,31.0,1.72,56.0,62.0,16.0,5.0,26.0,10.0,31.0,22.0,4.0,76.0,32.0,2.0,34.0,54.0,13.0,1.0,57.0,46.0,34.0,25.0,60.0,22.0,35.0,48.0,13.0,50.0,61.0,60.0,43.0,60.0,16.0,14.0,61.0,56.0,14.0,37.0,64.0,12.0,77.0,14.0,37.0,8.0,18.0,78.0,43.0,63.0,10.0,56.0,80.0,63.0,62.0,47.0,25.0,71.0,72.0,63.0,54.0,20.0,56.0,62.0,5.0,21.0,44.0,39.0,38.0,77.0,51.0,39.0,67.0,43.0,42.0,57.0,44.0,16.0,9.0,57.0,81.0,10.0,34.0,33.0,52.0,72.0,52.0,6.0,3.0,18.0,58.0,40.0,75.0,52.0,39.0,45.0,0.56,26.0,44.0,25.0,51.0,18.0,2.0,64.0,22.0,71.0,0.24,54.0,53.0,35.0,31.0,60.0,0.56,59.0,0.64,10.0,60.0,11.0,48.0,69.0,55.0,37.0,72.0,0.48,56.0,6.0,60.0,58.0,8.0,18.0,49.0,2.0,12.0,64.0,64.0,59.0,50.0,73.0,19.0,47.0,1.32,74.0,74.0,63.0,47.0,70.0,41.0,15.0,11.0,65.0,55.0,78.0,35.0,50.0,77.0,57.0,13.0,14.0,1.24,21.0,36.0,42.0,46.0,79.0,67.0,37.0,17.0,50.0,53.0,55.0,52.0,24.0,72.0,41.0,43.0,13.0,39.0,25.0,10.0,7.0,6.0,50.0,3.0,28.0,40.0,55.0,9.0,18.0,73.0,58.0,5.0,78.0,56.0,64.0,13.0,40.0,80.0,79.0,1.72,16.0,46.0,45.0,73.0,78.0,69.0,67.0,28.0,34.0,50.0,55.0,2.0,57.0,48.0,54.0,8.0,45.0,39.0,39.0,40.0,14.0,14.0,49.0,58.0,67.0,8.0,59.0,28.0,67.0,71.0,51.0,22.0,42.0,73.0,64.0,52.0,49.0,55.0,23.0,18.0,12.0,66.0,59.0,47.0,62.0,37.0,5.0,1.08,49.0,2.0,18.0,82.0,57.0,68.0,77.0,47.0,42.0,37.0,73.0,48.0,54.0,43.0,19.0,6.0,47.0,34.0,20.0,62.0,0.88,50.0,71.0,7.0,79.0,72.0,25.0,58.0,56.0,47.0,26.0,55.0,35.0,1.64,48.0,45.0,31.0,60.0,51.0,53.0,52.0,14.0,30.0,65.0,37.0,9.0,62.0,14.0,36.0,78.0,44.0,10.0,8.0,13.0,46.0,11.0,82.0,79.0,36.0,71.0,78.0,77.0,74.0,9.0,1.64,8.0,14.0,0.88,78.0,32.0,0.88,66.0,78.0,46.0,77.0,76.0,49.0,34.0,50.0,62.0,28.0,28.0,18.0,62.0,31.0,55.0,73.0,26.0,73.0,75.0,81.0,78.0,16.0,4.0,79.0,60.0,23.0,21.0,10.0,50.0,79.0,14.0,71.0,32.0,46.0,48.0,55.0,25.0,73.0,60.0,27.0,46.0,57.0,54.0,7.0,69.0,59.0,49.0,26.0,27.0,0.32,39.0,54.0,39.0,6.0,56.0,53.0,5.0,13.0,60.0,10.0,42.0,21.0,59.0,63.0,25.0,53.0,12.0,42.0,80.0,32.0,49.0,70.0,23.0,78.0,47.0,29.0,52.0,67.0,5.0,52.0,46.0,61.0,20.0,47.0,66.0,2.0,55.0,58.0,15.0,31.0,80.0,80.0,54.0,39.0,76.0,41.0,48.0,39.0,44.0,38.0,32.0,17.0,81.0,15.0,70.0,52.0,61.0,58.0,14.0,27.0,9.0,59.0,55.0,15.0,19.0,65.0,17.0,54.0,3.0,43.0,79.0,72.0,64.0,26.0,2.0,46.0,32.0,48.0,78.0,14.0,10.0,47.0,14.0,45.0,58.0,0.8,57.0,20.0,43.0,62.0,42.0,50.0,80.0,76.0,5.0,29.0,70.0,24.0,20.0,34.0,32.0,27.0,20.0,29.0,63.0,59.0,63.0,52.0,30.0,75.0,14.0,6.0,38.0,3.0,57.0,58.0,76.0,34.0,75.0,11.0,71.0,0.64,32.0,39.0,48.0,24.0,65.0,72.0,10.0,29.0,46.0,33.0,63.0,0.24,55.0,50.0,78.0,63.0,65.0,51.0,60.0,69.0,46.0,23.0,32.0,8.0,77.0,25.0,15.0,1.64,4.0,28.0,16.0,44.0,46.0,46.0,19.0,75.0,34.0,53.0,48.0,79.0,16.0,70.0,55.0,79.0,80.0,59.0,62.0,51.0,42.0,59.0,12.0,71.0,44.0,30.0,62.0,78.0,71.0,12.0,26.0,33.0,60.0,50.0,45.0,76.0,28.0,79.0,30.0,40.0,77.0,2.0,52.0,33.0,40.0,19.0,25.0,61.0,36.0,62.0,13.0,49.0,56.0,77.0,13.0,51.0,73.0,12.0,32.0,12.0,32.0,1.32,53.0,81.0,66.0,8.0,82.0,58.0,42.0,22.0,52.0,54.0,32.0,13.0,18.0,11.0,44.0,36.0,10.0,32.0,43.0,11.0,55.0,78.0,73.0,54.0,42.0,78.0,24.0,50.0,52.0,56.0,56.0,18.0,30.0,39.0,44.0,24.0,54.0,24.0,21.0,33.0,62.0,14.0,60.0,80.0,46.0,26.0,15.0,67.0,63.0,78.0,67.0,41.0,65.0,40.0,46.0,56.0,54.0,2.0,76.0,0.56,30.0,9.0,47.0,61.0,36.0,46.0,32.0,9.0,31.0,43.0,34.0,66.0,18.0,55.0,61.0,0.08,48.0,44.0,52.0,15.0,2.0,60.0,52.0,61.0,36.0,34.0,43.0,81.0,60.0,1.88,72.0,47.0,5.0,27.0,13.0,6.0,4.0,63.0,9.0,41.0,80.0,37.0,77.0,38.0,49.0,23.0,55.0,16.0,81.0,82.0,48.0,56.0,61.0,43.0,41.0,37.0,63.0,51.0,57.0,11.0,74.0,0.24,17.0,8.0,23.0,47.0,24.0,44.0,38.0,18.0,13.0,13.0,5.0,5.0,66.0,41.0,14.0,71.0,32.0,16.0,0.56,32.0,58.0,55.0,49.0,62.0,75.0,59.0,82.0,34.0,17.0,50.0,5.0,47.0,14.0,53.0,67.0,39.0,57.0,79.0,44.0,14.0,81.0,52.0,54.0,27.0,29.0,49.0,52.0,49.0,18.0,52.0,70.0,58.0,51.0,16.0,65.0,40.0,11.0,24.0,5.0,41.0,61.0,25.0,72.0,9.0,33.0,53.0,59.0,27.0,64.0,33.0,39.0,38.0,53.0,22.0,24.0,41.0,38.0,53.0,43.0,30.0,48.0,51.0,69.0,82.0,1.88,45.0,32.0,34.0,17.0,61.0,30.0,48.0,0.16,38.0,19.0,8.0,78.0,0.8,34.0,58.0,78.0,82.0,55.0,81.0,12.0,7.0,6.0,4.0,75.0,80.0,11.0,14.0,58.0,71.0,15.0,45.0,53.0,69.0,64.0,44.0,78.0,80.0,58.0,38.0,28.0,31.0,43.0,1.08,34.0,44.0,69.0,16.0,64.0,41.0,65.0,61.0,63.0,1.8,45.0,51.0,8.0,52.0,71.0,10.0,71.0,15.0,8.0,79.0,26.0,22.0,72.0,8.0,7.0,55.0,58.0,45.0,66.0,80.0,19.0,49.0,78.0,78.0,60.0,12.0,5.0,50.0,1.64,42.0,43.0,35.0,64.0,23.0,39.0,6.0,58.0,17.0,3.0,56.0,45.0,8.0,62.0,40.0,2.0,62.0,50.0,26.0,0.32,45.0,64.0,2.0,12.0,32.0,23.0,26.0,36.0,21.0,81.0,52.0,20.0,1.56,45.0,77.0,37.0,4.0,65.0,46.0,66.0,78.0,56.0,49.0,31.0,37.0,61.0,24.0,66.0,71.0,18.0,57.0,1.8,35.0,67.0,8.0,5.0,56.0,49.0,61.0,76.0,20.0,36.0,20.0,49.0,75.0,28.0,0.16,59.0,12.0,15.0,31.0,52.0,50.0,20.0,67.0,73.0,10.0,57.0,76.0,39.0,45.0,33.0,62.0,1.88,38.0,0.72,57.0,42.0,36.0,44.0,59.0,16.0,13.0,9.0,0.16,5.0,58.0,9.0,62.0,59.0,15.0,5.0,17.0,37.0,54.0,55.0,68.0,9.0,17.0,24.0,38.0,2.0,79.0,31.0,66.0,30.0,51.0,40.0,3.0,4.0,52.0,68.0,36.0,55.0,82.0,55.0,51.0,80.0,41.0,29.0,39.0,66.0,35.0,26.0,79.0,57.0,68.0,69.0,37.0,10.0,39.0,4.0,72.0,63.0,49.0,57.0,54.0,57.0,56.0,66.0,18.0,30.0,8.0,55.0,79.0,25.0,38.0,71.0,46.0,45.0,14.0,5.0,51.0,40.0,61.0,33.0,19.0,53.0,81.0,43.0,32.0,47.0,40.0,38.0,48.0,47.0,64.0,38.0,37.0,68.0,5.0,19.0,41.0,40.0,17.0,3.0,23.0,31.0,7.0,64.0,25.0,81.0,65.0,81.0,36.0,31.0,55.0,39.0,59.0,69.0,3.0,33.0,39.0,61.0,0.24,48.0,30.0,1.48,47.0,53.0,39.0,57.0,30.0,44.0,65.0,6.0,15.0,54.0,63.0,37.0,80.0,43.0,60.0,4.0,66.0,61.0,15.0,1.72,60.0,66.0,2.0,54.0,11.0,16.0,4.0,35.0,66.0,34.0,73.0,81.0,13.0,57.0,21.0,18.0,66.0,11.0,43.0,31.0,7.0,41.0,11.0,55.0,51.0,28.0,78.0,71.0,18.0,3.0,51.0,54.0,56.0,28.0,56.0,47.0,63.0,40.0,55.0,14.0,42.0,19.0,55.0,54.0,15.0,52.0,54.0,60.0,7.0,3.0,60.0,26.0,16.0,44.0,54.0,52.0,60.0,82.0,35.0,10.0,8.0,4.0,49.0,16.0,54.0,49.0,11.0,51.0,74.0,17.0,64.0,52.0,11.0,23.0,15.0,48.0,33.0,46.0,68.0,60.0,57.0,9.0,4.0,37.0,3.0,14.0,16.0,40.0,33.0,2.0,36.0,30.0,16.0,58.0,47.0,59.0,59.0,57.0,33.0,32.0,28.0,25.0,33.0,65.0,36.0,31.0,54.0,77.0,42.0,72.0,49.0,32.0,70.0,8.0,54.0,37.0,59.0,21.0,2.0,14.0,32.0,70.0,44.0,39.0,19.0,8.0,8.0,78.0,31.0,5.0,55.0,63.0,67.0,59.0,47.0,50.0,51.0,44.0,62.0,15.0,79.0,57.0,9.0,55.0,41.0,41.0,67.0,18.0,60.0,75.0,48.0,62.0,69.0,56.0,52.0,46.0,49.0,10.0,82.0,16.0,31.0,17.0,73.0,42.0,79.0,53.0,9.0,21.0,29.0,8.0,37.0,9.0,17.0,8.0,62.0,73.0,48.0,17.0,62.0,5.0,15.0,34.0,75.0,53.0,57.0,32.0,66.0,49.0,73.0,19.0,1.08,4.0,1.8,44.0,55.0,75.0,14.0,32.0,43.0,5.0,49.0,12.0,39.0,16.0,3.0,33.0,54.0,65.0,7.0,25.0,55.0,20.0,54.0,23.0,75.0,36.0,72.0,40.0,38.0,11.0,0.72,9.0,28.0,1.32,16.0,24.0,38.0,13.0,4.0,55.0,58.0,51.0,38.0,60.0,47.0,54.0,3.0,30.0,65.0,78.0,15.0,20.0,76.0,31.0,58.0,64.0,4.0,18.0,20.0,17.0,29.0,29.0,5.0,33.0,10.0,21.0,56.0,55.0,41.0,30.0,53.0,32.0,38.0,33.0,44.0,40.0,5.0,21.0,78.0,41.0,39.0,70.0,21.0,80.0,81.0,70.0,17.0,1.72,55.0,67.0,26.0,59.0,76.0,13.0,1.08,57.0,68.0,9.0,40.0,82.0,51.0],\"y0\":\" \",\"yaxis\":\"y\",\"type\":\"box\"},{\"alignmentgroup\":\"True\",\"hovertemplate\":\"gender_indexed=Female\\u003cbr\\u003estroke=%{x}\\u003cbr\\u003eage=%{y}\\u003cextra\\u003e\\u003c\\u002fextra\\u003e\",\"legendgroup\":\"Female\",\"marker\":{\"color\":\"#EF553B\"},\"name\":\"Female\",\"notched\":false,\"offsetgroup\":\"Female\",\"orientation\":\"v\",\"showlegend\":true,\"x\":[1,1,1,1,1,1,1,1,1,1,1,1,1,1,1,1,1,1,1,1,1,1,1,1,1,1,1,1,1,1,1,1,1,1,1,1,1,1,1,1,1,1,1,1,1,1,1,1,1,1,1,1,1,1,1,1,1,1,1,1,1,1,1,1,1,1,1,1,1,1,1,1,1,1,1,1,1,1,1,1,1,1,1,1,1,1,1,1,1,1,1,1,1,1,1,1,1,1,1,1,1,1,1,1,1,1,1,1,1,1,1,1,1,1,1,1,1,1,1,1,1,1,1,1,1,1,1,1,1,1,1,1,1,1,1,1,1,1,1,1,1,0,0,0,0,0,0,0,0,0,0,0,0,0,0,0,0,0,0,0,0,0,0,0,0,0,0,0,0,0,0,0,0,0,0,0,0,0,0,0,0,0,0,0,0,0,0,0,0,0,0,0,0,0,0,0,0,0,0,0,0,0,0,0,0,0,0,0,0,0,0,0,0,0,0,0,0,0,0,0,0,0,0,0,0,0,0,0,0,0,0,0,0,0,0,0,0,0,0,0,0,0,0,0,0,0,0,0,0,0,0,0,0,0,0,0,0,0,0,0,0,0,0,0,0,0,0,0,0,0,0,0,0,0,0,0,0,0,0,0,0,0,0,0,0,0,0,0,0,0,0,0,0,0,0,0,0,0,0,0,0,0,0,0,0,0,0,0,0,0,0,0,0,0,0,0,0,0,0,0,0,0,0,0,0,0,0,0,0,0,0,0,0,0,0,0,0,0,0,0,0,0,0,0,0,0,0,0,0,0,0,0,0,0,0,0,0,0,0,0,0,0,0,0,0,0,0,0,0,0,0,0,0,0,0,0,0,0,0,0,0,0,0,0,0,0,0,0,0,0,0,0,0,0,0,0,0,0,0,0,0,0,0,0,0,0,0,0,0,0,0,0,0,0,0,0,0,0,0,0,0,0,0,0,0,0,0,0,0,0,0,0,0,0,0,0,0,0,0,0,0,0,0,0,0,0,0,0,0,0,0,0,0,0,0,0,0,0,0,0,0,0,0,0,0,0,0,0,0,0,0,0,0,0,0,0,0,0,0,0,0,0,0,0,0,0,0,0,0,0,0,0,0,0,0,0,0,0,0,0,0,0,0,0,0,0,0,0,0,0,0,0,0,0,0,0,0,0,0,0,0,0,0,0,0,0,0,0,0,0,0,0,0,0,0,0,0,0,0,0,0,0,0,0,0,0,0,0,0,0,0,0,0,0,0,0,0,0,0,0,0,0,0,0,0,0,0,0,0,0,0,0,0,0,0,0,0,0,0,0,0,0,0,0,0,0,0,0,0,0,0,0,0,0,0,0,0,0,0,0,0,0,0,0,0,0,0,0,0,0,0,0,0,0,0,0,0,0,0,0,0,0,0,0,0,0,0,0,0,0,0,0,0,0,0,0,0,0,0,0,0,0,0,0,0,0,0,0,0,0,0,0,0,0,0,0,0,0,0,0,0,0,0,0,0,0,0,0,0,0,0,0,0,0,0,0,0,0,0,0,0,0,0,0,0,0,0,0,0,0,0,0,0,0,0,0,0,0,0,0,0,0,0,0,0,0,0,0,0,0,0,0,0,0,0,0,0,0,0,0,0,0,0,0,0,0,0,0,0,0,0,0,0,0,0,0,0,0,0,0,0,0,0,0,0,0,0,0,0,0,0,0,0,0,0,0,0,0,0,0,0,0,0,0,0,0,0,0,0,0,0,0,0,0,0,0,0,0,0,0,0,0,0,0,0,0,0,0,0,0,0,0,0,0,0,0,0,0,0,0,0,0,0,0,0,0,0,0,0,0,0,0,0,0,0,0,0,0,0,0,0,0,0,0,0,0,0,0,0,0,0,0,0,0,0,0,0,0,0,0,0,0,0,0,0,0,0,0,0,0,0,0,0,0,0,0,0,0,0,0,0,0,0,0,0,0,0,0,0,0,0,0,0,0,0,0,0,0,0,0,0,0,0,0,0,0,0,0,0,0,0,0,0,0,0,0,0,0,0,0,0,0,0,0,0,0,0,0,0,0,0,0,0,0,0,0,0,0,0,0,0,0,0,0,0,0,0,0,0,0,0,0,0,0,0,0,0,0,0,0,0,0,0,0,0,0,0,0,0,0,0,0,0,0,0,0,0,0,0,0,0,0,0,0,0,0,0,0,0,0,0,0,0,0,0,0,0,0,0,0,0,0,0,0,0,0,0,0,0,0,0,0,0,0,0,0,0,0,0,0,0,0,0,0,0,0,0,0,0,0,0,0,0,0,0,0,0,0,0,0,0,0,0,0,0,0,0,0,0,0,0,0,0,0,0,0,0,0,0,0,0,0,0,0,0,0,0,0,0,0,0,0,0,0,0,0,0,0,0,0,0,0,0,0,0,0,0,0,0,0,0,0,0,0,0,0,0,0,0,0,0,0,0,0,0,0,0,0,0,0,0,0,0,0,0,0,0,0,0,0,0,0,0,0,0,0,0,0,0,0,0,0,0,0,0,0,0,0,0,0,0,0,0,0,0,0,0,0,0,0,0,0,0,0,0,0,0,0,0,0,0,0,0,0,0,0,0,0,0,0,0,0,0,0,0,0,0,0,0,0,0,0,0,0,0,0,0,0,0,0,0,0,0,0,0,0,0,0,0,0,0,0,0,0,0,0,0,0,0,0,0,0,0,0,0,0,0,0,0,0,0,0,0,0,0,0,0,0,0,0,0,0,0,0,0,0,0,0,0,0,0,0,0,0,0,0,0,0,0,0,0,0,0,0,0,0,0,0,0,0,0,0,0,0,0,0,0,0,0,0,0,0,0,0,0,0,0,0,0,0,0,0,0,0,0,0,0,0,0,0,0,0,0,0,0,0,0,0,0,0,0,0,0,0,0,0,0,0,0,0,0,0,0,0,0,0,0,0,0,0,0,0,0,0,0,0,0,0,0,0,0,0,0,0,0,0,0,0,0,0,0,0,0,0,0,0,0,0,0,0,0,0,0,0,0,0,0,0,0,0,0,0,0,0,0,0,0,0,0,0,0,0,0,0,0,0,0,0,0,0,0,0,0,0,0,0,0,0,0,0,0,0,0,0,0,0,0,0,0,0,0,0,0,0,0,0,0,0,0,0,0,0,0,0,0,0,0,0,0,0,0,0,0,0,0,0,0,0,0,0,0,0,0,0,0,0,0,0,0,0,0,0,0,0,0,0,0,0,0,0,0,0,0,0,0,0,0,0,0,0,0,0,0,0,0,0,0,0,0,0,0,0,0,0,0,0,0,0,0,0,0,0,0,0,0,0,0,0,0,0,0,0,0,0,0,0,0,0,0,0,0,0,0,0,0,0,0,0,0,0,0,0,0,0,0,0,0,0,0,0,0,0,0,0,0,0,0,0,0,0,0,0,0,0,0,0,0,0,0,0,0,0,0,0,0,0,0,0,0,0,0,0,0,0,0,0,0,0,0,0,0,0,0,0,0,0,0,0,0,0,0,0,0,0,0,0,0,0,0,0,0,0,0,0,0,0,0,0,0,0,0,0,0,0,0,0,0,0,0,0,0,0,0,0,0,0,0,0,0,0,0,0,0,0,0,0,0,0,0,0,0,0,0,0,0,0,0,0,0,0,0,0,0,0,0,0,0,0,0,0,0,0,0,0,0,0,0,0,0,0,0,0,0,0,0,0,0,0,0,0,0,0,0,0,0,0,0,0,0,0,0,0,0,0,0,0,0,0,0,0,0,0,0,0,0,0,0,0,0,0,0,0,0,0,0,0,0,0,0,0,0,0,0,0,0,0,0,0,0,0,0,0,0,0,0,0,0,0,0,0,0,0,0,0,0,0,0,0,0,0,0,0,0,0,0,0,0,0,0,0,0,0,0,0,0,0,0,0,0,0,0,0,0,0,0,0,0,0,0,0,0,0,0,0,0,0,0,0,0,0,0,0,0,0,0,0,0,0,0,0,0,0,0,0,0,0,0,0,0,0,0,0,0,0,0,0,0,0,0,0,0,0,0,0,0,0,0,0,0,0,0,0,0,0,0,0,0,0,0,0,0,0,0,0,0,0,0,0,0,0,0,0,0,0,0,0,0,0,0,0,0,0,0,0,0,0,0,0,0,0,0,0,0,0,0,0,0,0,0,0,0,0,0,0,0,0,0,0,0,0,0,0,0,0,0,0,0,0,0,0,0,0,0,0,0,0,0,0,0,0,0,0,0,0,0,0,0,0,0,0,0,0,0,0,0,0,0,0,0,0,0,0,0,0,0,0,0,0,0,0,0,0,0,0,0,0,0,0,0,0,0,0,0,0,0,0,0,0,0,0,0,0,0,0,0,0,0,0,0,0,0,0,0,0,0,0,0,0,0,0,0,0,0,0,0,0,0,0,0,0,0,0,0,0,0,0,0,0,0,0,0,0,0,0,0,0,0,0,0,0,0,0,0,0,0,0,0,0,0,0,0,0,0,0,0,0,0,0,0,0,0,0,0,0,0,0,0,0,0,0,0,0,0,0,0,0,0,0,0,0,0,0,0,0,0,0,0,0,0,0,0,0,0,0,0,0,0,0,0,0,0,0,0,0,0,0,0,0,0,0,0,0,0,0,0,0,0,0,0,0,0,0,0,0,0,0,0,0,0,0,0,0,0,0,0,0,0,0,0,0,0,0,0,0,0,0,0,0,0,0,0,0,0,0,0,0,0,0,0,0,0,0,0,0,0,0,0,0,0,0,0,0,0,0,0,0,0,0,0,0,0,0,0,0,0,0,0,0,0,0,0,0,0,0,0,0,0,0,0,0,0,0,0,0,0,0,0,0,0,0,0,0,0,0,0,0,0,0,0,0,0,0,0,0,0,0,0,0,0,0,0,0,0,0,0,0,0,0,0,0,0,0,0,0,0,0,0,0,0,0,0,0,0,0,0,0,0,0,0,0,0,0,0,0,0,0,0,0,0,0,0,0,0,0,0,0,0,0,0,0,0,0,0,0,0,0,0,0,0,0,0,0,0,0,0,0,0,0,0,0,0,0,0,0,0,0,0,0,0,0,0,0,0,0,0,0,0,0,0,0,0,0,0,0,0,0,0,0,0,0,0,0,0,0,0,0,0,0,0,0,0,0,0,0,0,0,0,0,0,0,0,0,0,0,0,0,0,0,0,0,0,0,0,0,0,0,0,0,0,0,0,0,0,0,0,0,0,0,0,0,0,0,0,0,0,0,0,0,0,0,0,0,0,0,0,0,0,0,0,0,0,0,0,0,0,0,0,0,0,0,0,0,0,0,0,0,0,0,0,0,0,0,0,0,0,0,0,0,0,0,0,0,0,0,0,0,0,0,0,0,0,0,0,0,0,0,0,0,0,0,0,0,0,0,0,0,0,0,0,0,0,0,0,0,0,0,0,0,0,0,0,0,0,0,0,0,0,0,0,0,0,0,0,0,0,0,0,0,0,0,0,0,0,0,0,0,0,0,0,0,0,0,0,0,0,0,0,0,0,0,0,0,0,0,0,0,0,0,0,0,0,0,0,0,0,0,0,0,0,0,0,0,0,0,0,0,0,0,0,0,0,0,0,0,0,0,0,0,0,0,0,0,0,0,0,0,0,0,0,0,0,0,0,0,0,0,0,0,0,0,0,0,0,0,0,0,0,0,0,0,0,0,0,0,0,0,0,0,0,0,0,0,0,0,0,0,0,0,0,0,0,0,0,0,0,0,0,0,0,0,0,0,0,0,0,0,0,0,0,0,0,0,0,0,0,0,0,0,0,0,0,0,0,0,0,0,0,0,0,0,0,0,0,0,0,0,0,0,0,0,0,0,0,0,0,0,0,0,0,0,0,0,0,0,0,0,0,0,0,0,0,0,0,0,0,0,0,0,0,0,0,0,0,0,0,0,0,0,0,0,0,0,0,0,0,0,0,0,0,0,0,0,0,0,0,0,0,0,0,0,0,0,0,0,0,0,0,0,0,0,0,0,0,0,0,0,0,0,0,0,0,0,0,0,0,0,0,0,0,0,0,0,0,0,0,0,0,0,0,0,0,0,0,0,0,0,0,0,0,0,0,0,0,0,0,0,0,0,0,0,0,0,0,0,0,0,0,0,0,0,0,0,0,0,0,0,0,0,0,0,0,0,0,0,0,0,0,0,0,0,0,0,0,0,0,0,0,0,0,0,0,0,0,0,0,0,0,0,0,0,0,0,0,0,0,0,0,0,0,0,0,0,0,0,0,0,0,0,0,0,0,0,0,0,0,0,0,0,0,0,0,0,0,0,0,0,0,0,0,0,0,0,0,0,0,0,0,0,0,0,0,0,0,0,0,0,0,0,0,0,0,0,0,0,0,0,0,0,0,0,0,0,0,0,0,0,0,0,0,0,0,0,0,0,0,0,0,0,0,0,0,0,0,0,0,0,0,0,0,0,0,0,0,0,0,0,0,0,0,0,0,0,0,0,0,0,0,0,0,0,0,0,0,0,0,0,0,0,0,0,0,0,0,0,0,0,0,0,0,0,0,0,0,0,0,0,0,0,0,0,0,0,0,0,0,0,0,0,0,0,0,0,0,0,0,0,0,0,0,0,0,0,0,0,0,0,0,0,0,0,0,0,0,0,0,0,0,0,0,0,0,0,0,0,0,0,0,0,0,0,0,0,0,0,0,0,0,0,0,0,0,0,0,0,0,0,0,0,0,0,0,0,0,0,0,0,0,0,0,0,0,0,0,0,0,0,0,0,0,0,0,0,0,0],\"x0\":\" \",\"xaxis\":\"x\",\"y\":[61.0,49.0,79.0,69.0,59.0,78.0,81.0,61.0,54.0,79.0,50.0,60.0,71.0,52.0,79.0,65.0,82.0,82.0,72.0,49.0,63.0,75.0,58.0,39.0,76.0,79.0,77.0,63.0,82.0,54.0,56.0,80.0,67.0,45.0,70.0,80.0,76.0,67.0,66.0,52.0,80.0,79.0,51.0,66.0,79.0,68.0,70.0,79.0,57.0,80.0,78.0,70.0,69.0,77.0,74.0,81.0,57.0,50.0,54.0,79.0,53.0,76.0,45.0,68.0,38.0,77.0,58.0,53.0,72.0,72.0,80.0,75.0,73.0,78.0,38.0,68.0,71.0,76.0,75.0,59.0,74.0,69.0,72.0,78.0,57.0,70.0,79.0,80.0,55.0,77.0,50.0,57.0,71.0,81.0,76.0,1.32,78.0,70.0,56.0,79.0,79.0,60.0,80.0,78.0,80.0,80.0,46.0,32.0,77.0,82.0,65.0,72.0,74.0,77.0,78.0,78.0,81.0,63.0,39.0,51.0,48.0,81.0,79.0,55.0,76.0,63.0,81.0,57.0,81.0,39.0,80.0,81.0,79.0,73.0,77.0,68.0,51.0,68.0,14.0,75.0,78.0,8.0,70.0,47.0,52.0,75.0,32.0,74.0,79.0,37.0,37.0,40.0,20.0,42.0,44.0,79.0,65.0,57.0,49.0,59.0,25.0,67.0,38.0,54.0,70.0,47.0,3.0,58.0,32.0,23.0,55.0,17.0,16.0,22.0,45.0,66.0,58.0,53.0,78.0,13.0,30.0,43.0,79.0,27.0,38.0,78.0,37.0,48.0,29.0,22.0,57.0,21.0,18.0,78.0,78.0,52.0,51.0,48.0,82.0,54.0,49.0,24.0,37.0,66.0,23.0,55.0,25.0,48.0,79.0,47.0,20.0,60.0,32.0,66.0,36.0,29.0,76.0,39.0,0.64,72.0,43.0,57.0,44.0,4.0,18.0,23.0,53.0,0.88,14.0,53.0,39.0,37.0,70.0,39.0,20.0,17.0,75.0,31.0,5.0,13.0,22.0,52.0,61.0,78.0,21.0,22.0,80.0,64.0,38.0,33.0,3.0,37.0,22.0,24.0,12.0,52.0,68.0,5.0,56.0,43.0,40.0,52.0,63.0,69.0,64.0,62.0,2.0,22.0,26.0,63.0,65.0,42.0,33.0,43.0,11.0,7.0,16.0,44.0,78.0,61.0,43.0,38.0,18.0,43.0,43.0,32.0,81.0,66.0,53.0,78.0,48.0,31.0,42.0,23.0,55.0,71.0,14.0,15.0,66.0,56.0,60.0,57.0,76.0,42.0,71.0,39.0,46.0,51.0,28.0,44.0,68.0,31.0,38.0,5.0,54.0,30.0,23.0,31.0,25.0,20.0,12.0,16.0,43.0,30.0,54.0,57.0,26.0,15.0,76.0,55.0,55.0,39.0,1.8,72.0,0.32,64.0,81.0,32.0,52.0,36.0,51.0,23.0,54.0,54.0,26.0,65.0,42.0,47.0,24.0,56.0,30.0,63.0,46.0,53.0,1.08,59.0,24.0,39.0,1.8,56.0,52.0,42.0,73.0,55.0,80.0,33.0,74.0,40.0,66.0,20.0,51.0,60.0,42.0,66.0,56.0,27.0,80.0,43.0,70.0,58.0,49.0,54.0,56.0,79.0,28.0,9.0,4.0,36.0,80.0,38.0,75.0,48.0,17.0,58.0,53.0,26.0,48.0,27.0,16.0,2.0,1.8,35.0,52.0,55.0,42.0,52.0,18.0,13.0,45.0,29.0,12.0,37.0,30.0,44.0,79.0,45.0,66.0,19.0,49.0,66.0,59.0,23.0,79.0,37.0,70.0,34.0,28.0,13.0,22.0,81.0,28.0,30.0,51.0,43.0,49.0,20.0,79.0,55.0,27.0,9.0,71.0,56.0,64.0,58.0,78.0,1.16,35.0,64.0,18.0,54.0,39.0,37.0,17.0,20.0,31.0,56.0,31.0,31.0,31.0,30.0,63.0,51.0,38.0,58.0,69.0,64.0,31.0,59.0,54.0,24.0,29.0,42.0,31.0,29.0,23.0,25.0,14.0,66.0,77.0,52.0,41.0,31.0,51.0,40.0,48.0,39.0,5.0,21.0,70.0,38.0,36.0,31.0,65.0,33.0,32.0,54.0,51.0,39.0,40.0,19.0,9.0,23.0,19.0,48.0,53.0,70.0,1.4,17.0,40.0,46.0,32.0,40.0,19.0,46.0,31.0,20.0,77.0,51.0,37.0,62.0,17.0,28.0,37.0,3.0,71.0,59.0,62.0,19.0,59.0,59.0,54.0,27.0,4.0,41.0,51.0,59.0,51.0,49.0,35.0,25.0,31.0,68.0,32.0,39.0,63.0,69.0,29.0,1.72,58.0,32.0,77.0,21.0,16.0,8.0,74.0,7.0,23.0,24.0,74.0,52.0,23.0,23.0,51.0,75.0,69.0,57.0,47.0,33.0,51.0,47.0,20.0,15.0,3.0,5.0,30.0,27.0,55.0,19.0,71.0,16.0,49.0,10.0,37.0,7.0,61.0,9.0,46.0,21.0,2.0,37.0,50.0,29.0,80.0,54.0,26.0,6.0,41.0,42.0,14.0,77.0,50.0,51.0,63.0,66.0,20.0,37.0,60.0,53.0,55.0,63.0,57.0,8.0,72.0,51.0,15.0,24.0,30.0,82.0,62.0,79.0,19.0,5.0,31.0,61.0,53.0,76.0,34.0,19.0,50.0,80.0,13.0,30.0,82.0,81.0,48.0,66.0,38.0,53.0,36.0,50.0,32.0,58.0,73.0,62.0,50.0,51.0,19.0,30.0,45.0,28.0,0.32,23.0,77.0,67.0,23.0,59.0,71.0,22.0,27.0,44.0,18.0,66.0,42.0,56.0,69.0,65.0,36.0,69.0,59.0,61.0,28.0,33.0,47.0,48.0,26.0,38.0,28.0,67.0,40.0,55.0,7.0,45.0,28.0,52.0,21.0,45.0,71.0,46.0,3.0,79.0,71.0,52.0,49.0,32.0,78.0,48.0,80.0,34.0,40.0,59.0,11.0,35.0,29.0,59.0,44.0,62.0,32.0,2.0,79.0,2.0,31.0,20.0,55.0,3.0,23.0,33.0,14.0,79.0,76.0,33.0,32.0,0.72,49.0,41.0,58.0,79.0,23.0,78.0,41.0,30.0,32.0,20.0,65.0,79.0,56.0,41.0,33.0,21.0,26.0,69.0,73.0,3.0,1.24,80.0,30.0,71.0,45.0,50.0,25.0,43.0,38.0,14.0,60.0,13.0,46.0,28.0,62.0,6.0,11.0,80.0,80.0,49.0,50.0,79.0,5.0,51.0,71.0,65.0,81.0,46.0,54.0,25.0,22.0,61.0,3.0,21.0,58.0,55.0,80.0,77.0,29.0,46.0,40.0,37.0,35.0,56.0,26.0,75.0,44.0,17.0,47.0,50.0,49.0,47.0,65.0,40.0,82.0,64.0,50.0,40.0,74.0,30.0,60.0,59.0,72.0,62.0,13.0,3.0,61.0,64.0,32.0,42.0,10.0,78.0,68.0,24.0,45.0,37.0,43.0,2.0,59.0,21.0,55.0,14.0,53.0,49.0,45.0,12.0,77.0,52.0,50.0,41.0,37.0,11.0,5.0,17.0,6.0,57.0,76.0,45.0,54.0,40.0,3.0,24.0,52.0,63.0,78.0,22.0,2.0,79.0,49.0,74.0,50.0,49.0,21.0,22.0,21.0,16.0,80.0,25.0,39.0,71.0,71.0,40.0,41.0,3.0,5.0,30.0,49.0,23.0,41.0,63.0,1.24,38.0,43.0,27.0,61.0,34.0,77.0,30.0,81.0,12.0,35.0,82.0,32.0,27.0,44.0,42.0,66.0,25.0,82.0,49.0,77.0,59.0,54.0,38.0,55.0,13.0,45.0,54.0,51.0,47.0,55.0,23.0,50.0,22.0,47.0,53.0,26.0,81.0,25.0,44.0,65.0,54.0,24.0,65.0,33.0,74.0,18.0,77.0,44.0,78.0,37.0,32.0,41.0,75.0,17.0,13.0,25.0,57.0,15.0,68.0,40.0,62.0,45.0,47.0,35.0,1.24,18.0,81.0,73.0,0.08,7.0,66.0,53.0,20.0,15.0,33.0,53.0,28.0,81.0,20.0,1.48,38.0,67.0,41.0,21.0,29.0,25.0,48.0,6.0,32.0,57.0,64.0,60.0,56.0,53.0,42.0,63.0,52.0,62.0,68.0,36.0,3.0,40.0,8.0,65.0,28.0,40.0,65.0,54.0,79.0,62.0,27.0,30.0,15.0,50.0,32.0,33.0,71.0,20.0,44.0,50.0,44.0,47.0,29.0,19.0,41.0,23.0,52.0,21.0,35.0,33.0,53.0,31.0,43.0,61.0,57.0,16.0,60.0,69.0,22.0,45.0,30.0,78.0,68.0,16.0,38.0,39.0,51.0,50.0,27.0,73.0,65.0,76.0,53.0,65.0,48.0,45.0,35.0,31.0,22.0,82.0,50.0,47.0,12.0,63.0,78.0,81.0,39.0,59.0,37.0,78.0,75.0,48.0,13.0,24.0,76.0,26.0,56.0,38.0,12.0,22.0,0.64,78.0,23.0,35.0,78.0,51.0,21.0,25.0,36.0,8.0,48.0,60.0,60.0,9.0,45.0,52.0,30.0,60.0,47.0,82.0,79.0,25.0,26.0,42.0,78.0,55.0,68.0,47.0,47.0,51.0,78.0,45.0,53.0,12.0,56.0,29.0,55.0,49.0,23.0,53.0,56.0,61.0,45.0,47.0,3.0,68.0,76.0,30.0,44.0,31.0,32.0,44.0,37.0,25.0,19.0,27.0,20.0,26.0,5.0,59.0,45.0,80.0,8.0,68.0,5.0,60.0,58.0,43.0,50.0,1.48,5.0,67.0,21.0,36.0,70.0,52.0,28.0,41.0,33.0,31.0,42.0,70.0,58.0,25.0,1.4,47.0,14.0,82.0,61.0,15.0,1.56,53.0,31.0,29.0,5.0,40.0,78.0,39.0,17.0,13.0,42.0,3.0,42.0,41.0,20.0,25.0,37.0,51.0,38.0,60.0,32.0,32.0,63.0,25.0,80.0,31.0,21.0,78.0,50.0,20.0,22.0,57.0,29.0,32.0,54.0,58.0,41.0,32.0,54.0,79.0,45.0,45.0,65.0,57.0,52.0,63.0,57.0,50.0,35.0,35.0,42.0,62.0,3.0,43.0,52.0,81.0,15.0,30.0,40.0,47.0,66.0,41.0,63.0,12.0,46.0,8.0,4.0,26.0,48.0,24.0,42.0,57.0,51.0,27.0,53.0,52.0,68.0,23.0,43.0,52.0,21.0,49.0,27.0,52.0,22.0,19.0,29.0,49.0,56.0,25.0,44.0,36.0,39.0,71.0,18.0,27.0,29.0,26.0,23.0,43.0,49.0,26.0,10.0,41.0,54.0,53.0,55.0,72.0,42.0,55.0,47.0,49.0,12.0,77.0,67.0,2.0,38.0,34.0,57.0,17.0,71.0,19.0,62.0,9.0,77.0,26.0,40.0,59.0,31.0,69.0,56.0,80.0,60.0,40.0,30.0,66.0,37.0,41.0,34.0,18.0,3.0,57.0,27.0,73.0,52.0,65.0,48.0,77.0,34.0,33.0,46.0,1.0,5.0,49.0,45.0,13.0,76.0,20.0,9.0,78.0,55.0,43.0,16.0,71.0,18.0,47.0,20.0,56.0,44.0,6.0,78.0,32.0,40.0,63.0,82.0,17.0,34.0,32.0,47.0,34.0,64.0,65.0,61.0,47.0,71.0,28.0,7.0,68.0,75.0,34.0,8.0,50.0,1.16,76.0,67.0,27.0,51.0,56.0,52.0,18.0,63.0,31.0,37.0,64.0,1.8,69.0,13.0,78.0,21.0,82.0,80.0,69.0,21.0,46.0,14.0,3.0,41.0,67.0,5.0,63.0,73.0,30.0,80.0,64.0,36.0,35.0,28.0,12.0,27.0,62.0,30.0,28.0,16.0,29.0,26.0,29.0,29.0,33.0,19.0,10.0,3.0,60.0,16.0,41.0,19.0,79.0,41.0,51.0,33.0,33.0,61.0,42.0,56.0,40.0,58.0,52.0,47.0,34.0,82.0,31.0,58.0,47.0,13.0,7.0,37.0,77.0,3.0,49.0,60.0,56.0,73.0,65.0,34.0,80.0,80.0,65.0,24.0,33.0,57.0,19.0,39.0,14.0,60.0,3.0,57.0,65.0,67.0,60.0,36.0,26.0,50.0,54.0,36.0,38.0,34.0,7.0,5.0,30.0,39.0,17.0,14.0,52.0,2.0,50.0,48.0,54.0,81.0,15.0,59.0,48.0,44.0,39.0,38.0,43.0,58.0,54.0,38.0,20.0,12.0,42.0,71.0,45.0,67.0,24.0,13.0,66.0,45.0,31.0,14.0,56.0,28.0,11.0,63.0,59.0,35.0,48.0,72.0,73.0,24.0,78.0,77.0,59.0,35.0,75.0,80.0,35.0,22.0,62.0,13.0,44.0,59.0,35.0,52.0,76.0,51.0,79.0,69.0,78.0,56.0,69.0,25.0,58.0,28.0,46.0,37.0,14.0,60.0,65.0,53.0,50.0,23.0,45.0,0.8,82.0,79.0,74.0,50.0,34.0,52.0,67.0,62.0,18.0,75.0,42.0,18.0,66.0,18.0,44.0,36.0,61.0,7.0,15.0,2.0,25.0,63.0,53.0,33.0,23.0,23.0,81.0,69.0,70.0,48.0,2.0,69.0,52.0,2.0,38.0,45.0,1.24,77.0,46.0,50.0,52.0,73.0,40.0,59.0,42.0,26.0,34.0,54.0,57.0,1.56,50.0,64.0,5.0,67.0,17.0,31.0,12.0,30.0,65.0,23.0,53.0,58.0,46.0,41.0,43.0,5.0,36.0,36.0,47.0,18.0,46.0,59.0,48.0,38.0,18.0,56.0,41.0,67.0,60.0,47.0,24.0,17.0,45.0,24.0,79.0,27.0,34.0,50.0,58.0,50.0,80.0,29.0,6.0,16.0,44.0,23.0,34.0,42.0,40.0,39.0,42.0,73.0,62.0,62.0,51.0,57.0,8.0,69.0,16.0,56.0,41.0,1.24,42.0,8.0,63.0,13.0,20.0,71.0,50.0,76.0,41.0,78.0,43.0,49.0,41.0,44.0,52.0,57.0,16.0,35.0,5.0,50.0,43.0,27.0,8.0,23.0,37.0,26.0,58.0,68.0,79.0,40.0,24.0,82.0,81.0,33.0,79.0,62.0,60.0,70.0,17.0,56.0,3.0,44.0,56.0,31.0,23.0,16.0,26.0,44.0,56.0,23.0,38.0,18.0,63.0,41.0,34.0,35.0,33.0,37.0,50.0,76.0,72.0,73.0,29.0,27.0,36.0,61.0,9.0,25.0,68.0,26.0,17.0,18.0,5.0,32.0,70.0,51.0,39.0,34.0,54.0,22.0,21.0,4.0,26.0,33.0,75.0,82.0,61.0,62.0,31.0,76.0,15.0,47.0,47.0,60.0,47.0,35.0,57.0,35.0,10.0,44.0,73.0,41.0,7.0,60.0,49.0,45.0,55.0,54.0,39.0,28.0,70.0,26.0,57.0,16.0,67.0,36.0,40.0,78.0,22.0,20.0,23.0,28.0,6.0,37.0,10.0,34.0,60.0,22.0,62.0,52.0,10.0,29.0,69.0,62.0,79.0,38.0,41.0,8.0,24.0,61.0,40.0,22.0,80.0,60.0,57.0,55.0,39.0,51.0,47.0,32.0,45.0,49.0,74.0,72.0,57.0,55.0,6.0,76.0,38.0,50.0,75.0,1.16,13.0,63.0,29.0,49.0,42.0,61.0,52.0,43.0,4.0,45.0,62.0,72.0,9.0,31.0,20.0,23.0,57.0,64.0,26.0,66.0,77.0,16.0,73.0,54.0,42.0,52.0,28.0,79.0,75.0,48.0,56.0,55.0,65.0,69.0,29.0,64.0,16.0,75.0,17.0,68.0,82.0,33.0,57.0,52.0,3.0,33.0,24.0,72.0,37.0,36.0,22.0,68.0,35.0,32.0,52.0,82.0,57.0,63.0,50.0,12.0,74.0,66.0,70.0,62.0,42.0,49.0,31.0,52.0,61.0,73.0,64.0,81.0,47.0,2.0,26.0,45.0,57.0,78.0,51.0,54.0,36.0,57.0,25.0,7.0,76.0,45.0,66.0,45.0,79.0,25.0,53.0,35.0,78.0,32.0,26.0,34.0,65.0,15.0,17.0,71.0,42.0,75.0,75.0,61.0,27.0,55.0,2.0,51.0,45.0,48.0,79.0,50.0,79.0,36.0,27.0,22.0,5.0,26.0,33.0,44.0,56.0,67.0,68.0,37.0,5.0,25.0,79.0,2.0,1.48,49.0,2.0,82.0,81.0,1.08,58.0,8.0,9.0,34.0,23.0,74.0,56.0,38.0,41.0,50.0,41.0,62.0,59.0,72.0,45.0,19.0,58.0,20.0,23.0,39.0,22.0,65.0,8.0,51.0,48.0,17.0,53.0,75.0,51.0,41.0,75.0,33.0,72.0,52.0,28.0,78.0,82.0,31.0,53.0,67.0,17.0,29.0,56.0,15.0,29.0,79.0,82.0,36.0,60.0,63.0,26.0,18.0,47.0,80.0,24.0,72.0,51.0,82.0,53.0,15.0,53.0,78.0,62.0,49.0,41.0,78.0,1.48,68.0,59.0,40.0,41.0,21.0,1.88,67.0,42.0,54.0,25.0,72.0,14.0,38.0,23.0,63.0,8.0,28.0,49.0,24.0,69.0,58.0,34.0,64.0,61.0,57.0,57.0,38.0,13.0,37.0,13.0,11.0,68.0,24.0,44.0,46.0,66.0,61.0,16.0,37.0,43.0,27.0,77.0,35.0,30.0,48.0,15.0,26.0,38.0,55.0,21.0,24.0,51.0,46.0,79.0,11.0,61.0,21.0,71.0,13.0,61.0,49.0,44.0,20.0,44.0,23.0,7.0,74.0,80.0,35.0,43.0,45.0,67.0,1.32,41.0,55.0,40.0,33.0,74.0,5.0,27.0,20.0,71.0,65.0,25.0,50.0,1.24,55.0,38.0,72.0,69.0,61.0,34.0,43.0,62.0,37.0,64.0,75.0,27.0,49.0,36.0,64.0,15.0,1.64,76.0,18.0,4.0,27.0,50.0,53.0,73.0,62.0,78.0,51.0,40.0,35.0,46.0,51.0,53.0,43.0,20.0,53.0,1.32,22.0,75.0,66.0,26.0,14.0,32.0,42.0,52.0,74.0,80.0,31.0,28.0,25.0,51.0,42.0,4.0,5.0,16.0,69.0,7.0,2.0,80.0,69.0,75.0,60.0,75.0,10.0,3.0,31.0,59.0,31.0,45.0,58.0,57.0,40.0,55.0,39.0,42.0,8.0,1.48,1.88,69.0,13.0,53.0,16.0,7.0,54.0,14.0,39.0,13.0,69.0,73.0,54.0,26.0,41.0,46.0,29.0,21.0,56.0,14.0,78.0,36.0,57.0,54.0,62.0,28.0,50.0,33.0,25.0,25.0,37.0,60.0,38.0,11.0,63.0,17.0,19.0,40.0,69.0,46.0,63.0,3.0,1.8,18.0,46.0,8.0,53.0,38.0,74.0,24.0,32.0,40.0,19.0,28.0,61.0,44.0,50.0,18.0,37.0,5.0,39.0,65.0,26.0,34.0,45.0,40.0,2.0,61.0,32.0,51.0,52.0,75.0,40.0,32.0,55.0,23.0,52.0,23.0,14.0,45.0,57.0,35.0,8.0,42.0,43.0,8.0,27.0,47.0,53.0,19.0,45.0,54.0,66.0,73.0,31.0,1.88,58.0,60.0,3.0,67.0,35.0,26.0,47.0,1.64,28.0,45.0,65.0,50.0,0.56,30.0,31.0,68.0,63.0,54.0,29.0,57.0,2.0,47.0,79.0,65.0,66.0,64.0,38.0,7.0,63.0,65.0,62.0,50.0,73.0,23.0,32.0,38.0,50.0,39.0,7.0,15.0,32.0,75.0,11.0,34.0,79.0,24.0,39.0,55.0,16.0,38.0,38.0,52.0,80.0,13.0,54.0,61.0,38.0,61.0,41.0,45.0,52.0,51.0,56.0,49.0,51.0,28.0,57.0,41.0,72.0,27.0,31.0,24.0,28.0,24.0,30.0,1.64,27.0,30.0,61.0,18.0,44.0,81.0,38.0,58.0,64.0,38.0,56.0,34.0,79.0,60.0,42.0,59.0,54.0,14.0,13.0,48.0,69.0,74.0,64.0,26.0,74.0,0.48,41.0,36.0,69.0,69.0,32.0,25.0,28.0,16.0,57.0,61.0,74.0,70.0,8.0,49.0,10.0,34.0,45.0,8.0,82.0,42.0,27.0,31.0,57.0,78.0,17.0,61.0,62.0,14.0,62.0,56.0,59.0,35.0,36.0,31.0,56.0,36.0,41.0,50.0,42.0,25.0,42.0,2.0,78.0,36.0,48.0,28.0,80.0,59.0,43.0,47.0,81.0,49.0,53.0,26.0,14.0,20.0,18.0,72.0,52.0,82.0,33.0,37.0,54.0,5.0,35.0,20.0,79.0,27.0,28.0,67.0,35.0,78.0,20.0,43.0,27.0,45.0,11.0,31.0,30.0,27.0,34.0,3.0,44.0,59.0,5.0,31.0,12.0,49.0,15.0,81.0,24.0,13.0,16.0,11.0,55.0,34.0,52.0,50.0,37.0,55.0,2.0,27.0,17.0,53.0,3.0,20.0,31.0,63.0,49.0,72.0,50.0,33.0,12.0,65.0,43.0,22.0,81.0,10.0,18.0,5.0,24.0,45.0,46.0,12.0,40.0,32.0,17.0,31.0,36.0,5.0,29.0,2.0,62.0,45.0,18.0,29.0,52.0,71.0,43.0,60.0,54.0,11.0,75.0,64.0,78.0,14.0,66.0,44.0,61.0,54.0,22.0,67.0,45.0,65.0,45.0,28.0,31.0,70.0,17.0,80.0,79.0,60.0,12.0,36.0,54.0,2.0,28.0,38.0,66.0,45.0,29.0,48.0,68.0,57.0,29.0,30.0,47.0,73.0,66.0,39.0,52.0,34.0,79.0,39.0,26.0,37.0,66.0,16.0,51.0,75.0,40.0,52.0,13.0,44.0,37.0,48.0,81.0,76.0,58.0,11.0,9.0,37.0,16.0,32.0,26.0,21.0,45.0,40.0,41.0,71.0,7.0,27.0,22.0,79.0,38.0,64.0,23.0,19.0,70.0,45.0,34.0,0.72,38.0,38.0,41.0,26.0,48.0,27.0,18.0,20.0,7.0,54.0,61.0,40.0,71.0,57.0,13.0,21.0,63.0,78.0,66.0,42.0,79.0,73.0,42.0,37.0,74.0,59.0,78.0,82.0,19.0,53.0,62.0,49.0,53.0,10.0,40.0,3.0,12.0,43.0,28.0,14.0,63.0,29.0,48.0,40.0,43.0,59.0,78.0,27.0,49.0,17.0,36.0,8.0,56.0,43.0,62.0,39.0,60.0,46.0,12.0,2.0,82.0,32.0,62.0,75.0,81.0,37.0,28.0,25.0,11.0,43.0,56.0,37.0,4.0,51.0,56.0,60.0,32.0,45.0,68.0,51.0,63.0,33.0,56.0,30.0,1.8,17.0,42.0,69.0,22.0,25.0,50.0,65.0,37.0,31.0,52.0,56.0,43.0,2.0,16.0,40.0,53.0,51.0,0.4,76.0,46.0,23.0,53.0,62.0,82.0,33.0,18.0,29.0,56.0,31.0,19.0,40.0,26.0,17.0,30.0,19.0,78.0,55.0,35.0,55.0,45.0,34.0,62.0,53.0,44.0,67.0,48.0,1.32,45.0,63.0,33.0,0.48,63.0,57.0,78.0,59.0,10.0,55.0,20.0,38.0,33.0,32.0,68.0,24.0,81.0,69.0,42.0,28.0,66.0,66.0,47.0,78.0,65.0,68.0,78.0,65.0,70.0,59.0,32.0,61.0,48.0,1.16,50.0,43.0,39.0,24.0,61.0,78.0,23.0,70.0,82.0,19.0,79.0,23.0,77.0,78.0,24.0,81.0,46.0,29.0,59.0,17.0,8.0,23.0,45.0,78.0,35.0,54.0,71.0,24.0,20.0,60.0,12.0,28.0,55.0,70.0,51.0,16.0,59.0,9.0,34.0,47.0,76.0,3.0,76.0,44.0,17.0,73.0,18.0,8.0,40.0,58.0,48.0,17.0,23.0,81.0,16.0,39.0,64.0,10.0,74.0,43.0,39.0,37.0,36.0,61.0,45.0,17.0,17.0,19.0,54.0,51.0,44.0,82.0,49.0,34.0,63.0,79.0,81.0,14.0,31.0,22.0,1.32,20.0,41.0,48.0,51.0,31.0,4.0,34.0,30.0,7.0,61.0,55.0,14.0,36.0,57.0,20.0,43.0,1.08,49.0,53.0,18.0,13.0,37.0,45.0,50.0,12.0,5.0,41.0,41.0,47.0,57.0,65.0,80.0,58.0,74.0,62.0,21.0,17.0,49.0,24.0,56.0,26.0,42.0,34.0,56.0,39.0,77.0,12.0,31.0,14.0,5.0,60.0,53.0,69.0,39.0,0.32,34.0,80.0,45.0,41.0,75.0,47.0,15.0,71.0,10.0,53.0,81.0,62.0,62.0,59.0,19.0,51.0,26.0,44.0,31.0,17.0,23.0,46.0,81.0,50.0,34.0,50.0,49.0,2.0,34.0,22.0,11.0,60.0,46.0,63.0,50.0,36.0,18.0,44.0,4.0,60.0,19.0,39.0,79.0,11.0,43.0,44.0,37.0,34.0,59.0,40.0,8.0,24.0,70.0,68.0,17.0,21.0,38.0,59.0,79.0,50.0,72.0,54.0,44.0,48.0,44.0,61.0,58.0,81.0,35.0,40.0,37.0,35.0,38.0,26.0,72.0,20.0,1.24,26.0,79.0,78.0,46.0,44.0,51.0,41.0,42.0,6.0,46.0,47.0,25.0,40.0,49.0,61.0,82.0,31.0,37.0,21.0,5.0,35.0,24.0,52.0,34.0,8.0,29.0,44.0,19.0,72.0,51.0,63.0,64.0,0.72,45.0,45.0,57.0,18.0,13.0,80.0,81.0,35.0,44.0],\"y0\":\" \",\"yaxis\":\"y\",\"type\":\"box\"}],                        {\"template\":{\"data\":{\"barpolar\":[{\"marker\":{\"line\":{\"color\":\"rgb(17,17,17)\",\"width\":0.5},\"pattern\":{\"fillmode\":\"overlay\",\"size\":10,\"solidity\":0.2}},\"type\":\"barpolar\"}],\"bar\":[{\"error_x\":{\"color\":\"#f2f5fa\"},\"error_y\":{\"color\":\"#f2f5fa\"},\"marker\":{\"line\":{\"color\":\"rgb(17,17,17)\",\"width\":0.5},\"pattern\":{\"fillmode\":\"overlay\",\"size\":10,\"solidity\":0.2}},\"type\":\"bar\"}],\"carpet\":[{\"aaxis\":{\"endlinecolor\":\"#A2B1C6\",\"gridcolor\":\"#506784\",\"linecolor\":\"#506784\",\"minorgridcolor\":\"#506784\",\"startlinecolor\":\"#A2B1C6\"},\"baxis\":{\"endlinecolor\":\"#A2B1C6\",\"gridcolor\":\"#506784\",\"linecolor\":\"#506784\",\"minorgridcolor\":\"#506784\",\"startlinecolor\":\"#A2B1C6\"},\"type\":\"carpet\"}],\"choropleth\":[{\"colorbar\":{\"outlinewidth\":0,\"ticks\":\"\"},\"type\":\"choropleth\"}],\"contourcarpet\":[{\"colorbar\":{\"outlinewidth\":0,\"ticks\":\"\"},\"type\":\"contourcarpet\"}],\"contour\":[{\"colorbar\":{\"outlinewidth\":0,\"ticks\":\"\"},\"colorscale\":[[0.0,\"#0d0887\"],[0.1111111111111111,\"#46039f\"],[0.2222222222222222,\"#7201a8\"],[0.3333333333333333,\"#9c179e\"],[0.4444444444444444,\"#bd3786\"],[0.5555555555555556,\"#d8576b\"],[0.6666666666666666,\"#ed7953\"],[0.7777777777777778,\"#fb9f3a\"],[0.8888888888888888,\"#fdca26\"],[1.0,\"#f0f921\"]],\"type\":\"contour\"}],\"heatmapgl\":[{\"colorbar\":{\"outlinewidth\":0,\"ticks\":\"\"},\"colorscale\":[[0.0,\"#0d0887\"],[0.1111111111111111,\"#46039f\"],[0.2222222222222222,\"#7201a8\"],[0.3333333333333333,\"#9c179e\"],[0.4444444444444444,\"#bd3786\"],[0.5555555555555556,\"#d8576b\"],[0.6666666666666666,\"#ed7953\"],[0.7777777777777778,\"#fb9f3a\"],[0.8888888888888888,\"#fdca26\"],[1.0,\"#f0f921\"]],\"type\":\"heatmapgl\"}],\"heatmap\":[{\"colorbar\":{\"outlinewidth\":0,\"ticks\":\"\"},\"colorscale\":[[0.0,\"#0d0887\"],[0.1111111111111111,\"#46039f\"],[0.2222222222222222,\"#7201a8\"],[0.3333333333333333,\"#9c179e\"],[0.4444444444444444,\"#bd3786\"],[0.5555555555555556,\"#d8576b\"],[0.6666666666666666,\"#ed7953\"],[0.7777777777777778,\"#fb9f3a\"],[0.8888888888888888,\"#fdca26\"],[1.0,\"#f0f921\"]],\"type\":\"heatmap\"}],\"histogram2dcontour\":[{\"colorbar\":{\"outlinewidth\":0,\"ticks\":\"\"},\"colorscale\":[[0.0,\"#0d0887\"],[0.1111111111111111,\"#46039f\"],[0.2222222222222222,\"#7201a8\"],[0.3333333333333333,\"#9c179e\"],[0.4444444444444444,\"#bd3786\"],[0.5555555555555556,\"#d8576b\"],[0.6666666666666666,\"#ed7953\"],[0.7777777777777778,\"#fb9f3a\"],[0.8888888888888888,\"#fdca26\"],[1.0,\"#f0f921\"]],\"type\":\"histogram2dcontour\"}],\"histogram2d\":[{\"colorbar\":{\"outlinewidth\":0,\"ticks\":\"\"},\"colorscale\":[[0.0,\"#0d0887\"],[0.1111111111111111,\"#46039f\"],[0.2222222222222222,\"#7201a8\"],[0.3333333333333333,\"#9c179e\"],[0.4444444444444444,\"#bd3786\"],[0.5555555555555556,\"#d8576b\"],[0.6666666666666666,\"#ed7953\"],[0.7777777777777778,\"#fb9f3a\"],[0.8888888888888888,\"#fdca26\"],[1.0,\"#f0f921\"]],\"type\":\"histogram2d\"}],\"histogram\":[{\"marker\":{\"pattern\":{\"fillmode\":\"overlay\",\"size\":10,\"solidity\":0.2}},\"type\":\"histogram\"}],\"mesh3d\":[{\"colorbar\":{\"outlinewidth\":0,\"ticks\":\"\"},\"type\":\"mesh3d\"}],\"parcoords\":[{\"line\":{\"colorbar\":{\"outlinewidth\":0,\"ticks\":\"\"}},\"type\":\"parcoords\"}],\"pie\":[{\"automargin\":true,\"type\":\"pie\"}],\"scatter3d\":[{\"line\":{\"colorbar\":{\"outlinewidth\":0,\"ticks\":\"\"}},\"marker\":{\"colorbar\":{\"outlinewidth\":0,\"ticks\":\"\"}},\"type\":\"scatter3d\"}],\"scattercarpet\":[{\"marker\":{\"colorbar\":{\"outlinewidth\":0,\"ticks\":\"\"}},\"type\":\"scattercarpet\"}],\"scattergeo\":[{\"marker\":{\"colorbar\":{\"outlinewidth\":0,\"ticks\":\"\"}},\"type\":\"scattergeo\"}],\"scattergl\":[{\"marker\":{\"line\":{\"color\":\"#283442\"}},\"type\":\"scattergl\"}],\"scattermapbox\":[{\"marker\":{\"colorbar\":{\"outlinewidth\":0,\"ticks\":\"\"}},\"type\":\"scattermapbox\"}],\"scatterpolargl\":[{\"marker\":{\"colorbar\":{\"outlinewidth\":0,\"ticks\":\"\"}},\"type\":\"scatterpolargl\"}],\"scatterpolar\":[{\"marker\":{\"colorbar\":{\"outlinewidth\":0,\"ticks\":\"\"}},\"type\":\"scatterpolar\"}],\"scatter\":[{\"marker\":{\"line\":{\"color\":\"#283442\"}},\"type\":\"scatter\"}],\"scatterternary\":[{\"marker\":{\"colorbar\":{\"outlinewidth\":0,\"ticks\":\"\"}},\"type\":\"scatterternary\"}],\"surface\":[{\"colorbar\":{\"outlinewidth\":0,\"ticks\":\"\"},\"colorscale\":[[0.0,\"#0d0887\"],[0.1111111111111111,\"#46039f\"],[0.2222222222222222,\"#7201a8\"],[0.3333333333333333,\"#9c179e\"],[0.4444444444444444,\"#bd3786\"],[0.5555555555555556,\"#d8576b\"],[0.6666666666666666,\"#ed7953\"],[0.7777777777777778,\"#fb9f3a\"],[0.8888888888888888,\"#fdca26\"],[1.0,\"#f0f921\"]],\"type\":\"surface\"}],\"table\":[{\"cells\":{\"fill\":{\"color\":\"#506784\"},\"line\":{\"color\":\"rgb(17,17,17)\"}},\"header\":{\"fill\":{\"color\":\"#2a3f5f\"},\"line\":{\"color\":\"rgb(17,17,17)\"}},\"type\":\"table\"}]},\"layout\":{\"annotationdefaults\":{\"arrowcolor\":\"#f2f5fa\",\"arrowhead\":0,\"arrowwidth\":1},\"autotypenumbers\":\"strict\",\"coloraxis\":{\"colorbar\":{\"outlinewidth\":0,\"ticks\":\"\"}},\"colorscale\":{\"diverging\":[[0,\"#8e0152\"],[0.1,\"#c51b7d\"],[0.2,\"#de77ae\"],[0.3,\"#f1b6da\"],[0.4,\"#fde0ef\"],[0.5,\"#f7f7f7\"],[0.6,\"#e6f5d0\"],[0.7,\"#b8e186\"],[0.8,\"#7fbc41\"],[0.9,\"#4d9221\"],[1,\"#276419\"]],\"sequential\":[[0.0,\"#0d0887\"],[0.1111111111111111,\"#46039f\"],[0.2222222222222222,\"#7201a8\"],[0.3333333333333333,\"#9c179e\"],[0.4444444444444444,\"#bd3786\"],[0.5555555555555556,\"#d8576b\"],[0.6666666666666666,\"#ed7953\"],[0.7777777777777778,\"#fb9f3a\"],[0.8888888888888888,\"#fdca26\"],[1.0,\"#f0f921\"]],\"sequentialminus\":[[0.0,\"#0d0887\"],[0.1111111111111111,\"#46039f\"],[0.2222222222222222,\"#7201a8\"],[0.3333333333333333,\"#9c179e\"],[0.4444444444444444,\"#bd3786\"],[0.5555555555555556,\"#d8576b\"],[0.6666666666666666,\"#ed7953\"],[0.7777777777777778,\"#fb9f3a\"],[0.8888888888888888,\"#fdca26\"],[1.0,\"#f0f921\"]]},\"colorway\":[\"#636efa\",\"#EF553B\",\"#00cc96\",\"#ab63fa\",\"#FFA15A\",\"#19d3f3\",\"#FF6692\",\"#B6E880\",\"#FF97FF\",\"#FECB52\"],\"font\":{\"color\":\"#f2f5fa\"},\"geo\":{\"bgcolor\":\"rgb(17,17,17)\",\"lakecolor\":\"rgb(17,17,17)\",\"landcolor\":\"rgb(17,17,17)\",\"showlakes\":true,\"showland\":true,\"subunitcolor\":\"#506784\"},\"hoverlabel\":{\"align\":\"left\"},\"hovermode\":\"closest\",\"mapbox\":{\"style\":\"dark\"},\"paper_bgcolor\":\"rgb(17,17,17)\",\"plot_bgcolor\":\"rgb(17,17,17)\",\"polar\":{\"angularaxis\":{\"gridcolor\":\"#506784\",\"linecolor\":\"#506784\",\"ticks\":\"\"},\"bgcolor\":\"rgb(17,17,17)\",\"radialaxis\":{\"gridcolor\":\"#506784\",\"linecolor\":\"#506784\",\"ticks\":\"\"}},\"scene\":{\"xaxis\":{\"backgroundcolor\":\"rgb(17,17,17)\",\"gridcolor\":\"#506784\",\"gridwidth\":2,\"linecolor\":\"#506784\",\"showbackground\":true,\"ticks\":\"\",\"zerolinecolor\":\"#C8D4E3\"},\"yaxis\":{\"backgroundcolor\":\"rgb(17,17,17)\",\"gridcolor\":\"#506784\",\"gridwidth\":2,\"linecolor\":\"#506784\",\"showbackground\":true,\"ticks\":\"\",\"zerolinecolor\":\"#C8D4E3\"},\"zaxis\":{\"backgroundcolor\":\"rgb(17,17,17)\",\"gridcolor\":\"#506784\",\"gridwidth\":2,\"linecolor\":\"#506784\",\"showbackground\":true,\"ticks\":\"\",\"zerolinecolor\":\"#C8D4E3\"}},\"shapedefaults\":{\"line\":{\"color\":\"#f2f5fa\"}},\"sliderdefaults\":{\"bgcolor\":\"#C8D4E3\",\"bordercolor\":\"rgb(17,17,17)\",\"borderwidth\":1,\"tickwidth\":0},\"ternary\":{\"aaxis\":{\"gridcolor\":\"#506784\",\"linecolor\":\"#506784\",\"ticks\":\"\"},\"baxis\":{\"gridcolor\":\"#506784\",\"linecolor\":\"#506784\",\"ticks\":\"\"},\"bgcolor\":\"rgb(17,17,17)\",\"caxis\":{\"gridcolor\":\"#506784\",\"linecolor\":\"#506784\",\"ticks\":\"\"}},\"title\":{\"x\":0.05},\"updatemenudefaults\":{\"bgcolor\":\"#506784\",\"borderwidth\":0},\"xaxis\":{\"automargin\":true,\"gridcolor\":\"#283442\",\"linecolor\":\"#506784\",\"ticks\":\"\",\"title\":{\"standoff\":15},\"zerolinecolor\":\"#283442\",\"zerolinewidth\":2},\"yaxis\":{\"automargin\":true,\"gridcolor\":\"#283442\",\"linecolor\":\"#506784\",\"ticks\":\"\",\"title\":{\"standoff\":15},\"zerolinecolor\":\"#283442\",\"zerolinewidth\":2}}},\"xaxis\":{\"anchor\":\"y\",\"domain\":[0.0,1.0],\"title\":{\"text\":\"Stroke\"},\"tickfont\":{\"size\":12}},\"yaxis\":{\"anchor\":\"x\",\"domain\":[0.0,1.0],\"title\":{\"text\":\"Age of the people\"},\"tickfont\":{\"size\":12}},\"legend\":{\"title\":{\"text\":\"gender_indexed\"},\"tracegroupgap\":0,\"font\":{\"size\":12}},\"margin\":{\"t\":60},\"boxmode\":\"group\",\"font\":{\"color\":\"white\"}},                        {\"responsive\": true}                    ).then(function(){\n",
              "                            \n",
              "var gd = document.getElementById('f0f834be-bc13-4483-bdb4-881351aec06b');\n",
              "var x = new MutationObserver(function (mutations, observer) {{\n",
              "        var display = window.getComputedStyle(gd).display;\n",
              "        if (!display || display === 'none') {{\n",
              "            console.log([gd, 'removed!']);\n",
              "            Plotly.purge(gd);\n",
              "            observer.disconnect();\n",
              "        }}\n",
              "}});\n",
              "\n",
              "// Listen for the removal of the full notebook cells\n",
              "var notebookContainer = gd.closest('#notebook-container');\n",
              "if (notebookContainer) {{\n",
              "    x.observe(notebookContainer, {childList: true});\n",
              "}}\n",
              "\n",
              "// Listen for the clearing of the current output cell\n",
              "var outputEl = gd.closest('.output');\n",
              "if (outputEl) {{\n",
              "    x.observe(outputEl, {childList: true});\n",
              "}}\n",
              "\n",
              "                        })                };                            </script>        </div>\n",
              "</body>\n",
              "</html>"
            ]
          },
          "metadata": {}
        }
      ]
    },
    {
      "cell_type": "code",
      "source": [
        "import plotly.express as px\n",
        "#Convert the Spark DataFrame to Pandas DataFrame\n",
        "df_pandas = df.toPandas()\n"
      ],
      "metadata": {
        "id": "DEdQeqlNOb_N"
      },
      "execution_count": null,
      "outputs": []
    },
    {
      "cell_type": "code",
      "source": [
        "# Map gender values to 1 (male) and 0 (female)\n",
        "df_pandas['gender_indexed'] = df_pandas['gender_indexed'].map({1: 'Male', 0: 'Female'})"
      ],
      "metadata": {
        "id": "FyE9YS1SOdCe"
      },
      "execution_count": null,
      "outputs": []
    },
    {
      "cell_type": "code",
      "source": [
        "# Create the box plot using Plotly Express\n",
        "fig = px.box(df_pandas, x='stroke', y='avg_glucose_level', color='gender_indexed', template='plotly_dark')"
      ],
      "metadata": {
        "id": "yLs-0wxdOhna"
      },
      "execution_count": null,
      "outputs": []
    },
    {
      "cell_type": "code",
      "source": [
        "fig.update_layout(\n",
        "xaxis=dict(title='Stroke', tickfont=dict(size=12)),\n",
        "yaxis=dict(title='avg_glucose_level', tickfont=dict(size=12)),\n",
        "legend=dict(font=dict(size=12)),\n",
        "                   font_color='white'\n",
        ")\n",
        "fig.show()"
      ],
      "metadata": {
        "colab": {
          "base_uri": "https://localhost:8080/",
          "height": 542
        },
        "id": "5An-7rRlOko9",
        "outputId": "11c441fe-843b-4df1-fb44-5e5c492a920b"
      },
      "execution_count": null,
      "outputs": [
        {
          "output_type": "display_data",
          "data": {
            "text/html": [
              "<html>\n",
              "<head><meta charset=\"utf-8\" /></head>\n",
              "<body>\n",
              "    <div>            <script src=\"https://cdnjs.cloudflare.com/ajax/libs/mathjax/2.7.5/MathJax.js?config=TeX-AMS-MML_SVG\"></script><script type=\"text/javascript\">if (window.MathJax && window.MathJax.Hub && window.MathJax.Hub.Config) {window.MathJax.Hub.Config({SVG: {font: \"STIX-Web\"}});}</script>                <script type=\"text/javascript\">window.PlotlyConfig = {MathJaxConfig: 'local'};</script>\n",
              "        <script charset=\"utf-8\" src=\"https://cdn.plot.ly/plotly-2.35.2.min.js\"></script>                <div id=\"8e332ee0-ff46-43a4-a839-8a4dda06bcaf\" class=\"plotly-graph-div\" style=\"height:525px; width:100%;\"></div>            <script type=\"text/javascript\">                                    window.PLOTLYENV=window.PLOTLYENV || {};                                    if (document.getElementById(\"8e332ee0-ff46-43a4-a839-8a4dda06bcaf\")) {                    Plotly.newPlot(                        \"8e332ee0-ff46-43a4-a839-8a4dda06bcaf\",                        [{\"alignmentgroup\":\"True\",\"hovertemplate\":\"gender_indexed=Male\\u003cbr\\u003estroke=%{x}\\u003cbr\\u003eavg_glucose_level=%{y}\\u003cextra\\u003e\\u003c\\u002fextra\\u003e\",\"legendgroup\":\"Male\",\"marker\":{\"color\":\"#636efa\"},\"name\":\"Male\",\"notched\":false,\"offsetgroup\":\"Male\",\"orientation\":\"v\",\"showlegend\":true,\"x\":[1,1,1,1,1,1,1,1,1,1,1,1,1,1,1,1,1,1,1,1,1,1,1,1,1,1,1,1,1,1,1,1,1,1,1,1,1,1,1,1,1,1,1,1,1,1,1,1,1,1,1,1,1,1,1,1,1,1,1,1,1,1,1,1,1,1,1,1,1,1,1,1,1,1,1,1,1,1,1,1,1,1,1,1,1,1,1,1,1,1,1,1,1,1,1,1,1,1,1,1,1,1,1,1,1,1,1,1,0,0,0,0,0,0,0,0,0,0,0,0,0,0,0,0,0,0,0,0,0,0,0,0,0,0,0,0,0,0,0,0,0,0,0,0,0,0,0,0,0,0,0,0,0,0,0,0,0,0,0,0,0,0,0,0,0,0,0,0,0,0,0,0,0,0,0,0,0,0,0,0,0,0,0,0,0,0,0,0,0,0,0,0,0,0,0,0,0,0,0,0,0,0,0,0,0,0,0,0,0,0,0,0,0,0,0,0,0,0,0,0,0,0,0,0,0,0,0,0,0,0,0,0,0,0,0,0,0,0,0,0,0,0,0,0,0,0,0,0,0,0,0,0,0,0,0,0,0,0,0,0,0,0,0,0,0,0,0,0,0,0,0,0,0,0,0,0,0,0,0,0,0,0,0,0,0,0,0,0,0,0,0,0,0,0,0,0,0,0,0,0,0,0,0,0,0,0,0,0,0,0,0,0,0,0,0,0,0,0,0,0,0,0,0,0,0,0,0,0,0,0,0,0,0,0,0,0,0,0,0,0,0,0,0,0,0,0,0,0,0,0,0,0,0,0,0,0,0,0,0,0,0,0,0,0,0,0,0,0,0,0,0,0,0,0,0,0,0,0,0,0,0,0,0,0,0,0,0,0,0,0,0,0,0,0,0,0,0,0,0,0,0,0,0,0,0,0,0,0,0,0,0,0,0,0,0,0,0,0,0,0,0,0,0,0,0,0,0,0,0,0,0,0,0,0,0,0,0,0,0,0,0,0,0,0,0,0,0,0,0,0,0,0,0,0,0,0,0,0,0,0,0,0,0,0,0,0,0,0,0,0,0,0,0,0,0,0,0,0,0,0,0,0,0,0,0,0,0,0,0,0,0,0,0,0,0,0,0,0,0,0,0,0,0,0,0,0,0,0,0,0,0,0,0,0,0,0,0,0,0,0,0,0,0,0,0,0,0,0,0,0,0,0,0,0,0,0,0,0,0,0,0,0,0,0,0,0,0,0,0,0,0,0,0,0,0,0,0,0,0,0,0,0,0,0,0,0,0,0,0,0,0,0,0,0,0,0,0,0,0,0,0,0,0,0,0,0,0,0,0,0,0,0,0,0,0,0,0,0,0,0,0,0,0,0,0,0,0,0,0,0,0,0,0,0,0,0,0,0,0,0,0,0,0,0,0,0,0,0,0,0,0,0,0,0,0,0,0,0,0,0,0,0,0,0,0,0,0,0,0,0,0,0,0,0,0,0,0,0,0,0,0,0,0,0,0,0,0,0,0,0,0,0,0,0,0,0,0,0,0,0,0,0,0,0,0,0,0,0,0,0,0,0,0,0,0,0,0,0,0,0,0,0,0,0,0,0,0,0,0,0,0,0,0,0,0,0,0,0,0,0,0,0,0,0,0,0,0,0,0,0,0,0,0,0,0,0,0,0,0,0,0,0,0,0,0,0,0,0,0,0,0,0,0,0,0,0,0,0,0,0,0,0,0,0,0,0,0,0,0,0,0,0,0,0,0,0,0,0,0,0,0,0,0,0,0,0,0,0,0,0,0,0,0,0,0,0,0,0,0,0,0,0,0,0,0,0,0,0,0,0,0,0,0,0,0,0,0,0,0,0,0,0,0,0,0,0,0,0,0,0,0,0,0,0,0,0,0,0,0,0,0,0,0,0,0,0,0,0,0,0,0,0,0,0,0,0,0,0,0,0,0,0,0,0,0,0,0,0,0,0,0,0,0,0,0,0,0,0,0,0,0,0,0,0,0,0,0,0,0,0,0,0,0,0,0,0,0,0,0,0,0,0,0,0,0,0,0,0,0,0,0,0,0,0,0,0,0,0,0,0,0,0,0,0,0,0,0,0,0,0,0,0,0,0,0,0,0,0,0,0,0,0,0,0,0,0,0,0,0,0,0,0,0,0,0,0,0,0,0,0,0,0,0,0,0,0,0,0,0,0,0,0,0,0,0,0,0,0,0,0,0,0,0,0,0,0,0,0,0,0,0,0,0,0,0,0,0,0,0,0,0,0,0,0,0,0,0,0,0,0,0,0,0,0,0,0,0,0,0,0,0,0,0,0,0,0,0,0,0,0,0,0,0,0,0,0,0,0,0,0,0,0,0,0,0,0,0,0,0,0,0,0,0,0,0,0,0,0,0,0,0,0,0,0,0,0,0,0,0,0,0,0,0,0,0,0,0,0,0,0,0,0,0,0,0,0,0,0,0,0,0,0,0,0,0,0,0,0,0,0,0,0,0,0,0,0,0,0,0,0,0,0,0,0,0,0,0,0,0,0,0,0,0,0,0,0,0,0,0,0,0,0,0,0,0,0,0,0,0,0,0,0,0,0,0,0,0,0,0,0,0,0,0,0,0,0,0,0,0,0,0,0,0,0,0,0,0,0,0,0,0,0,0,0,0,0,0,0,0,0,0,0,0,0,0,0,0,0,0,0,0,0,0,0,0,0,0,0,0,0,0,0,0,0,0,0,0,0,0,0,0,0,0,0,0,0,0,0,0,0,0,0,0,0,0,0,0,0,0,0,0,0,0,0,0,0,0,0,0,0,0,0,0,0,0,0,0,0,0,0,0,0,0,0,0,0,0,0,0,0,0,0,0,0,0,0,0,0,0,0,0,0,0,0,0,0,0,0,0,0,0,0,0,0,0,0,0,0,0,0,0,0,0,0,0,0,0,0,0,0,0,0,0,0,0,0,0,0,0,0,0,0,0,0,0,0,0,0,0,0,0,0,0,0,0,0,0,0,0,0,0,0,0,0,0,0,0,0,0,0,0,0,0,0,0,0,0,0,0,0,0,0,0,0,0,0,0,0,0,0,0,0,0,0,0,0,0,0,0,0,0,0,0,0,0,0,0,0,0,0,0,0,0,0,0,0,0,0,0,0,0,0,0,0,0,0,0,0,0,0,0,0,0,0,0,0,0,0,0,0,0,0,0,0,0,0,0,0,0,0,0,0,0,0,0,0,0,0,0,0,0,0,0,0,0,0,0,0,0,0,0,0,0,0,0,0,0,0,0,0,0,0,0,0,0,0,0,0,0,0,0,0,0,0,0,0,0,0,0,0,0,0,0,0,0,0,0,0,0,0,0,0,0,0,0,0,0,0,0,0,0,0,0,0,0,0,0,0,0,0,0,0,0,0,0,0,0,0,0,0,0,0,0,0,0,0,0,0,0,0,0,0,0,0,0,0,0,0,0,0,0,0,0,0,0,0,0,0,0,0,0,0,0,0,0,0,0,0,0,0,0,0,0,0,0,0,0,0,0,0,0,0,0,0,0,0,0,0,0,0,0,0,0,0,0,0,0,0,0,0,0,0,0,0,0,0,0,0,0,0,0,0,0,0,0,0,0,0,0,0,0,0,0,0,0,0,0,0,0,0,0,0,0,0,0,0,0,0,0,0,0,0,0,0,0,0,0,0,0,0,0,0,0,0,0,0,0,0,0,0,0,0,0,0,0,0,0,0,0,0,0,0,0,0,0,0,0,0,0,0,0,0,0,0,0,0,0,0,0,0,0,0,0,0,0,0,0,0,0,0,0,0,0,0,0,0,0,0,0,0,0,0,0,0,0,0,0,0,0,0,0,0,0,0,0,0,0,0,0,0,0,0,0,0,0,0,0,0,0,0,0,0,0,0,0,0,0,0,0,0,0,0,0,0,0,0,0,0,0,0,0,0,0,0,0,0,0,0,0,0,0,0,0,0,0,0,0,0,0,0,0,0,0,0,0,0,0,0,0,0,0,0,0,0,0,0,0,0,0,0,0,0,0,0,0,0,0,0,0,0,0,0,0,0,0,0,0,0,0,0,0,0,0,0,0,0,0,0,0,0,0,0,0,0,0,0,0,0,0,0,0,0,0,0,0,0,0,0,0,0,0,0,0,0,0,0,0,0,0,0,0,0,0,0,0,0,0,0,0,0,0,0,0,0,0,0,0,0,0,0,0,0,0,0,0,0,0,0,0,0,0,0,0,0,0,0,0,0,0,0,0,0,0,0,0,0,0,0,0,0,0,0,0,0,0,0,0,0,0,0,0,0,0,0,0,0,0,0,0,0,0,0,0,0,0,0,0,0,0,0,0,0,0,0,0,0,0,0,0,0,0,0,0,0,0,0,0,0,0,0,0,0,0,0,0,0,0,0,0,0,0,0,0,0,0,0,0,0,0,0,0,0,0,0,0,0,0,0,0,0,0,0,0,0,0,0,0,0,0,0,0,0,0,0,0,0,0,0,0,0,0,0,0,0,0,0,0,0,0,0,0,0,0,0,0,0,0,0,0,0,0,0,0,0,0,0,0,0,0,0,0,0,0,0,0,0,0,0,0,0,0,0,0,0,0,0,0,0,0,0,0,0,0,0,0,0,0,0,0,0,0,0,0,0,0,0,0,0,0,0,0,0,0,0,0,0,0,0,0,0,0,0,0,0,0,0,0,0,0,0,0,0,0,0,0,0,0,0,0,0,0,0,0,0,0,0,0,0,0,0,0,0,0,0,0,0,0,0,0,0,0,0,0,0,0],\"x0\":\" \",\"xaxis\":\"x\",\"y\":[228.69,105.92,186.21,70.09,219.84,191.61,221.29,217.08,208.3,102.87,104.12,189.84,195.23,211.78,212.08,83.41,252.72,84.2,219.72,92.62,78.03,71.22,144.9,213.03,243.58,99.33,75.32,196.71,237.75,194.99,104.72,113.01,104.47,86.23,228.56,240.09,143.43,96.16,71.2,96.97,111.81,86.94,98.55,72.81,64.14,240.59,78.92,74.1,82.3,129.98,68.53,216.94,76.11,72.96,259.63,249.31,93.13,200.59,182.99,140.1,194.37,103.68,151.16,68.43,223.83,77.82,81.76,133.19,75.02,91.54,111.98,185.49,56.11,213.22,111.04,112.24,137.3,116.69,86.62,209.86,112.16,118.03,271.74,200.62,242.52,93.81,114.77,167.13,175.29,87.85,90.19,134.8,208.65,116.1,219.73,250.89,72.73,104.86,60.98,218.46,86.3,162.14,91.92,76.46,197.28,233.94,84.96,87.8,95.12,87.96,161.28,57.08,85.37,198.21,82.9,55.78,82.34,117.92,114.84,79.17,190.7,56.96,203.04,81.84,242.3,102.64,146.01,220.49,88.19,62.2,69.15,103.56,79.03,90.12,95.1,234.58,78.05,229.92,90.69,106.23,239.64,116.23,86.78,78.4,110.99,137.96,74.91,99.8,73.02,138.29,106.22,109.51,85.84,110.15,251.6,123.1,97.4,80.81,120.31,74.09,213.37,223.36,86.67,64.06,178.29,86.86,94.29,90.07,211.03,91.65,94.48,116.66,112.09,123.87,98.7,55.39,66.07,145.15,68.19,97.53,122.31,83.51,86.46,92.14,201.76,95.59,101.52,92.21,100.09,96.17,184.15,198.69,82.58,94.59,104.48,98.01,89.32,65.24,80.98,186.17,122.19,118.7,74.64,97.08,88.78,122.1,74.81,102.91,108.79,68.52,89.77,102.64,114.01,93.74,98.41,89.44,105.61,60.34,210.48,70.34,122.22,100.35,193.83,247.69,71.43,61.29,103.62,100.52,67.06,144.1,114.79,113.8,189.57,81.26,112.17,99.97,207.58,182.86,215.64,163.7,108.53,63.61,85.54,205.5,79.87,125.26,114.32,92.23,83.51,144.48,88.39,93.79,147.14,106.43,158.31,111.43,219.97,58.37,101.5,100.54,111.73,85.79,98.54,99.67,67.39,85.06,214.05,76.36,111.85,112.54,94.65,55.32,69.37,87.43,81.18,69.61,59.49,100.26,56.75,88.27,76.26,92.14,92.11,55.25,94.26,94.34,88.97,75.3,56.18,59.26,197.1,121.8,77.65,64.41,119.34,94.92,85.02,103.51,70.78,95.01,84.11,78.49,109.73,96.78,222.21,55.83,65.12,73.62,84.31,74.8,105.77,74.88,123.15,184.25,117.69,55.26,98.42,98.92,106.7,152.81,93.88,65.61,62.37,112.64,114.32,86.6,82.32,106.98,70.53,212.01,65.88,106.97,126.35,112.95,81.59,73.75,86.06,109.1,68.35,160.83,78.16,89.3,186.45,58.47,186.32,56.77,135.75,95.08,111.71,94.64,226.7,102.47,56.99,73.01,103.61,194.04,57.51,68.49,160.0,56.31,84.31,231.19,104.48,70.71,72.36,110.91,57.82,81.15,111.02,207.32,119.04,86.05,207.64,236.84,78.11,92.95,142.57,111.48,100.54,106.68,57.94,123.21,92.98,92.81,85.16,104.62,113.25,59.28,77.42,74.9,88.27,102.05,195.03,88.81,89.68,157.57,110.73,99.14,100.33,57.93,148.24,91.96,72.93,84.27,90.51,118.87,56.42,89.11,74.04,145.23,72.49,131.89,89.17,227.91,144.1,116.67,58.38,95.44,85.29,156.18,69.52,108.47,105.63,77.93,78.52,76.72,76.5,99.16,63.53,111.64,97.84,56.48,204.5,93.67,67.79,254.63,84.3,106.4,110.25,69.7,112.98,88.65,223.68,103.94,92.49,229.2,85.57,56.3,204.57,64.99,82.83,142.02,71.73,86.73,96.84,100.91,116.5,86.06,78.78,103.25,93.74,91.68,75.79,90.06,58.03,63.18,78.42,65.08,138.07,86.99,105.76,83.5,211.49,140.52,115.98,102.06,101.65,210.94,77.92,230.68,55.22,78.43,85.35,204.17,82.71,74.58,217.71,61.36,77.91,96.2,93.11,115.54,88.57,83.12,94.89,99.15,86.38,93.68,78.73,115.92,93.71,61.61,76.25,103.48,78.59,103.76,68.52,92.17,94.33,78.43,88.13,102.77,113.34,63.33,66.13,67.53,96.58,94.15,89.53,76.79,108.03,88.83,197.79,150.45,100.39,79.92,96.79,86.84,61.27,57.37,73.72,88.34,101.34,119.01,145.71,87.49,72.2,181.23,93.04,97.12,82.81,98.67,85.82,189.45,82.56,67.97,73.75,138.47,77.82,178.76,197.58,86.37,199.96,85.33,72.09,155.17,83.28,132.41,113.63,86.09,108.08,108.34,56.07,94.75,101.79,101.05,85.07,205.77,246.53,81.74,86.0,65.51,61.78,206.33,74.29,87.72,85.99,124.61,90.42,87.74,80.15,206.98,227.28,80.43,228.7,120.07,150.27,81.94,83.83,102.37,78.29,123.79,80.98,101.31,86.26,244.28,124.16,93.55,99.34,59.87,61.1,60.39,115.13,102.3,78.99,191.79,94.66,61.01,92.65,163.56,107.69,216.88,83.02,87.94,222.29,139.43,77.23,102.34,111.02,227.51,111.65,201.01,95.4,78.98,111.33,210.0,86.86,86.07,59.05,95.88,111.13,143.45,78.68,98.91,97.5,108.43,90.43,121.27,119.67,91.23,93.51,102.54,93.6,194.98,99.96,58.87,83.14,69.18,218.54,82.41,82.07,127.25,123.95,98.46,133.63,101.43,64.08,79.2,107.45,83.86,119.96,110.68,88.54,71.31,89.75,87.66,237.17,178.33,109.56,106.41,197.09,93.58,68.4,113.4,101.92,65.98,84.3,66.11,149.62,216.9,93.74,71.44,115.83,99.69,79.05,87.34,109.51,105.47,66.85,94.71,80.81,64.51,199.14,94.0,93.77,200.16,80.73,145.26,190.4,82.08,97.46,62.56,144.2,70.16,122.48,69.88,91.54,65.85,233.52,57.95,92.82,58.25,74.86,101.26,188.69,86.51,105.73,83.79,99.71,107.11,217.66,76.22,155.32,79.56,122.46,92.32,80.63,92.32,71.38,74.05,90.46,94.07,85.12,111.93,70.0,95.57,91.98,100.52,58.96,97.51,225.6,95.58,65.67,125.29,89.93,137.45,84.85,230.59,92.81,108.12,85.17,84.14,85.57,82.81,110.53,99.44,88.24,61.32,185.71,62.99,86.04,133.2,103.44,102.53,62.6,92.86,90.95,187.87,213.87,222.85,149.42,118.21,56.3,89.61,100.09,82.84,92.27,99.87,72.79,86.68,104.7,130.56,135.19,116.12,56.43,209.26,95.16,222.46,70.96,82.44,187.52,99.07,65.09,142.31,80.99,237.74,74.26,78.29,164.67,92.73,77.86,118.82,92.82,95.46,59.99,65.52,89.81,83.52,88.69,69.09,98.74,223.35,74.36,102.97,94.88,82.73,67.8,135.89,75.4,87.69,95.85,90.36,60.99,111.77,70.61,103.44,75.5,96.06,113.24,112.92,103.28,96.18,186.95,146.97,65.69,198.24,90.51,97.78,80.74,57.02,96.25,86.74,63.08,129.16,99.79,83.34,229.21,118.69,82.43,81.05,73.02,87.95,131.43,68.24,95.75,104.51,108.87,209.06,86.57,96.15,113.68,228.42,93.9,84.4,82.13,73.33,71.42,78.53,65.28,92.67,231.69,101.99,72.56,94.47,75.77,124.35,197.69,76.51,199.88,77.48,81.96,102.96,80.72,74.19,77.12,109.97,92.87,113.05,68.24,91.08,88.83,208.78,66.17,61.67,220.36,76.03,79.02,191.66,72.29,92.59,80.42,115.79,108.33,217.75,93.88,55.34,62.08,55.61,58.7,59.05,169.49,80.25,203.81,170.76,120.58,86.57,68.84,92.56,80.09,96.93,211.35,85.87,60.96,120.09,83.07,127.29,134.8,85.84,90.43,70.23,75.19,78.48,97.24,75.92,134.61,104.02,56.9,112.66,76.28,185.0,104.42,89.57,136.2,102.35,88.48,88.81,111.27,91.25,130.07,227.81,66.67,88.02,60.35,118.66,58.51,96.04,239.28,131.3,145.5,101.25,82.89,192.37,79.64,82.88,77.75,75.03,196.91,247.48,216.0,75.64,124.26,87.16,71.92,167.66,220.47,111.32,60.56,89.83,71.71,96.06,106.03,85.68,89.22,91.68,79.59,106.74,206.52,80.07,64.92,64.55,111.15,80.97,87.08,145.37,112.19,79.73,101.13,98.12,94.92,99.73,65.77,170.93,86.36,110.38,55.62,232.81,69.22,115.12,80.86,83.91,95.62,63.95,122.5,86.0,120.27,79.36,66.01,113.86,165.99,114.99,93.55,187.22,98.03,92.9,80.75,77.51,105.63,116.64,78.44,144.08,214.42,216.4,65.87,56.12,74.7,83.06,227.94,64.2,137.22,90.26,112.22,90.62,126.39,92.08,85.38,203.44,243.73,88.23,68.38,67.03,96.35,59.91,160.94,59.61,116.02,75.5,79.35,176.25,108.56,168.06,82.15,200.28,62.44,221.43,165.47,145.03,134.23,62.48,213.38,70.52,82.39,88.29,84.02,192.16,82.27,101.87,215.72,91.93,58.63,173.14,84.44,85.96,202.57,62.6,150.1,65.5,90.4,209.5,86.6,87.93,203.16,92.02,71.26,72.61,127.78,121.32,74.06,71.3,79.05,84.58,77.3,74.79,97.97,87.86,76.92,77.24,120.94,231.95,216.38,95.01,86.25,115.47,110.68,213.33,93.52,87.06,93.02,86.7,169.43,73.48,102.4,87.26,59.0,101.83,67.5,85.62,227.98,78.97,95.04,82.91,70.93,62.56,199.42,190.13,149.68,235.54,178.89,227.74,73.62,213.8,104.34,78.24,74.29,94.76,101.43,115.86,95.27,89.02,77.55,93.62,72.71,84.12,99.83,142.38,110.87,142.68,182.9,163.82,79.59,79.82,95.88,123.04,92.34,88.43,87.82,105.93,231.71,69.28,94.24,107.83,107.59,160.64,127.13,143.47,110.72,68.94,57.76,108.65,65.42,78.93,75.22,107.49,88.47,91.13,80.72,59.83,67.02,82.41,58.65,148.52,77.55,118.81,84.16,57.51,61.11,78.3,76.19,100.8,94.69,196.81,87.81,222.66,223.58,141.8,198.79,61.04,123.39,69.88,57.02,90.54,69.24,192.39,71.94,82.35,73.28,97.57,60.4,70.96,91.85,68.13,93.76,236.14,99.76,87.09,193.81,137.77,105.19,82.72,58.35,68.79,121.17,106.41,104.79,96.81,107.42,69.2,92.73,111.78,61.96,72.1,107.97,60.77,83.33,113.28,170.88,103.34,156.45,99.49,63.6,80.01,58.42,103.92,70.73,72.75,95.47,100.03,198.79,90.39,202.55,64.92,96.52,232.12,70.04,96.37,93.58,107.83,81.51,111.47,72.94,60.32,133.24,72.5,85.03,204.98,110.33,89.18,91.53,65.16,227.89,75.25,221.8,109.85,103.21,81.25,90.91,64.4,62.89,87.51,90.68,104.64,120.46,89.87,140.07,106.85,73.7,69.16,215.81,139.72,80.92,98.65,106.22,72.42,96.73,83.13,97.35,79.54,56.11,113.21,59.93,88.83,96.43,161.95,160.87,115.21,86.53,63.78,114.61,56.08,75.85,80.07,56.33,84.1,161.0,70.7,64.02,110.69,65.07,108.64,201.58,231.43,220.26,177.91,90.19,73.78,59.48,75.77,82.4,78.93,80.59,61.87,84.18,69.23,103.45,90.3,88.38,62.91,88.5,107.61,137.91,212.02,94.96,66.59,73.72,62.57,65.51,95.29,87.77,260.85,113.65,223.9,169.74,101.93,82.25,85.81,93.55,207.96,127.23,79.55,78.24,88.49,81.96,74.63,102.27,71.5,93.24,72.6,84.43,81.54,57.17,102.58,90.97,140.96,70.33,64.18,127.57,124.49,142.82,75.69,74.08,214.43,66.46,56.42,112.72,72.33,220.64,69.53,81.42,63.86,72.2,101.61,114.32,90.6,83.16,83.13,248.37,61.75,70.55,148.72,82.09,98.84,135.74,66.55,67.76,88.65,106.11,95.49,228.92,62.89,96.84,81.25,92.71,87.44,64.07,105.52,219.17,215.92,87.54,79.44,89.28,68.91,104.3,87.87,91.05,200.14,65.41,108.68,97.39,141.09,122.38,84.5,100.98,81.11,105.9,72.28,67.06,82.68,125.89,98.23,119.9,94.53,92.59,92.26,60.39,223.14,101.24,214.51,72.64,124.38,77.82,60.09,131.19,74.54,91.57,238.78,71.66,83.64,84.88,188.13,164.7,68.27,79.81,100.12,112.41,105.73,78.34,97.37,193.87,74.0,111.04,214.77,79.95,75.73,94.96,189.88,197.11,68.62,99.65,94.49,108.71,192.47,66.51,85.82,87.74,85.12,103.37,76.51,65.12,109.88,55.72,88.18,86.93,85.17,111.1,97.47,83.97,92.22,83.68,100.16,96.02,124.64,112.79,236.79,101.57,143.97,239.19,61.11,83.15,83.26,111.94,104.77,113.84,114.71,133.62,123.61,84.68,206.62,114.54,99.23,204.92,59.74,226.84,80.17,234.35,116.25,91.81,115.4,100.19,200.73,114.09,96.91,116.2,96.01,86.96,95.86,85.52,159.39,202.51,91.85,105.49,101.53,95.49,209.15,162.72,73.27,94.96,83.78,74.5,66.96,74.15,73.29,115.16,90.07,119.32,99.12,152.84,78.23,68.8,99.91,76.1,121.99,116.21,153.08,117.03,99.76,122.25,84.6,205.23,76.74,138.55,234.27,77.08,56.32,67.02,88.05,55.47,239.21,196.08,119.58,175.74,93.85,79.84,62.61,70.07,112.11,89.18,56.21,68.12,56.08,93.6,57.42,62.0,155.23,90.6,106.27,60.57,105.34,122.73,104.12,91.53,145.46,70.07,89.85,103.0,101.85,85.92,89.04,65.48,81.68,65.21,117.04,58.24,82.53,71.25,129.73,56.79,217.94,93.28,87.2,109.12,74.28,57.6,173.97,90.42,79.17,159.67,103.01,208.85,122.39,219.7,65.7,107.58,68.17,90.0,106.1,67.99,118.93,82.08,85.16,69.54,97.34,78.76,79.89,206.66,95.79,116.78,117.63,64.6,200.68,117.98,79.51,97.22,74.61,69.79,83.6,83.95,64.29,61.1,100.71,119.77,59.67,83.16,76.45,95.8,84.79,147.5,125.11,95.62,93.8,90.61,68.35,98.92,159.79,233.47,67.87,77.26,91.28,129.19,91.58,58.86,76.88,109.52,104.55,101.96,84.17,95.49,135.84,74.83,67.28,77.79,156.69,247.97,231.15,96.14,69.52,71.58,83.1,122.83,89.32,128.72,108.62,96.19,95.94,87.15,64.84,107.52,79.16,87.0,145.25,57.59,154.03,111.81,69.97,77.07,59.49,84.1,70.51,109.19,55.23,95.89,64.68,113.41,111.08,217.74,89.06,80.2,102.97,197.36,98.56,123.08,75.0,78.04,107.74,110.38,92.59,82.64,70.28,106.54,58.89,129.66,73.57,72.04,65.36,79.22,70.38,114.46,115.52,60.7,69.24,232.64,82.46,73.24,78.43,56.33,95.23,71.18,207.37,74.43,111.84,201.96,56.9,78.85,90.44,85.66,167.16,131.05,76.09,79.33,86.19,93.52,115.07,69.45,81.0,88.06,80.57,76.63,62.21,229.94,117.77,66.69,168.68,119.9,77.95,80.35,57.38,253.93,78.11,194.75,77.94,117.03,84.43,57.09,76.19,63.42,112.02,63.98,74.66,111.24,134.76,113.08,83.59,179.67,91.89,78.9,216.19,74.39,232.29,125.32,78.98,100.2,80.48,77.91,107.33,55.79,73.08,96.02,189.82,76.12,141.37,121.66,80.55,112.83,103.08,85.98,83.75,101.58,92.96,85.08,112.37,73.81,98.07,85.82,80.08,88.0,78.8,103.5,60.73,73.18,82.26,86.95,73.98,83.2,229.73,100.47,110.2,95.19,89.41,62.68,256.74,93.72,101.81,60.17,65.29,61.42,126.57,67.97,80.54,76.47,106.52,94.24,208.39,57.56,227.23,77.76,72.76,203.27,190.67,82.95,101.66,116.44,116.62,80.67,57.56,145.18,69.2,78.48,87.0,88.97,135.82,106.53,58.42,141.84,78.05,77.16,81.77,82.62,235.06,92.24,74.34,104.9,99.96,85.27,60.32,195.43,200.25,90.31,75.84,81.33,176.42,93.21,72.88,84.1,72.84,88.04,65.84,106.73,106.03,140.1,127.4,58.23,69.37,223.16,75.53,107.47,90.28,86.24,166.38,90.73,172.86,92.23,79.81,81.78,94.68,89.0,60.98,58.19,97.95,90.3,118.66,100.47,90.78,66.46,92.87,96.47,84.41,72.34,66.06,105.76,73.07,79.6,61.07,63.43,80.44,64.85,83.75,97.68,232.78,86.96,81.21,110.14,120.44,187.47,94.62,75.07,144.15,242.62,93.04,150.0,63.56,79.66,62.93,83.16,115.46,234.45,75.47,98.24,66.2,75.95,139.87,67.92,59.74,62.64,84.81,217.57,78.48,108.51,113.85,121.83,58.35,69.34,109.09,66.11,92.86,96.77,89.24,107.06,123.66,63.82,108.06,136.18,71.29,76.58,119.58,81.64,97.64,137.27,84.08,234.51,142.64,106.24,83.01,67.92,119.3,208.69,95.18,83.27,81.87,153.31,101.46,86.58,93.93,99.87,102.13,66.22,101.31,70.73,69.25,84.09,82.44,81.88,83.12,97.99,198.84,77.12,87.17,56.87,84.49,72.96,110.23,79.49,89.33,238.27,93.2,111.33,121.71,80.08,84.4,86.61,107.02,97.23,91.21,73.76,87.98,94.23,111.36,84.94,211.83,215.69,153.48,106.69,111.37,78.24,86.21,81.06,104.37,65.05,75.9,267.6,215.07,225.35,196.26,85.88,83.37,124.66,63.28,82.93,185.27,97.46,153.34,108.08,77.42,125.87,65.33,70.15,96.84,175.92,100.65,112.39,81.1,89.68,191.15,101.87,89.29,60.22,223.78,179.38,193.88,138.51,120.03,135.32,102.5,106.56,77.28,108.35,97.04,100.85,95.05,82.35,82.38,79.15,76.62,91.68,71.88,83.94,71.97,166.29],\"y0\":\" \",\"yaxis\":\"y\",\"type\":\"box\"},{\"alignmentgroup\":\"True\",\"hovertemplate\":\"gender_indexed=Female\\u003cbr\\u003estroke=%{x}\\u003cbr\\u003eavg_glucose_level=%{y}\\u003cextra\\u003e\\u003c\\u002fextra\\u003e\",\"legendgroup\":\"Female\",\"marker\":{\"color\":\"#EF553B\"},\"name\":\"Female\",\"notched\":false,\"offsetgroup\":\"Female\",\"orientation\":\"v\",\"showlegend\":true,\"x\":[1,1,1,1,1,1,1,1,1,1,1,1,1,1,1,1,1,1,1,1,1,1,1,1,1,1,1,1,1,1,1,1,1,1,1,1,1,1,1,1,1,1,1,1,1,1,1,1,1,1,1,1,1,1,1,1,1,1,1,1,1,1,1,1,1,1,1,1,1,1,1,1,1,1,1,1,1,1,1,1,1,1,1,1,1,1,1,1,1,1,1,1,1,1,1,1,1,1,1,1,1,1,1,1,1,1,1,1,1,1,1,1,1,1,1,1,1,1,1,1,1,1,1,1,1,1,1,1,1,1,1,1,1,1,1,1,1,1,1,1,1,0,0,0,0,0,0,0,0,0,0,0,0,0,0,0,0,0,0,0,0,0,0,0,0,0,0,0,0,0,0,0,0,0,0,0,0,0,0,0,0,0,0,0,0,0,0,0,0,0,0,0,0,0,0,0,0,0,0,0,0,0,0,0,0,0,0,0,0,0,0,0,0,0,0,0,0,0,0,0,0,0,0,0,0,0,0,0,0,0,0,0,0,0,0,0,0,0,0,0,0,0,0,0,0,0,0,0,0,0,0,0,0,0,0,0,0,0,0,0,0,0,0,0,0,0,0,0,0,0,0,0,0,0,0,0,0,0,0,0,0,0,0,0,0,0,0,0,0,0,0,0,0,0,0,0,0,0,0,0,0,0,0,0,0,0,0,0,0,0,0,0,0,0,0,0,0,0,0,0,0,0,0,0,0,0,0,0,0,0,0,0,0,0,0,0,0,0,0,0,0,0,0,0,0,0,0,0,0,0,0,0,0,0,0,0,0,0,0,0,0,0,0,0,0,0,0,0,0,0,0,0,0,0,0,0,0,0,0,0,0,0,0,0,0,0,0,0,0,0,0,0,0,0,0,0,0,0,0,0,0,0,0,0,0,0,0,0,0,0,0,0,0,0,0,0,0,0,0,0,0,0,0,0,0,0,0,0,0,0,0,0,0,0,0,0,0,0,0,0,0,0,0,0,0,0,0,0,0,0,0,0,0,0,0,0,0,0,0,0,0,0,0,0,0,0,0,0,0,0,0,0,0,0,0,0,0,0,0,0,0,0,0,0,0,0,0,0,0,0,0,0,0,0,0,0,0,0,0,0,0,0,0,0,0,0,0,0,0,0,0,0,0,0,0,0,0,0,0,0,0,0,0,0,0,0,0,0,0,0,0,0,0,0,0,0,0,0,0,0,0,0,0,0,0,0,0,0,0,0,0,0,0,0,0,0,0,0,0,0,0,0,0,0,0,0,0,0,0,0,0,0,0,0,0,0,0,0,0,0,0,0,0,0,0,0,0,0,0,0,0,0,0,0,0,0,0,0,0,0,0,0,0,0,0,0,0,0,0,0,0,0,0,0,0,0,0,0,0,0,0,0,0,0,0,0,0,0,0,0,0,0,0,0,0,0,0,0,0,0,0,0,0,0,0,0,0,0,0,0,0,0,0,0,0,0,0,0,0,0,0,0,0,0,0,0,0,0,0,0,0,0,0,0,0,0,0,0,0,0,0,0,0,0,0,0,0,0,0,0,0,0,0,0,0,0,0,0,0,0,0,0,0,0,0,0,0,0,0,0,0,0,0,0,0,0,0,0,0,0,0,0,0,0,0,0,0,0,0,0,0,0,0,0,0,0,0,0,0,0,0,0,0,0,0,0,0,0,0,0,0,0,0,0,0,0,0,0,0,0,0,0,0,0,0,0,0,0,0,0,0,0,0,0,0,0,0,0,0,0,0,0,0,0,0,0,0,0,0,0,0,0,0,0,0,0,0,0,0,0,0,0,0,0,0,0,0,0,0,0,0,0,0,0,0,0,0,0,0,0,0,0,0,0,0,0,0,0,0,0,0,0,0,0,0,0,0,0,0,0,0,0,0,0,0,0,0,0,0,0,0,0,0,0,0,0,0,0,0,0,0,0,0,0,0,0,0,0,0,0,0,0,0,0,0,0,0,0,0,0,0,0,0,0,0,0,0,0,0,0,0,0,0,0,0,0,0,0,0,0,0,0,0,0,0,0,0,0,0,0,0,0,0,0,0,0,0,0,0,0,0,0,0,0,0,0,0,0,0,0,0,0,0,0,0,0,0,0,0,0,0,0,0,0,0,0,0,0,0,0,0,0,0,0,0,0,0,0,0,0,0,0,0,0,0,0,0,0,0,0,0,0,0,0,0,0,0,0,0,0,0,0,0,0,0,0,0,0,0,0,0,0,0,0,0,0,0,0,0,0,0,0,0,0,0,0,0,0,0,0,0,0,0,0,0,0,0,0,0,0,0,0,0,0,0,0,0,0,0,0,0,0,0,0,0,0,0,0,0,0,0,0,0,0,0,0,0,0,0,0,0,0,0,0,0,0,0,0,0,0,0,0,0,0,0,0,0,0,0,0,0,0,0,0,0,0,0,0,0,0,0,0,0,0,0,0,0,0,0,0,0,0,0,0,0,0,0,0,0,0,0,0,0,0,0,0,0,0,0,0,0,0,0,0,0,0,0,0,0,0,0,0,0,0,0,0,0,0,0,0,0,0,0,0,0,0,0,0,0,0,0,0,0,0,0,0,0,0,0,0,0,0,0,0,0,0,0,0,0,0,0,0,0,0,0,0,0,0,0,0,0,0,0,0,0,0,0,0,0,0,0,0,0,0,0,0,0,0,0,0,0,0,0,0,0,0,0,0,0,0,0,0,0,0,0,0,0,0,0,0,0,0,0,0,0,0,0,0,0,0,0,0,0,0,0,0,0,0,0,0,0,0,0,0,0,0,0,0,0,0,0,0,0,0,0,0,0,0,0,0,0,0,0,0,0,0,0,0,0,0,0,0,0,0,0,0,0,0,0,0,0,0,0,0,0,0,0,0,0,0,0,0,0,0,0,0,0,0,0,0,0,0,0,0,0,0,0,0,0,0,0,0,0,0,0,0,0,0,0,0,0,0,0,0,0,0,0,0,0,0,0,0,0,0,0,0,0,0,0,0,0,0,0,0,0,0,0,0,0,0,0,0,0,0,0,0,0,0,0,0,0,0,0,0,0,0,0,0,0,0,0,0,0,0,0,0,0,0,0,0,0,0,0,0,0,0,0,0,0,0,0,0,0,0,0,0,0,0,0,0,0,0,0,0,0,0,0,0,0,0,0,0,0,0,0,0,0,0,0,0,0,0,0,0,0,0,0,0,0,0,0,0,0,0,0,0,0,0,0,0,0,0,0,0,0,0,0,0,0,0,0,0,0,0,0,0,0,0,0,0,0,0,0,0,0,0,0,0,0,0,0,0,0,0,0,0,0,0,0,0,0,0,0,0,0,0,0,0,0,0,0,0,0,0,0,0,0,0,0,0,0,0,0,0,0,0,0,0,0,0,0,0,0,0,0,0,0,0,0,0,0,0,0,0,0,0,0,0,0,0,0,0,0,0,0,0,0,0,0,0,0,0,0,0,0,0,0,0,0,0,0,0,0,0,0,0,0,0,0,0,0,0,0,0,0,0,0,0,0,0,0,0,0,0,0,0,0,0,0,0,0,0,0,0,0,0,0,0,0,0,0,0,0,0,0,0,0,0,0,0,0,0,0,0,0,0,0,0,0,0,0,0,0,0,0,0,0,0,0,0,0,0,0,0,0,0,0,0,0,0,0,0,0,0,0,0,0,0,0,0,0,0,0,0,0,0,0,0,0,0,0,0,0,0,0,0,0,0,0,0,0,0,0,0,0,0,0,0,0,0,0,0,0,0,0,0,0,0,0,0,0,0,0,0,0,0,0,0,0,0,0,0,0,0,0,0,0,0,0,0,0,0,0,0,0,0,0,0,0,0,0,0,0,0,0,0,0,0,0,0,0,0,0,0,0,0,0,0,0,0,0,0,0,0,0,0,0,0,0,0,0,0,0,0,0,0,0,0,0,0,0,0,0,0,0,0,0,0,0,0,0,0,0,0,0,0,0,0,0,0,0,0,0,0,0,0,0,0,0,0,0,0,0,0,0,0,0,0,0,0,0,0,0,0,0,0,0,0,0,0,0,0,0,0,0,0,0,0,0,0,0,0,0,0,0,0,0,0,0,0,0,0,0,0,0,0,0,0,0,0,0,0,0,0,0,0,0,0,0,0,0,0,0,0,0,0,0,0,0,0,0,0,0,0,0,0,0,0,0,0,0,0,0,0,0,0,0,0,0,0,0,0,0,0,0,0,0,0,0,0,0,0,0,0,0,0,0,0,0,0,0,0,0,0,0,0,0,0,0,0,0,0,0,0,0,0,0,0,0,0,0,0,0,0,0,0,0,0,0,0,0,0,0,0,0,0,0,0,0,0,0,0,0,0,0,0,0,0,0,0,0,0,0,0,0,0,0,0,0,0,0,0,0,0,0,0,0,0,0,0,0,0,0,0,0,0,0,0,0,0,0,0,0,0,0,0,0,0,0,0,0,0,0,0,0,0,0,0,0,0,0,0,0,0,0,0,0,0,0,0,0,0,0,0,0,0,0,0,0,0,0,0,0,0,0,0,0,0,0,0,0,0,0,0,0,0,0,0,0,0,0,0,0,0,0,0,0,0,0,0,0,0,0,0,0,0,0,0,0,0,0,0,0,0,0,0,0,0,0,0,0,0,0,0,0,0,0,0,0,0,0,0,0,0,0,0,0,0,0,0,0,0,0,0,0,0,0,0,0,0,0,0,0,0,0,0,0,0,0,0,0,0,0,0,0,0,0,0,0,0,0,0,0,0,0,0,0,0,0,0,0,0,0,0,0,0,0,0,0,0,0,0,0,0,0,0,0,0,0,0,0,0,0,0,0,0,0,0,0,0,0,0,0,0,0,0,0,0,0,0,0,0,0,0,0,0,0,0,0,0,0,0,0,0,0,0,0,0,0,0,0,0,0,0,0,0,0,0,0,0,0,0,0,0,0,0,0,0,0,0,0,0,0,0,0,0,0,0,0,0,0,0,0,0,0,0,0,0,0,0,0,0,0,0,0,0,0,0,0,0,0,0,0,0,0,0,0,0,0,0,0,0,0,0,0,0,0,0,0,0,0,0,0,0,0,0,0,0,0,0,0,0,0,0,0,0,0,0,0,0,0,0,0,0,0,0,0,0,0,0,0,0,0,0,0,0,0,0,0,0,0,0,0,0,0,0,0,0,0,0,0,0,0,0,0,0,0,0,0,0,0,0,0,0,0,0,0,0,0,0,0,0,0,0,0,0,0,0,0,0,0,0,0,0,0,0,0,0,0,0,0,0,0,0,0,0,0,0,0,0,0,0,0,0,0,0,0,0,0,0,0,0,0,0,0,0,0,0,0,0,0,0,0,0,0,0,0,0,0,0,0,0,0,0,0,0,0,0,0,0,0,0,0,0,0,0,0,0,0,0,0,0,0,0,0,0,0,0,0,0,0,0,0,0,0,0,0,0,0,0,0,0,0,0,0,0,0,0,0,0,0,0,0,0,0,0,0,0,0,0,0,0,0,0,0,0,0,0,0,0,0,0,0,0,0,0,0,0,0,0,0,0,0,0,0,0,0,0,0,0,0,0,0,0,0,0,0,0,0,0,0,0,0,0,0,0,0,0,0,0,0,0,0,0,0,0,0,0,0,0,0,0,0,0,0,0,0,0,0,0,0,0,0,0,0,0,0,0,0,0,0,0,0,0,0,0,0,0,0,0,0,0,0,0,0,0,0,0,0,0,0,0,0,0,0,0,0,0,0,0,0,0,0,0,0,0,0,0,0,0,0,0,0,0,0,0,0,0,0,0,0,0,0,0,0,0,0,0,0,0,0,0,0,0,0,0,0,0,0,0,0,0,0,0,0,0,0,0,0,0,0,0,0,0,0,0,0,0,0,0,0,0,0,0,0,0,0,0,0,0,0,0,0,0,0,0,0,0,0,0,0,0,0,0,0,0,0,0,0,0,0,0,0,0,0,0,0,0,0,0,0,0,0,0,0,0,0,0,0,0,0,0,0,0,0,0,0,0,0,0,0,0,0,0,0,0,0,0,0,0,0,0,0,0,0,0,0,0,0,0,0,0,0,0,0,0,0,0,0,0,0,0,0,0,0,0,0,0,0,0,0,0,0,0,0,0,0,0,0,0,0,0,0,0,0,0,0,0,0,0,0,0,0,0,0,0,0,0,0,0,0,0,0,0,0,0,0,0,0,0,0,0,0,0,0,0,0,0,0,0,0,0,0,0,0,0,0,0,0,0,0,0,0,0,0,0,0,0,0,0,0,0,0,0,0,0,0,0,0,0,0,0,0,0,0,0,0,0,0,0,0,0,0,0,0,0,0,0,0,0,0,0,0,0,0,0,0,0,0,0,0,0,0,0,0,0,0,0,0,0,0,0,0,0,0,0,0,0,0,0,0,0,0,0,0,0,0,0,0,0,0,0,0,0,0,0,0,0,0,0,0,0,0,0,0,0,0,0,0,0,0,0,0,0,0,0,0,0,0,0,0,0,0,0,0,0,0,0,0,0,0,0,0,0,0,0,0,0,0,0,0,0,0,0,0,0,0,0,0,0,0,0,0,0,0,0,0,0,0,0,0,0,0,0,0,0,0,0,0,0,0,0,0,0,0,0,0,0,0,0,0,0,0,0,0,0,0,0,0,0,0,0,0,0,0,0,0,0,0,0,0,0,0,0,0,0,0,0,0,0,0,0,0,0,0,0,0,0,0,0,0,0,0,0,0,0,0,0,0,0,0,0,0,0,0,0,0,0,0,0,0,0,0,0],\"x0\":\" \",\"xaxis\":\"x\",\"y\":[202.21,171.23,174.12,94.39,76.15,58.57,80.43,120.46,104.51,214.09,167.41,89.22,193.94,233.29,228.7,100.98,196.92,84.03,74.63,60.91,90.9,109.78,107.26,58.09,89.96,127.29,124.13,197.54,59.32,180.93,185.17,74.9,61.94,93.72,221.58,72.67,62.57,179.12,116.55,96.59,66.72,110.85,165.31,101.45,88.92,79.79,59.35,226.98,68.02,68.56,235.63,76.34,82.81,190.32,231.61,78.7,110.52,73.18,191.82,93.05,64.17,106.41,224.1,82.1,82.28,105.22,59.86,62.55,219.91,131.41,73.54,62.48,190.14,130.54,101.45,206.09,263.32,207.28,199.2,116.44,70.28,72.17,221.79,67.29,67.41,239.07,169.67,76.57,92.98,231.56,102.16,221.89,195.71,74.02,57.92,70.37,203.87,89.13,162.23,98.02,60.94,97.43,91.02,60.67,64.44,110.66,78.18,76.13,81.32,215.94,205.77,97.92,74.96,90.0,109.47,106.74,80.13,106.58,83.24,103.43,74.11,95.84,205.33,210.4,199.86,205.35,70.3,216.58,184.4,97.76,66.03,81.95,97.73,70.94,199.84,211.06,88.2,247.51,57.93,78.8,78.81,110.89,69.04,210.95,77.59,243.53,77.67,205.84,77.08,162.96,73.5,95.04,84.62,82.67,57.33,67.84,75.7,129.54,60.22,109.82,60.84,94.61,97.49,206.72,214.45,103.26,73.74,149.75,62.6,94.09,55.42,82.18,110.63,79.81,113.63,141.24,94.3,81.51,137.74,75.42,61.45,115.22,97.93,85.6,79.83,218.46,127.71,216.7,71.89,69.94,235.85,89.44,111.38,243.5,182.2,82.24,89.84,84.38,215.6,91.61,138.16,75.23,75.18,58.95,99.92,118.82,66.3,101.41,200.28,136.8,96.57,66.42,98.09,205.23,126.82,63.69,209.58,89.86,83.82,210.78,118.89,72.55,107.41,93.25,80.05,91.97,64.4,88.11,72.36,68.76,101.52,91.72,68.34,83.51,91.6,87.52,75.39,122.41,84.59,70.16,107.52,80.88,93.48,70.21,101.37,105.22,70.31,81.6,147.48,71.16,73.2,203.81,82.0,97.55,75.22,73.73,79.58,77.88,205.26,58.63,139.9,72.79,79.92,225.47,82.34,180.63,92.48,130.34,82.59,227.1,104.21,112.06,74.44,95.93,87.51,72.35,113.47,103.78,115.43,170.05,217.3,196.01,93.88,75.05,70.08,74.2,69.01,87.24,96.88,73.32,132.08,98.99,79.14,69.24,111.19,93.28,129.53,114.53,93.73,77.49,65.38,94.18,96.29,96.99,100.61,84.79,78.75,82.93,183.45,114.94,104.38,73.31,70.92,86.11,129.16,113.85,79.35,80.79,90.65,127.18,138.06,155.43,80.83,80.19,79.3,98.44,75.29,126.96,183.34,76.2,93.36,191.47,58.26,239.82,73.71,88.53,71.91,65.3,114.25,87.88,109.16,74.46,118.51,107.47,59.17,196.36,139.77,141.23,89.99,100.83,59.82,105.95,188.11,71.15,60.53,204.86,115.03,97.89,102.34,228.08,88.04,92.2,219.53,75.56,148.91,69.4,68.34,71.2,92.04,73.0,111.15,58.65,97.78,94.62,112.43,95.12,79.09,98.09,98.42,82.01,56.11,92.39,63.71,70.35,64.64,57.27,107.25,77.12,57.57,98.73,56.23,118.14,67.81,77.46,86.39,116.38,75.74,149.95,74.98,79.89,130.61,109.03,81.03,99.82,140.08,59.54,80.33,131.51,89.21,91.45,90.58,91.45,89.63,124.06,99.47,80.93,102.07,91.69,63.71,200.49,240.71,60.5,131.85,134.39,113.64,156.57,80.4,63.26,86.24,90.9,84.59,75.19,67.97,107.42,114.5,74.02,74.22,55.34,75.04,95.81,194.62,70.02,62.41,85.83,103.86,60.98,82.69,250.2,128.97,97.06,77.54,92.78,173.43,79.08,106.18,114.21,91.08,106.51,55.27,99.2,92.7,82.59,91.0,76.99,254.6,93.99,109.68,92.04,111.41,97.92,101.28,88.31,103.55,60.26,79.39,122.01,78.09,89.7,95.1,79.8,82.2,108.89,116.14,122.74,94.04,83.83,93.88,129.16,88.66,76.82,91.56,104.55,84.84,121.04,85.62,74.23,110.76,79.44,119.52,90.42,109.32,79.13,84.06,69.21,189.49,99.6,126.18,62.49,74.51,94.63,91.98,75.87,77.19,100.15,125.38,112.96,183.1,105.36,84.13,77.04,83.23,87.01,106.35,80.63,91.35,111.99,60.2,86.96,237.15,99.06,90.92,104.33,62.61,94.3,72.62,81.64,90.78,59.76,83.76,63.64,76.26,82.06,77.16,69.58,96.26,87.27,65.36,109.51,89.03,91.34,115.29,111.61,109.02,106.51,87.11,61.68,70.03,100.97,99.21,113.21,110.16,92.87,123.0,86.4,61.81,128.28,204.63,89.98,232.89,98.58,76.34,90.1,65.15,93.07,73.69,58.39,112.47,72.84,170.95,87.98,65.81,124.6,83.65,86.75,123.36,69.87,109.22,59.15,165.11,77.44,124.45,73.67,100.8,85.22,82.61,72.07,79.85,84.86,131.77,102.01,128.63,143.15,85.6,142.12,100.81,69.17,86.34,94.78,109.59,79.26,78.46,65.32,95.2,114.89,95.43,84.08,110.55,82.21,82.38,93.89,75.08,84.93,65.47,78.65,63.78,77.52,113.01,96.02,206.25,115.52,60.69,56.07,96.63,246.34,195.16,93.34,162.3,87.03,82.47,75.88,84.63,109.56,89.45,91.65,121.14,87.77,106.56,93.88,153.76,111.22,55.86,63.73,75.06,68.61,193.22,65.98,66.12,73.4,93.55,90.4,98.1,251.46,89.96,82.44,80.85,220.52,76.93,113.1,57.26,129.31,56.47,86.97,195.04,134.59,90.66,91.68,106.68,82.31,65.47,83.09,88.6,79.47,95.52,73.0,112.07,55.67,90.55,218.65,111.21,83.56,116.76,69.3,67.55,80.28,67.96,99.29,75.62,120.06,117.45,224.71,122.75,82.39,57.02,226.11,97.59,82.57,79.34,125.68,65.59,120.85,62.68,78.94,109.69,79.63,79.33,79.91,84.46,68.4,198.02,121.19,106.02,66.36,267.76,107.18,80.92,90.77,90.84,59.2,133.76,118.62,68.98,112.08,180.76,239.52,124.16,229.86,76.66,112.38,89.3,103.44,79.69,94.12,62.4,210.96,96.42,195.25,81.02,217.39,82.77,101.75,69.34,118.81,57.89,78.38,127.75,141.15,88.63,201.25,130.15,104.07,72.61,82.41,74.72,71.98,84.91,91.63,214.77,167.31,63.65,79.63,98.74,92.82,63.37,74.82,97.6,134.45,144.16,206.4,84.86,71.7,72.02,61.81,103.09,156.7,70.87,64.66,91.88,74.79,78.18,112.23,121.43,94.22,67.27,112.09,86.33,80.47,62.46,78.85,103.81,78.04,94.67,62.25,62.78,89.96,103.25,126.99,102.27,82.91,88.41,108.1,93.17,158.89,112.34,119.03,237.21,89.68,89.05,98.12,105.59,109.56,65.82,90.16,64.45,91.85,97.89,107.4,100.84,86.55,100.85,107.29,93.47,80.77,70.75,73.66,77.83,70.01,119.88,169.97,84.21,92.86,140.28,72.76,68.34,120.77,126.34,93.24,154.75,62.81,65.96,79.53,96.85,251.99,68.8,83.84,107.98,135.64,121.11,70.15,213.11,58.48,87.33,151.3,144.23,110.6,80.28,114.88,129.01,124.08,107.91,65.9,104.36,123.87,113.96,81.28,102.5,78.05,237.58,70.18,79.3,65.84,123.49,207.45,89.11,58.3,67.92,73.0,76.3,226.93,76.11,93.23,253.16,101.02,238.53,79.18,207.79,196.2,231.76,93.3,110.47,77.52,216.92,157.01,87.78,126.67,77.67,71.22,73.0,72.63,108.2,58.71,68.78,65.3,72.49,65.49,63.4,105.29,78.34,66.32,168.15,93.48,70.58,87.7,65.29,97.14,91.93,183.0,115.93,99.13,69.24,102.28,81.11,81.38,70.45,73.44,146.44,65.04,151.25,122.04,80.06,84.93,62.99,139.67,61.42,85.52,83.79,73.83,69.38,242.84,202.66,103.78,114.88,75.94,55.51,58.29,102.71,102.89,56.63,81.43,78.59,101.22,78.26,68.19,210.0,114.47,208.05,222.6,151.56,73.41,109.65,69.11,114.41,103.46,95.36,57.33,191.48,71.63,84.75,89.24,70.13,82.26,75.09,80.57,77.04,103.35,123.65,87.96,85.92,80.8,99.3,71.38,95.5,67.06,104.24,215.9,108.56,60.74,110.7,78.93,124.5,213.54,78.35,86.87,124.01,83.41,70.65,92.4,73.36,219.5,58.02,61.94,63.19,56.84,77.19,70.67,227.16,58.69,88.85,137.94,60.6,93.67,59.89,80.57,88.52,88.82,102.08,84.9,82.21,209.9,176.48,71.81,94.4,66.29,211.88,76.55,56.67,81.66,96.77,91.63,210.23,92.82,234.82,74.51,81.99,87.69,111.64,70.93,72.06,97.9,168.15,224.63,61.88,85.04,140.4,62.27,88.9,64.1,97.58,58.66,83.3,208.17,81.54,146.61,79.33,84.56,185.31,65.78,81.18,76.68,85.66,88.2,203.04,68.37,77.32,119.62,100.82,136.1,79.99,84.49,198.36,93.61,75.43,100.31,105.63,58.88,115.23,196.25,85.97,114.33,72.52,63.47,90.58,92.26,113.74,94.71,194.53,72.65,140.39,77.87,95.82,204.05,67.78,105.29,59.63,199.18,91.21,217.11,74.11,131.23,83.26,76.63,154.08,59.61,67.75,90.35,71.88,67.33,121.66,111.92,68.96,90.26,91.9,91.08,118.55,102.04,82.09,149.9,100.33,91.25,97.32,75.53,121.44,57.92,75.27,80.24,62.67,56.51,65.95,129.07,62.47,69.82,99.68,153.38,87.1,113.4,84.85,106.13,74.33,109.4,63.45,201.07,122.91,55.41,77.63,124.34,124.5,208.06,98.85,93.74,65.6,94.77,145.22,84.79,109.0,68.66,128.72,85.04,97.52,90.43,81.71,93.0,95.37,95.01,80.08,62.0,77.57,108.75,108.23,151.33,107.17,91.46,114.37,100.29,68.37,73.27,107.29,74.01,95.4,120.25,85.51,84.18,82.37,74.55,114.45,107.91,83.85,101.3,72.13,94.98,93.13,121.6,75.88,212.97,100.41,202.05,107.5,55.57,58.14,78.79,96.62,206.25,114.18,101.89,107.22,98.76,116.93,219.96,88.97,72.49,107.27,97.96,112.3,75.77,93.14,80.84,65.34,98.71,170.22,73.5,72.39,81.2,114.76,74.35,134.33,222.29,114.16,73.06,187.88,79.89,76.74,62.47,63.94,77.73,96.3,107.46,89.37,93.64,83.44,102.61,81.76,59.2,226.88,65.66,186.4,122.32,149.13,82.39,80.85,90.01,155.14,158.48,90.15,189.44,70.03,249.29,72.52,92.13,77.67,109.51,97.24,74.65,74.35,206.59,196.33,242.94,103.06,80.86,114.32,83.91,152.02,60.61,89.14,97.23,135.19,93.3,97.39,226.75,90.01,107.84,71.06,128.23,104.23,133.82,80.82,75.09,199.83,73.69,68.44,65.36,94.12,96.24,77.29,125.09,107.18,57.3,101.35,94.03,240.81,152.87,96.04,89.03,110.92,92.72,108.23,56.34,61.83,131.99,136.81,117.75,78.46,83.53,88.33,131.43,231.5,99.4,220.47,180.8,95.07,129.97,87.92,85.15,95.36,219.39,87.21,80.47,89.95,65.01,110.07,90.35,71.5,173.96,113.2,111.38,73.29,65.71,60.41,89.11,63.32,162.93,198.33,85.81,191.33,59.52,80.0,75.06,112.2,91.18,85.81,148.37,97.31,89.88,62.66,122.25,85.0,100.49,101.98,98.39,128.04,216.96,83.27,96.86,91.71,161.57,74.32,74.43,97.06,79.03,62.48,84.9,86.55,118.61,80.21,65.96,61.34,116.6,85.13,86.32,140.93,83.43,207.95,134.29,86.25,112.94,73.54,69.91,56.71,131.63,120.77,100.42,155.86,86.99,90.55,229.58,60.06,65.66,104.7,99.49,79.58,77.37,167.59,88.79,117.34,114.34,227.04,87.56,84.47,96.26,79.57,64.15,74.5,70.32,84.48,78.14,133.58,80.63,233.71,96.0,74.52,131.4,108.8,97.06,266.59,55.58,89.28,84.88,81.44,68.48,100.02,100.61,156.82,81.66,72.49,107.47,92.11,70.54,205.0,89.72,95.25,75.91,97.47,59.28,101.15,55.46,113.87,127.21,78.9,87.94,97.55,127.32,75.52,84.31,96.69,63.98,98.53,105.55,93.21,80.18,69.72,77.55,87.84,106.83,92.16,65.41,102.51,94.15,81.31,78.96,123.47,71.59,57.43,112.12,60.98,86.35,110.78,99.78,201.45,83.89,206.15,102.9,65.48,123.23,102.21,105.22,88.75,79.18,81.33,126.68,196.61,219.92,79.16,99.68,79.55,77.66,111.48,84.25,105.74,58.41,56.89,86.49,92.22,83.16,70.06,87.62,77.67,95.66,172.33,106.59,243.59,97.81,116.04,68.41,94.44,183.87,66.08,72.19,101.09,88.83,69.99,146.59,76.83,90.92,97.16,129.43,106.01,114.82,121.39,84.12,103.15,153.6,129.43,81.0,71.81,84.46,101.32,208.2,91.28,77.99,92.3,84.46,68.7,100.66,100.05,103.94,84.2,250.8,112.29,65.98,99.1,217.84,217.0,57.47,94.38,100.31,103.43,99.83,217.4,71.81,79.79,190.92,75.86,94.45,88.57,89.11,150.03,69.67,77.46,100.54,73.6,59.52,75.28,100.75,110.42,105.18,107.99,90.22,143.45,78.57,116.84,90.04,255.17,217.55,123.66,112.16,86.03,227.96,85.6,111.68,73.49,99.29,63.73,85.55,79.2,94.19,71.37,110.18,59.68,82.1,62.62,116.98,84.1,84.4,81.13,88.19,119.61,84.6,158.93,69.38,72.0,98.34,82.57,124.37,100.96,59.85,104.75,70.98,92.77,82.12,106.35,77.33,96.01,87.92,60.22,75.78,102.42,98.45,93.51,113.68,97.41,81.68,142.12,125.3,78.74,115.99,98.27,93.85,136.23,56.12,93.03,85.77,88.23,73.65,92.65,102.88,67.07,123.81,73.36,233.3,74.35,83.3,85.07,79.96,82.86,97.87,201.38,91.82,99.23,103.89,87.39,89.53,66.61,97.27,94.19,82.18,86.11,122.26,78.16,105.77,102.97,77.53,77.35,82.36,239.95,71.06,60.36,65.33,106.08,60.05,114.05,202.21,57.28,67.38,73.58,80.22,103.76,77.06,90.22,181.3,85.29,107.59,87.72,70.54,59.78,147.04,154.6,95.98,102.51,78.12,97.61,113.11,71.06,104.95,81.94,114.16,73.89,107.21,99.35,203.57,69.26,86.09,76.77,65.01,74.63,230.78,68.48,80.76,95.36,74.53,93.29,121.46,69.35,216.71,74.96,91.82,56.37,149.15,202.67,65.38,90.31,73.39,147.12,84.69,87.1,81.92,85.48,67.29,124.48,93.15,64.87,92.44,105.28,131.8,66.33,101.07,83.37,79.8,103.17,62.52,75.78,110.36,84.86,102.07,202.38,67.07,77.59,91.44,65.4,72.81,149.17,125.74,90.21,139.48,90.77,220.24,81.42,102.36,82.85,102.11,195.61,71.8,88.47,67.68,83.58,104.04,69.4,112.46,107.4,267.61,109.46,120.05,106.33,97.28,76.55,91.36,79.27,105.99,73.37,115.42,71.93,104.55,71.25,82.02,78.02,65.12,80.55,88.2,147.42,91.95,63.72,55.64,88.88,59.62,176.71,87.16,102.46,81.26,157.67,89.59,71.97,82.07,207.62,116.2,112.62,84.37,82.83,102.48,69.12,211.12,95.38,108.72,88.65,82.85,80.96,70.59,98.57,68.88,66.25,73.2,104.86,90.87,76.21,74.14,87.25,215.33,104.4,104.92,106.54,61.47,90.77,228.2,92.15,126.32,89.52,80.1,90.49,92.99,83.7,63.16,87.23,104.45,87.52,65.93,93.78,77.54,93.18,125.03,85.27,86.06,104.36,78.29,105.52,109.27,91.34,176.78,67.73,73.27,70.29,91.47,205.01,73.87,64.44,111.65,90.65,94.2,56.95,92.37,191.78,86.36,82.72,113.57,89.58,91.85,88.89,108.62,91.85,72.01,70.56,71.02,99.75,127.2,69.76,73.56,57.77,151.25,78.32,84.7,127.28,80.72,73.92,69.77,84.13,86.15,163.02,110.41,109.23,75.98,57.8,76.44,79.03,114.02,55.59,73.48,105.05,84.78,164.77,159.39,83.93,98.9,82.64,112.54,75.25,204.77,80.08,80.82,93.67,87.15,80.72,98.14,134.24,124.38,92.21,79.25,194.53,115.69,59.07,85.59,89.06,79.39,67.84,81.73,77.55,127.42,227.68,226.73,89.74,74.85,55.96,84.4,104.05,62.54,76.81,198.12,78.0,75.82,240.86,263.56,81.13,118.44,97.37,80.51,78.88,83.61,73.19,96.7,73.04,85.81,88.79,107.82,77.91,103.6,159.7,118.22,85.59,84.42,235.45,79.2,207.71,99.84,98.05,107.55,146.21,79.94,123.1,228.05,90.06,64.66,103.79,88.51,97.26,102.89,80.0,56.75,104.66,105.51,83.42,71.06,91.19,174.43,62.69,141.16,89.61,76.42,111.81,57.57,91.02,65.46,79.89,231.31,87.18,78.94,69.01,110.28,62.57,107.18,233.59,97.95,58.19,70.11,112.77,75.46,63.63,100.22,81.77,94.25,151.23,205.97,112.19,71.93,190.89,138.02,66.16,102.1,78.32,130.0,97.25,162.24,74.36,69.68,98.35,85.86,80.34,73.76,108.18,85.23,100.08,84.07,82.33,64.94,98.22,83.5,125.89,87.72,68.94,87.47,81.68,110.17,76.66,199.38,65.77,75.67,95.94,92.0,79.21,98.55,202.98,60.7,79.94,69.92,136.96,95.32,107.78,198.32,112.69,60.61,79.77,87.41,226.38,69.42,77.68,219.82,82.05,104.08,71.32,78.45,87.29,82.49,78.7,104.26,61.54,111.96,112.44,216.88,110.38,56.74,68.35,83.52,81.59,123.83,93.2,85.84,74.64,85.03,66.55,88.38,81.05,68.4,96.95,66.24,84.86,118.88,85.91,75.34,67.3,72.54,89.16,108.64,83.66,81.21,92.95,82.24,109.81,123.49,89.45,126.04,89.38,82.3,218.0,79.7,70.22,83.57,60.6,97.24,92.62,90.0,78.28,87.81,202.66,196.5,142.31,86.1,76.7,103.12,84.03,83.55,61.53,100.74,59.31,63.22,209.5,64.51,113.95,76.05,116.49,55.28,219.81,103.73,98.69,94.11,91.35,82.48,111.1,84.19,126.35,87.5,77.52,133.13,96.1,108.61,75.16,101.19,107.74,62.32,131.28,76.72,125.98,72.09,145.94,93.93,76.74,83.74,68.66,65.79,176.38,193.45,85.84,86.21,75.41,95.28,95.87,180.45,95.39,60.77,102.84,130.37,65.44,108.8,92.35,76.57,69.5,219.38,69.48,68.09,92.71,72.08,82.56,78.24,84.66,90.35,59.14,85.64,99.0,105.75,114.09,100.01,103.61,118.46,94.77,72.12,81.92,67.1,58.01,173.9,96.28,69.74,106.95,94.63,86.97,76.12,99.94,74.86,74.42,104.21,157.77,101.81,56.85,63.01,68.6,72.53,81.78,116.85,80.83,96.21,78.26,115.47,100.16,97.6,90.54,105.88,69.89,111.27,91.04,216.64,65.25,80.92,124.37,102.39,71.08,81.54,93.96,92.49,65.91,70.25,67.08,208.05,95.87,95.37,56.13,104.03,157.01,84.35,185.28,88.32,62.12,198.3,100.06,101.13,91.09,61.54,62.02,103.11,77.57,67.1,83.88,93.51,60.01,92.43,71.63,87.79,99.64,86.53,98.37,218.6,101.3,223.26,172.27,221.83,60.91,77.5,65.21,102.39,218.1,200.46,95.7,70.23,75.15,90.67,134.12,82.62,92.14,217.79,139.2,77.01,105.26,99.07,147.74,61.29,90.74,85.53,76.7,97.86,112.33,110.41,181.23,103.58,81.96,76.12,64.27,200.98,85.79,71.46,87.62,118.55,82.14,219.67,60.37,88.51,90.38,207.6,158.9,114.71,58.55,68.18,118.75,186.54,101.93,110.96,91.65,84.1,118.85,98.05,102.1,98.07,71.4,82.27,158.33,102.5,72.18,82.59,89.31,92.76,125.14,88.6,59.43,65.43,139.81,106.84,221.06,109.39,93.97,163.17,124.39,212.62,128.63,77.6,120.15,72.16,70.51,81.77,66.47,146.08,91.68,108.96,78.5,74.8,76.52,208.99,99.72,86.06,105.9,73.87,60.64,82.57,115.98,59.11,125.63,77.94,68.99,111.76,80.27,81.73,142.63,97.05,222.52,64.62,94.12,70.19,55.35,103.29,92.74,63.57,57.46,104.16,110.42,119.4,119.13,120.22,80.8,57.96,81.24,88.79,70.91,87.12,126.09,76.42,131.81,87.71,115.68,75.1,69.72,111.08,68.68,91.16,99.44,123.89,138.44,75.06,102.76,71.79,86.92,59.62,103.72,77.1,94.75,77.72,61.8,92.97,83.73,108.32,103.65,131.42,69.46,76.78,103.78,213.43,83.16,108.63,248.24,57.79,87.4,58.01,77.43,101.12,64.45,79.42,82.94,81.58,116.06,122.23,110.33,96.47,70.66,202.06,91.3,67.56,126.12,86.4,103.22,88.85,63.9,81.32,134.65,56.94,207.84,228.26,94.89,132.46,75.13,76.64,91.32,85.9,85.77,203.76,98.44,79.57,101.46,68.66,205.78,110.1,100.8,56.48,77.77,104.02,230.74,83.7,200.66,73.99,228.5,70.43,102.92,87.91,118.55,200.91,95.24,56.64,112.96,236.04,73.0,61.13,88.56,66.16,88.98,94.39,87.39,86.85,94.37,76.64,254.95,80.94,112.02,196.58,89.14,69.94,89.68,101.06,62.66,84.03,108.38,78.79,68.01,90.11,193.61,195.74,94.77,85.0,90.71,106.8,85.18,130.07,74.24,79.98,106.76,76.34,221.24,63.98,55.93,73.94,65.58,83.8,95.87,84.93,125.43,149.8,112.55,70.87,112.19,151.26,77.2,76.08,123.98,108.51,86.21,99.01,79.53,69.47,85.07,144.14,86.78,105.72,64.37,146.1,58.66,192.5,89.42,212.92,87.4,74.0,124.78,191.94,247.87,88.62,81.51,101.76,115.71,57.4,81.36,261.67,98.9,105.28,83.03,70.56,78.79,70.13,71.77,77.99,63.74,60.67,112.08,221.08,153.24,86.67,82.42,100.54,111.48,85.33,81.51,77.92,87.15,86.07,89.73,128.61,90.11,234.5,71.12,116.04,112.75,82.63,92.75,117.63,197.06,216.07,76.03,62.44,108.82,121.15,93.3,144.33,98.02,94.27,76.35,179.14,63.49,66.3,120.56,150.74,81.38,203.87,84.68,91.89,116.98,96.62,79.62,86.3,83.55,102.0,68.07,102.03,57.52,76.98,82.31,83.84,98.14,84.04,94.92,112.7,72.99,94.14,95.33,85.65,223.64,76.43,98.66,85.46,199.78,101.56,84.48,70.89,108.14,244.3,80.88,87.72,58.64,59.67,78.08,105.08,89.3,61.38,56.11,76.0,65.22,78.91,226.28,213.92,102.0,68.42,125.33,212.19,67.68,84.99,62.13,57.1,94.06,93.88,83.14,73.56,200.8,57.28,99.44,77.96,60.13,88.17,68.72,222.58,156.43,99.48,70.0,112.98,73.2,102.73,74.88,122.43,84.21,80.42,80.63,206.53,104.12,96.82,88.1,102.87,97.58,74.16,86.0,100.93,67.5,89.57,95.31,106.65,234.06,58.81,65.68,96.98,66.7,90.16,104.09,90.96,152.38,114.54,174.54,106.47,73.63,98.52,67.87,120.43,76.56,108.03,67.9,123.94,231.54,219.8,187.99,94.67,111.79,80.89,86.91,59.36,240.69,66.67,87.54,83.62,110.97,70.53,115.91,78.68,79.76,63.28,70.48,120.96,77.29,97.65,81.53,65.42,66.71,114.92,120.58,165.36,126.34,68.27,89.32,65.63,109.3,111.94,110.32,79.0,95.08,57.83,69.77,71.4,79.61,77.46,96.85,182.22,67.26,60.02,113.45,112.31,68.53,57.15,214.73,91.82,71.8,63.41,74.99,75.22,61.88,65.67,110.18,107.72,90.29,72.49,113.26,84.92,128.17,129.31,89.43,101.6,66.55,231.72,96.69,100.88,109.33,206.53,83.91,67.92,73.48,103.66,77.45,193.8,114.34,88.44,87.06,92.64,99.36,135.63,95.44,72.71,65.45,203.01,110.84,55.12,105.91,61.57,83.1,66.32,72.56,63.27,79.6,177.56,81.31,59.91,132.85,96.03,83.56,80.93,84.54,70.51,67.55,243.52,108.63,69.06,73.89,73.71,129.01,68.38,135.79,82.19,208.31,69.84,98.61,80.44,103.69,74.12,71.08,58.39,176.34,67.21,84.07,117.31,68.86,132.88,124.92,57.42,154.67,67.66,62.63,77.93,80.3,83.07,140.14,92.65,99.0,83.88,57.06,112.25,124.31,101.95,116.95,99.76,105.48,100.6,109.03,95.42,123.04,107.43,56.85,102.15,88.68,182.52,93.97,104.03,67.99,212.87,96.75,82.64,71.34,183.43,101.19,88.51,126.85,74.17,76.04,73.87,99.07,133.24,69.88,69.12,86.05,81.9,99.58,124.54,112.35,160.76,73.29,206.49,117.59,61.94,116.68,253.86,203.36,64.09,98.3,95.16,91.04,96.86,91.05,55.84,84.04,92.06,89.61,69.92,120.23,211.58,89.01,118.41,91.01,61.98,58.72,90.42,104.0,174.37,76.31,90.52,72.03,90.57,83.89,152.56,75.93,76.89,62.13,95.02,97.95,77.93,82.85,103.08,83.75,125.2,82.99,85.28],\"y0\":\" \",\"yaxis\":\"y\",\"type\":\"box\"}],                        {\"template\":{\"data\":{\"barpolar\":[{\"marker\":{\"line\":{\"color\":\"rgb(17,17,17)\",\"width\":0.5},\"pattern\":{\"fillmode\":\"overlay\",\"size\":10,\"solidity\":0.2}},\"type\":\"barpolar\"}],\"bar\":[{\"error_x\":{\"color\":\"#f2f5fa\"},\"error_y\":{\"color\":\"#f2f5fa\"},\"marker\":{\"line\":{\"color\":\"rgb(17,17,17)\",\"width\":0.5},\"pattern\":{\"fillmode\":\"overlay\",\"size\":10,\"solidity\":0.2}},\"type\":\"bar\"}],\"carpet\":[{\"aaxis\":{\"endlinecolor\":\"#A2B1C6\",\"gridcolor\":\"#506784\",\"linecolor\":\"#506784\",\"minorgridcolor\":\"#506784\",\"startlinecolor\":\"#A2B1C6\"},\"baxis\":{\"endlinecolor\":\"#A2B1C6\",\"gridcolor\":\"#506784\",\"linecolor\":\"#506784\",\"minorgridcolor\":\"#506784\",\"startlinecolor\":\"#A2B1C6\"},\"type\":\"carpet\"}],\"choropleth\":[{\"colorbar\":{\"outlinewidth\":0,\"ticks\":\"\"},\"type\":\"choropleth\"}],\"contourcarpet\":[{\"colorbar\":{\"outlinewidth\":0,\"ticks\":\"\"},\"type\":\"contourcarpet\"}],\"contour\":[{\"colorbar\":{\"outlinewidth\":0,\"ticks\":\"\"},\"colorscale\":[[0.0,\"#0d0887\"],[0.1111111111111111,\"#46039f\"],[0.2222222222222222,\"#7201a8\"],[0.3333333333333333,\"#9c179e\"],[0.4444444444444444,\"#bd3786\"],[0.5555555555555556,\"#d8576b\"],[0.6666666666666666,\"#ed7953\"],[0.7777777777777778,\"#fb9f3a\"],[0.8888888888888888,\"#fdca26\"],[1.0,\"#f0f921\"]],\"type\":\"contour\"}],\"heatmapgl\":[{\"colorbar\":{\"outlinewidth\":0,\"ticks\":\"\"},\"colorscale\":[[0.0,\"#0d0887\"],[0.1111111111111111,\"#46039f\"],[0.2222222222222222,\"#7201a8\"],[0.3333333333333333,\"#9c179e\"],[0.4444444444444444,\"#bd3786\"],[0.5555555555555556,\"#d8576b\"],[0.6666666666666666,\"#ed7953\"],[0.7777777777777778,\"#fb9f3a\"],[0.8888888888888888,\"#fdca26\"],[1.0,\"#f0f921\"]],\"type\":\"heatmapgl\"}],\"heatmap\":[{\"colorbar\":{\"outlinewidth\":0,\"ticks\":\"\"},\"colorscale\":[[0.0,\"#0d0887\"],[0.1111111111111111,\"#46039f\"],[0.2222222222222222,\"#7201a8\"],[0.3333333333333333,\"#9c179e\"],[0.4444444444444444,\"#bd3786\"],[0.5555555555555556,\"#d8576b\"],[0.6666666666666666,\"#ed7953\"],[0.7777777777777778,\"#fb9f3a\"],[0.8888888888888888,\"#fdca26\"],[1.0,\"#f0f921\"]],\"type\":\"heatmap\"}],\"histogram2dcontour\":[{\"colorbar\":{\"outlinewidth\":0,\"ticks\":\"\"},\"colorscale\":[[0.0,\"#0d0887\"],[0.1111111111111111,\"#46039f\"],[0.2222222222222222,\"#7201a8\"],[0.3333333333333333,\"#9c179e\"],[0.4444444444444444,\"#bd3786\"],[0.5555555555555556,\"#d8576b\"],[0.6666666666666666,\"#ed7953\"],[0.7777777777777778,\"#fb9f3a\"],[0.8888888888888888,\"#fdca26\"],[1.0,\"#f0f921\"]],\"type\":\"histogram2dcontour\"}],\"histogram2d\":[{\"colorbar\":{\"outlinewidth\":0,\"ticks\":\"\"},\"colorscale\":[[0.0,\"#0d0887\"],[0.1111111111111111,\"#46039f\"],[0.2222222222222222,\"#7201a8\"],[0.3333333333333333,\"#9c179e\"],[0.4444444444444444,\"#bd3786\"],[0.5555555555555556,\"#d8576b\"],[0.6666666666666666,\"#ed7953\"],[0.7777777777777778,\"#fb9f3a\"],[0.8888888888888888,\"#fdca26\"],[1.0,\"#f0f921\"]],\"type\":\"histogram2d\"}],\"histogram\":[{\"marker\":{\"pattern\":{\"fillmode\":\"overlay\",\"size\":10,\"solidity\":0.2}},\"type\":\"histogram\"}],\"mesh3d\":[{\"colorbar\":{\"outlinewidth\":0,\"ticks\":\"\"},\"type\":\"mesh3d\"}],\"parcoords\":[{\"line\":{\"colorbar\":{\"outlinewidth\":0,\"ticks\":\"\"}},\"type\":\"parcoords\"}],\"pie\":[{\"automargin\":true,\"type\":\"pie\"}],\"scatter3d\":[{\"line\":{\"colorbar\":{\"outlinewidth\":0,\"ticks\":\"\"}},\"marker\":{\"colorbar\":{\"outlinewidth\":0,\"ticks\":\"\"}},\"type\":\"scatter3d\"}],\"scattercarpet\":[{\"marker\":{\"colorbar\":{\"outlinewidth\":0,\"ticks\":\"\"}},\"type\":\"scattercarpet\"}],\"scattergeo\":[{\"marker\":{\"colorbar\":{\"outlinewidth\":0,\"ticks\":\"\"}},\"type\":\"scattergeo\"}],\"scattergl\":[{\"marker\":{\"line\":{\"color\":\"#283442\"}},\"type\":\"scattergl\"}],\"scattermapbox\":[{\"marker\":{\"colorbar\":{\"outlinewidth\":0,\"ticks\":\"\"}},\"type\":\"scattermapbox\"}],\"scatterpolargl\":[{\"marker\":{\"colorbar\":{\"outlinewidth\":0,\"ticks\":\"\"}},\"type\":\"scatterpolargl\"}],\"scatterpolar\":[{\"marker\":{\"colorbar\":{\"outlinewidth\":0,\"ticks\":\"\"}},\"type\":\"scatterpolar\"}],\"scatter\":[{\"marker\":{\"line\":{\"color\":\"#283442\"}},\"type\":\"scatter\"}],\"scatterternary\":[{\"marker\":{\"colorbar\":{\"outlinewidth\":0,\"ticks\":\"\"}},\"type\":\"scatterternary\"}],\"surface\":[{\"colorbar\":{\"outlinewidth\":0,\"ticks\":\"\"},\"colorscale\":[[0.0,\"#0d0887\"],[0.1111111111111111,\"#46039f\"],[0.2222222222222222,\"#7201a8\"],[0.3333333333333333,\"#9c179e\"],[0.4444444444444444,\"#bd3786\"],[0.5555555555555556,\"#d8576b\"],[0.6666666666666666,\"#ed7953\"],[0.7777777777777778,\"#fb9f3a\"],[0.8888888888888888,\"#fdca26\"],[1.0,\"#f0f921\"]],\"type\":\"surface\"}],\"table\":[{\"cells\":{\"fill\":{\"color\":\"#506784\"},\"line\":{\"color\":\"rgb(17,17,17)\"}},\"header\":{\"fill\":{\"color\":\"#2a3f5f\"},\"line\":{\"color\":\"rgb(17,17,17)\"}},\"type\":\"table\"}]},\"layout\":{\"annotationdefaults\":{\"arrowcolor\":\"#f2f5fa\",\"arrowhead\":0,\"arrowwidth\":1},\"autotypenumbers\":\"strict\",\"coloraxis\":{\"colorbar\":{\"outlinewidth\":0,\"ticks\":\"\"}},\"colorscale\":{\"diverging\":[[0,\"#8e0152\"],[0.1,\"#c51b7d\"],[0.2,\"#de77ae\"],[0.3,\"#f1b6da\"],[0.4,\"#fde0ef\"],[0.5,\"#f7f7f7\"],[0.6,\"#e6f5d0\"],[0.7,\"#b8e186\"],[0.8,\"#7fbc41\"],[0.9,\"#4d9221\"],[1,\"#276419\"]],\"sequential\":[[0.0,\"#0d0887\"],[0.1111111111111111,\"#46039f\"],[0.2222222222222222,\"#7201a8\"],[0.3333333333333333,\"#9c179e\"],[0.4444444444444444,\"#bd3786\"],[0.5555555555555556,\"#d8576b\"],[0.6666666666666666,\"#ed7953\"],[0.7777777777777778,\"#fb9f3a\"],[0.8888888888888888,\"#fdca26\"],[1.0,\"#f0f921\"]],\"sequentialminus\":[[0.0,\"#0d0887\"],[0.1111111111111111,\"#46039f\"],[0.2222222222222222,\"#7201a8\"],[0.3333333333333333,\"#9c179e\"],[0.4444444444444444,\"#bd3786\"],[0.5555555555555556,\"#d8576b\"],[0.6666666666666666,\"#ed7953\"],[0.7777777777777778,\"#fb9f3a\"],[0.8888888888888888,\"#fdca26\"],[1.0,\"#f0f921\"]]},\"colorway\":[\"#636efa\",\"#EF553B\",\"#00cc96\",\"#ab63fa\",\"#FFA15A\",\"#19d3f3\",\"#FF6692\",\"#B6E880\",\"#FF97FF\",\"#FECB52\"],\"font\":{\"color\":\"#f2f5fa\"},\"geo\":{\"bgcolor\":\"rgb(17,17,17)\",\"lakecolor\":\"rgb(17,17,17)\",\"landcolor\":\"rgb(17,17,17)\",\"showlakes\":true,\"showland\":true,\"subunitcolor\":\"#506784\"},\"hoverlabel\":{\"align\":\"left\"},\"hovermode\":\"closest\",\"mapbox\":{\"style\":\"dark\"},\"paper_bgcolor\":\"rgb(17,17,17)\",\"plot_bgcolor\":\"rgb(17,17,17)\",\"polar\":{\"angularaxis\":{\"gridcolor\":\"#506784\",\"linecolor\":\"#506784\",\"ticks\":\"\"},\"bgcolor\":\"rgb(17,17,17)\",\"radialaxis\":{\"gridcolor\":\"#506784\",\"linecolor\":\"#506784\",\"ticks\":\"\"}},\"scene\":{\"xaxis\":{\"backgroundcolor\":\"rgb(17,17,17)\",\"gridcolor\":\"#506784\",\"gridwidth\":2,\"linecolor\":\"#506784\",\"showbackground\":true,\"ticks\":\"\",\"zerolinecolor\":\"#C8D4E3\"},\"yaxis\":{\"backgroundcolor\":\"rgb(17,17,17)\",\"gridcolor\":\"#506784\",\"gridwidth\":2,\"linecolor\":\"#506784\",\"showbackground\":true,\"ticks\":\"\",\"zerolinecolor\":\"#C8D4E3\"},\"zaxis\":{\"backgroundcolor\":\"rgb(17,17,17)\",\"gridcolor\":\"#506784\",\"gridwidth\":2,\"linecolor\":\"#506784\",\"showbackground\":true,\"ticks\":\"\",\"zerolinecolor\":\"#C8D4E3\"}},\"shapedefaults\":{\"line\":{\"color\":\"#f2f5fa\"}},\"sliderdefaults\":{\"bgcolor\":\"#C8D4E3\",\"bordercolor\":\"rgb(17,17,17)\",\"borderwidth\":1,\"tickwidth\":0},\"ternary\":{\"aaxis\":{\"gridcolor\":\"#506784\",\"linecolor\":\"#506784\",\"ticks\":\"\"},\"baxis\":{\"gridcolor\":\"#506784\",\"linecolor\":\"#506784\",\"ticks\":\"\"},\"bgcolor\":\"rgb(17,17,17)\",\"caxis\":{\"gridcolor\":\"#506784\",\"linecolor\":\"#506784\",\"ticks\":\"\"}},\"title\":{\"x\":0.05},\"updatemenudefaults\":{\"bgcolor\":\"#506784\",\"borderwidth\":0},\"xaxis\":{\"automargin\":true,\"gridcolor\":\"#283442\",\"linecolor\":\"#506784\",\"ticks\":\"\",\"title\":{\"standoff\":15},\"zerolinecolor\":\"#283442\",\"zerolinewidth\":2},\"yaxis\":{\"automargin\":true,\"gridcolor\":\"#283442\",\"linecolor\":\"#506784\",\"ticks\":\"\",\"title\":{\"standoff\":15},\"zerolinecolor\":\"#283442\",\"zerolinewidth\":2}}},\"xaxis\":{\"anchor\":\"y\",\"domain\":[0.0,1.0],\"title\":{\"text\":\"Stroke\"},\"tickfont\":{\"size\":12}},\"yaxis\":{\"anchor\":\"x\",\"domain\":[0.0,1.0],\"title\":{\"text\":\"avg_glucose_level\"},\"tickfont\":{\"size\":12}},\"legend\":{\"title\":{\"text\":\"gender_indexed\"},\"tracegroupgap\":0,\"font\":{\"size\":12}},\"margin\":{\"t\":60},\"boxmode\":\"group\",\"font\":{\"color\":\"white\"}},                        {\"responsive\": true}                    ).then(function(){\n",
              "                            \n",
              "var gd = document.getElementById('8e332ee0-ff46-43a4-a839-8a4dda06bcaf');\n",
              "var x = new MutationObserver(function (mutations, observer) {{\n",
              "        var display = window.getComputedStyle(gd).display;\n",
              "        if (!display || display === 'none') {{\n",
              "            console.log([gd, 'removed!']);\n",
              "            Plotly.purge(gd);\n",
              "            observer.disconnect();\n",
              "        }}\n",
              "}});\n",
              "\n",
              "// Listen for the removal of the full notebook cells\n",
              "var notebookContainer = gd.closest('#notebook-container');\n",
              "if (notebookContainer) {{\n",
              "    x.observe(notebookContainer, {childList: true});\n",
              "}}\n",
              "\n",
              "// Listen for the clearing of the current output cell\n",
              "var outputEl = gd.closest('.output');\n",
              "if (outputEl) {{\n",
              "    x.observe(outputEl, {childList: true});\n",
              "}}\n",
              "\n",
              "                        })                };                            </script>        </div>\n",
              "</body>\n",
              "</html>"
            ]
          },
          "metadata": {}
        }
      ]
    },
    {
      "cell_type": "code",
      "source": [
        "for index, feature_name in enumerate(df.columns[:-1]):\n",
        "      plt.figure(figsize=(6, 4)) # Adjust the figure size as needed\n",
        "      plt.hist([df.filter(df[\"stroke\"] == 0).select(feature_name).rdd.flatMap(lambda x: x).collect(),\n",
        "          df.filter(df[\"stroke\"] == 1).select(feature_name).rdd.flatMap(lambda x: x).collect()],\n",
        "          label=[\"No Stroke\", \"Stroke\"], bins=10, edgecolor='black')\n",
        "plt.xlabel(feature_name, size=12)\n",
        "plt.ylabel(\"Frequency\", size=12)\n",
        "plt.title(f\"Histogram of {feature_name} with Stroke\", size=14)\n",
        "plt.legend()\n",
        "plt.show()"
      ],
      "metadata": {
        "colab": {
          "base_uri": "https://localhost:8080/",
          "height": 1000
        },
        "id": "GOKAIZA0OpU7",
        "outputId": "bebb3b00-59b0-429a-cb9e-f97a39fbfe2f"
      },
      "execution_count": null,
      "outputs": [
        {
          "output_type": "display_data",
          "data": {
            "text/plain": [
              "<Figure size 600x400 with 1 Axes>"
            ],
            "image/png": "[encoded data removed]"
          },
          "metadata": {}
        },
        {
          "output_type": "display_data",
          "data": {
            "text/plain": [
              "<Figure size 600x400 with 1 Axes>"
            ],
            "image/png": "[encoded data removed]"
          },
          "metadata": {}
        },
        {
          "output_type": "display_data",
          "data": {
            "text/plain": [
              "<Figure size 600x400 with 1 Axes>"
            ],
            "image/png": "[encoded data removed]"
          },
          "metadata": {}
        },
        {
          "output_type": "display_data",
          "data": {
            "text/plain": [
              "<Figure size 600x400 with 1 Axes>"
            ],
            "image/png": "[encoded data removed]"
          },
          "metadata": {}
        },
        {
          "output_type": "display_data",
          "data": {
            "text/plain": [
              "<Figure size 600x400 with 1 Axes>"
            ],
            "image/png": "[encoded data removed]"
          },
          "metadata": {}
        },
        {
          "output_type": "display_data",
          "data": {
            "text/plain": [
              "<Figure size 600x400 with 1 Axes>"
            ],
            "image/png": "[encoded data removed]"
          },
          "metadata": {}
        },
        {
          "output_type": "display_data",
          "data": {
            "text/plain": [
              "<Figure size 600x400 with 1 Axes>"
            ],
            "image/png": "[encoded data removed]"
          },
          "metadata": {}
        },
        {
          "output_type": "display_data",
          "data": {
            "text/plain": [
              "<Figure size 600x400 with 1 Axes>"
            ],
            "image/png": "[encoded data removed]"
          },
          "metadata": {}
        },
        {
          "output_type": "display_data",
          "data": {
            "text/plain": [
              "<Figure size 600x400 with 1 Axes>"
            ],
            "image/png": "[encoded data removed]"
          },
          "metadata": {}
        },
        {
          "output_type": "display_data",
          "data": {
            "text/plain": [
              "<Figure size 600x400 with 1 Axes>"
            ],
            "image/png": "[encoded data removed]"
          },
          "metadata": {}
        }
      ]
    },
    {
      "cell_type": "markdown",
      "source": [
        "**Outliers remove**"
      ],
      "metadata": {
        "id": "Zx-WWACEO4K5"
      }
    },
    {
      "cell_type": "code",
      "source": [
        "# Removing outliers in 'avg_glucose_level' column for non-stroke cases\n",
        "gluc = df.filter((col('avg_glucose_level') > 167) & (col('stroke') == 0)).select('id')"
      ],
      "metadata": {
        "id": "K4spYK4rO-tf"
      },
      "execution_count": null,
      "outputs": []
    },
    {
      "cell_type": "code",
      "source": [
        "# Creating a new dataframe without any kinds of outliers\n",
        "test_df = df.join(gluc, df.id == gluc.id, \"left_anti\")"
      ],
      "metadata": {
        "id": "bvthrsCcPB4c"
      },
      "execution_count": null,
      "outputs": []
    },
    {
      "cell_type": "code",
      "source": [
        "# Updating the original dataframe with the new one without any kinds of outliers and displaying\n",
        "df=test_df\n",
        "df.show()\n"
      ],
      "metadata": {
        "colab": {
          "base_uri": "https://localhost:8080/"
        },
        "id": "dfwq7-QtPFJp",
        "outputId": "c7c020c8-712e-4db4-ae67-a83743b7c407"
      },
      "execution_count": null,
      "outputs": [
        {
          "output_type": "stream",
          "name": "stdout",
          "text": [
            "+-----+----+------------+-------------+-----------------+----+------+--------------+--------------------+-----------------+----------------------+\n",
            "|   id| age|hypertension|heart_disease|avg_glucose_level| bmi|stroke|gender_indexed|ever_married_indexed|work_type_indexed|residence_type_indexed|\n",
            "+-----+----+------------+-------------+-----------------+----+------+--------------+--------------------+-----------------+----------------------+\n",
            "| 9046|67.0|           0|            1|           228.69|36.6|     1|           1.0|                 0.0|              0.0|                   0.0|\n",
            "|51676|61.0|           0|            0|           202.21|27.9|     1|           0.0|                 0.0|              1.0|                   1.0|\n",
            "|31112|80.0|           0|            1|           105.92|32.5|     1|           1.0|                 0.0|              0.0|                   1.0|\n",
            "|60182|49.0|           0|            0|           171.23|34.4|     1|           0.0|                 0.0|              0.0|                   0.0|\n",
            "| 1665|79.0|           1|            0|           174.12|24.0|     1|           0.0|                 0.0|              1.0|                   1.0|\n",
            "|56669|81.0|           0|            0|           186.21|29.0|     1|           1.0|                 0.0|              0.0|                   0.0|\n",
            "|53882|74.0|           1|            1|            70.09|27.4|     1|           1.0|                 0.0|              0.0|                   1.0|\n",
            "|10434|69.0|           0|            0|            94.39|22.8|     1|           0.0|                 1.0|              0.0|                   0.0|\n",
            "|27419|59.0|           0|            0|            76.15|27.9|     1|           0.0|                 0.0|              0.0|                   1.0|\n",
            "|60491|78.0|           0|            0|            58.57|24.2|     1|           0.0|                 0.0|              0.0|                   0.0|\n",
            "|12109|81.0|           1|            0|            80.43|29.7|     1|           0.0|                 0.0|              0.0|                   1.0|\n",
            "|12095|61.0|           0|            1|           120.46|36.8|     1|           0.0|                 0.0|              3.0|                   1.0|\n",
            "|12175|54.0|           0|            0|           104.51|27.3|     1|           0.0|                 0.0|              0.0|                   0.0|\n",
            "| 8213|78.0|           0|            1|           219.84|27.9|     1|           1.0|                 0.0|              0.0|                   0.0|\n",
            "| 5317|79.0|           0|            1|           214.09|28.2|     1|           0.0|                 0.0|              0.0|                   0.0|\n",
            "|58202|50.0|           1|            0|           167.41|30.9|     1|           0.0|                 0.0|              1.0|                   1.0|\n",
            "|56112|64.0|           0|            1|           191.61|37.5|     1|           1.0|                 0.0|              0.0|                   0.0|\n",
            "|34120|75.0|           1|            0|           221.29|25.8|     1|           1.0|                 0.0|              0.0|                   0.0|\n",
            "|27458|60.0|           0|            0|            89.22|37.8|     1|           0.0|                 1.0|              0.0|                   0.0|\n",
            "|25226|57.0|           0|            1|           217.08|27.9|     1|           1.0|                 1.0|              3.0|                   0.0|\n",
            "+-----+----+------------+-------------+-----------------+----+------+--------------+--------------------+-----------------+----------------------+\n",
            "only showing top 20 rows\n",
            "\n"
          ]
        }
      ]
    },
    {
      "cell_type": "markdown",
      "source": [
        "**Vector Column Feature Created**"
      ],
      "metadata": {
        "id": "_zTCGaBOPLxW"
      }
    },
    {
      "cell_type": "code",
      "source": [
        "# Defining the features columns which are assembled to be a vector\n",
        "featureColumns=[\n",
        "\"gender_indexed\",\n",
        "\"age\",\n",
        "\"hypertension\",\n",
        "\"heart_disease\",\n",
        "\"ever_married_indexed\",\n",
        "\"work_type_indexed\",\n",
        "\"residence_type_indexed\",\n",
        "\"avg_glucose_level\",\n",
        "\"bmi\",\n",
        "]"
      ],
      "metadata": {
        "id": "Sv_isxb1PS4N"
      },
      "execution_count": null,
      "outputs": []
    },
    {
      "cell_type": "code",
      "source": [
        "# Assemble the features into a vector column\n",
        "assembler = VectorAssembler(inputCols=featureColumns, outputCol=\"features\")"
      ],
      "metadata": {
        "id": "AjT5YL7RPYOz"
      },
      "execution_count": null,
      "outputs": []
    },
    {
      "cell_type": "code",
      "source": [
        "# Trnsforming the datafrae to include the assembled features\n",
        "df_assembled = assembler.transform(df)"
      ],
      "metadata": {
        "id": "sS2pSdivPano"
      },
      "execution_count": null,
      "outputs": []
    },
    {
      "cell_type": "code",
      "source": [
        "# Displaying the dataframe with the assembled features\n",
        "df_assembled.show()"
      ],
      "metadata": {
        "colab": {
          "base_uri": "https://localhost:8080/"
        },
        "id": "MV_c8d6UPcXe",
        "outputId": "98d97291-6d9c-4d2a-e6b9-09ed23d6c1b7"
      },
      "execution_count": null,
      "outputs": [
        {
          "output_type": "stream",
          "name": "stdout",
          "text": [
            "+-----+----+------------+-------------+-----------------+----+------+--------------+--------------------+-----------------+----------------------+--------------------+\n",
            "|   id| age|hypertension|heart_disease|avg_glucose_level| bmi|stroke|gender_indexed|ever_married_indexed|work_type_indexed|residence_type_indexed|            features|\n",
            "+-----+----+------------+-------------+-----------------+----+------+--------------+--------------------+-----------------+----------------------+--------------------+\n",
            "| 9046|67.0|           0|            1|           228.69|36.6|     1|           1.0|                 0.0|              0.0|                   0.0|[1.0,67.0,0.0,1.0...|\n",
            "|51676|61.0|           0|            0|           202.21|27.9|     1|           0.0|                 0.0|              1.0|                   1.0|[0.0,61.0,0.0,0.0...|\n",
            "|31112|80.0|           0|            1|           105.92|32.5|     1|           1.0|                 0.0|              0.0|                   1.0|[1.0,80.0,0.0,1.0...|\n",
            "|60182|49.0|           0|            0|           171.23|34.4|     1|           0.0|                 0.0|              0.0|                   0.0|(9,[1,7,8],[49.0,...|\n",
            "| 1665|79.0|           1|            0|           174.12|24.0|     1|           0.0|                 0.0|              1.0|                   1.0|[0.0,79.0,1.0,0.0...|\n",
            "|56669|81.0|           0|            0|           186.21|29.0|     1|           1.0|                 0.0|              0.0|                   0.0|(9,[0,1,7,8],[1.0...|\n",
            "|53882|74.0|           1|            1|            70.09|27.4|     1|           1.0|                 0.0|              0.0|                   1.0|[1.0,74.0,1.0,1.0...|\n",
            "|10434|69.0|           0|            0|            94.39|22.8|     1|           0.0|                 1.0|              0.0|                   0.0|(9,[1,4,7,8],[69....|\n",
            "|27419|59.0|           0|            0|            76.15|27.9|     1|           0.0|                 0.0|              0.0|                   1.0|(9,[1,6,7,8],[59....|\n",
            "|60491|78.0|           0|            0|            58.57|24.2|     1|           0.0|                 0.0|              0.0|                   0.0|(9,[1,7,8],[78.0,...|\n",
            "|12109|81.0|           1|            0|            80.43|29.7|     1|           0.0|                 0.0|              0.0|                   1.0|[0.0,81.0,1.0,0.0...|\n",
            "|12095|61.0|           0|            1|           120.46|36.8|     1|           0.0|                 0.0|              3.0|                   1.0|[0.0,61.0,0.0,1.0...|\n",
            "|12175|54.0|           0|            0|           104.51|27.3|     1|           0.0|                 0.0|              0.0|                   0.0|(9,[1,7,8],[54.0,...|\n",
            "| 8213|78.0|           0|            1|           219.84|27.9|     1|           1.0|                 0.0|              0.0|                   0.0|[1.0,78.0,0.0,1.0...|\n",
            "| 5317|79.0|           0|            1|           214.09|28.2|     1|           0.0|                 0.0|              0.0|                   0.0|(9,[1,3,7,8],[79....|\n",
            "|58202|50.0|           1|            0|           167.41|30.9|     1|           0.0|                 0.0|              1.0|                   1.0|[0.0,50.0,1.0,0.0...|\n",
            "|56112|64.0|           0|            1|           191.61|37.5|     1|           1.0|                 0.0|              0.0|                   0.0|[1.0,64.0,0.0,1.0...|\n",
            "|34120|75.0|           1|            0|           221.29|25.8|     1|           1.0|                 0.0|              0.0|                   0.0|[1.0,75.0,1.0,0.0...|\n",
            "|27458|60.0|           0|            0|            89.22|37.8|     1|           0.0|                 1.0|              0.0|                   0.0|(9,[1,4,7,8],[60....|\n",
            "|25226|57.0|           0|            1|           217.08|27.9|     1|           1.0|                 1.0|              3.0|                   0.0|[1.0,57.0,0.0,1.0...|\n",
            "+-----+----+------------+-------------+-----------------+----+------+--------------+--------------------+-----------------+----------------------+--------------------+\n",
            "only showing top 20 rows\n",
            "\n"
          ]
        }
      ]
    },
    {
      "cell_type": "markdown",
      "source": [
        "**Train and Test split and Smote Resampling**"
      ],
      "metadata": {
        "id": "_xzzRH5RPjAx"
      }
    },
    {
      "cell_type": "code",
      "source": [
        "train_df, test_df = df_assembled.randomSplit([0.8, 0.2], seed=42)"
      ],
      "metadata": {
        "id": "0zGt99q0Pqm2"
      },
      "execution_count": null,
      "outputs": []
    },
    {
      "cell_type": "code",
      "source": [
        "# Convert train_df and test_df to Pandas DataFrames\n",
        "train_pd = train_df.toPandas()"
      ],
      "metadata": {
        "id": "V6XzfKj1PtTh"
      },
      "execution_count": null,
      "outputs": []
    },
    {
      "cell_type": "code",
      "source": [
        "# Select the features and labels for training\n",
        "train_features = train_pd[[\"gender_indexed\", \"age\",\"bmi\", \"hypertension\", \"heart_disease\", \"ever_married_indexed\", \"work_type_indexed\", \"residence_type_indexed\"]]\n",
        "train_labels = train_pd[\"stroke\"]"
      ],
      "metadata": {
        "id": "o_eBVl-sPv7i"
      },
      "execution_count": null,
      "outputs": []
    },
    {
      "cell_type": "code",
      "source": [
        "# Resampling the trainng the data using SMOTE\n",
        "smote = SMOTE()\n",
        "train_features_resampled, train_labels_resampled = smote.fit_resample(train_features, train_labels)"
      ],
      "metadata": {
        "id": "HZ_C0xdqPzTT"
      },
      "execution_count": null,
      "outputs": []
    },
    {
      "cell_type": "code",
      "source": [
        "# Creating a dataframe with resampled data\n",
        "resampled_train_pd = pd.DataFrame(train_features_resampled, columns=train_features.columns)\n",
        "resampled_train_pd[\"stroke\"] = train_labels_resampled\n"
      ],
      "metadata": {
        "id": "o7A8zXF-P1QA"
      },
      "execution_count": null,
      "outputs": []
    },
    {
      "cell_type": "code",
      "source": [
        "resampled_train_pd"
      ],
      "metadata": {
        "colab": {
          "base_uri": "https://localhost:8080/",
          "height": 423
        },
        "id": "GzXH8HNFP5Qv",
        "outputId": "1b803faa-5e21-406d-b144-71260f92bd63"
      },
      "execution_count": null,
      "outputs": [
        {
          "output_type": "execute_result",
          "data": {
            "text/plain": [
              "      gender_indexed        age        bmi  hypertension  heart_disease  \\\n",
              "0           0.000000  17.000000  27.900000             0              0   \n",
              "1           0.000000  13.000000  18.600000             0              0   \n",
              "2           0.000000  42.000000  18.500000             0              0   \n",
              "3           0.000000  31.000000  52.300000             0              0   \n",
              "4           0.000000  38.000000  27.900000             0              0   \n",
              "...              ...        ...        ...           ...            ...   \n",
              "6967        0.348890  59.000000  27.900000             0              0   \n",
              "6968        0.072066  68.072066  26.829718             0              0   \n",
              "6969        0.000000  34.156408  32.764942             0              0   \n",
              "6970        0.000000  76.000000  27.900000             0              0   \n",
              "6971        0.128674  58.871326  27.900000             0              0   \n",
              "\n",
              "      ever_married_indexed  work_type_indexed  residence_type_indexed  stroke  \n",
              "0                      1.0           0.000000                     0.0       0  \n",
              "1                      1.0           2.000000                     1.0       0  \n",
              "2                      1.0           0.000000                     0.0       0  \n",
              "3                      1.0           0.000000                     0.0       0  \n",
              "4                      0.0           0.000000                     0.0       0  \n",
              "...                    ...                ...                     ...     ...  \n",
              "6967                   0.0           0.000000                     1.0       1  \n",
              "6968                   0.0           0.927934                     1.0       1  \n",
              "6969                   0.0           0.000000                     1.0       1  \n",
              "6970                   0.0           0.307032                     0.0       1  \n",
              "6971                   0.0           0.000000                     1.0       1  \n",
              "\n",
              "[6972 rows x 9 columns]"
            ],
            "text/html": [
              "\n",
              "  <div id=\"df-6b730bff-8da7-421a-8e4f-b39ac75e0c4c\" class=\"colab-df-container\">\n",
              "    <div>\n",
              "<style scoped>\n",
              "    .dataframe tbody tr th:only-of-type {\n",
              "        vertical-align: middle;\n",
              "    }\n",
              "\n",
              "    .dataframe tbody tr th {\n",
              "        vertical-align: top;\n",
              "    }\n",
              "\n",
              "    .dataframe thead th {\n",
              "        text-align: right;\n",
              "    }\n",
              "</style>\n",
              "<table border=\"1\" class=\"dataframe\">\n",
              "  <thead>\n",
              "    <tr style=\"text-align: right;\">\n",
              "      <th></th>\n",
              "      <th>gender_indexed</th>\n",
              "      <th>age</th>\n",
              "      <th>bmi</th>\n",
              "      <th>hypertension</th>\n",
              "      <th>heart_disease</th>\n",
              "      <th>ever_married_indexed</th>\n",
              "      <th>work_type_indexed</th>\n",
              "      <th>residence_type_indexed</th>\n",
              "      <th>stroke</th>\n",
              "    </tr>\n",
              "  </thead>\n",
              "  <tbody>\n",
              "    <tr>\n",
              "      <th>0</th>\n",
              "      <td>0.000000</td>\n",
              "      <td>17.000000</td>\n",
              "      <td>27.900000</td>\n",
              "      <td>0</td>\n",
              "      <td>0</td>\n",
              "      <td>1.0</td>\n",
              "      <td>0.000000</td>\n",
              "      <td>0.0</td>\n",
              "      <td>0</td>\n",
              "    </tr>\n",
              "    <tr>\n",
              "      <th>1</th>\n",
              "      <td>0.000000</td>\n",
              "      <td>13.000000</td>\n",
              "      <td>18.600000</td>\n",
              "      <td>0</td>\n",
              "      <td>0</td>\n",
              "      <td>1.0</td>\n",
              "      <td>2.000000</td>\n",
              "      <td>1.0</td>\n",
              "      <td>0</td>\n",
              "    </tr>\n",
              "    <tr>\n",
              "      <th>2</th>\n",
              "      <td>0.000000</td>\n",
              "      <td>42.000000</td>\n",
              "      <td>18.500000</td>\n",
              "      <td>0</td>\n",
              "      <td>0</td>\n",
              "      <td>1.0</td>\n",
              "      <td>0.000000</td>\n",
              "      <td>0.0</td>\n",
              "      <td>0</td>\n",
              "    </tr>\n",
              "    <tr>\n",
              "      <th>3</th>\n",
              "      <td>0.000000</td>\n",
              "      <td>31.000000</td>\n",
              "      <td>52.300000</td>\n",
              "      <td>0</td>\n",
              "      <td>0</td>\n",
              "      <td>1.0</td>\n",
              "      <td>0.000000</td>\n",
              "      <td>0.0</td>\n",
              "      <td>0</td>\n",
              "    </tr>\n",
              "    <tr>\n",
              "      <th>4</th>\n",
              "      <td>0.000000</td>\n",
              "      <td>38.000000</td>\n",
              "      <td>27.900000</td>\n",
              "      <td>0</td>\n",
              "      <td>0</td>\n",
              "      <td>0.0</td>\n",
              "      <td>0.000000</td>\n",
              "      <td>0.0</td>\n",
              "      <td>0</td>\n",
              "    </tr>\n",
              "    <tr>\n",
              "      <th>...</th>\n",
              "      <td>...</td>\n",
              "      <td>...</td>\n",
              "      <td>...</td>\n",
              "      <td>...</td>\n",
              "      <td>...</td>\n",
              "      <td>...</td>\n",
              "      <td>...</td>\n",
              "      <td>...</td>\n",
              "      <td>...</td>\n",
              "    </tr>\n",
              "    <tr>\n",
              "      <th>6967</th>\n",
              "      <td>0.348890</td>\n",
              "      <td>59.000000</td>\n",
              "      <td>27.900000</td>\n",
              "      <td>0</td>\n",
              "      <td>0</td>\n",
              "      <td>0.0</td>\n",
              "      <td>0.000000</td>\n",
              "      <td>1.0</td>\n",
              "      <td>1</td>\n",
              "    </tr>\n",
              "    <tr>\n",
              "      <th>6968</th>\n",
              "      <td>0.072066</td>\n",
              "      <td>68.072066</td>\n",
              "      <td>26.829718</td>\n",
              "      <td>0</td>\n",
              "      <td>0</td>\n",
              "      <td>0.0</td>\n",
              "      <td>0.927934</td>\n",
              "      <td>1.0</td>\n",
              "      <td>1</td>\n",
              "    </tr>\n",
              "    <tr>\n",
              "      <th>6969</th>\n",
              "      <td>0.000000</td>\n",
              "      <td>34.156408</td>\n",
              "      <td>32.764942</td>\n",
              "      <td>0</td>\n",
              "      <td>0</td>\n",
              "      <td>0.0</td>\n",
              "      <td>0.000000</td>\n",
              "      <td>1.0</td>\n",
              "      <td>1</td>\n",
              "    </tr>\n",
              "    <tr>\n",
              "      <th>6970</th>\n",
              "      <td>0.000000</td>\n",
              "      <td>76.000000</td>\n",
              "      <td>27.900000</td>\n",
              "      <td>0</td>\n",
              "      <td>0</td>\n",
              "      <td>0.0</td>\n",
              "      <td>0.307032</td>\n",
              "      <td>0.0</td>\n",
              "      <td>1</td>\n",
              "    </tr>\n",
              "    <tr>\n",
              "      <th>6971</th>\n",
              "      <td>0.128674</td>\n",
              "      <td>58.871326</td>\n",
              "      <td>27.900000</td>\n",
              "      <td>0</td>\n",
              "      <td>0</td>\n",
              "      <td>0.0</td>\n",
              "      <td>0.000000</td>\n",
              "      <td>1.0</td>\n",
              "      <td>1</td>\n",
              "    </tr>\n",
              "  </tbody>\n",
              "</table>\n",
              "<p>6972 rows × 9 columns</p>\n",
              "</div>\n",
              "    <div class=\"colab-df-buttons\">\n",
              "\n",
              "  <div class=\"colab-df-container\">\n",
              "    <button class=\"colab-df-convert\" onclick=\"convertToInteractive('df-6b730bff-8da7-421a-8e4f-b39ac75e0c4c')\"\n",
              "            title=\"Convert this dataframe to an interactive table.\"\n",
              "            style=\"display:none;\">\n",
              "\n",
              "  <svg xmlns=\"http://www.w3.org/2000/svg\" height=\"24px\" viewBox=\"0 -960 960 960\">\n",
              "    <path d=\"M120-120v-720h720v720H120Zm60-500h600v-160H180v160Zm220 220h160v-160H400v160Zm0 220h160v-160H400v160ZM180-400h160v-160H180v160Zm440 0h160v-160H620v160ZM180-180h160v-160H180v160Zm440 0h160v-160H620v160Z\"/>\n",
              "  </svg>\n",
              "    </button>\n",
              "\n",
              "  <style>\n",
              "    .colab-df-container {\n",
              "      display:flex;\n",
              "      gap: 12px;\n",
              "    }\n",
              "\n",
              "    .colab-df-convert {\n",
              "      background-color: #E8F0FE;\n",
              "      border: none;\n",
              "      border-radius: 50%;\n",
              "      cursor: pointer;\n",
              "      display: none;\n",
              "      fill: #1967D2;\n",
              "      height: 32px;\n",
              "      padding: 0 0 0 0;\n",
              "      width: 32px;\n",
              "    }\n",
              "\n",
              "    .colab-df-convert:hover {\n",
              "      background-color: #E2EBFA;\n",
              "      box-shadow: 0px 1px 2px rgba(60, 64, 67, 0.3), 0px 1px 3px 1px rgba(60, 64, 67, 0.15);\n",
              "      fill: #174EA6;\n",
              "    }\n",
              "\n",
              "    .colab-df-buttons div {\n",
              "      margin-bottom: 4px;\n",
              "    }\n",
              "\n",
              "    [theme=dark] .colab-df-convert {\n",
              "      background-color: #3B4455;\n",
              "      fill: #D2E3FC;\n",
              "    }\n",
              "\n",
              "    [theme=dark] .colab-df-convert:hover {\n",
              "      background-color: #434B5C;\n",
              "      box-shadow: 0px 1px 3px 1px rgba(0, 0, 0, 0.15);\n",
              "      filter: drop-shadow(0px 1px 2px rgba(0, 0, 0, 0.3));\n",
              "      fill: #FFFFFF;\n",
              "    }\n",
              "  </style>\n",
              "\n",
              "    <script>\n",
              "      const buttonEl =\n",
              "        document.querySelector('#df-6b730bff-8da7-421a-8e4f-b39ac75e0c4c button.colab-df-convert');\n",
              "      buttonEl.style.display =\n",
              "        google.colab.kernel.accessAllowed ? 'block' : 'none';\n",
              "\n",
              "      async function convertToInteractive(key) {\n",
              "        const element = document.querySelector('#df-6b730bff-8da7-421a-8e4f-b39ac75e0c4c');\n",
              "        const dataTable =\n",
              "          await google.colab.kernel.invokeFunction('convertToInteractive',\n",
              "                                                    [key], {});\n",
              "        if (!dataTable) return;\n",
              "\n",
              "        const docLinkHtml = 'Like what you see? Visit the ' +\n",
              "          '<a target=\"_blank\" href=https://colab.research.google.com/notebooks/data_table.ipynb>data table notebook</a>'\n",
              "          + ' to learn more about interactive tables.';\n",
              "        element.innerHTML = '';\n",
              "        dataTable['output_type'] = 'display_data';\n",
              "        await google.colab.output.renderOutput(dataTable, element);\n",
              "        const docLink = document.createElement('div');\n",
              "        docLink.innerHTML = docLinkHtml;\n",
              "        element.appendChild(docLink);\n",
              "      }\n",
              "    </script>\n",
              "  </div>\n",
              "\n",
              "\n",
              "<div id=\"df-e4dfbc90-e9c1-4f78-a55b-87d5fe6095fa\">\n",
              "  <button class=\"colab-df-quickchart\" onclick=\"quickchart('df-e4dfbc90-e9c1-4f78-a55b-87d5fe6095fa')\"\n",
              "            title=\"Suggest charts\"\n",
              "            style=\"display:none;\">\n",
              "\n",
              "<svg xmlns=\"http://www.w3.org/2000/svg\" height=\"24px\"viewBox=\"0 0 24 24\"\n",
              "     width=\"24px\">\n",
              "    <g>\n",
              "        <path d=\"M19 3H5c-1.1 0-2 .9-2 2v14c0 1.1.9 2 2 2h14c1.1 0 2-.9 2-2V5c0-1.1-.9-2-2-2zM9 17H7v-7h2v7zm4 0h-2V7h2v10zm4 0h-2v-4h2v4z\"/>\n",
              "    </g>\n",
              "</svg>\n",
              "  </button>\n",
              "\n",
              "<style>\n",
              "  .colab-df-quickchart {\n",
              "      --bg-color: #E8F0FE;\n",
              "      --fill-color: #1967D2;\n",
              "      --hover-bg-color: #E2EBFA;\n",
              "      --hover-fill-color: #174EA6;\n",
              "      --disabled-fill-color: #AAA;\n",
              "      --disabled-bg-color: #DDD;\n",
              "  }\n",
              "\n",
              "  [theme=dark] .colab-df-quickchart {\n",
              "      --bg-color: #3B4455;\n",
              "      --fill-color: #D2E3FC;\n",
              "      --hover-bg-color: #434B5C;\n",
              "      --hover-fill-color: #FFFFFF;\n",
              "      --disabled-bg-color: #3B4455;\n",
              "      --disabled-fill-color: #666;\n",
              "  }\n",
              "\n",
              "  .colab-df-quickchart {\n",
              "    background-color: var(--bg-color);\n",
              "    border: none;\n",
              "    border-radius: 50%;\n",
              "    cursor: pointer;\n",
              "    display: none;\n",
              "    fill: var(--fill-color);\n",
              "    height: 32px;\n",
              "    padding: 0;\n",
              "    width: 32px;\n",
              "  }\n",
              "\n",
              "  .colab-df-quickchart:hover {\n",
              "    background-color: var(--hover-bg-color);\n",
              "    box-shadow: 0 1px 2px rgba(60, 64, 67, 0.3), 0 1px 3px 1px rgba(60, 64, 67, 0.15);\n",
              "    fill: var(--button-hover-fill-color);\n",
              "  }\n",
              "\n",
              "  .colab-df-quickchart-complete:disabled,\n",
              "  .colab-df-quickchart-complete:disabled:hover {\n",
              "    background-color: var(--disabled-bg-color);\n",
              "    fill: var(--disabled-fill-color);\n",
              "    box-shadow: none;\n",
              "  }\n",
              "\n",
              "  .colab-df-spinner {\n",
              "    border: 2px solid var(--fill-color);\n",
              "    border-color: transparent;\n",
              "    border-bottom-color: var(--fill-color);\n",
              "    animation:\n",
              "      spin 1s steps(1) infinite;\n",
              "  }\n",
              "\n",
              "  @keyframes spin {\n",
              "    0% {\n",
              "      border-color: transparent;\n",
              "      border-bottom-color: var(--fill-color);\n",
              "      border-left-color: var(--fill-color);\n",
              "    }\n",
              "    20% {\n",
              "      border-color: transparent;\n",
              "      border-left-color: var(--fill-color);\n",
              "      border-top-color: var(--fill-color);\n",
              "    }\n",
              "    30% {\n",
              "      border-color: transparent;\n",
              "      border-left-color: var(--fill-color);\n",
              "      border-top-color: var(--fill-color);\n",
              "      border-right-color: var(--fill-color);\n",
              "    }\n",
              "    40% {\n",
              "      border-color: transparent;\n",
              "      border-right-color: var(--fill-color);\n",
              "      border-top-color: var(--fill-color);\n",
              "    }\n",
              "    60% {\n",
              "      border-color: transparent;\n",
              "      border-right-color: var(--fill-color);\n",
              "    }\n",
              "    80% {\n",
              "      border-color: transparent;\n",
              "      border-right-color: var(--fill-color);\n",
              "      border-bottom-color: var(--fill-color);\n",
              "    }\n",
              "    90% {\n",
              "      border-color: transparent;\n",
              "      border-bottom-color: var(--fill-color);\n",
              "    }\n",
              "  }\n",
              "</style>\n",
              "\n",
              "  <script>\n",
              "    async function quickchart(key) {\n",
              "      const quickchartButtonEl =\n",
              "        document.querySelector('#' + key + ' button');\n",
              "      quickchartButtonEl.disabled = true;  // To prevent multiple clicks.\n",
              "      quickchartButtonEl.classList.add('colab-df-spinner');\n",
              "      try {\n",
              "        const charts = await google.colab.kernel.invokeFunction(\n",
              "            'suggestCharts', [key], {});\n",
              "      } catch (error) {\n",
              "        console.error('Error during call to suggestCharts:', error);\n",
              "      }\n",
              "      quickchartButtonEl.classList.remove('colab-df-spinner');\n",
              "      quickchartButtonEl.classList.add('colab-df-quickchart-complete');\n",
              "    }\n",
              "    (() => {\n",
              "      let quickchartButtonEl =\n",
              "        document.querySelector('#df-e4dfbc90-e9c1-4f78-a55b-87d5fe6095fa button');\n",
              "      quickchartButtonEl.style.display =\n",
              "        google.colab.kernel.accessAllowed ? 'block' : 'none';\n",
              "    })();\n",
              "  </script>\n",
              "</div>\n",
              "\n",
              "  <div id=\"id_986ef0c4-4670-4e50-b867-8535211779dc\">\n",
              "    <style>\n",
              "      .colab-df-generate {\n",
              "        background-color: #E8F0FE;\n",
              "        border: none;\n",
              "        border-radius: 50%;\n",
              "        cursor: pointer;\n",
              "        display: none;\n",
              "        fill: #1967D2;\n",
              "        height: 32px;\n",
              "        padding: 0 0 0 0;\n",
              "        width: 32px;\n",
              "      }\n",
              "\n",
              "      .colab-df-generate:hover {\n",
              "        background-color: #E2EBFA;\n",
              "        box-shadow: 0px 1px 2px rgba(60, 64, 67, 0.3), 0px 1px 3px 1px rgba(60, 64, 67, 0.15);\n",
              "        fill: #174EA6;\n",
              "      }\n",
              "\n",
              "      [theme=dark] .colab-df-generate {\n",
              "        background-color: #3B4455;\n",
              "        fill: #D2E3FC;\n",
              "      }\n",
              "\n",
              "      [theme=dark] .colab-df-generate:hover {\n",
              "        background-color: #434B5C;\n",
              "        box-shadow: 0px 1px 3px 1px rgba(0, 0, 0, 0.15);\n",
              "        filter: drop-shadow(0px 1px 2px rgba(0, 0, 0, 0.3));\n",
              "        fill: #FFFFFF;\n",
              "      }\n",
              "    </style>\n",
              "    <button class=\"colab-df-generate\" onclick=\"generateWithVariable('resampled_train_pd')\"\n",
              "            title=\"Generate code using this dataframe.\"\n",
              "            style=\"display:none;\">\n",
              "\n",
              "  <svg xmlns=\"http://www.w3.org/2000/svg\" height=\"24px\"viewBox=\"0 0 24 24\"\n",
              "       width=\"24px\">\n",
              "    <path d=\"M7,19H8.4L18.45,9,17,7.55,7,17.6ZM5,21V16.75L18.45,3.32a2,2,0,0,1,2.83,0l1.4,1.43a1.91,1.91,0,0,1,.58,1.4,1.91,1.91,0,0,1-.58,1.4L9.25,21ZM18.45,9,17,7.55Zm-12,3A5.31,5.31,0,0,0,4.9,8.1,5.31,5.31,0,0,0,1,6.5,5.31,5.31,0,0,0,4.9,4.9,5.31,5.31,0,0,0,6.5,1,5.31,5.31,0,0,0,8.1,4.9,5.31,5.31,0,0,0,12,6.5,5.46,5.46,0,0,0,6.5,12Z\"/>\n",
              "  </svg>\n",
              "    </button>\n",
              "    <script>\n",
              "      (() => {\n",
              "      const buttonEl =\n",
              "        document.querySelector('#id_986ef0c4-4670-4e50-b867-8535211779dc button.colab-df-generate');\n",
              "      buttonEl.style.display =\n",
              "        google.colab.kernel.accessAllowed ? 'block' : 'none';\n",
              "\n",
              "      buttonEl.onclick = () => {\n",
              "        google.colab.notebook.generateWithVariable('resampled_train_pd');\n",
              "      }\n",
              "      })();\n",
              "    </script>\n",
              "  </div>\n",
              "\n",
              "    </div>\n",
              "  </div>\n"
            ],
            "application/vnd.google.colaboratory.intrinsic+json": {
              "type": "dataframe",
              "variable_name": "resampled_train_pd",
              "summary": "{\n  \"name\": \"resampled_train_pd\",\n  \"rows\": 6972,\n  \"fields\": [\n    {\n      \"column\": \"gender_indexed\",\n      \"properties\": {\n        \"dtype\": \"number\",\n        \"std\": 0.4607904398992761,\n        \"min\": 0.0,\n        \"max\": 2.0,\n        \"num_unique_values\": 1333,\n        \"samples\": [\n          0.9169868921278899,\n          0.43856375249797785,\n          0.987485052720785\n        ],\n        \"semantic_type\": \"\",\n        \"description\": \"\"\n      }\n    },\n    {\n      \"column\": \"age\",\n      \"properties\": {\n        \"dtype\": \"number\",\n        \"std\": 22.699635595707317,\n        \"min\": 0.08,\n        \"max\": 82.0,\n        \"num_unique_values\": 2385,\n        \"samples\": [\n          70.13580704150716,\n          60.7167327610143,\n          70.52887139146053\n        ],\n        \"semantic_type\": \"\",\n        \"description\": \"\"\n      }\n    },\n    {\n      \"column\": \"bmi\",\n      \"properties\": {\n        \"dtype\": \"number\",\n        \"std\": 6.7312660048825075,\n        \"min\": 10.3,\n        \"max\": 97.6,\n        \"num_unique_values\": 3248,\n        \"samples\": [\n          27.500075676675053,\n          36.83478316617543,\n          33.18118940685143\n        ],\n        \"semantic_type\": \"\",\n        \"description\": \"\"\n      }\n    },\n    {\n      \"column\": \"hypertension\",\n      \"properties\": {\n        \"dtype\": \"int32\",\n        \"num_unique_values\": 2,\n        \"samples\": [\n          1,\n          0\n        ],\n        \"semantic_type\": \"\",\n        \"description\": \"\"\n      }\n    },\n    {\n      \"column\": \"heart_disease\",\n      \"properties\": {\n        \"dtype\": \"int32\",\n        \"num_unique_values\": 2,\n        \"samples\": [\n          1,\n          0\n        ],\n        \"semantic_type\": \"\",\n        \"description\": \"\"\n      }\n    },\n    {\n      \"column\": \"ever_married_indexed\",\n      \"properties\": {\n        \"dtype\": \"number\",\n        \"std\": 0.413817418425457,\n        \"min\": 0.0,\n        \"max\": 1.0,\n        \"num_unique_values\": 613,\n        \"samples\": [\n          0.2997480693595991,\n          0.09653012337177314\n        ],\n        \"semantic_type\": \"\",\n        \"description\": \"\"\n      }\n    },\n    {\n      \"column\": \"work_type_indexed\",\n      \"properties\": {\n        \"dtype\": \"number\",\n        \"std\": 0.9789262615839276,\n        \"min\": 0.0,\n        \"max\": 4.0,\n        \"num_unique_values\": 1420,\n        \"samples\": [\n          2.610669485040869,\n          0.11083696452793845\n        ],\n        \"semantic_type\": \"\",\n        \"description\": \"\"\n      }\n    },\n    {\n      \"column\": \"residence_type_indexed\",\n      \"properties\": {\n        \"dtype\": \"number\",\n        \"std\": 0.46166944801605075,\n        \"min\": 0.0,\n        \"max\": 1.0,\n        \"num_unique_values\": 1545,\n        \"samples\": [\n          0.6672792253205428,\n          0.7759064992523942\n        ],\n        \"semantic_type\": \"\",\n        \"description\": \"\"\n      }\n    },\n    {\n      \"column\": \"stroke\",\n      \"properties\": {\n        \"dtype\": \"int32\",\n        \"num_unique_values\": 2,\n        \"samples\": [\n          1,\n          0\n        ],\n        \"semantic_type\": \"\",\n        \"description\": \"\"\n      }\n    }\n  ]\n}"
            }
          },
          "metadata": {},
          "execution_count": 67
        }
      ]
    },
    {
      "cell_type": "code",
      "source": [
        "# Preparing the data for training by creating the spaek dataframe from resampled pandas\n",
        "train_df = spark.createDataFrame(resampled_train_pd)"
      ],
      "metadata": {
        "id": "uXrIrpyeP9Rl"
      },
      "execution_count": null,
      "outputs": []
    },
    {
      "cell_type": "code",
      "source": [
        "train_df.show()"
      ],
      "metadata": {
        "colab": {
          "base_uri": "https://localhost:8080/"
        },
        "id": "h_AXl8JlQK2I",
        "outputId": "1c979375-18c5-4c5e-d43c-bc940617d8e8"
      },
      "execution_count": null,
      "outputs": [
        {
          "output_type": "stream",
          "name": "stdout",
          "text": [
            "+--------------+----+----+------------+-------------+--------------------+-----------------+----------------------+------+\n",
            "|gender_indexed| age| bmi|hypertension|heart_disease|ever_married_indexed|work_type_indexed|residence_type_indexed|stroke|\n",
            "+--------------+----+----+------------+-------------+--------------------+-----------------+----------------------+------+\n",
            "|           0.0|17.0|27.9|           0|            0|                 1.0|              0.0|                   0.0|     0|\n",
            "|           0.0|13.0|18.6|           0|            0|                 1.0|              2.0|                   1.0|     0|\n",
            "|           0.0|42.0|18.5|           0|            0|                 1.0|              0.0|                   0.0|     0|\n",
            "|           0.0|31.0|52.3|           0|            0|                 1.0|              0.0|                   0.0|     0|\n",
            "|           0.0|38.0|27.9|           0|            0|                 0.0|              0.0|                   0.0|     0|\n",
            "|           0.0|80.0|27.9|           0|            0|                 0.0|              3.0|                   0.0|     0|\n",
            "|           0.0|20.0|28.8|           0|            0|                 1.0|              0.0|                   1.0|     0|\n",
            "|           1.0|43.0|27.9|           0|            0|                 0.0|              3.0|                   1.0|     0|\n",
            "|           1.0| 8.0|27.9|           0|            0|                 1.0|              2.0|                   0.0|     0|\n",
            "|           0.0|20.0|27.6|           0|            0|                 1.0|              0.0|                   1.0|     0|\n",
            "|           1.0|81.0|31.4|           0|            0|                 0.0|              1.0|                   1.0|     1|\n",
            "|           0.0|23.0|27.9|           0|            0|                 1.0|              0.0|                   0.0|     0|\n",
            "|           1.0| 4.0|17.5|           0|            0|                 1.0|              2.0|                   0.0|     0|\n",
            "|           1.0|31.0|31.6|           0|            0|                 1.0|              0.0|                   0.0|     0|\n",
            "|           0.0|41.0|27.9|           0|            0|                 0.0|              1.0|                   1.0|     0|\n",
            "|           0.0|79.0|36.4|           0|            0|                 1.0|              1.0|                   1.0|     0|\n",
            "|           0.0|43.0|28.4|           0|            0|                 0.0|              0.0|                   1.0|     0|\n",
            "|           0.0|16.0|27.9|           0|            0|                 1.0|              0.0|                   0.0|     0|\n",
            "|           1.0| 8.0|25.7|           0|            0|                 1.0|              2.0|                   1.0|     0|\n",
            "|           0.0|58.0|26.8|           0|            0|                 0.0|              0.0|                   0.0|     0|\n",
            "+--------------+----+----+------------+-------------+--------------------+-----------------+----------------------+------+\n",
            "only showing top 20 rows\n",
            "\n"
          ]
        }
      ]
    },
    {
      "cell_type": "code",
      "source": [
        "# Casting 'bmi' column to float type in the dataframe\n",
        "df_numeric = train_df.withColumn(\"bmi\", col(\"bmi\").cast(\"float\"))"
      ],
      "metadata": {
        "id": "gfwdbRYMQOLj"
      },
      "execution_count": null,
      "outputs": []
    },
    {
      "cell_type": "code",
      "source": [
        "# Assemble the features into a vector column\n",
        "assembler = VectorAssembler(inputCols=[\n",
        "\"gender_indexed\",\n",
        "\"age\",\n",
        "\"hypertension\",\n",
        "\"heart_disease\",\n",
        "\"ever_married_indexed\",\n",
        "\"work_type_indexed\",\n",
        "\"residence_type_indexed\",\n",
        "\"avg_glucose_level\",\n",
        "\"bmi\",\n",
        "], outputCol=\"features\")\n"
      ],
      "metadata": {
        "id": "5r8MpmexQQxA"
      },
      "execution_count": null,
      "outputs": []
    },
    {
      "cell_type": "code",
      "source": [
        "df_assembled.show()"
      ],
      "metadata": {
        "colab": {
          "base_uri": "https://localhost:8080/"
        },
        "id": "t-sFpqHGQTtr",
        "outputId": "67a0d416-8cb6-4511-fbdf-4ee38f27be10"
      },
      "execution_count": null,
      "outputs": [
        {
          "output_type": "stream",
          "name": "stdout",
          "text": [
            "+-----+----+------------+-------------+-----------------+----+------+--------------+--------------------+-----------------+----------------------+--------------------+\n",
            "|   id| age|hypertension|heart_disease|avg_glucose_level| bmi|stroke|gender_indexed|ever_married_indexed|work_type_indexed|residence_type_indexed|            features|\n",
            "+-----+----+------------+-------------+-----------------+----+------+--------------+--------------------+-----------------+----------------------+--------------------+\n",
            "| 9046|67.0|           0|            1|           228.69|36.6|     1|           1.0|                 0.0|              0.0|                   0.0|[1.0,67.0,0.0,1.0...|\n",
            "|51676|61.0|           0|            0|           202.21|27.9|     1|           0.0|                 0.0|              1.0|                   1.0|[0.0,61.0,0.0,0.0...|\n",
            "|31112|80.0|           0|            1|           105.92|32.5|     1|           1.0|                 0.0|              0.0|                   1.0|[1.0,80.0,0.0,1.0...|\n",
            "|60182|49.0|           0|            0|           171.23|34.4|     1|           0.0|                 0.0|              0.0|                   0.0|(9,[1,7,8],[49.0,...|\n",
            "| 1665|79.0|           1|            0|           174.12|24.0|     1|           0.0|                 0.0|              1.0|                   1.0|[0.0,79.0,1.0,0.0...|\n",
            "|56669|81.0|           0|            0|           186.21|29.0|     1|           1.0|                 0.0|              0.0|                   0.0|(9,[0,1,7,8],[1.0...|\n",
            "|53882|74.0|           1|            1|            70.09|27.4|     1|           1.0|                 0.0|              0.0|                   1.0|[1.0,74.0,1.0,1.0...|\n",
            "|10434|69.0|           0|            0|            94.39|22.8|     1|           0.0|                 1.0|              0.0|                   0.0|(9,[1,4,7,8],[69....|\n",
            "|27419|59.0|           0|            0|            76.15|27.9|     1|           0.0|                 0.0|              0.0|                   1.0|(9,[1,6,7,8],[59....|\n",
            "|60491|78.0|           0|            0|            58.57|24.2|     1|           0.0|                 0.0|              0.0|                   0.0|(9,[1,7,8],[78.0,...|\n",
            "|12109|81.0|           1|            0|            80.43|29.7|     1|           0.0|                 0.0|              0.0|                   1.0|[0.0,81.0,1.0,0.0...|\n",
            "|12095|61.0|           0|            1|           120.46|36.8|     1|           0.0|                 0.0|              3.0|                   1.0|[0.0,61.0,0.0,1.0...|\n",
            "|12175|54.0|           0|            0|           104.51|27.3|     1|           0.0|                 0.0|              0.0|                   0.0|(9,[1,7,8],[54.0,...|\n",
            "| 8213|78.0|           0|            1|           219.84|27.9|     1|           1.0|                 0.0|              0.0|                   0.0|[1.0,78.0,0.0,1.0...|\n",
            "| 5317|79.0|           0|            1|           214.09|28.2|     1|           0.0|                 0.0|              0.0|                   0.0|(9,[1,3,7,8],[79....|\n",
            "|58202|50.0|           1|            0|           167.41|30.9|     1|           0.0|                 0.0|              1.0|                   1.0|[0.0,50.0,1.0,0.0...|\n",
            "|56112|64.0|           0|            1|           191.61|37.5|     1|           1.0|                 0.0|              0.0|                   0.0|[1.0,64.0,0.0,1.0...|\n",
            "|34120|75.0|           1|            0|           221.29|25.8|     1|           1.0|                 0.0|              0.0|                   0.0|[1.0,75.0,1.0,0.0...|\n",
            "|27458|60.0|           0|            0|            89.22|37.8|     1|           0.0|                 1.0|              0.0|                   0.0|(9,[1,4,7,8],[60....|\n",
            "|25226|57.0|           0|            1|           217.08|27.9|     1|           1.0|                 1.0|              3.0|                   0.0|[1.0,57.0,0.0,1.0...|\n",
            "+-----+----+------------+-------------+-----------------+----+------+--------------+--------------------+-----------------+----------------------+--------------------+\n",
            "only showing top 20 rows\n",
            "\n"
          ]
        }
      ]
    },
    {
      "cell_type": "markdown",
      "source": [
        "**Logistic Regression, Model Evaluation and Prediction**"
      ],
      "metadata": {
        "id": "ZApX4KstQWYx"
      }
    },
    {
      "cell_type": "code",
      "source": [
        "# Create a LogisticRegression instance\n",
        "lr = LogisticRegression(labelCol=\"stroke\", featuresCol=\"features\")"
      ],
      "metadata": {
        "id": "7ptI1vEnQfvq"
      },
      "execution_count": null,
      "outputs": []
    },
    {
      "cell_type": "code",
      "source": [
        "# Fit the model on the training data\n",
        "lrModel = lr.fit(df_assembled)"
      ],
      "metadata": {
        "id": "Y40cToy-QkE9"
      },
      "execution_count": null,
      "outputs": []
    },
    {
      "cell_type": "code",
      "source": [
        "trainingSummary=lrModel.summary\n",
        "accuracy = trainingSummary.accuracy\n",
        "falsePositiveRate = trainingSummary.weightedFalsePositiveRate\n",
        "truePositiveRate = trainingSummary.weightedTruePositiveRate\n",
        "fMeasure = trainingSummary.weightedFMeasure()\n",
        "precision = trainingSummary.weightedPrecision\n",
        "recall = trainingSummary.weightedRecall"
      ],
      "metadata": {
        "id": "uQjkdlr-QmdS"
      },
      "execution_count": null,
      "outputs": []
    },
    {
      "cell_type": "code",
      "source": [
        "print(\"Accuracy Data:\")\n",
        "print(\"Accuracy: %s\\nFPR: %s\\nTPR: %s\\nF-measure: %s\\nPrecision: %s\\nRecall: %s\"\n",
        "% (accuracy, falsePositiveRate, truePositiveRate, fMeasure, precision, recall))"
      ],
      "metadata": {
        "colab": {
          "base_uri": "https://localhost:8080/"
        },
        "id": "3Zw_d1QsQpUn",
        "outputId": "80bd2acb-f59e-4257-c2b9-720913c0ee97"
      },
      "execution_count": null,
      "outputs": [
        {
          "output_type": "stream",
          "name": "stdout",
          "text": [
            "Accuracy Data:\n",
            "Accuracy: 0.9609563500767713\n",
            "FPR: 0.6417593765678865\n",
            "TPR: 0.9609563500767713\n",
            "F-measure: 0.952071000299793\n",
            "Precision: 0.9587342491163278\n",
            "Recall: 0.9609563500767713\n"
          ]
        }
      ]
    },
    {
      "cell_type": "code",
      "source": [
        "# Make predictions on the assembled DataFrame\n",
        "predictions = lrModel.transform(df_assembled)"
      ],
      "metadata": {
        "id": "Xbm1dFqVQr9M"
      },
      "execution_count": null,
      "outputs": []
    },
    {
      "cell_type": "code",
      "source": [
        "# Select example rows to display.\n",
        "predictions.select(\"prediction\", \"stroke\", \"features\").show()"
      ],
      "metadata": {
        "colab": {
          "base_uri": "https://localhost:8080/"
        },
        "id": "AHqggbBzQu7P",
        "outputId": "eb060479-fc1a-4234-ba5e-ca34ea4ffe8b"
      },
      "execution_count": null,
      "outputs": [
        {
          "output_type": "stream",
          "name": "stdout",
          "text": [
            "+----------+------+--------------------+\n",
            "|prediction|stroke|            features|\n",
            "+----------+------+--------------------+\n",
            "|       1.0|     1|[1.0,67.0,0.0,1.0...|\n",
            "|       1.0|     1|[0.0,61.0,0.0,0.0...|\n",
            "|       0.0|     1|[1.0,80.0,0.0,1.0...|\n",
            "|       0.0|     1|(9,[1,7,8],[49.0,...|\n",
            "|       1.0|     1|[0.0,79.0,1.0,0.0...|\n",
            "|       1.0|     1|(9,[0,1,7,8],[1.0...|\n",
            "|       0.0|     1|[1.0,74.0,1.0,1.0...|\n",
            "|       0.0|     1|(9,[1,4,7,8],[69....|\n",
            "|       0.0|     1|(9,[1,6,7,8],[59....|\n",
            "|       0.0|     1|(9,[1,7,8],[78.0,...|\n",
            "|       0.0|     1|[0.0,81.0,1.0,0.0...|\n",
            "|       0.0|     1|[0.0,61.0,0.0,1.0...|\n",
            "|       0.0|     1|(9,[1,7,8],[54.0,...|\n",
            "|       1.0|     1|[1.0,78.0,0.0,1.0...|\n",
            "|       1.0|     1|(9,[1,3,7,8],[79....|\n",
            "|       0.0|     1|[0.0,50.0,1.0,0.0...|\n",
            "|       1.0|     1|[1.0,64.0,0.0,1.0...|\n",
            "|       1.0|     1|[1.0,75.0,1.0,0.0...|\n",
            "|       0.0|     1|(9,[1,4,7,8],[60....|\n",
            "|       1.0|     1|[1.0,57.0,0.0,1.0...|\n",
            "+----------+------+--------------------+\n",
            "only showing top 20 rows\n",
            "\n"
          ]
        }
      ]
    },
    {
      "cell_type": "code",
      "source": [
        "# Binary Classification Metrics\n",
        "binary_evaluator = BinaryClassificationEvaluator(labelCol=\"stroke\")\n",
        "auc_roc = binary_evaluator.evaluate(predictions, {binary_evaluator.metricName: \"areaUnderROC\"})\n",
        "auc_pr = binary_evaluator.evaluate(predictions, {binary_evaluator.metricName: \"areaUnderPR\"})"
      ],
      "metadata": {
        "id": "eKP49uHBQ_4y"
      },
      "execution_count": null,
      "outputs": []
    },
    {
      "cell_type": "code",
      "source": [
        "# Print the metrics\n",
        "print(\"Binary Classification Metrics:\")\n",
        "print(\"AUC-ROC:\", auc_roc)\n",
        "print(\"AUC-PR:\", auc_pr)"
      ],
      "metadata": {
        "colab": {
          "base_uri": "https://localhost:8080/"
        },
        "id": "wIlx-dbARCrG",
        "outputId": "28e58bfc-442e-4f61-fe16-e97aa69d434c"
      },
      "execution_count": null,
      "outputs": [
        {
          "output_type": "stream",
          "name": "stdout",
          "text": [
            "Binary Classification Metrics:\n",
            "AUC-ROC: 0.8875152582487682\n",
            "AUC-PR: 0.5300615361604687\n"
          ]
        }
      ]
    },
    {
      "cell_type": "code",
      "source": [
        "# Make predictions on the test data\n",
        "test_predictions = lrModel.transform(test_df)"
      ],
      "metadata": {
        "id": "paOQU5IaRDq1"
      },
      "execution_count": null,
      "outputs": []
    },
    {
      "cell_type": "code",
      "source": [
        "# Set the threshold for prediction\n",
        "threshold = 0.5"
      ],
      "metadata": {
        "id": "b2jvRSroRHnA"
      },
      "execution_count": null,
      "outputs": []
    },
    {
      "cell_type": "code",
      "source": [
        "# Map predicted values to 0 and 1 based on the threshold\n",
        "test_predictions = test_predictions.withColumn(\"prediction_mapped\", (test_predictions.prediction >= threshold).cast(\"double\"))"
      ],
      "metadata": {
        "id": "xv3pHqkTRLeq"
      },
      "execution_count": null,
      "outputs": []
    },
    {
      "cell_type": "code",
      "source": [
        "# Select relevant columns to display\n",
        "test_predictions.select(\"prediction_mapped\", \"stroke\", \"features\").show()"
      ],
      "metadata": {
        "colab": {
          "base_uri": "https://localhost:8080/"
        },
        "id": "LcTutKONRORG",
        "outputId": "c51b2481-fbc2-4694-b09b-868ab226bc61"
      },
      "execution_count": null,
      "outputs": [
        {
          "output_type": "stream",
          "name": "stdout",
          "text": [
            "+-----------------+------+--------------------+\n",
            "|prediction_mapped|stroke|            features|\n",
            "+-----------------+------+--------------------+\n",
            "|              0.0|     0|(9,[0,1,7,8],[1.0...|\n",
            "|              0.0|     0|(9,[1,4,7,8],[24....|\n",
            "|              0.0|     0|(9,[1,6,7,8],[33....|\n",
            "|              0.0|     0|(9,[1,6,7,8],[43....|\n",
            "|              0.0|     0|[1.0,45.0,0.0,0.0...|\n",
            "|              0.0|     0|(9,[1,7,8],[65.0,...|\n",
            "|              0.0|     0|(9,[1,5,7,8],[37....|\n",
            "|              0.0|     0|[0.0,3.0,0.0,0.0,...|\n",
            "|              0.0|     0|[0.0,52.0,1.0,0.0...|\n",
            "|              0.0|     0|[1.0,17.0,0.0,0.0...|\n",
            "|              0.0|     0|[1.0,44.0,0.0,0.0...|\n",
            "|              0.0|     0|[1.0,10.0,0.0,0.0...|\n",
            "|              0.0|     0|[0.0,39.0,0.0,0.0...|\n",
            "|              0.0|     0|(9,[1,4,7,8],[32....|\n",
            "|              0.0|     0|(9,[1,4,7,8],[14....|\n",
            "|              0.0|     0|[0.0,70.0,1.0,0.0...|\n",
            "|              0.0|     0|[0.0,43.0,0.0,0.0...|\n",
            "|              0.0|     0|(9,[1,6,7,8],[61....|\n",
            "|              0.0|     0|[0.0,80.0,0.0,0.0...|\n",
            "|              0.0|     0|[0.0,30.0,0.0,0.0...|\n",
            "+-----------------+------+--------------------+\n",
            "only showing top 20 rows\n",
            "\n"
          ]
        }
      ]
    },
    {
      "cell_type": "markdown",
      "source": [
        "**Model Evaluation Metrics**"
      ],
      "metadata": {
        "id": "Wk_0QLLORRI9"
      }
    },
    {
      "cell_type": "code",
      "source": [
        "# Create a BinaryClassificationEvaluator\n",
        "evaluator = BinaryClassificationEvaluator(labelCol=\"stroke\")"
      ],
      "metadata": {
        "id": "NbOa7nD5RTHt"
      },
      "execution_count": null,
      "outputs": []
    },
    {
      "cell_type": "code",
      "source": [
        "# Evaluate the model using the mapped predictions\n",
        "areaUnderROC = evaluator.evaluate(test_predictions, {evaluator.metricName: \"areaUnderROC\"})\n",
        "areaUnderPR = evaluator.evaluate(test_predictions, {evaluator.metricName: \"areaUnderPR\"})"
      ],
      "metadata": {
        "id": "E8YUqtlhRXje"
      },
      "execution_count": null,
      "outputs": []
    },
    {
      "cell_type": "code",
      "source": [
        "# Print the evaluation results\n",
        "print(\"Area Under ROC:\", areaUnderROC)\n",
        "print(\"Area Under PR:\", areaUnderPR)"
      ],
      "metadata": {
        "colab": {
          "base_uri": "https://localhost:8080/"
        },
        "id": "wkiTzblMRbgu",
        "outputId": "c7e5c865-d873-4811-c245-a40bb583f16a"
      },
      "execution_count": null,
      "outputs": [
        {
          "output_type": "stream",
          "name": "stdout",
          "text": [
            "Area Under ROC: 0.8486561686005348\n",
            "Area Under PR: 0.48232757150734207\n"
          ]
        }
      ]
    },
    {
      "cell_type": "code",
      "source": [
        "# Calculate evaluation metrics\n",
        "evaluator = MulticlassClassificationEvaluator(labelCol=\"stroke\", predictionCol=\"prediction\")"
      ],
      "metadata": {
        "id": "lLMpPdb8Rd-8"
      },
      "execution_count": null,
      "outputs": []
    },
    {
      "cell_type": "code",
      "source": [
        "accuracy = evaluator.evaluate(test_predictions, {evaluator.metricName: \"accuracy\"})\n",
        "weightedFalsePositiveRate = evaluator.evaluate(test_predictions, {evaluator.metricName: \"weightedFalsePositiveRate\"})\n",
        "weightedTruePositiveRate = evaluator.evaluate(test_predictions, {evaluator.metricName: \"weightedTruePositiveRate\"})\n",
        "weightedFMeasure = evaluator.evaluate(test_predictions, {evaluator.metricName: \"weightedFMeasure\"})\n",
        "weightedPrecision = evaluator.evaluate(test_predictions, {evaluator.metricName: \"weightedPrecision\"})\n",
        "weightedRecall = evaluator.evaluate(test_predictions, {evaluator.metricName: \"weightedRecall\"})"
      ],
      "metadata": {
        "id": "uYAchD5wRhGJ"
      },
      "execution_count": null,
      "outputs": []
    },
    {
      "cell_type": "code",
      "source": [
        "print(\"Accuracy: %s\" % accuracy)\n",
        "print(\"Weighted False Positive Rate: %s\" % weightedFalsePositiveRate)\n",
        "print(\"Weighted True Positive Rate: %s\" % weightedTruePositiveRate)\n",
        "print(\"Weighted F-measure: %s\" % weightedFMeasure)\n",
        "print(\"Weighted Precision: %s\" % weightedPrecision)\n",
        "print(\"Weighted Recall: %s\" % weightedRecall)"
      ],
      "metadata": {
        "colab": {
          "base_uri": "https://localhost:8080/"
        },
        "id": "XpWLzI4aRjmA",
        "outputId": "d4e65418-adbf-4290-a3c0-166c0d26ac6f"
      },
      "execution_count": null,
      "outputs": [
        {
          "output_type": "stream",
          "name": "stdout",
          "text": [
            "Accuracy: 0.9641618497109826\n",
            "Weighted False Positive Rate: 0.6507294556783045\n",
            "Weighted True Positive Rate: 0.9641618497109827\n",
            "Weighted F-measure: 0.9565703748330121\n",
            "Weighted Precision: 0.9596959530763837\n",
            "Weighted Recall: 0.9641618497109827\n"
          ]
        }
      ]
    },
    {
      "cell_type": "markdown",
      "source": [
        "**Training SVM Model**"
      ],
      "metadata": {
        "id": "csZwv7kdRnBd"
      }
    },
    {
      "cell_type": "code",
      "source": [
        "# Define the SVM model\n",
        "svm = LinearSVC(featuresCol='features', labelCol='stroke')\n",
        "# Create a pipeline for SVM model\n",
        "svm_pipeline = Pipeline(stages=[svm])\n",
        "# Fitting the model for training data\n",
        "svm_model = svm_pipeline.fit(df_assembled)"
      ],
      "metadata": {
        "id": "rKb0ldmKRkuV"
      },
      "execution_count": null,
      "outputs": []
    },
    {
      "cell_type": "markdown",
      "source": [
        "**Random Forest Model**"
      ],
      "metadata": {
        "id": "uV5CPED3RsY2"
      }
    },
    {
      "cell_type": "code",
      "source": [
        "# Define the Random Forest model\n",
        "rf = RandomForestClassifier(featuresCol='features', labelCol='stroke')\n",
        "# Create a pipeline for Random Forest Model\n",
        "rf_pipeline = Pipeline(stages=[rf])\n",
        "# Fitting the model for training data\n",
        "rf_model = rf_pipeline.fit(df_assembled)"
      ],
      "metadata": {
        "id": "obEKPtlCRu3M"
      },
      "execution_count": null,
      "outputs": []
    },
    {
      "cell_type": "markdown",
      "source": [
        "**Traning Decision Model**"
      ],
      "metadata": {
        "id": "adTvkjrLRxlq"
      }
    },
    {
      "cell_type": "code",
      "source": [
        "# Define the Decision Tree model\n",
        "dt = DecisionTreeClassifier(featuresCol='features', labelCol='stroke')\n",
        "# Create a pipeline for Decission Tree model\n",
        "dt_pipeline = Pipeline(stages=[dt])\n",
        "# Fitting the model for training data\n",
        "dt_model = dt_pipeline.fit(df_assembled)"
      ],
      "metadata": {
        "id": "7eCBgsPkR01a"
      },
      "execution_count": null,
      "outputs": []
    },
    {
      "cell_type": "markdown",
      "source": [
        "**Evaluation and Predictions of the model**"
      ],
      "metadata": {
        "id": "3U4Ru65rSAqD"
      }
    },
    {
      "cell_type": "code",
      "source": [
        "multiclass_evaluator = MulticlassClassificationEvaluator(metricName=\"accuracy\", labelCol=\"stroke\")  # Specify metric"
      ],
      "metadata": {
        "id": "L9LL18WlSCq8"
      },
      "execution_count": null,
      "outputs": []
    },
    {
      "cell_type": "code",
      "source": [
        "svm_predictions = svm_model.transform(df_assembled)"
      ],
      "metadata": {
        "id": "N0dWQ0rDSMM3"
      },
      "execution_count": null,
      "outputs": []
    },
    {
      "cell_type": "code",
      "source": [
        "regression_evaluator = RegressionEvaluator(predictionCol=\"prediction\", labelCol=\"stroke\", metricName=\"rmse\")"
      ],
      "metadata": {
        "id": "JikSJWJoSOgs"
      },
      "execution_count": null,
      "outputs": []
    },
    {
      "cell_type": "code",
      "source": [
        "# SVM\n",
        "svm_predictions = svm_model.transform(df_assembled)\n",
        "svm_accuracy = multiclass_evaluator.evaluate(svm_predictions)\n",
        "svm_rmse = regression_evaluator.evaluate(svm_predictions)\n",
        "svm_fpr = svm_predictions.filter(\"stroke = 0 and prediction = 1\").count() / svm_predictions.filter(\"stroke = 0\").count()\n",
        "svm_tpr = svm_predictions.filter(\"stroke = 1 and prediction = 1\").count() / svm_predictions.filter(\"stroke = 1\").count()"
      ],
      "metadata": {
        "id": "77YHbD9sSPvI"
      },
      "execution_count": null,
      "outputs": []
    },
    {
      "cell_type": "code",
      "source": [
        "print(\"SVM Accuracy:\", svm_accuracy)\n",
        "print(\"SVM RMSE:\", svm_rmse)\n",
        "print(\"SVM FPR:\", svm_fpr)\n",
        "print(\"SVM TPR:\", svm_tpr)"
      ],
      "metadata": {
        "colab": {
          "base_uri": "https://localhost:8080/"
        },
        "id": "qNr6qAiRSUVy",
        "outputId": "e8276988-7cf7-4cd1-b856-8b27727e0b99"
      },
      "execution_count": null,
      "outputs": [
        {
          "output_type": "stream",
          "name": "stdout",
          "text": [
            "SVM Accuracy: 0.9611756964246545\n",
            "SVM RMSE: 0.19703883773344144\n",
            "SVM FPR: 0.0004640371229698376\n",
            "SVM TPR: 0.2971887550200803\n"
          ]
        }
      ]
    },
    {
      "cell_type": "code",
      "source": [
        "# Random Forest\n",
        "rf_predictions = rf_model.transform(df_assembled)\n",
        "rf_accuracy = multiclass_evaluator.evaluate(rf_predictions)\n",
        "rf_rmse = regression_evaluator.evaluate(rf_predictions)\n",
        "rf_fpr = rf_predictions.filter(\"stroke = 0 and prediction = 1\").count() / rf_predictions.filter(\"stroke = 0\").count()\n",
        "rf_tpr = rf_predictions.filter(\"stroke = 1 and prediction = 1\").count() / rf_predictions.filter(\"stroke = 1\").count()"
      ],
      "metadata": {
        "id": "3Vh4nCGNSXdt"
      },
      "execution_count": null,
      "outputs": []
    },
    {
      "cell_type": "code",
      "source": [
        "print(\"Random Forest Accuracy:\", rf_accuracy)\n",
        "print(\"Random Forest RMSE:\", rf_rmse)\n",
        "print(\"Random Forest FPR:\", rf_fpr)\n",
        "print(\"Random Forest TPR:\", rf_tpr)"
      ],
      "metadata": {
        "colab": {
          "base_uri": "https://localhost:8080/"
        },
        "id": "WTzLL4a9SaZY",
        "outputId": "618594c8-5650-475c-954f-f3603e157518"
      },
      "execution_count": null,
      "outputs": [
        {
          "output_type": "stream",
          "name": "stdout",
          "text": [
            "Random Forest Accuracy: 0.9624917745119543\n",
            "Random Forest RMSE: 0.19367040426468268\n",
            "Random Forest FPR: 0.0018561484918793504\n",
            "Random Forest TPR: 0.3453815261044177\n"
          ]
        }
      ]
    },
    {
      "cell_type": "code",
      "source": [
        "dt_predictions = dt_model.transform(df_assembled)\n",
        "dt_accuracy = multiclass_evaluator.evaluate(dt_predictions)\n",
        "dt_rmse = regression_evaluator.evaluate(dt_predictions)\n",
        "dt_fpr = dt_predictions.filter(\"stroke = 0 and prediction = 1\").count() / dt_predictions.filter(\"stroke = 0\").count()\n",
        "dt_tpr = dt_predictions.filter(\"stroke = 1 and prediction = 1\").count() / dt_predictions.filter(\"stroke = 1\").count()"
      ],
      "metadata": {
        "id": "NU4fClYfSevD"
      },
      "execution_count": null,
      "outputs": []
    },
    {
      "cell_type": "code",
      "source": [
        "print(\"Decision Tree Accuracy:\", dt_accuracy)\n",
        "print(\"Decision Tree RMSE:\", dt_rmse)\n",
        "print(\"Decision Tree FPR:\", dt_fpr)\n",
        "print(\"Decision Tree TPR:\", dt_tpr)"
      ],
      "metadata": {
        "colab": {
          "base_uri": "https://localhost:8080/"
        },
        "id": "Bovyq6r9ShXz",
        "outputId": "1a0660b0-dd19-4457-b025-f297db157246"
      },
      "execution_count": null,
      "outputs": [
        {
          "output_type": "stream",
          "name": "stdout",
          "text": [
            "Decision Tree Accuracy: 0.9644658916429042\n",
            "Decision Tree RMSE: 0.1885049292647167\n",
            "Decision Tree FPR: 0.0020881670533642693\n",
            "Decision Tree TPR: 0.3855421686746988\n"
          ]
        }
      ]
    },
    {
      "cell_type": "code",
      "source": [
        "# Make predictions on the training data\n",
        "svm_predictions = svm_model.transform(test_df)\n",
        "rf_predictions = rf_model.transform(test_df)\n",
        "dt_predictions = dt_model.transform(test_df)"
      ],
      "metadata": {
        "id": "Cz9cNHH6Skav"
      },
      "execution_count": null,
      "outputs": []
    },
    {
      "cell_type": "code",
      "source": [
        "# Define the evaluation metrics\n",
        "multiclass_evaluator = MulticlassClassificationEvaluator(predictionCol='prediction', labelCol='stroke', metricName='accuracy')\n",
        "regression_evaluator = RegressionEvaluator(predictionCol='prediction', labelCol='stroke', metricName='rmse')"
      ],
      "metadata": {
        "id": "idpDahPfSm9s"
      },
      "execution_count": null,
      "outputs": []
    },
    {
      "cell_type": "code",
      "source": [
        "# Calculate the evaluation metrics for each model\n",
        "svm_accuracy = multiclass_evaluator.evaluate(svm_predictions)\n",
        "rf_accuracy = multiclass_evaluator.evaluate(rf_predictions)\n",
        "dt_accuracy = multiclass_evaluator.evaluate(dt_predictions)"
      ],
      "metadata": {
        "id": "jPq3ATe4SpVr"
      },
      "execution_count": null,
      "outputs": []
    },
    {
      "cell_type": "code",
      "source": [
        "svm_rmse = regression_evaluator.evaluate(svm_predictions)\n",
        "rf_rmse = regression_evaluator.evaluate(rf_predictions)\n",
        "dt_rmse = regression_evaluator.evaluate(dt_predictions)"
      ],
      "metadata": {
        "id": "uj_niH1NSrja"
      },
      "execution_count": null,
      "outputs": []
    },
    {
      "cell_type": "code",
      "source": [
        "# Calculate FPR and TPR\n",
        "svm_fpr = svm_predictions.filter(\"stroke = 0 and prediction = 1\").count() / svm_predictions.filter(\"stroke = 0\").count()\n",
        "svm_tpr = svm_predictions.filter(\"stroke = 1 and prediction = 1\").count() / svm_predictions.filter(\"stroke = 1\").count()\n",
        "rf_fpr = rf_predictions.filter(\"stroke = 0 and prediction = 1\").count() / rf_predictions.filter(\"stroke = 0\").count()\n",
        "rf_tpr = rf_predictions.filter(\"stroke = 1 and prediction = 1\").count() / rf_predictions.filter(\"stroke = 1\").count()\n",
        "dt_fpr = dt_predictions.filter(\"stroke = 0 and prediction = 1\").count() / dt_predictions.filter(\"stroke = 0\").count()\n",
        "dt_tpr = dt_predictions.filter(\"stroke = 1 and prediction = 1\").count() / dt_predictions.filter(\"stroke = 1\").count()"
      ],
      "metadata": {
        "id": "SIU9l7ftSuDZ"
      },
      "execution_count": null,
      "outputs": []
    },
    {
      "cell_type": "code",
      "source": [
        "# Print the evaluation metrics\n",
        "print(\"SVM Accuracy:\", svm_accuracy)\n",
        "print(\"SVM RMSE:\", svm_rmse)\n",
        "print(\"SVM FPR:\", svm_fpr)\n",
        "print(\"SVM TPR:\", svm_tpr)\n",
        "print(\"Random Forest Accuracy:\", rf_accuracy)\n",
        "print(\"Random Forest RMSE:\", rf_rmse)\n",
        "print(\"Random Forest FPR:\", rf_fpr)\n",
        "print(\"Random Forest TPR:\", rf_tpr)\n",
        "print(\"Decision Tree Accuracy:\", dt_accuracy)\n",
        "print(\"Decision Tree RMSE:\", dt_rmse)\n",
        "print(\"Decision Tree FPR:\", dt_fpr)\n",
        "print(\"Decision Tree TPR:\", dt_tpr)"
      ],
      "metadata": {
        "colab": {
          "base_uri": "https://localhost:8080/"
        },
        "id": "MNh4VMQ_Sw-U",
        "outputId": "8ba25dfd-355e-4c98-8d53-bd544993a644"
      },
      "execution_count": null,
      "outputs": [
        {
          "output_type": "stream",
          "name": "stdout",
          "text": [
            "SVM Accuracy: 0.9653179190751445\n",
            "SVM RMSE: 0.18623125657326026\n",
            "SVM FPR: 0.0\n",
            "SVM TPR: 0.2682926829268293\n",
            "Random Forest Accuracy: 0.9653179190751445\n",
            "Random Forest RMSE: 0.18623125657326026\n",
            "Random Forest FPR: 0.0012135922330097086\n",
            "Random Forest TPR: 0.2926829268292683\n",
            "Decision Tree Accuracy: 0.9664739884393063\n",
            "Decision Tree RMSE: 0.18310109655786783\n",
            "Decision Tree FPR: 0.0012135922330097086\n",
            "Decision Tree TPR: 0.3170731707317073\n"
          ]
        }
      ]
    },
    {
      "cell_type": "markdown",
      "source": [
        "**Comparing each model**"
      ],
      "metadata": {
        "id": "0rVfPPvZSz5e"
      }
    },
    {
      "cell_type": "code",
      "source": [
        "import matplotlib.pyplot as plt\n",
        "#Define the evaluation metric values for each model\n",
        "accuracy_values = [accuracy, svm_accuracy, rf_accuracy, dt_accuracy]\n",
        "rmse_values = [0, svm_rmse, rf_rmse, dt_rmse]\n",
        "fpr_values = [weightedFalsePositiveRate, svm_fpr, rf_fpr, dt_fpr]\n",
        "tpr_values = [weightedTruePositiveRate, svm_tpr, rf_tpr, dt_tpr]"
      ],
      "metadata": {
        "id": "Sv6WsUfKS2Cb"
      },
      "execution_count": null,
      "outputs": []
    },
    {
      "cell_type": "code",
      "source": [
        "# Define the model names\n",
        "model_names = ['Logistic Regression', 'SVM', 'Random Forest', 'Decision Tree']"
      ],
      "metadata": {
        "id": "qZ3bculzS5__"
      },
      "execution_count": null,
      "outputs": []
    },
    {
      "cell_type": "code",
      "source": [
        "# Plot the accuracy comparison\n",
        "plt.figure(figsize=(8, 4))\n",
        "plt.bar(model_names, accuracy_values)\n",
        "plt.xlabel('Model')\n",
        "plt.ylabel('Accuracy')\n",
        "plt.title('Accuracy Comparison')\n",
        "plt.show()\n",
        "# Plot the RMSE comparison\n",
        "plt.figure(figsize=(8, 4))\n",
        "plt.bar(model_names, rmse_values)\n",
        "plt.xlabel('Model')\n",
        "plt.ylabel('RMSE')\n",
        "plt.title('RMSE Comparison')\n",
        "plt.show()\n",
        "# Plot the FPR comparison\n",
        "plt.figure(figsize=(8, 4))\n",
        "plt.bar(model_names, fpr_values)\n",
        "plt.xlabel('Model')\n",
        "plt.ylabel('False Positive Rate')\n",
        "plt.title('False Positive Rate Comparison')\n",
        "plt.show()\n",
        "# Plot the TPR comparison\n",
        "plt.figure(figsize=(8, 4))\n",
        "plt.bar(model_names, tpr_values)\n",
        "plt.xlabel('Model')\n",
        "plt.ylabel('True Positive Rate')\n",
        "plt.title('True Positive Rate Comparison')\n",
        "plt.show()"
      ],
      "metadata": {
        "id": "-vWAAuQFS8V8",
        "outputId": "13c822ca-bbc0-4cdb-bdd1-34e367f5617e",
        "colab": {
          "base_uri": "https://localhost:8080/",
          "height": 1000
        }
      },
      "execution_count": null,
      "outputs": [
        {
          "output_type": "display_data",
          "data": {
            "text/plain": [
              "<Figure size 800x400 with 1 Axes>"
            ],
            "image/png": "[encoded data removed]"
          },
          "metadata": {}
        },
        {
          "output_type": "display_data",
          "data": {
            "text/plain": [
              "<Figure size 800x400 with 1 Axes>"
            ],
            "image/png": "[encoded data removed]"
          },
          "metadata": {}
        },
        {
          "output_type": "display_data",
          "data": {
            "text/plain": [
              "<Figure size 800x400 with 1 Axes>"
            ],
            "image/png": "[encoded data removed]"
          },
          "metadata": {}
        },
        {
          "output_type": "display_data",
          "data": {
            "text/plain": [
              "<Figure size 800x400 with 1 Axes>"
            ],
            "image/png": "[encoded data removed]"
          },
          "metadata": {}
        }
      ]
    }
  ]
}